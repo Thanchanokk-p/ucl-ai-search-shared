{
  "nbformat": 4,
  "nbformat_minor": 0,
  "metadata": {
    "colab": {
      "provenance": []
    },
    "kernelspec": {
      "name": "python3",
      "display_name": "Python 3"
    },
    "language_info": {
      "name": "python"
    }
  },
  "cells": [
    {
      "cell_type": "markdown",
      "source": [
        "## Synthetic Data Generation and Augmentation (Based on RefinedWeb)\n",
        "\n",
        "This notebook documents the **synthetic data generation and augmentation phase** of the project, built on top of the **RefinedWeb dataset**. The initial stage was conducted using **GPT-3.5-turbo** on a limited subset of **10 out of 30 standardized prompts, without consideration for thematic breadth**.\n",
        "\n",
        "In this phase, we are conducting **full-scale testing** using:\n",
        "\n",
        "- All **30 standardized prompts**\n",
        "- **Thematic coverage** across multiple domains\n",
        "\n",
        "To optimize costs while scaling, **GPT-3.5 Turbo** will be used for the majority of generation tasks, with **GPT-4o** reserved for select quality benchmarks."
      ],
      "metadata": {
        "id": "xx74so5-BxuY"
      }
    },
    {
      "cell_type": "markdown",
      "source": [
        "# Table of Content\n",
        "[1 Notebook Setup](#scrollTo=MBpySaJkWRIZ)\n",
        "\n",
        "[2 System Prompt and Thematic Prompt](#scrollTo=rY2BmiQp57ql)\n",
        "\n",
        ">[2.1 Thematic prompt (user seed/seed prompts)](#scrollTo=drfq9MMEf9WQ)\n",
        "\n",
        ">[2.2 System Prompt Template](#scrollTo=1d2mY94IDf1A)\n",
        "\n",
        "[3 Generate Instruction-Tuning Pairs](#scrollTo=JuCaCu5Q6dDv)\n",
        "\n",
        "[4 Save Output as JSONL for Fine-Tuning](#scrollTo=iHr5ky2H6hWd)\n",
        "\n"
      ],
      "metadata": {
        "colab_type": "toc",
        "id": "JTZ25rHGjDdN"
      }
    },
    {
      "cell_type": "code",
      "source": [
        "## To check your memory\n",
        "# !nvidia-smi\n",
        "# from psutil import virtual_memory\n",
        "# print(virtual_memory().total/1e9, \"GB RAM\")"
      ],
      "metadata": {
        "id": "t5p1pv3dByWo"
      },
      "execution_count": null,
      "outputs": []
    },
    {
      "cell_type": "markdown",
      "source": [
        "# Reason for using GPT and with 3.5 Turbo"
      ],
      "metadata": {
        "id": "fHcJ9zhYByP8"
      }
    },
    {
      "cell_type": "markdown",
      "source": [
        "## Model Comparison for Synthetic Generation\n",
        "\n",
        "## Usage Cost and Output Quality"
      ],
      "metadata": {
        "id": "p5o2xnnCxPcl"
      }
    },
    {
      "cell_type": "markdown",
      "source": [
        "## Reason for using GPT-4o and GPT-3.5 Turbo\n",
        "\n",
        "### Model Comparison for Synthetic Generation\n",
        "\n",
        "| Model            | Input (per 1K tokens) | Output (per 1K tokens) | Estimated Total (Prompt + Response) | Context Length | Output Quality Summary                                                                                           |\n",
        "|------------------|-----------------------|------------------------|-------------------------------------|----------------|-------------------------------------------------------------------------------------------------------------------|\n",
        "| **GPT-4o**       | \\$0.005               | \\$0.015                | ~\\$0.020                            | ~128K tokens   | High-quality, diverse, logical; suitable for complex tasks and academic use                                       |\n",
        "| **GPT-3.5 Turbo**| \\$0.0005              | \\$0.0015               | ~\\$0.002                            | Shorter        | Lower diversity, more repetitive; cost-effective for scalable synthetic generation                                |\n"
      ],
      "metadata": {
        "id": "IvC_c7dQHYDm"
      }
    },
    {
      "cell_type": "markdown",
      "source": [
        "GPT‑4o delivers significantly better performance in terms of reasoning, diversity, and handling long contexts. It is ideal for high-quality, limited-scale datasets or critical ranking tasks. On the other hand, GPT‑3.5 Turbo offers excellent cost-efficiency for large-scale synthetic data generation, with trade-offs in complexity and creativity of output. A hybrid strategy—using GPT‑3.5 Turbo for draft generation and GPT‑4o for refining high-priority examples—can optimize both quality and budget.\n"
      ],
      "metadata": {
        "id": "l4MbzufnHQkB"
      }
    },
    {
      "cell_type": "markdown",
      "source": [
        "# 1 Notebook Setup"
      ],
      "metadata": {
        "id": "MBpySaJkWRIZ"
      }
    },
    {
      "cell_type": "code",
      "source": [
        "!pip install --upgrade openai"
      ],
      "metadata": {
        "colab": {
          "base_uri": "https://localhost:8080/"
        },
        "id": "mbhABu1i37Ae",
        "outputId": "5442f26e-1963-405f-e094-63d36f039396"
      },
      "execution_count": null,
      "outputs": [
        {
          "output_type": "stream",
          "name": "stdout",
          "text": [
            "Requirement already satisfied: openai in /usr/local/lib/python3.11/dist-packages (1.93.0)\n",
            "Collecting openai\n",
            "  Downloading openai-1.93.3-py3-none-any.whl.metadata (29 kB)\n",
            "Requirement already satisfied: anyio<5,>=3.5.0 in /usr/local/lib/python3.11/dist-packages (from openai) (4.9.0)\n",
            "Requirement already satisfied: distro<2,>=1.7.0 in /usr/local/lib/python3.11/dist-packages (from openai) (1.9.0)\n",
            "Requirement already satisfied: httpx<1,>=0.23.0 in /usr/local/lib/python3.11/dist-packages (from openai) (0.28.1)\n",
            "Requirement already satisfied: jiter<1,>=0.4.0 in /usr/local/lib/python3.11/dist-packages (from openai) (0.10.0)\n",
            "Requirement already satisfied: pydantic<3,>=1.9.0 in /usr/local/lib/python3.11/dist-packages (from openai) (2.11.7)\n",
            "Requirement already satisfied: sniffio in /usr/local/lib/python3.11/dist-packages (from openai) (1.3.1)\n",
            "Requirement already satisfied: tqdm>4 in /usr/local/lib/python3.11/dist-packages (from openai) (4.67.1)\n",
            "Requirement already satisfied: typing-extensions<5,>=4.11 in /usr/local/lib/python3.11/dist-packages (from openai) (4.14.1)\n",
            "Requirement already satisfied: idna>=2.8 in /usr/local/lib/python3.11/dist-packages (from anyio<5,>=3.5.0->openai) (3.10)\n",
            "Requirement already satisfied: certifi in /usr/local/lib/python3.11/dist-packages (from httpx<1,>=0.23.0->openai) (2025.6.15)\n",
            "Requirement already satisfied: httpcore==1.* in /usr/local/lib/python3.11/dist-packages (from httpx<1,>=0.23.0->openai) (1.0.9)\n",
            "Requirement already satisfied: h11>=0.16 in /usr/local/lib/python3.11/dist-packages (from httpcore==1.*->httpx<1,>=0.23.0->openai) (0.16.0)\n",
            "Requirement already satisfied: annotated-types>=0.6.0 in /usr/local/lib/python3.11/dist-packages (from pydantic<3,>=1.9.0->openai) (0.7.0)\n",
            "Requirement already satisfied: pydantic-core==2.33.2 in /usr/local/lib/python3.11/dist-packages (from pydantic<3,>=1.9.0->openai) (2.33.2)\n",
            "Requirement already satisfied: typing-inspection>=0.4.0 in /usr/local/lib/python3.11/dist-packages (from pydantic<3,>=1.9.0->openai) (0.4.1)\n",
            "Downloading openai-1.93.3-py3-none-any.whl (755 kB)\n",
            "\u001b[2K   \u001b[90m━━━━━━━━━━━━━━━━━━━━━━━━━━━━━━━━━━━━━━━━\u001b[0m \u001b[32m755.1/755.1 kB\u001b[0m \u001b[31m34.8 MB/s\u001b[0m eta \u001b[36m0:00:00\u001b[0m\n",
            "\u001b[?25hInstalling collected packages: openai\n",
            "  Attempting uninstall: openai\n",
            "    Found existing installation: openai 1.93.0\n",
            "    Uninstalling openai-1.93.0:\n",
            "      Successfully uninstalled openai-1.93.0\n",
            "Successfully installed openai-1.93.3\n"
          ]
        }
      ]
    },
    {
      "cell_type": "code",
      "source": [
        "!pip install openai==0.28.0 --quiet\n",
        "# !pip install --upgrade openai"
      ],
      "metadata": {
        "id": "dU4zGkYubfTq"
      },
      "execution_count": null,
      "outputs": []
    },
    {
      "cell_type": "code",
      "source": [
        "# Standard library\n",
        "import os\n",
        "import time\n",
        "import json\n",
        "\n",
        "# Third-party libraries\n",
        "import pandas as pd\n",
        "import openai\n",
        "\n",
        "\n",
        "# Colab-specific utilities\n",
        "from google.colab import userdata   # access stored credentials / variables\n",
        "from pathlib import Path\n",
        "\n",
        "# import the client class\n",
        "from openai import OpenAI\n",
        "import openai                 # for setting the API key"
      ],
      "metadata": {
        "id": "BNLBh62RWQwQ"
      },
      "execution_count": null,
      "outputs": []
    },
    {
      "cell_type": "code",
      "source": [
        "from google.colab import drive\n",
        "drive.mount('/content/drive')"
      ],
      "metadata": {
        "id": "oVP3vSKqGXK0",
        "colab": {
          "base_uri": "https://localhost:8080/"
        },
        "outputId": "53db4004-0233-4f92-d5be-aed6363f8277"
      },
      "execution_count": null,
      "outputs": [
        {
          "output_type": "stream",
          "name": "stdout",
          "text": [
            "Mounted at /content/drive\n"
          ]
        }
      ]
    },
    {
      "cell_type": "markdown",
      "source": [
        "# Setup OpenAI API in Colab"
      ],
      "metadata": {
        "id": "5ff_NxlJC68X"
      }
    },
    {
      "cell_type": "code",
      "source": [
        "# Initialize GPT-3.5 Turbo client\n",
        "openai.api_key = userdata.get(\"OpenAI_2\")"
      ],
      "metadata": {
        "id": "m4Hzq9e2bKUl"
      },
      "execution_count": null,
      "outputs": []
    },
    {
      "cell_type": "code",
      "source": [
        "# Either set your env var beforehand…\n",
        "# export OPENAI_API_KEY=\"sk-…\"\n",
        "# or do it in Python:\n",
        "os.environ[\"OPENAI_API_KEY\"] = userdata.get(\"OpenAI_2\")\n",
        "\n",
        "# Create the new-style client\n",
        "client = OpenAI()  # reads from OPENAI_API_KEY by default\n",
        "\n",
        "# Now your chat call:\n",
        "MODEL = \"gpt-3.5-turbo\"\n",
        "resp = client.chat.completions.create(\n",
        "    model=MODEL,\n",
        "    messages=[{\"role\": \"system\", \"content\": \"You are helpful.\"},\n",
        "              {\"role\": \"user\",   \"content\": \"Hello!\"}]\n",
        ")\n",
        "\n",
        "print(resp.choices[0].message.content)"
      ],
      "metadata": {
        "id": "NPN7FLWA5gV5",
        "colab": {
          "base_uri": "https://localhost:8080/"
        },
        "outputId": "9c52a49f-e623-459f-faad-fdbe80e95903"
      },
      "execution_count": null,
      "outputs": [
        {
          "output_type": "stream",
          "name": "stdout",
          "text": [
            "Hello! How can I help you today?\n"
          ]
        }
      ]
    },
    {
      "cell_type": "code",
      "source": [
        "os.environ[\"OPENAI_API_KEY\"] = userdata.get(\"OpenAI_2\")\n",
        "\n",
        "client = OpenAI()   # now it will read from OPENAI_API_KEY\n",
        "MODEL  = \"gpt-3.5-turbo\""
      ],
      "metadata": {
        "id": "xcSqytpdbP1I"
      },
      "execution_count": null,
      "outputs": []
    },
    {
      "cell_type": "code",
      "source": [
        "# from openai import OpenAI\n",
        "\n",
        "# # pull your key however you like\n",
        "# my_key = userdata.get(\"OpenAI_2\")\n",
        "\n",
        "# # pass it in here\n",
        "# client = OpenAI(api_key=my_key)\n",
        "\n",
        "# MODEL = \"gpt-3.5-turbo\"\n",
        "\n",
        "# resp = client.chat.completions.create(\n",
        "#     model=MODEL,\n",
        "#     messages=[{\"role\":\"user\",\"content\":\"Hello!\"}]\n",
        "# )\n",
        "# print(resp.choices[0].message.content)\n"
      ],
      "metadata": {
        "id": "UDPYrHCS09y_"
      },
      "execution_count": null,
      "outputs": []
    },
    {
      "cell_type": "code",
      "source": [
        "# os.environ[\"OPENAI_API_KEY\"] = userdata.get(\"OpenAI_2\")\n",
        "\n",
        "# client = OpenAI()   # now it will read from OPENAI_API_KEY\n",
        "# MODEL  = \"gpt-3.5-turbo\""
      ],
      "metadata": {
        "id": "QAPbOjcZ0-1x"
      },
      "execution_count": null,
      "outputs": []
    },
    {
      "cell_type": "markdown",
      "source": [
        "## Load h&m data"
      ],
      "metadata": {
        "id": "Tu0N-K7teXNq"
      }
    },
    {
      "cell_type": "code",
      "source": [
        "# Load the data\n",
        "output_path = Path(\"/content/drive/MyDrive/pretrained_refinedweb_shared/after-filter-nlp-added-features-bi.csv\")\n",
        "df = pd.read_csv(output_path, index_col=False)"
      ],
      "metadata": {
        "id": "FAj3aV9OeZK_"
      },
      "execution_count": null,
      "outputs": []
    },
    {
      "cell_type": "code",
      "source": [
        "df.count()"
      ],
      "metadata": {
        "id": "X8MNiGTyeimV",
        "colab": {
          "base_uri": "https://localhost:8080/",
          "height": 366
        },
        "outputId": "cd4a7484-8dc4-4947-951c-90ac8e4f26f7"
      },
      "execution_count": null,
      "outputs": [
        {
          "output_type": "execute_result",
          "data": {
            "text/plain": [
              "url                4762\n",
              "content            4762\n",
              "brand_name         4762\n",
              "kw_uni_bi          4762\n",
              "sentiment_label    4762\n",
              "sentiment_score    4762\n",
              "confidence         4762\n",
              "kw_unigram         4762\n",
              "kw_bigram          4762\n",
              "dtype: int64"
            ],
            "text/html": [
              "<div>\n",
              "<style scoped>\n",
              "    .dataframe tbody tr th:only-of-type {\n",
              "        vertical-align: middle;\n",
              "    }\n",
              "\n",
              "    .dataframe tbody tr th {\n",
              "        vertical-align: top;\n",
              "    }\n",
              "\n",
              "    .dataframe thead th {\n",
              "        text-align: right;\n",
              "    }\n",
              "</style>\n",
              "<table border=\"1\" class=\"dataframe\">\n",
              "  <thead>\n",
              "    <tr style=\"text-align: right;\">\n",
              "      <th></th>\n",
              "      <th>0</th>\n",
              "    </tr>\n",
              "  </thead>\n",
              "  <tbody>\n",
              "    <tr>\n",
              "      <th>url</th>\n",
              "      <td>4762</td>\n",
              "    </tr>\n",
              "    <tr>\n",
              "      <th>content</th>\n",
              "      <td>4762</td>\n",
              "    </tr>\n",
              "    <tr>\n",
              "      <th>brand_name</th>\n",
              "      <td>4762</td>\n",
              "    </tr>\n",
              "    <tr>\n",
              "      <th>kw_uni_bi</th>\n",
              "      <td>4762</td>\n",
              "    </tr>\n",
              "    <tr>\n",
              "      <th>sentiment_label</th>\n",
              "      <td>4762</td>\n",
              "    </tr>\n",
              "    <tr>\n",
              "      <th>sentiment_score</th>\n",
              "      <td>4762</td>\n",
              "    </tr>\n",
              "    <tr>\n",
              "      <th>confidence</th>\n",
              "      <td>4762</td>\n",
              "    </tr>\n",
              "    <tr>\n",
              "      <th>kw_unigram</th>\n",
              "      <td>4762</td>\n",
              "    </tr>\n",
              "    <tr>\n",
              "      <th>kw_bigram</th>\n",
              "      <td>4762</td>\n",
              "    </tr>\n",
              "  </tbody>\n",
              "</table>\n",
              "</div><br><label><b>dtype:</b> int64</label>"
            ]
          },
          "metadata": {},
          "execution_count": 10
        }
      ]
    },
    {
      "cell_type": "code",
      "source": [
        "df.head()"
      ],
      "metadata": {
        "id": "FPRG3nqbejUK",
        "colab": {
          "base_uri": "https://localhost:8080/",
          "height": 206
        },
        "outputId": "9d2ab1da-690c-4ad7-ee85-b24a34279075"
      },
      "execution_count": null,
      "outputs": [
        {
          "output_type": "execute_result",
          "data": {
            "text/plain": [
              "                                                 url  \\\n",
              "0  http://abbymaried.blogspot.com/2012/12/get-win...   \n",
              "1          http://abitgraceful.blogspot.com/2014/11/   \n",
              "2  http://aimee-weaver.blogspot.com/2013/04/hello...   \n",
              "3  http://annahopeless.blogspot.com/2015/09/suede...   \n",
              "4  http://archive.bebo.com/profile.jsp?memberid=7...   \n",
              "\n",
              "                                             content brand_name  \\\n",
              "0  friday night girl courtney ellen december nigh...        h&m   \n",
              "1  amsterdam post late figure photo birthday week...    primark   \n",
              "2  addict scarf em cold scarf blanket neck chevro...        h&m   \n",
              "3  rust suede jackettuesday september blogger sue...       zara   \n",
              "4  female coatbridge single profile view member o...    primark   \n",
              "\n",
              "                                           kw_uni_bi sentiment_label  \\\n",
              "0  ['friday night', 'exact dress', 'aztec cardiga...        positive   \n",
              "1  ['photo amsterdam', 'famous amsterdam', 'amste...        positive   \n",
              "2  ['cold scarf', 'scarf blanket', 'scarf', 'scar...        positive   \n",
              "3  ['suede jacket', 'suede jackettuesday', 'trend...        positive   \n",
              "4  ['female coatbridge', 'coatbridge single', 'co...        positive   \n",
              "\n",
              "   sentiment_score  confidence  \\\n",
              "0           0.9900         1.0   \n",
              "1           0.9520         1.0   \n",
              "2           0.9988         1.0   \n",
              "3           0.5615         1.0   \n",
              "4           0.9982         1.0   \n",
              "\n",
              "                                          kw_unigram  \\\n",
              "0  ['dress', 'friday', 'cardigan', 'night', 'plaid']   \n",
              "1  ['amsterdam', 'eindhoven', 'anne', 'van', 'gogh']   \n",
              "2    ['scarf', 'jacket', 'blanket', 'wear', 'dress']   \n",
              "3  ['jackettuesday', 'jacket', 'denim', 'suede', ...   \n",
              "4  ['coatbridge', 'wyatt', 'whitney', 'megan', 'c...   \n",
              "\n",
              "                                           kw_bigram  \n",
              "0  ['friday night', 'exact dress', 'aztec cardiga...  \n",
              "1  ['photo amsterdam', 'famous amsterdam', 'amste...  \n",
              "2  ['cold scarf', 'scarf blanket', 'scarf cold', ...  \n",
              "3  ['suede jacket', 'suede jackettuesday', 'trend...  \n",
              "4  ['female coatbridge', 'coatbridge single', 'bx...  "
            ],
            "text/html": [
              "\n",
              "  <div id=\"df-3212fa1a-625e-4f3e-b10c-4348d05533e1\" class=\"colab-df-container\">\n",
              "    <div>\n",
              "<style scoped>\n",
              "    .dataframe tbody tr th:only-of-type {\n",
              "        vertical-align: middle;\n",
              "    }\n",
              "\n",
              "    .dataframe tbody tr th {\n",
              "        vertical-align: top;\n",
              "    }\n",
              "\n",
              "    .dataframe thead th {\n",
              "        text-align: right;\n",
              "    }\n",
              "</style>\n",
              "<table border=\"1\" class=\"dataframe\">\n",
              "  <thead>\n",
              "    <tr style=\"text-align: right;\">\n",
              "      <th></th>\n",
              "      <th>url</th>\n",
              "      <th>content</th>\n",
              "      <th>brand_name</th>\n",
              "      <th>kw_uni_bi</th>\n",
              "      <th>sentiment_label</th>\n",
              "      <th>sentiment_score</th>\n",
              "      <th>confidence</th>\n",
              "      <th>kw_unigram</th>\n",
              "      <th>kw_bigram</th>\n",
              "    </tr>\n",
              "  </thead>\n",
              "  <tbody>\n",
              "    <tr>\n",
              "      <th>0</th>\n",
              "      <td>http://abbymaried.blogspot.com/2012/12/get-win...</td>\n",
              "      <td>friday night girl courtney ellen december nigh...</td>\n",
              "      <td>h&amp;m</td>\n",
              "      <td>['friday night', 'exact dress', 'aztec cardiga...</td>\n",
              "      <td>positive</td>\n",
              "      <td>0.9900</td>\n",
              "      <td>1.0</td>\n",
              "      <td>['dress', 'friday', 'cardigan', 'night', 'plaid']</td>\n",
              "      <td>['friday night', 'exact dress', 'aztec cardiga...</td>\n",
              "    </tr>\n",
              "    <tr>\n",
              "      <th>1</th>\n",
              "      <td>http://abitgraceful.blogspot.com/2014/11/</td>\n",
              "      <td>amsterdam post late figure photo birthday week...</td>\n",
              "      <td>primark</td>\n",
              "      <td>['photo amsterdam', 'famous amsterdam', 'amste...</td>\n",
              "      <td>positive</td>\n",
              "      <td>0.9520</td>\n",
              "      <td>1.0</td>\n",
              "      <td>['amsterdam', 'eindhoven', 'anne', 'van', 'gogh']</td>\n",
              "      <td>['photo amsterdam', 'famous amsterdam', 'amste...</td>\n",
              "    </tr>\n",
              "    <tr>\n",
              "      <th>2</th>\n",
              "      <td>http://aimee-weaver.blogspot.com/2013/04/hello...</td>\n",
              "      <td>addict scarf em cold scarf blanket neck chevro...</td>\n",
              "      <td>h&amp;m</td>\n",
              "      <td>['cold scarf', 'scarf blanket', 'scarf', 'scar...</td>\n",
              "      <td>positive</td>\n",
              "      <td>0.9988</td>\n",
              "      <td>1.0</td>\n",
              "      <td>['scarf', 'jacket', 'blanket', 'wear', 'dress']</td>\n",
              "      <td>['cold scarf', 'scarf blanket', 'scarf cold', ...</td>\n",
              "    </tr>\n",
              "    <tr>\n",
              "      <th>3</th>\n",
              "      <td>http://annahopeless.blogspot.com/2015/09/suede...</td>\n",
              "      <td>rust suede jackettuesday september blogger sue...</td>\n",
              "      <td>zara</td>\n",
              "      <td>['suede jacket', 'suede jackettuesday', 'trend...</td>\n",
              "      <td>positive</td>\n",
              "      <td>0.5615</td>\n",
              "      <td>1.0</td>\n",
              "      <td>['jackettuesday', 'jacket', 'denim', 'suede', ...</td>\n",
              "      <td>['suede jacket', 'suede jackettuesday', 'trend...</td>\n",
              "    </tr>\n",
              "    <tr>\n",
              "      <th>4</th>\n",
              "      <td>http://archive.bebo.com/profile.jsp?memberid=7...</td>\n",
              "      <td>female coatbridge single profile view member o...</td>\n",
              "      <td>primark</td>\n",
              "      <td>['female coatbridge', 'coatbridge single', 'co...</td>\n",
              "      <td>positive</td>\n",
              "      <td>0.9982</td>\n",
              "      <td>1.0</td>\n",
              "      <td>['coatbridge', 'wyatt', 'whitney', 'megan', 'c...</td>\n",
              "      <td>['female coatbridge', 'coatbridge single', 'bx...</td>\n",
              "    </tr>\n",
              "  </tbody>\n",
              "</table>\n",
              "</div>\n",
              "    <div class=\"colab-df-buttons\">\n",
              "\n",
              "  <div class=\"colab-df-container\">\n",
              "    <button class=\"colab-df-convert\" onclick=\"convertToInteractive('df-3212fa1a-625e-4f3e-b10c-4348d05533e1')\"\n",
              "            title=\"Convert this dataframe to an interactive table.\"\n",
              "            style=\"display:none;\">\n",
              "\n",
              "  <svg xmlns=\"http://www.w3.org/2000/svg\" height=\"24px\" viewBox=\"0 -960 960 960\">\n",
              "    <path d=\"M120-120v-720h720v720H120Zm60-500h600v-160H180v160Zm220 220h160v-160H400v160Zm0 220h160v-160H400v160ZM180-400h160v-160H180v160Zm440 0h160v-160H620v160ZM180-180h160v-160H180v160Zm440 0h160v-160H620v160Z\"/>\n",
              "  </svg>\n",
              "    </button>\n",
              "\n",
              "  <style>\n",
              "    .colab-df-container {\n",
              "      display:flex;\n",
              "      gap: 12px;\n",
              "    }\n",
              "\n",
              "    .colab-df-convert {\n",
              "      background-color: #E8F0FE;\n",
              "      border: none;\n",
              "      border-radius: 50%;\n",
              "      cursor: pointer;\n",
              "      display: none;\n",
              "      fill: #1967D2;\n",
              "      height: 32px;\n",
              "      padding: 0 0 0 0;\n",
              "      width: 32px;\n",
              "    }\n",
              "\n",
              "    .colab-df-convert:hover {\n",
              "      background-color: #E2EBFA;\n",
              "      box-shadow: 0px 1px 2px rgba(60, 64, 67, 0.3), 0px 1px 3px 1px rgba(60, 64, 67, 0.15);\n",
              "      fill: #174EA6;\n",
              "    }\n",
              "\n",
              "    .colab-df-buttons div {\n",
              "      margin-bottom: 4px;\n",
              "    }\n",
              "\n",
              "    [theme=dark] .colab-df-convert {\n",
              "      background-color: #3B4455;\n",
              "      fill: #D2E3FC;\n",
              "    }\n",
              "\n",
              "    [theme=dark] .colab-df-convert:hover {\n",
              "      background-color: #434B5C;\n",
              "      box-shadow: 0px 1px 3px 1px rgba(0, 0, 0, 0.15);\n",
              "      filter: drop-shadow(0px 1px 2px rgba(0, 0, 0, 0.3));\n",
              "      fill: #FFFFFF;\n",
              "    }\n",
              "  </style>\n",
              "\n",
              "    <script>\n",
              "      const buttonEl =\n",
              "        document.querySelector('#df-3212fa1a-625e-4f3e-b10c-4348d05533e1 button.colab-df-convert');\n",
              "      buttonEl.style.display =\n",
              "        google.colab.kernel.accessAllowed ? 'block' : 'none';\n",
              "\n",
              "      async function convertToInteractive(key) {\n",
              "        const element = document.querySelector('#df-3212fa1a-625e-4f3e-b10c-4348d05533e1');\n",
              "        const dataTable =\n",
              "          await google.colab.kernel.invokeFunction('convertToInteractive',\n",
              "                                                    [key], {});\n",
              "        if (!dataTable) return;\n",
              "\n",
              "        const docLinkHtml = 'Like what you see? Visit the ' +\n",
              "          '<a target=\"_blank\" href=https://colab.research.google.com/notebooks/data_table.ipynb>data table notebook</a>'\n",
              "          + ' to learn more about interactive tables.';\n",
              "        element.innerHTML = '';\n",
              "        dataTable['output_type'] = 'display_data';\n",
              "        await google.colab.output.renderOutput(dataTable, element);\n",
              "        const docLink = document.createElement('div');\n",
              "        docLink.innerHTML = docLinkHtml;\n",
              "        element.appendChild(docLink);\n",
              "      }\n",
              "    </script>\n",
              "  </div>\n",
              "\n",
              "\n",
              "    <div id=\"df-a4f8c84d-f37b-4879-80c3-846cf8f039c8\">\n",
              "      <button class=\"colab-df-quickchart\" onclick=\"quickchart('df-a4f8c84d-f37b-4879-80c3-846cf8f039c8')\"\n",
              "                title=\"Suggest charts\"\n",
              "                style=\"display:none;\">\n",
              "\n",
              "<svg xmlns=\"http://www.w3.org/2000/svg\" height=\"24px\"viewBox=\"0 0 24 24\"\n",
              "     width=\"24px\">\n",
              "    <g>\n",
              "        <path d=\"M19 3H5c-1.1 0-2 .9-2 2v14c0 1.1.9 2 2 2h14c1.1 0 2-.9 2-2V5c0-1.1-.9-2-2-2zM9 17H7v-7h2v7zm4 0h-2V7h2v10zm4 0h-2v-4h2v4z\"/>\n",
              "    </g>\n",
              "</svg>\n",
              "      </button>\n",
              "\n",
              "<style>\n",
              "  .colab-df-quickchart {\n",
              "      --bg-color: #E8F0FE;\n",
              "      --fill-color: #1967D2;\n",
              "      --hover-bg-color: #E2EBFA;\n",
              "      --hover-fill-color: #174EA6;\n",
              "      --disabled-fill-color: #AAA;\n",
              "      --disabled-bg-color: #DDD;\n",
              "  }\n",
              "\n",
              "  [theme=dark] .colab-df-quickchart {\n",
              "      --bg-color: #3B4455;\n",
              "      --fill-color: #D2E3FC;\n",
              "      --hover-bg-color: #434B5C;\n",
              "      --hover-fill-color: #FFFFFF;\n",
              "      --disabled-bg-color: #3B4455;\n",
              "      --disabled-fill-color: #666;\n",
              "  }\n",
              "\n",
              "  .colab-df-quickchart {\n",
              "    background-color: var(--bg-color);\n",
              "    border: none;\n",
              "    border-radius: 50%;\n",
              "    cursor: pointer;\n",
              "    display: none;\n",
              "    fill: var(--fill-color);\n",
              "    height: 32px;\n",
              "    padding: 0;\n",
              "    width: 32px;\n",
              "  }\n",
              "\n",
              "  .colab-df-quickchart:hover {\n",
              "    background-color: var(--hover-bg-color);\n",
              "    box-shadow: 0 1px 2px rgba(60, 64, 67, 0.3), 0 1px 3px 1px rgba(60, 64, 67, 0.15);\n",
              "    fill: var(--button-hover-fill-color);\n",
              "  }\n",
              "\n",
              "  .colab-df-quickchart-complete:disabled,\n",
              "  .colab-df-quickchart-complete:disabled:hover {\n",
              "    background-color: var(--disabled-bg-color);\n",
              "    fill: var(--disabled-fill-color);\n",
              "    box-shadow: none;\n",
              "  }\n",
              "\n",
              "  .colab-df-spinner {\n",
              "    border: 2px solid var(--fill-color);\n",
              "    border-color: transparent;\n",
              "    border-bottom-color: var(--fill-color);\n",
              "    animation:\n",
              "      spin 1s steps(1) infinite;\n",
              "  }\n",
              "\n",
              "  @keyframes spin {\n",
              "    0% {\n",
              "      border-color: transparent;\n",
              "      border-bottom-color: var(--fill-color);\n",
              "      border-left-color: var(--fill-color);\n",
              "    }\n",
              "    20% {\n",
              "      border-color: transparent;\n",
              "      border-left-color: var(--fill-color);\n",
              "      border-top-color: var(--fill-color);\n",
              "    }\n",
              "    30% {\n",
              "      border-color: transparent;\n",
              "      border-left-color: var(--fill-color);\n",
              "      border-top-color: var(--fill-color);\n",
              "      border-right-color: var(--fill-color);\n",
              "    }\n",
              "    40% {\n",
              "      border-color: transparent;\n",
              "      border-right-color: var(--fill-color);\n",
              "      border-top-color: var(--fill-color);\n",
              "    }\n",
              "    60% {\n",
              "      border-color: transparent;\n",
              "      border-right-color: var(--fill-color);\n",
              "    }\n",
              "    80% {\n",
              "      border-color: transparent;\n",
              "      border-right-color: var(--fill-color);\n",
              "      border-bottom-color: var(--fill-color);\n",
              "    }\n",
              "    90% {\n",
              "      border-color: transparent;\n",
              "      border-bottom-color: var(--fill-color);\n",
              "    }\n",
              "  }\n",
              "</style>\n",
              "\n",
              "      <script>\n",
              "        async function quickchart(key) {\n",
              "          const quickchartButtonEl =\n",
              "            document.querySelector('#' + key + ' button');\n",
              "          quickchartButtonEl.disabled = true;  // To prevent multiple clicks.\n",
              "          quickchartButtonEl.classList.add('colab-df-spinner');\n",
              "          try {\n",
              "            const charts = await google.colab.kernel.invokeFunction(\n",
              "                'suggestCharts', [key], {});\n",
              "          } catch (error) {\n",
              "            console.error('Error during call to suggestCharts:', error);\n",
              "          }\n",
              "          quickchartButtonEl.classList.remove('colab-df-spinner');\n",
              "          quickchartButtonEl.classList.add('colab-df-quickchart-complete');\n",
              "        }\n",
              "        (() => {\n",
              "          let quickchartButtonEl =\n",
              "            document.querySelector('#df-a4f8c84d-f37b-4879-80c3-846cf8f039c8 button');\n",
              "          quickchartButtonEl.style.display =\n",
              "            google.colab.kernel.accessAllowed ? 'block' : 'none';\n",
              "        })();\n",
              "      </script>\n",
              "    </div>\n",
              "\n",
              "    </div>\n",
              "  </div>\n"
            ],
            "application/vnd.google.colaboratory.intrinsic+json": {
              "type": "dataframe",
              "variable_name": "df",
              "summary": "{\n  \"name\": \"df\",\n  \"rows\": 4762,\n  \"fields\": [\n    {\n      \"column\": \"url\",\n      \"properties\": {\n        \"dtype\": \"string\",\n        \"num_unique_values\": 4762,\n        \"samples\": [\n          \"http://kerryknits.blogspot.com/2014/04/burberry-baby-blanket.html\",\n          \"https://www.mumsnet.com/talk/style_and_beauty/1671829-mn-vogue-vol-4?pg=25\",\n          \"http://www.missminussized.com/lookbook/oversized\"\n        ],\n        \"semantic_type\": \"\",\n        \"description\": \"\"\n      }\n    },\n    {\n      \"column\": \"content\",\n      \"properties\": {\n        \"dtype\": \"string\",\n        \"num_unique_values\": 4762,\n        \"samples\": [\n          \"get chance little pregnant slew baby sense come pregnant ravelry queue baby blanket afraid difficult net weave look little challenging definitely try yarn use caron simply soft begin photo complete net weave halfway finish product kitty claim darling blanket congratulation thank sanja s fantastic photo interest kitty pretty thank kitty tendency photo bomb project lol fabulous afghan thank congrat addition sure lot baby knit near future thank account wait lot little cute baby baby blanket enjoy little knit thank cathie\",\n          \"mn vogue vol post lot link ginger spot treat wash liquid soft toothbrush work amber definitely energy style real today outfit comfortable grey whistle pull dress exact shawl black tight anthracite moto boot tonight reiss tuxedo wear shirt clutch bracelet black pointy stiletto verve stud currently favourite lovely wow mominatrix accessory cupboard envy mountain shawl shirt ginger gravitate girly magpie mad anthropologie stylish try rein terrible pretty dress habit lovely luck breton hunt eye peel drywhite sheesh pretty specific collarless silk lawn cotton mom accessory cuff hi gingersnapp welcome swoon herm mominatrix gorgeous pretty shirt queenboo mono today monochrome pale ecru sandro mini acne winter white angora wolford anthracite opaque lanvin black suede wedge want try age fair ds nursery grubby mitt mominatrix sound shawl shirt sound marsha gerard darel cigarette pant black silk shirt cobalt cashmere cardi red coat biker boot oversize black lace scarf jewellery dash door hair slow run tube destine late meeting welcome gingersnap second mominatrix toothbrush tip spot cleaning purpose welcome gingersnap thank red breton link sleeve definitely head type begin wish pick link case red version exist definitely recommend bowie recent convert addicted beautiful outfit mom yes turn scarf shirt sound fab sticky finger yesterday prune james jean bowie dusky pink reiss knit pin dinner girlfriend chiswick tonight wait nursery morning head john lewis desperate search present birthday idea gift lady old gentleman outfit mominatrix welcome ginger chocolate cashmere dd sign demand bed morning mummy hand grow yes sweetheart pocket fit err ok idea later school nursery run kickboxe yes mum workout gear school gate morning pick fab mom welcome gingersnap feed duck crop hudson burgundy superga plum vest big dark grey sweater fuchsia cashmere scarf sure style aplomb sleep cute pocket ds insist pull sock edwardian style dc travel miss bedtime night min extra early clingy mean rush job ready settle olive green lk bennett ariella dress hobbs brown jacket sure aspinal herpburn bag nude lk bennett court shoe damnson hurry struggle jewellery end settle mismatch annoy accessorise amber charm bracelet alexia crawford amber necklace silver garnet ring stainless steel gucci watch earre hard sigh gorgeous sound outfit accessory mominatrix jealous impressed kick box sleep dd meet work colleague lunch black cigarette brand white john smedley sweater hop dd regret choice black patent heel bright pink snakeskin lily lionel scarf look forward blog amber father bushmill whiskey monmouth coffee carluccios cantucci birthday easy want thank mcnally find beautiful lsa carafe jigsaw khaki trouser whistle green tee lot boy girl reduce morning stock merino sweater chino puffa jacket size sweater chino jacket hour half impressive head dinner use live chiswick place helmut lang novice anna delivery black pistol stop think leather trouser shoe ebay sell question fit leather trouser tight stretch pair try fit comfortably look possibly loose stretch avoid marsha sound cute sock nephew yo similar pant trouser pull high possible mum hop grow today preen line mad trouser chunky grey cashmere duffy jumper bowie blue grey leopard print scarf find pic jumper scarf online figure pin photo dim board oh forget thank amber shopbop link novice lovely inner voice little right mcnally lovely outfit sleep resident leather legging expert preen preen line think minute young work label see duffy cashmere strip tempt feel hesitate slightly pretty marsha agree pricey short sleeve jumper layer weather forgiving easily justify buy definitely lot stop encourage see irl weekend marsha lovely cheap haha let universe tell wait come list mih lanvin flat list thank amber question air near worth mominatrix tuxedo bag cobble half chic tonight queenboo thankful shirt link fussy packhorse sleep thai apparently use live west eale head wood mean dh charge bath bedtime tho quest red cream breton try today detail button shoulder cuff length sleeve baggy confirm red cream marsha shall wait universe find thread accept message login\",\n          \"oversize draw close amazed quickly pass rant rave excitedly arrival fall feel yesterday suddenly halloween multitude festivity follow come month speak festivity happy diwali indian reader wait home tonight plan festive weekend light yummy food skype conversation family oh pumpkin patch course blogger pumpkin patch pssh wear increasingly rare sunny serve confused effort stay warm soak sun insert gif cardigan non stop yup exactly comedic hand action aside look alright thank oversize metallic gold cardigan oversize huge trend season quietly watch favorite street style star rock oversized coat sweater envious ability pull trend style sense whisper caution trend safely report petite lady definitely rock oversized key balance structure fit kasper drape cardigan ago size trust oversized plan alter fall metallic antique gold fact buck happen sit ignore closet recently mind style oversize outerwear unbelievable totally averse gold couple ago anymore mom anymore big accessory trend fall hand jewelry palm bracelet favorite hand edge meet delicate combination try oversized trend tell weekend thank read xo sushmitha oversize cardigan kasper cozy knit option black sweater jcpenney similar print corduroy pant pair bag thrifte big option booty downtown la similar necklace thrifte similar pearl leave bracelet hub gift travel\"\n        ],\n        \"semantic_type\": \"\",\n        \"description\": \"\"\n      }\n    },\n    {\n      \"column\": \"brand_name\",\n      \"properties\": {\n        \"dtype\": \"category\",\n        \"num_unique_values\": 4,\n        \"samples\": [\n          \"primark\",\n          \"burberry\",\n          \"h&m\"\n        ],\n        \"semantic_type\": \"\",\n        \"description\": \"\"\n      }\n    },\n    {\n      \"column\": \"kw_uni_bi\",\n      \"properties\": {\n        \"dtype\": \"string\",\n        \"num_unique_values\": 4762,\n        \"samples\": [\n          \"['baby knit', 'baby blanket', 'little knit', 'knit', 'yarn']\",\n          \"['mn vogue', 'outfit mominatrix', 'shirt ginger', 'outfit mom', 'vogue vol']\",\n          \"['oversize cardigan', 'cardigan oversize', 'style oversize', 'oversize outerwear', 'wear increasingly']\"\n        ],\n        \"semantic_type\": \"\",\n        \"description\": \"\"\n      }\n    },\n    {\n      \"column\": \"sentiment_label\",\n      \"properties\": {\n        \"dtype\": \"category\",\n        \"num_unique_values\": 1,\n        \"samples\": [\n          \"positive\"\n        ],\n        \"semantic_type\": \"\",\n        \"description\": \"\"\n      }\n    },\n    {\n      \"column\": \"sentiment_score\",\n      \"properties\": {\n        \"dtype\": \"number\",\n        \"std\": 0.10574061863481904,\n        \"min\": 0.428,\n        \"max\": 0.9996,\n        \"num_unique_values\": 1357,\n        \"samples\": [\n          0.9985\n        ],\n        \"semantic_type\": \"\",\n        \"description\": \"\"\n      }\n    },\n    {\n      \"column\": \"confidence\",\n      \"properties\": {\n        \"dtype\": \"number\",\n        \"std\": 0.020145386642304922,\n        \"min\": 0.7143,\n        \"max\": 1.0,\n        \"num_unique_values\": 20,\n        \"samples\": [\n          1.0\n        ],\n        \"semantic_type\": \"\",\n        \"description\": \"\"\n      }\n    },\n    {\n      \"column\": \"kw_unigram\",\n      \"properties\": {\n        \"dtype\": \"string\",\n        \"num_unique_values\": 4762,\n        \"samples\": [\n          \"['knit', 'yarn', 'blanket', 'weave', 'kitty']\"\n        ],\n        \"semantic_type\": \"\",\n        \"description\": \"\"\n      }\n    },\n    {\n      \"column\": \"kw_bigram\",\n      \"properties\": {\n        \"dtype\": \"string\",\n        \"num_unique_values\": 4762,\n        \"samples\": [\n          \"['baby knit', 'baby blanket', 'little knit', 'darling blanket', 'knit thank']\"\n        ],\n        \"semantic_type\": \"\",\n        \"description\": \"\"\n      }\n    }\n  ]\n}"
            }
          },
          "metadata": {},
          "execution_count": 11
        }
      ]
    },
    {
      "cell_type": "code",
      "source": [
        "df_strict = df[\n",
        "    (df[\"sentiment_score\"] > 0.9) &\n",
        "    (df[\"confidence\"] > 0.7) &\n",
        "    (df[\"content\"].str.split().str.len() > 20)\n",
        "].drop_duplicates(subset=\"content\")  # Remove duplicate texts\n",
        "\n",
        "print(f\"Rows before strict filtering: {len(df)}\")\n",
        "print(f\"Rows after strict filtering:  {len(df_strict)}\")"
      ],
      "metadata": {
        "id": "8cgE6fnaXSer",
        "colab": {
          "base_uri": "https://localhost:8080/"
        },
        "outputId": "665abf7f-fa6d-4b92-890f-b894b62af34b"
      },
      "execution_count": null,
      "outputs": [
        {
          "output_type": "stream",
          "name": "stdout",
          "text": [
            "Rows before strict filtering: 4762\n",
            "Rows after strict filtering:  3931\n"
          ]
        }
      ]
    },
    {
      "cell_type": "code",
      "source": [
        "# df is your full DataFrame already loaded\n",
        "df_hm = (\n",
        "    df_strict[df_strict[\"brand_name\"].str.lower() == \"h&m\"]  # keep only rows where brand_name == H&M\n",
        "      .loc[:, [\"content\"]]                     # keep only the `content` column\n",
        "      .reset_index(drop=True)                  # tidy index (optional)\n",
        ")\n",
        "\n",
        "print(f\"H&M rows: {len(df_hm):,}\")"
      ],
      "metadata": {
        "id": "llWU8wNoeiDc",
        "colab": {
          "base_uri": "https://localhost:8080/"
        },
        "outputId": "09bd20ae-fa6b-4723-f821-1d135a886010"
      },
      "execution_count": null,
      "outputs": [
        {
          "output_type": "stream",
          "name": "stdout",
          "text": [
            "H&M rows: 1,111\n"
          ]
        }
      ]
    },
    {
      "cell_type": "code",
      "source": [
        "df_hm.head()"
      ],
      "metadata": {
        "id": "dHte8SAvr5S4",
        "colab": {
          "base_uri": "https://localhost:8080/",
          "height": 206
        },
        "outputId": "7afe7e95-5f5d-43c2-f65d-f40697b02fd2"
      },
      "execution_count": null,
      "outputs": [
        {
          "output_type": "execute_result",
          "data": {
            "text/plain": [
              "                                             content\n",
              "0  friday night girl courtney ellen december nigh...\n",
              "1  addict scarf em cold scarf blanket neck chevro...\n",
              "2  today spend camp live room floor laptop comfor...\n",
              "3  christmas happen stumble badass leather jacket...\n",
              "4  look popular holiday gift fit christmas tree s..."
            ],
            "text/html": [
              "\n",
              "  <div id=\"df-b6748d60-b8bc-47b8-992e-d75e01c0c97c\" class=\"colab-df-container\">\n",
              "    <div>\n",
              "<style scoped>\n",
              "    .dataframe tbody tr th:only-of-type {\n",
              "        vertical-align: middle;\n",
              "    }\n",
              "\n",
              "    .dataframe tbody tr th {\n",
              "        vertical-align: top;\n",
              "    }\n",
              "\n",
              "    .dataframe thead th {\n",
              "        text-align: right;\n",
              "    }\n",
              "</style>\n",
              "<table border=\"1\" class=\"dataframe\">\n",
              "  <thead>\n",
              "    <tr style=\"text-align: right;\">\n",
              "      <th></th>\n",
              "      <th>content</th>\n",
              "    </tr>\n",
              "  </thead>\n",
              "  <tbody>\n",
              "    <tr>\n",
              "      <th>0</th>\n",
              "      <td>friday night girl courtney ellen december nigh...</td>\n",
              "    </tr>\n",
              "    <tr>\n",
              "      <th>1</th>\n",
              "      <td>addict scarf em cold scarf blanket neck chevro...</td>\n",
              "    </tr>\n",
              "    <tr>\n",
              "      <th>2</th>\n",
              "      <td>today spend camp live room floor laptop comfor...</td>\n",
              "    </tr>\n",
              "    <tr>\n",
              "      <th>3</th>\n",
              "      <td>christmas happen stumble badass leather jacket...</td>\n",
              "    </tr>\n",
              "    <tr>\n",
              "      <th>4</th>\n",
              "      <td>look popular holiday gift fit christmas tree s...</td>\n",
              "    </tr>\n",
              "  </tbody>\n",
              "</table>\n",
              "</div>\n",
              "    <div class=\"colab-df-buttons\">\n",
              "\n",
              "  <div class=\"colab-df-container\">\n",
              "    <button class=\"colab-df-convert\" onclick=\"convertToInteractive('df-b6748d60-b8bc-47b8-992e-d75e01c0c97c')\"\n",
              "            title=\"Convert this dataframe to an interactive table.\"\n",
              "            style=\"display:none;\">\n",
              "\n",
              "  <svg xmlns=\"http://www.w3.org/2000/svg\" height=\"24px\" viewBox=\"0 -960 960 960\">\n",
              "    <path d=\"M120-120v-720h720v720H120Zm60-500h600v-160H180v160Zm220 220h160v-160H400v160Zm0 220h160v-160H400v160ZM180-400h160v-160H180v160Zm440 0h160v-160H620v160ZM180-180h160v-160H180v160Zm440 0h160v-160H620v160Z\"/>\n",
              "  </svg>\n",
              "    </button>\n",
              "\n",
              "  <style>\n",
              "    .colab-df-container {\n",
              "      display:flex;\n",
              "      gap: 12px;\n",
              "    }\n",
              "\n",
              "    .colab-df-convert {\n",
              "      background-color: #E8F0FE;\n",
              "      border: none;\n",
              "      border-radius: 50%;\n",
              "      cursor: pointer;\n",
              "      display: none;\n",
              "      fill: #1967D2;\n",
              "      height: 32px;\n",
              "      padding: 0 0 0 0;\n",
              "      width: 32px;\n",
              "    }\n",
              "\n",
              "    .colab-df-convert:hover {\n",
              "      background-color: #E2EBFA;\n",
              "      box-shadow: 0px 1px 2px rgba(60, 64, 67, 0.3), 0px 1px 3px 1px rgba(60, 64, 67, 0.15);\n",
              "      fill: #174EA6;\n",
              "    }\n",
              "\n",
              "    .colab-df-buttons div {\n",
              "      margin-bottom: 4px;\n",
              "    }\n",
              "\n",
              "    [theme=dark] .colab-df-convert {\n",
              "      background-color: #3B4455;\n",
              "      fill: #D2E3FC;\n",
              "    }\n",
              "\n",
              "    [theme=dark] .colab-df-convert:hover {\n",
              "      background-color: #434B5C;\n",
              "      box-shadow: 0px 1px 3px 1px rgba(0, 0, 0, 0.15);\n",
              "      filter: drop-shadow(0px 1px 2px rgba(0, 0, 0, 0.3));\n",
              "      fill: #FFFFFF;\n",
              "    }\n",
              "  </style>\n",
              "\n",
              "    <script>\n",
              "      const buttonEl =\n",
              "        document.querySelector('#df-b6748d60-b8bc-47b8-992e-d75e01c0c97c button.colab-df-convert');\n",
              "      buttonEl.style.display =\n",
              "        google.colab.kernel.accessAllowed ? 'block' : 'none';\n",
              "\n",
              "      async function convertToInteractive(key) {\n",
              "        const element = document.querySelector('#df-b6748d60-b8bc-47b8-992e-d75e01c0c97c');\n",
              "        const dataTable =\n",
              "          await google.colab.kernel.invokeFunction('convertToInteractive',\n",
              "                                                    [key], {});\n",
              "        if (!dataTable) return;\n",
              "\n",
              "        const docLinkHtml = 'Like what you see? Visit the ' +\n",
              "          '<a target=\"_blank\" href=https://colab.research.google.com/notebooks/data_table.ipynb>data table notebook</a>'\n",
              "          + ' to learn more about interactive tables.';\n",
              "        element.innerHTML = '';\n",
              "        dataTable['output_type'] = 'display_data';\n",
              "        await google.colab.output.renderOutput(dataTable, element);\n",
              "        const docLink = document.createElement('div');\n",
              "        docLink.innerHTML = docLinkHtml;\n",
              "        element.appendChild(docLink);\n",
              "      }\n",
              "    </script>\n",
              "  </div>\n",
              "\n",
              "\n",
              "    <div id=\"df-4590b285-4bd6-499d-9b24-23de1fd9b6b2\">\n",
              "      <button class=\"colab-df-quickchart\" onclick=\"quickchart('df-4590b285-4bd6-499d-9b24-23de1fd9b6b2')\"\n",
              "                title=\"Suggest charts\"\n",
              "                style=\"display:none;\">\n",
              "\n",
              "<svg xmlns=\"http://www.w3.org/2000/svg\" height=\"24px\"viewBox=\"0 0 24 24\"\n",
              "     width=\"24px\">\n",
              "    <g>\n",
              "        <path d=\"M19 3H5c-1.1 0-2 .9-2 2v14c0 1.1.9 2 2 2h14c1.1 0 2-.9 2-2V5c0-1.1-.9-2-2-2zM9 17H7v-7h2v7zm4 0h-2V7h2v10zm4 0h-2v-4h2v4z\"/>\n",
              "    </g>\n",
              "</svg>\n",
              "      </button>\n",
              "\n",
              "<style>\n",
              "  .colab-df-quickchart {\n",
              "      --bg-color: #E8F0FE;\n",
              "      --fill-color: #1967D2;\n",
              "      --hover-bg-color: #E2EBFA;\n",
              "      --hover-fill-color: #174EA6;\n",
              "      --disabled-fill-color: #AAA;\n",
              "      --disabled-bg-color: #DDD;\n",
              "  }\n",
              "\n",
              "  [theme=dark] .colab-df-quickchart {\n",
              "      --bg-color: #3B4455;\n",
              "      --fill-color: #D2E3FC;\n",
              "      --hover-bg-color: #434B5C;\n",
              "      --hover-fill-color: #FFFFFF;\n",
              "      --disabled-bg-color: #3B4455;\n",
              "      --disabled-fill-color: #666;\n",
              "  }\n",
              "\n",
              "  .colab-df-quickchart {\n",
              "    background-color: var(--bg-color);\n",
              "    border: none;\n",
              "    border-radius: 50%;\n",
              "    cursor: pointer;\n",
              "    display: none;\n",
              "    fill: var(--fill-color);\n",
              "    height: 32px;\n",
              "    padding: 0;\n",
              "    width: 32px;\n",
              "  }\n",
              "\n",
              "  .colab-df-quickchart:hover {\n",
              "    background-color: var(--hover-bg-color);\n",
              "    box-shadow: 0 1px 2px rgba(60, 64, 67, 0.3), 0 1px 3px 1px rgba(60, 64, 67, 0.15);\n",
              "    fill: var(--button-hover-fill-color);\n",
              "  }\n",
              "\n",
              "  .colab-df-quickchart-complete:disabled,\n",
              "  .colab-df-quickchart-complete:disabled:hover {\n",
              "    background-color: var(--disabled-bg-color);\n",
              "    fill: var(--disabled-fill-color);\n",
              "    box-shadow: none;\n",
              "  }\n",
              "\n",
              "  .colab-df-spinner {\n",
              "    border: 2px solid var(--fill-color);\n",
              "    border-color: transparent;\n",
              "    border-bottom-color: var(--fill-color);\n",
              "    animation:\n",
              "      spin 1s steps(1) infinite;\n",
              "  }\n",
              "\n",
              "  @keyframes spin {\n",
              "    0% {\n",
              "      border-color: transparent;\n",
              "      border-bottom-color: var(--fill-color);\n",
              "      border-left-color: var(--fill-color);\n",
              "    }\n",
              "    20% {\n",
              "      border-color: transparent;\n",
              "      border-left-color: var(--fill-color);\n",
              "      border-top-color: var(--fill-color);\n",
              "    }\n",
              "    30% {\n",
              "      border-color: transparent;\n",
              "      border-left-color: var(--fill-color);\n",
              "      border-top-color: var(--fill-color);\n",
              "      border-right-color: var(--fill-color);\n",
              "    }\n",
              "    40% {\n",
              "      border-color: transparent;\n",
              "      border-right-color: var(--fill-color);\n",
              "      border-top-color: var(--fill-color);\n",
              "    }\n",
              "    60% {\n",
              "      border-color: transparent;\n",
              "      border-right-color: var(--fill-color);\n",
              "    }\n",
              "    80% {\n",
              "      border-color: transparent;\n",
              "      border-right-color: var(--fill-color);\n",
              "      border-bottom-color: var(--fill-color);\n",
              "    }\n",
              "    90% {\n",
              "      border-color: transparent;\n",
              "      border-bottom-color: var(--fill-color);\n",
              "    }\n",
              "  }\n",
              "</style>\n",
              "\n",
              "      <script>\n",
              "        async function quickchart(key) {\n",
              "          const quickchartButtonEl =\n",
              "            document.querySelector('#' + key + ' button');\n",
              "          quickchartButtonEl.disabled = true;  // To prevent multiple clicks.\n",
              "          quickchartButtonEl.classList.add('colab-df-spinner');\n",
              "          try {\n",
              "            const charts = await google.colab.kernel.invokeFunction(\n",
              "                'suggestCharts', [key], {});\n",
              "          } catch (error) {\n",
              "            console.error('Error during call to suggestCharts:', error);\n",
              "          }\n",
              "          quickchartButtonEl.classList.remove('colab-df-spinner');\n",
              "          quickchartButtonEl.classList.add('colab-df-quickchart-complete');\n",
              "        }\n",
              "        (() => {\n",
              "          let quickchartButtonEl =\n",
              "            document.querySelector('#df-4590b285-4bd6-499d-9b24-23de1fd9b6b2 button');\n",
              "          quickchartButtonEl.style.display =\n",
              "            google.colab.kernel.accessAllowed ? 'block' : 'none';\n",
              "        })();\n",
              "      </script>\n",
              "    </div>\n",
              "\n",
              "    </div>\n",
              "  </div>\n"
            ],
            "application/vnd.google.colaboratory.intrinsic+json": {
              "type": "dataframe",
              "variable_name": "df_hm",
              "summary": "{\n  \"name\": \"df_hm\",\n  \"rows\": 1111,\n  \"fields\": [\n    {\n      \"column\": \"content\",\n      \"properties\": {\n        \"dtype\": \"string\",\n        \"num_unique_values\": 1111,\n        \"samples\": [\n          \"friend praise fact kind super mom know exactly baby need truth total opposite fact mom clueless shame admit fact start baby checklist idea little need thankful mommy friend share baby checklist friend play considerable sure hospital bag baby bag fill baby bundle diaper bag ready return favor share baby checklist tweak find favorite place base work mother equally clueless blogger focus mainly accessory baby ready checklist order check follow bodysuit pack mommy friend mommy group swear onesie bodysuit sleeve addition comfortable convenient dress baby instead buy highly recommend pack bundle size range month baby boy pick baby boy zoo party short sleeve bodysuit baby boy zoo party short sleeve bodysuit pant pack course pant match bodysuit especially cold wish dress little stroll park trip mall design pant mix match design bodysuit sky limit baby boy zoo party pant playwear little ready stroller adventure level playwear choice come jacket hoodie bodysuit sleeve bodysuit sleeve pant bundle layer design little warm stylish possible josiah choose boy camo rockstar hoodie bodysuit pant playwear totally adore thunder guitar design camo rockstar hoodie bodysuit pant swaddle blanket stress important effective swaddling swaddle night fussy calm warm cozy help swaddle blanket absolutely adorbs zoo party design match bodysuit pant design perfectly bib burp cloth parent forget bib burp cloth child messy especially meal feed hand baby burp feed mind sticky smell tarty matter cute baby bag idea able save burp yes barf thank burp rag mention place baby place highly recommend check product awe fit little plus fact colorful design baby addition offer competitive price ship case store online promotion email subscriber trust find basically dress little infant toddler let think happy style amber myersmarch precious place incredible deal cute alaina bullockmarch thank share list fix little gift package base send rest list joanna everyday freshmarch essential girl little baby baby shower gift sudiptamarch baby adorable cute hoodie body suit little danielle baby bundle start joanna bayfordmarch realize baby reccomende end useless baby find body suit baby grow old change sooften zoo print choose baby rhian westburymarch rockstar adorable buy excite kid jacquelinemarch baby shower post incredibly time receive blanket gift think sort option btw cute kid kate andrewsmarch child onesie little guitar adorable little guy adorable sondra barkermarch little adorable super cute yoncamarch cute cute child choose baby help neighbor ago excited daisymarch oh goodness little absolutely adorable love idea mama boy grow brother little fantastic gift idea jennimarch oh goodness adorable berlinmarch boy expert super mom learn experience sure mistake tanyamarch cute camouflage hoodie adorable love animal print zoo party set annmarie johnmarch bundle expect parent easy baby place definitely worth gift friend baby soon kacie morganmarch lovely selection choose baby bundle outfit particularly cute elizabeth omarch baby sweet colour print super soft lovely khushboomarch bodysuit super cute wish nephew grow quickly totally adorable katiemarch cute little guy adorable outfit thank share deal kiwimarch girl not cute baby boy not cute adorable jenmarch baby cute print gorgeous lovely selection girl boy ship bonus appreciate blair villanuevamarch pastel print looka adorable baby amd rarely bold color wonder angela generous share checklist paula stewartmarch outfit adorable child tempt dress cute outfit heathermarch baby ooh ahhe adorable baby nab cute bundle send momma friend toughcookiemommymarch sil labor speak baby bundle baby size candy rachellemarch omg son adorable place deal offer customer mariamarch checklist useful compare list reference escapewritersmarch look gift pack outfit blair villanuevamarch super cute onesie imagine practicality bring bag baby need checklist mommyhood journey btw little cutie beth owenmarch oh blanket cut maria magdalenaapril cute baby baby product cute tiny joan cajicapril swaddle blanket lord know come baby adorable tara pittmanapril cute comfy comfortable baby sleep natalieapril little outfit cute handle bring memory place young gift ginaapril adorable advice outfit check rhian westburyapril absolutely rockstar bit essential rebecca aaublogapril print adorable especially rockstar print everyday baby super cute melanie edjourianapril body suit adorable print use endless supply child little kristina maggioraapril rockstar right street cuteeeee kid suzanneapril cute baby bundle onesie adorbs danielleapril onesie cute print debbieapril oh rockstar outfit cute annreeba joyapril rockstar adorable baby elizabethapril completely clueless mother tbh idea baby need remember ask assistant bath towel need lol mommy bapril mom fist bear checklist savior revision honestly need mil sister share experience come buy baby kimapril oh cute beautifull picture aswell wait little afshan nasimapril cute baby comfortable check lot niece nephews kristenapril awh post adorable wish find pregnant friend pregnant pas hannah marieapril oh cute adorable design recommend sister birth alison rostapril gift expect parent bundle joy discount totally becca talbotapril cute baby adorable little bethanyapril oh son cute model honest baby cute animal play suit selaapril baby adorable cute bundle athenaapril cute grandchild come wait check bella dear mummy blogapril sound starter pack mummy wish small aashimaapril totally agree burp cloth particularly extremely important ana de jesusapril omg bubba grow eye gorgeous bodysuit credit organize barbie beauty bitsapril cute babbleboxx adorable david allen elliottapril adorable outfit toddler baby remember miss daughter little kahlan leeapril baby cute tongue dizzy feel throw sunday subtle smell think pregnant nervous mom search tip list helpful mom turn overfatigue lavandamichelleapril outfit adorable use children baby thank share garfapril cute rockstar hoodie suit pant cut tiffanyapril bodysuit party pant cute cousin baby gift adaapril outfit cute pattern kozy kitchenapril baby cute bodysuit design place deal cute style collection kid hoodie nephew lexapril place kiddy cute baby jen tipsy mamaapril baby shower adorable absolutely mama need kate andrewsapril little man cute dress baby definitely pick pointer jessapril cute lil oh gosh pregnant friend moment definitely mind gift jamesoctober selection rockstar bodysuit\",\n          \"hannah busy possibly tad food drink consume pj mission wednesday busy work karen grapevine lady luncheon la brisas golf club run cindy barne lady speaker entertain lynda woodin travel feature bill tre talk travel tip fly accommodation sightsee interesting meet people pj steph tre wine taste event stun wine restaurant road san pedro puerto banus beautiful venue massive selection wine world bottle excess euro sadly taste taste try red wine vintage similar price range try favourite dominio de atauta fino tinto grape ribera del duero region spend month french oak crianza smooth taste easy drink wednesday sensible tasting offer stay welcome definitely proper meal sample wine quiz night bustle thursday guy moneycorp office la cala lot colleague tre social level talk phone socially selina bikini friday afternoon highly recommend marina banu selection separately suit perfectly stop lunch frontline pack queue start form whilst early april imagine busy queue summer worth pizza salad delicious food arrives quickly prove possible people wait long restaurant place pack big restaurant able friday night pj wander san pedro dinner love able voucher bottle house wine snack la vie tre telethon food lovely real effort dcor place fabulous finish eat couple start sing harmony beautiful chat barbershop singer sweden couple holiday couple live san pedro sing tuesday fuengirola exchange number think sound post snack la vie walk el rincon de la sala food wine alicia favourite waitress guy play la sala golf tournament saturday selina place spot sunbathe swim beautiful pool treat early april guy play course near karen apartment girl wave picture sunday invite place sunday lunch arrange selina care starter steph wendy main dessert selina little nervous steve cook house starter fantastic spinach salmon roulade pesto potato salad lovely beautifully present firmly instruct tell steve start ask cook steph wendy incredible main roast beef roast potato cauliflower cheese vegetable plus moroccan lamb pie beautiful flavour steph warn spend hour kitchen fight filo pastry dessert dark chocolate white chocolate layer mousse pistachio praline little rich oop\",\n          \"quick recap eat friday yay fly sooo happy friday quick eat friday breakfast fast favorite scramble egg spinach avocado salsa spoon plain greek yogurt mix omega egg cup liquid egg white aside heat cup chop frozen spinach minute microwave spinach slightly remove excess water scramble egg half add spinach combine scramble add avocado couple tablespoon salsa spoon plain greek yogurt man flavorful fill breakfast lunch today mix green salad grill chicken breast special easy meal add yogurt fruit jeez eat yogurt everyday lunch eat expire yogurt mode drink skim milk dairy variety lacy night friday night want awful favorite life vacation kid mom remember summer youth camp dress short beach friday work spend mall store town partake mall eatery area decide plain roast beef calorie fast food pas pack line dress room wind try overhear employee run small find couple like stand line try true size run small return overall night excite vacation sublimely lace post june topic eat tag egg fast food bookmark permalink leave comment\"\n        ],\n        \"semantic_type\": \"\",\n        \"description\": \"\"\n      }\n    }\n  ]\n}"
            }
          },
          "metadata": {},
          "execution_count": 23
        }
      ]
    },
    {
      "cell_type": "markdown",
      "source": [
        "# Reformat to Q-A using GPT with sample real post"
      ],
      "metadata": {
        "id": "Vj7lAKwQZ-vf"
      }
    },
    {
      "cell_type": "markdown",
      "source": [
        "With low resource, we will proceed as maximum 200 synthetic in total to align with grade A from this paper [Link](https://arxiv.org/abs/2212.10560)"
      ],
      "metadata": {
        "id": "wmYgZS5malpg"
      }
    },
    {
      "cell_type": "code",
      "source": [
        "SAMPLE_SIZE = 200            # number of real posts to reformat\n",
        "JSONL_OUT   = \"pretrain_qas_pure.jsonl\""
      ],
      "metadata": {
        "id": "k-Tw_rIHXFCs"
      },
      "execution_count": null,
      "outputs": []
    },
    {
      "cell_type": "code",
      "source": [
        "# System prompt to convert a raw post into one {instruction,output} JSON object\n",
        "SYSTEM_PROMPT = \"\"\"\n",
        "You are a data-formatting assistant.\n",
        "Given a single content about H&M in the fashion domain, produce exactly one valid JSON object with two keys:\n",
        "  \"instruction\": a realistic question that a consumer or analyst might ask about this post,\n",
        "  \"output\": a helpful, concise answer that directly addresses the question using information from the post.\n",
        "Constraints:\n",
        "- Response must be ONLY the raw JSON object (no backticks, no markdown, no extra text).\n",
        "- Always include a leading space before the value of \"output\" for fine-tuning consistency.\n",
        "Example:\n",
        "{\"instruction\":\"What product does the post praise?\",\"output\":\" A suede jacket with a modern cut.\"}\n",
        "\"\"\""
      ],
      "metadata": {
        "id": "XLZKydWxarAh"
      },
      "execution_count": null,
      "outputs": []
    },
    {
      "cell_type": "code",
      "source": [
        "real_sample = (\n",
        "    df_hm\n",
        "    .sample(n=SAMPLE_SIZE, random_state=42)\n",
        "    .reset_index(drop=True)\n",
        ")"
      ],
      "metadata": {
        "id": "u_LorO2Kauw7"
      },
      "execution_count": null,
      "outputs": []
    },
    {
      "cell_type": "code",
      "source": [
        "print(f\"Sampling {SAMPLE_SIZE} real posts for Q-A reformatting...\")"
      ],
      "metadata": {
        "id": "19MMFJ3paweB",
        "colab": {
          "base_uri": "https://localhost:8080/"
        },
        "outputId": "5d5b4377-a880-4d0d-8570-2974af05db8c"
      },
      "execution_count": null,
      "outputs": [
        {
          "output_type": "stream",
          "name": "stdout",
          "text": [
            "Sampling 200 real posts for Q-A reformatting...\n"
          ]
        }
      ]
    },
    {
      "cell_type": "markdown",
      "source": [
        "## Generate Q-A pairs"
      ],
      "metadata": {
        "id": "WiHhl4_PayGs"
      }
    },
    {
      "cell_type": "code",
      "source": [
        "records = []\n",
        "for idx, row in real_sample.iterrows():\n",
        "    post = row[\"content\"]\n",
        "    try:\n",
        "        resp = client.chat.completions.create(\n",
        "            model=\"gpt-3.5-turbo\",\n",
        "            messages=[\n",
        "                {\"role\": \"system\",  \"content\": SYSTEM_PROMPT},\n",
        "                {\"role\": \"user\",    \"content\": post}\n",
        "            ],\n",
        "            temperature=0.0,\n",
        "            max_tokens=200\n",
        "        )\n",
        "        # pydantic‐model style access:\n",
        "        text = resp.choices[0].message.content.strip()\n",
        "        qa   = json.loads(text)\n",
        "        records.append(qa)\n",
        "\n",
        "    except Exception as e:\n",
        "        print(f\"[Error] row {idx}: {e}\")\n",
        "\n",
        "print(f\"Generated {len(records)} Q–A pairs from real data.\")"
      ],
      "metadata": {
        "id": "zRJeQGmea5u1",
        "colab": {
          "base_uri": "https://localhost:8080/"
        },
        "outputId": "6b98ad20-6b00-4af7-ac77-e8c4567fd06d"
      },
      "execution_count": null,
      "outputs": [
        {
          "output_type": "stream",
          "name": "stdout",
          "text": [
            "Generated 200 Q–A pairs from real data.\n"
          ]
        }
      ]
    },
    {
      "cell_type": "markdown",
      "source": [
        "# Save as a check point"
      ],
      "metadata": {
        "id": "sil4tC7lbzB8"
      }
    },
    {
      "cell_type": "markdown",
      "source": [
        "# Export to JSONL"
      ],
      "metadata": {
        "id": "MhXulQxobK1D"
      }
    },
    {
      "cell_type": "code",
      "source": [
        "# Define output directory\n",
        "output_path = \"/content/drive/MyDrive/synthetic_prompt_generation_shared/hm\"\n",
        "output_filename = \"pretrain_qas_pure.jsonl\""
      ],
      "metadata": {
        "id": "QqjtbOOQekRG"
      },
      "execution_count": null,
      "outputs": []
    },
    {
      "cell_type": "code",
      "source": [
        "# Full path to the output file\n",
        "JSONL_OUT = os.path.join(output_path, output_filename)\n",
        "\n",
        "# Write records to JSONL file\n",
        "with open(JSONL_OUT, \"w\", encoding=\"utf-8\") as fout:\n",
        "    for rec in records:\n",
        "        fout.write(json.dumps(rec, ensure_ascii=False))\n",
        "        fout.write(\"\\n\")\n",
        "\n",
        "print(f\"Wrote {len(records)} records to {JSONL_OUT}\")"
      ],
      "metadata": {
        "id": "O6Ik5HjTbOMG",
        "colab": {
          "base_uri": "https://localhost:8080/"
        },
        "outputId": "ca541f58-4a28-4b7c-ea77-efed8afbb9e2"
      },
      "execution_count": null,
      "outputs": [
        {
          "output_type": "stream",
          "name": "stdout",
          "text": [
            "Wrote 200 records to /content/drive/MyDrive/synthetic_prompt_generation_shared/pretrain_qas_pure.jsonl\n"
          ]
        }
      ]
    },
    {
      "cell_type": "markdown",
      "source": [
        "# 2 Save Output as JSONL for Fine-Tuning"
      ],
      "metadata": {
        "id": "iHr5ky2H6hWd"
      }
    },
    {
      "cell_type": "markdown",
      "source": [
        "## Combine Refinedweb and syntheticdataset together"
      ],
      "metadata": {
        "id": "XP7HWMwW2_Ev"
      }
    },
    {
      "cell_type": "code",
      "source": [
        "# Point to your JSONL file\n",
        "file_path = \"/content/drive/MyDrive/synthetic_prompt_generation_shared/hm/pretrain_qas_pure.jsonl\"\n",
        "\n",
        "# Read each line as JSON and collect into a list of dicts\n",
        "records = []\n",
        "with open(file_path, 'r', encoding='utf-8') as f:\n",
        "    for line in f:\n",
        "        line = line.strip()\n",
        "        if line:\n",
        "            records.append(json.loads(line))\n",
        "\n",
        "# Create a DataFrame\n",
        "df_refinedweb = pd.DataFrame.from_records(records)\n",
        "\n",
        "# Inspect the result\n",
        "print(df_refinedweb.head())\n",
        "print(f\"\\nTotal rows: {len(df_refinedweb)}, columns: {df_refinedweb.shape[1]}\")"
      ],
      "metadata": {
        "id": "IQnXBEGf3Udh",
        "colab": {
          "base_uri": "https://localhost:8080/"
        },
        "outputId": "19756047-0574-4739-e059-70f31094a87d"
      },
      "execution_count": null,
      "outputs": [
        {
          "output_type": "stream",
          "name": "stdout",
          "text": [
            "                                         instruction  \\\n",
            "0   What kind of products are mentioned in the post?   \n",
            "1         What event is being described in the post?   \n",
            "2                What is the main topic of the post?   \n",
            "3  What item of clothing is the blogger particula...   \n",
            "4         Who is credited for the photo in the post?   \n",
            "\n",
            "                                              output  \n",
            "0   Baby clothing items such as bodysuits, pants,...  \n",
            "1   A social gathering with wine tasting, quiz ni...  \n",
            "2   A quick recap of the author's Friday, includi...  \n",
            "3   A navy silk dress that she bought on sale and...  \n",
            "4                                  Markus Koellmann.  \n",
            "\n",
            "Total rows: 200, columns: 2\n"
          ]
        }
      ]
    },
    {
      "cell_type": "code",
      "source": [
        "df_refinedweb"
      ],
      "metadata": {
        "id": "lKSLhKOF3o1l",
        "colab": {
          "base_uri": "https://localhost:8080/",
          "height": 424
        },
        "outputId": "2372f890-5786-417a-ad7d-e33ae43b51d7"
      },
      "execution_count": null,
      "outputs": [
        {
          "output_type": "execute_result",
          "data": {
            "text/plain": [
              "                                           instruction  \\\n",
              "0     What kind of products are mentioned in the post?   \n",
              "1           What event is being described in the post?   \n",
              "2                  What is the main topic of the post?   \n",
              "3    What item of clothing is the blogger particula...   \n",
              "4           Who is credited for the photo in the post?   \n",
              "..                                                 ...   \n",
              "195               What brand is mentioned in the post?   \n",
              "196  What type of clothing item is being discussed ...   \n",
              "197  What are some key fashion items mentioned in t...   \n",
              "198  What is the overall sentiment towards the dres...   \n",
              "199                Where was the dress purchased from?   \n",
              "\n",
              "                                                output  \n",
              "0     Baby clothing items such as bodysuits, pants,...  \n",
              "1     A social gathering with wine tasting, quiz ni...  \n",
              "2     A quick recap of the author's Friday, includi...  \n",
              "3     A navy silk dress that she bought on sale and...  \n",
              "4                                    Markus Koellmann.  \n",
              "..                                                 ...  \n",
              "195                                      Steve Madden.  \n",
              "196   A trench coat, specifically a classic vintage...  \n",
              "197   A faux leather jacket, a knit top, trousers w...  \n",
              "198   Overall, the sentiment towards the dress is v...  \n",
              "199                              A market in Thailand.  \n",
              "\n",
              "[200 rows x 2 columns]"
            ],
            "text/html": [
              "\n",
              "  <div id=\"df-0c9065ac-8c8c-4d1c-95dd-b445003a1dbd\" class=\"colab-df-container\">\n",
              "    <div>\n",
              "<style scoped>\n",
              "    .dataframe tbody tr th:only-of-type {\n",
              "        vertical-align: middle;\n",
              "    }\n",
              "\n",
              "    .dataframe tbody tr th {\n",
              "        vertical-align: top;\n",
              "    }\n",
              "\n",
              "    .dataframe thead th {\n",
              "        text-align: right;\n",
              "    }\n",
              "</style>\n",
              "<table border=\"1\" class=\"dataframe\">\n",
              "  <thead>\n",
              "    <tr style=\"text-align: right;\">\n",
              "      <th></th>\n",
              "      <th>instruction</th>\n",
              "      <th>output</th>\n",
              "    </tr>\n",
              "  </thead>\n",
              "  <tbody>\n",
              "    <tr>\n",
              "      <th>0</th>\n",
              "      <td>What kind of products are mentioned in the post?</td>\n",
              "      <td>Baby clothing items such as bodysuits, pants,...</td>\n",
              "    </tr>\n",
              "    <tr>\n",
              "      <th>1</th>\n",
              "      <td>What event is being described in the post?</td>\n",
              "      <td>A social gathering with wine tasting, quiz ni...</td>\n",
              "    </tr>\n",
              "    <tr>\n",
              "      <th>2</th>\n",
              "      <td>What is the main topic of the post?</td>\n",
              "      <td>A quick recap of the author's Friday, includi...</td>\n",
              "    </tr>\n",
              "    <tr>\n",
              "      <th>3</th>\n",
              "      <td>What item of clothing is the blogger particula...</td>\n",
              "      <td>A navy silk dress that she bought on sale and...</td>\n",
              "    </tr>\n",
              "    <tr>\n",
              "      <th>4</th>\n",
              "      <td>Who is credited for the photo in the post?</td>\n",
              "      <td>Markus Koellmann.</td>\n",
              "    </tr>\n",
              "    <tr>\n",
              "      <th>...</th>\n",
              "      <td>...</td>\n",
              "      <td>...</td>\n",
              "    </tr>\n",
              "    <tr>\n",
              "      <th>195</th>\n",
              "      <td>What brand is mentioned in the post?</td>\n",
              "      <td>Steve Madden.</td>\n",
              "    </tr>\n",
              "    <tr>\n",
              "      <th>196</th>\n",
              "      <td>What type of clothing item is being discussed ...</td>\n",
              "      <td>A trench coat, specifically a classic vintage...</td>\n",
              "    </tr>\n",
              "    <tr>\n",
              "      <th>197</th>\n",
              "      <td>What are some key fashion items mentioned in t...</td>\n",
              "      <td>A faux leather jacket, a knit top, trousers w...</td>\n",
              "    </tr>\n",
              "    <tr>\n",
              "      <th>198</th>\n",
              "      <td>What is the overall sentiment towards the dres...</td>\n",
              "      <td>Overall, the sentiment towards the dress is v...</td>\n",
              "    </tr>\n",
              "    <tr>\n",
              "      <th>199</th>\n",
              "      <td>Where was the dress purchased from?</td>\n",
              "      <td>A market in Thailand.</td>\n",
              "    </tr>\n",
              "  </tbody>\n",
              "</table>\n",
              "<p>200 rows × 2 columns</p>\n",
              "</div>\n",
              "    <div class=\"colab-df-buttons\">\n",
              "\n",
              "  <div class=\"colab-df-container\">\n",
              "    <button class=\"colab-df-convert\" onclick=\"convertToInteractive('df-0c9065ac-8c8c-4d1c-95dd-b445003a1dbd')\"\n",
              "            title=\"Convert this dataframe to an interactive table.\"\n",
              "            style=\"display:none;\">\n",
              "\n",
              "  <svg xmlns=\"http://www.w3.org/2000/svg\" height=\"24px\" viewBox=\"0 -960 960 960\">\n",
              "    <path d=\"M120-120v-720h720v720H120Zm60-500h600v-160H180v160Zm220 220h160v-160H400v160Zm0 220h160v-160H400v160ZM180-400h160v-160H180v160Zm440 0h160v-160H620v160ZM180-180h160v-160H180v160Zm440 0h160v-160H620v160Z\"/>\n",
              "  </svg>\n",
              "    </button>\n",
              "\n",
              "  <style>\n",
              "    .colab-df-container {\n",
              "      display:flex;\n",
              "      gap: 12px;\n",
              "    }\n",
              "\n",
              "    .colab-df-convert {\n",
              "      background-color: #E8F0FE;\n",
              "      border: none;\n",
              "      border-radius: 50%;\n",
              "      cursor: pointer;\n",
              "      display: none;\n",
              "      fill: #1967D2;\n",
              "      height: 32px;\n",
              "      padding: 0 0 0 0;\n",
              "      width: 32px;\n",
              "    }\n",
              "\n",
              "    .colab-df-convert:hover {\n",
              "      background-color: #E2EBFA;\n",
              "      box-shadow: 0px 1px 2px rgba(60, 64, 67, 0.3), 0px 1px 3px 1px rgba(60, 64, 67, 0.15);\n",
              "      fill: #174EA6;\n",
              "    }\n",
              "\n",
              "    .colab-df-buttons div {\n",
              "      margin-bottom: 4px;\n",
              "    }\n",
              "\n",
              "    [theme=dark] .colab-df-convert {\n",
              "      background-color: #3B4455;\n",
              "      fill: #D2E3FC;\n",
              "    }\n",
              "\n",
              "    [theme=dark] .colab-df-convert:hover {\n",
              "      background-color: #434B5C;\n",
              "      box-shadow: 0px 1px 3px 1px rgba(0, 0, 0, 0.15);\n",
              "      filter: drop-shadow(0px 1px 2px rgba(0, 0, 0, 0.3));\n",
              "      fill: #FFFFFF;\n",
              "    }\n",
              "  </style>\n",
              "\n",
              "    <script>\n",
              "      const buttonEl =\n",
              "        document.querySelector('#df-0c9065ac-8c8c-4d1c-95dd-b445003a1dbd button.colab-df-convert');\n",
              "      buttonEl.style.display =\n",
              "        google.colab.kernel.accessAllowed ? 'block' : 'none';\n",
              "\n",
              "      async function convertToInteractive(key) {\n",
              "        const element = document.querySelector('#df-0c9065ac-8c8c-4d1c-95dd-b445003a1dbd');\n",
              "        const dataTable =\n",
              "          await google.colab.kernel.invokeFunction('convertToInteractive',\n",
              "                                                    [key], {});\n",
              "        if (!dataTable) return;\n",
              "\n",
              "        const docLinkHtml = 'Like what you see? Visit the ' +\n",
              "          '<a target=\"_blank\" href=https://colab.research.google.com/notebooks/data_table.ipynb>data table notebook</a>'\n",
              "          + ' to learn more about interactive tables.';\n",
              "        element.innerHTML = '';\n",
              "        dataTable['output_type'] = 'display_data';\n",
              "        await google.colab.output.renderOutput(dataTable, element);\n",
              "        const docLink = document.createElement('div');\n",
              "        docLink.innerHTML = docLinkHtml;\n",
              "        element.appendChild(docLink);\n",
              "      }\n",
              "    </script>\n",
              "  </div>\n",
              "\n",
              "\n",
              "    <div id=\"df-eb8fca1e-79c7-47ce-9984-9a38b9eda443\">\n",
              "      <button class=\"colab-df-quickchart\" onclick=\"quickchart('df-eb8fca1e-79c7-47ce-9984-9a38b9eda443')\"\n",
              "                title=\"Suggest charts\"\n",
              "                style=\"display:none;\">\n",
              "\n",
              "<svg xmlns=\"http://www.w3.org/2000/svg\" height=\"24px\"viewBox=\"0 0 24 24\"\n",
              "     width=\"24px\">\n",
              "    <g>\n",
              "        <path d=\"M19 3H5c-1.1 0-2 .9-2 2v14c0 1.1.9 2 2 2h14c1.1 0 2-.9 2-2V5c0-1.1-.9-2-2-2zM9 17H7v-7h2v7zm4 0h-2V7h2v10zm4 0h-2v-4h2v4z\"/>\n",
              "    </g>\n",
              "</svg>\n",
              "      </button>\n",
              "\n",
              "<style>\n",
              "  .colab-df-quickchart {\n",
              "      --bg-color: #E8F0FE;\n",
              "      --fill-color: #1967D2;\n",
              "      --hover-bg-color: #E2EBFA;\n",
              "      --hover-fill-color: #174EA6;\n",
              "      --disabled-fill-color: #AAA;\n",
              "      --disabled-bg-color: #DDD;\n",
              "  }\n",
              "\n",
              "  [theme=dark] .colab-df-quickchart {\n",
              "      --bg-color: #3B4455;\n",
              "      --fill-color: #D2E3FC;\n",
              "      --hover-bg-color: #434B5C;\n",
              "      --hover-fill-color: #FFFFFF;\n",
              "      --disabled-bg-color: #3B4455;\n",
              "      --disabled-fill-color: #666;\n",
              "  }\n",
              "\n",
              "  .colab-df-quickchart {\n",
              "    background-color: var(--bg-color);\n",
              "    border: none;\n",
              "    border-radius: 50%;\n",
              "    cursor: pointer;\n",
              "    display: none;\n",
              "    fill: var(--fill-color);\n",
              "    height: 32px;\n",
              "    padding: 0;\n",
              "    width: 32px;\n",
              "  }\n",
              "\n",
              "  .colab-df-quickchart:hover {\n",
              "    background-color: var(--hover-bg-color);\n",
              "    box-shadow: 0 1px 2px rgba(60, 64, 67, 0.3), 0 1px 3px 1px rgba(60, 64, 67, 0.15);\n",
              "    fill: var(--button-hover-fill-color);\n",
              "  }\n",
              "\n",
              "  .colab-df-quickchart-complete:disabled,\n",
              "  .colab-df-quickchart-complete:disabled:hover {\n",
              "    background-color: var(--disabled-bg-color);\n",
              "    fill: var(--disabled-fill-color);\n",
              "    box-shadow: none;\n",
              "  }\n",
              "\n",
              "  .colab-df-spinner {\n",
              "    border: 2px solid var(--fill-color);\n",
              "    border-color: transparent;\n",
              "    border-bottom-color: var(--fill-color);\n",
              "    animation:\n",
              "      spin 1s steps(1) infinite;\n",
              "  }\n",
              "\n",
              "  @keyframes spin {\n",
              "    0% {\n",
              "      border-color: transparent;\n",
              "      border-bottom-color: var(--fill-color);\n",
              "      border-left-color: var(--fill-color);\n",
              "    }\n",
              "    20% {\n",
              "      border-color: transparent;\n",
              "      border-left-color: var(--fill-color);\n",
              "      border-top-color: var(--fill-color);\n",
              "    }\n",
              "    30% {\n",
              "      border-color: transparent;\n",
              "      border-left-color: var(--fill-color);\n",
              "      border-top-color: var(--fill-color);\n",
              "      border-right-color: var(--fill-color);\n",
              "    }\n",
              "    40% {\n",
              "      border-color: transparent;\n",
              "      border-right-color: var(--fill-color);\n",
              "      border-top-color: var(--fill-color);\n",
              "    }\n",
              "    60% {\n",
              "      border-color: transparent;\n",
              "      border-right-color: var(--fill-color);\n",
              "    }\n",
              "    80% {\n",
              "      border-color: transparent;\n",
              "      border-right-color: var(--fill-color);\n",
              "      border-bottom-color: var(--fill-color);\n",
              "    }\n",
              "    90% {\n",
              "      border-color: transparent;\n",
              "      border-bottom-color: var(--fill-color);\n",
              "    }\n",
              "  }\n",
              "</style>\n",
              "\n",
              "      <script>\n",
              "        async function quickchart(key) {\n",
              "          const quickchartButtonEl =\n",
              "            document.querySelector('#' + key + ' button');\n",
              "          quickchartButtonEl.disabled = true;  // To prevent multiple clicks.\n",
              "          quickchartButtonEl.classList.add('colab-df-spinner');\n",
              "          try {\n",
              "            const charts = await google.colab.kernel.invokeFunction(\n",
              "                'suggestCharts', [key], {});\n",
              "          } catch (error) {\n",
              "            console.error('Error during call to suggestCharts:', error);\n",
              "          }\n",
              "          quickchartButtonEl.classList.remove('colab-df-spinner');\n",
              "          quickchartButtonEl.classList.add('colab-df-quickchart-complete');\n",
              "        }\n",
              "        (() => {\n",
              "          let quickchartButtonEl =\n",
              "            document.querySelector('#df-eb8fca1e-79c7-47ce-9984-9a38b9eda443 button');\n",
              "          quickchartButtonEl.style.display =\n",
              "            google.colab.kernel.accessAllowed ? 'block' : 'none';\n",
              "        })();\n",
              "      </script>\n",
              "    </div>\n",
              "\n",
              "  <div id=\"id_5e7254d5-a595-4109-adbc-8053c997fc25\">\n",
              "    <style>\n",
              "      .colab-df-generate {\n",
              "        background-color: #E8F0FE;\n",
              "        border: none;\n",
              "        border-radius: 50%;\n",
              "        cursor: pointer;\n",
              "        display: none;\n",
              "        fill: #1967D2;\n",
              "        height: 32px;\n",
              "        padding: 0 0 0 0;\n",
              "        width: 32px;\n",
              "      }\n",
              "\n",
              "      .colab-df-generate:hover {\n",
              "        background-color: #E2EBFA;\n",
              "        box-shadow: 0px 1px 2px rgba(60, 64, 67, 0.3), 0px 1px 3px 1px rgba(60, 64, 67, 0.15);\n",
              "        fill: #174EA6;\n",
              "      }\n",
              "\n",
              "      [theme=dark] .colab-df-generate {\n",
              "        background-color: #3B4455;\n",
              "        fill: #D2E3FC;\n",
              "      }\n",
              "\n",
              "      [theme=dark] .colab-df-generate:hover {\n",
              "        background-color: #434B5C;\n",
              "        box-shadow: 0px 1px 3px 1px rgba(0, 0, 0, 0.15);\n",
              "        filter: drop-shadow(0px 1px 2px rgba(0, 0, 0, 0.3));\n",
              "        fill: #FFFFFF;\n",
              "      }\n",
              "    </style>\n",
              "    <button class=\"colab-df-generate\" onclick=\"generateWithVariable('df_refinedweb')\"\n",
              "            title=\"Generate code using this dataframe.\"\n",
              "            style=\"display:none;\">\n",
              "\n",
              "  <svg xmlns=\"http://www.w3.org/2000/svg\" height=\"24px\"viewBox=\"0 0 24 24\"\n",
              "       width=\"24px\">\n",
              "    <path d=\"M7,19H8.4L18.45,9,17,7.55,7,17.6ZM5,21V16.75L18.45,3.32a2,2,0,0,1,2.83,0l1.4,1.43a1.91,1.91,0,0,1,.58,1.4,1.91,1.91,0,0,1-.58,1.4L9.25,21ZM18.45,9,17,7.55Zm-12,3A5.31,5.31,0,0,0,4.9,8.1,5.31,5.31,0,0,0,1,6.5,5.31,5.31,0,0,0,4.9,4.9,5.31,5.31,0,0,0,6.5,1,5.31,5.31,0,0,0,8.1,4.9,5.31,5.31,0,0,0,12,6.5,5.46,5.46,0,0,0,6.5,12Z\"/>\n",
              "  </svg>\n",
              "    </button>\n",
              "    <script>\n",
              "      (() => {\n",
              "      const buttonEl =\n",
              "        document.querySelector('#id_5e7254d5-a595-4109-adbc-8053c997fc25 button.colab-df-generate');\n",
              "      buttonEl.style.display =\n",
              "        google.colab.kernel.accessAllowed ? 'block' : 'none';\n",
              "\n",
              "      buttonEl.onclick = () => {\n",
              "        google.colab.notebook.generateWithVariable('df_refinedweb');\n",
              "      }\n",
              "      })();\n",
              "    </script>\n",
              "  </div>\n",
              "\n",
              "    </div>\n",
              "  </div>\n"
            ],
            "application/vnd.google.colaboratory.intrinsic+json": {
              "type": "dataframe",
              "variable_name": "df_refinedweb",
              "summary": "{\n  \"name\": \"df_refinedweb\",\n  \"rows\": 200,\n  \"fields\": [\n    {\n      \"column\": \"instruction\",\n      \"properties\": {\n        \"dtype\": \"string\",\n        \"num_unique_values\": 158,\n        \"samples\": [\n          \"What popular tattoo TV show is mentioned in the post?\",\n          \"What did the daughter and her mother do together during the day?\",\n          \"What is the blogger excited about purchasing for the winter season?\"\n        ],\n        \"semantic_type\": \"\",\n        \"description\": \"\"\n      }\n    },\n    {\n      \"column\": \"output\",\n      \"properties\": {\n        \"dtype\": \"string\",\n        \"num_unique_values\": 196,\n        \"samples\": [\n          \" Metallic gold and silver, snake and leopard print, modern, edgy, classic, and suitable for any occasion.\",\n          \" Pastries, salads, sweet pastries, desserts, fruits, pies, and savory dishes like salmon and spinach pie are commonly served in the European cafes mentioned.\",\n          \" Positive and enthusiastic vibes about the arrival of spring, featuring colorful fashion items and accessories from various brands like Bershka, Calzedonia, and Guerlain.\"\n        ],\n        \"semantic_type\": \"\",\n        \"description\": \"\"\n      }\n    }\n  ]\n}"
            }
          },
          "metadata": {},
          "execution_count": 34
        }
      ]
    },
    {
      "cell_type": "code",
      "source": [
        "df_refinedweb.info()"
      ],
      "metadata": {
        "id": "wuTPi9jT3rgN",
        "colab": {
          "base_uri": "https://localhost:8080/"
        },
        "outputId": "539dd47a-5017-4381-e1fb-62c665c515b1"
      },
      "execution_count": null,
      "outputs": [
        {
          "output_type": "stream",
          "name": "stdout",
          "text": [
            "<class 'pandas.core.frame.DataFrame'>\n",
            "RangeIndex: 200 entries, 0 to 199\n",
            "Data columns (total 2 columns):\n",
            " #   Column       Non-Null Count  Dtype \n",
            "---  ------       --------------  ----- \n",
            " 0   instruction  200 non-null    object\n",
            " 1   output       200 non-null    object\n",
            "dtypes: object(2)\n",
            "memory usage: 3.3+ KB\n"
          ]
        }
      ]
    },
    {
      "cell_type": "markdown",
      "source": [
        "### Save as CSV"
      ],
      "metadata": {
        "id": "BGES97r24AJq"
      }
    },
    {
      "cell_type": "code",
      "source": [
        "# Save as CSV\n",
        "csv_file = os.path.join(output_path, \"synthetic_hm_instruction_pos_refinedweb_pure.csv\")"
      ],
      "metadata": {
        "id": "AEwVJ34t32l8"
      },
      "execution_count": null,
      "outputs": []
    },
    {
      "cell_type": "code",
      "source": [
        "df_refinedweb.to_csv(csv_file, index=False)\n",
        "\n",
        "print(\"Files saved to:\", output_path)"
      ],
      "metadata": {
        "id": "XRcpv4PV32hA",
        "colab": {
          "base_uri": "https://localhost:8080/"
        },
        "outputId": "a17f2dc7-1746-4a61-9349-f2150d3332f1"
      },
      "execution_count": null,
      "outputs": [
        {
          "output_type": "stream",
          "name": "stdout",
          "text": [
            "Files saved to: /content/drive/MyDrive/synthetic_prompt_generation_shared\n"
          ]
        }
      ]
    },
    {
      "cell_type": "markdown",
      "source": [
        "-- End of the Notebook --"
      ],
      "metadata": {
        "id": "0IAZbz3ygKaa"
      }
    }
  ]
}