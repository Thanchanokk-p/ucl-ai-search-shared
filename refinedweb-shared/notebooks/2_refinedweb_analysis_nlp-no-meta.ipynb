{
 "cells": [
  {
   "cell_type": "markdown",
   "metadata": {
    "id": "jE_uGEjPk-Xn"
   },
   "source": [
    "This notebook is the following part to analysis of the RefinedWeb, analyzed on Google Colab using GPU T4 to deal with advanced NLP techniques.\n",
    "\n",
    "During this process, the project has not leveraged Spark due to limitation of using Spark **with GPU-based (switching CPU Due to limited GPU), NLP combined with libraries like HuggingFace Transformers and SpaCy, which are not natively supported in distributed Spark environments**.\n",
    "\n",
    "Instead, NLP techniques has been processed using Pandas to fully utilize GPU acceleration for SpaCy, Sentiment Engine (e.g., HuggingFace Transformers, modelling.\n",
    "\n",
    "Remarks;\n",
    "- Intentinally added progress bar due to the long run time monitoring of NLP techniques and to check latency\n",
    "- Apply `spaCy` for syntactic analysis and dependency parsing  \n",
    "- Perform sentiment modeling using transformer-based models  \n",
    "- Test hypotheses based on linguistic structures and sentiment distributions"
   ]
  },
  {
   "cell_type": "markdown",
   "metadata": {
    "id": "CY5TvDRSy_VU"
   },
   "source": [
    "# Table of Contents\n",
    "\n",
    "1. [Notebook Setup](#1-Notebook-Setup)  \n",
    "2. [Advanced Text Processing](#2-Advanced-Text-Processing)  \n",
    "3. [Keyword-based Filtering and Additional Feature Engineering](#3-Keyword-based-Filtering-and-Additional-Feature-Engineering)  \n",
    "4. [Keyword Extraction](#4-Keyword-Extraction)  \n",
    "5. [Sentiment Classification and Modelling](#5-Sentiment-Classification-and-Modelling)  \n",
    "6. [Correlation Analysis](#6-Correlation-Analysis)  \n",
    "7. [Hypothesis Testing](#7-Hypothesis-Testing)"
   ]
  },
  {
   "cell_type": "markdown",
   "metadata": {
    "id": "hTyY1YD7itl-"
   },
   "source": [
    "# 1 Notebook Setup\n"
   ]
  },
  {
   "cell_type": "code",
   "execution_count": null,
   "metadata": {},
   "outputs": [],
   "source": [
    "!pip install -r ../requirements.txt"
   ]
  },
  {
   "cell_type": "markdown",
   "metadata": {},
   "source": [
    "## Numpy Downgrade "
   ]
  },
  {
   "cell_type": "markdown",
   "metadata": {},
   "source": [
    "<div style=\"border: 2px solid #ffcc00; padding: 10px; border-radius: 6px; background-color: #fff9e6;\">\n",
    "  <strong>Note:</strong> Some libraries (like <code>thinc</code>, <code>spaCy</code>, <code>cupy</code>) were <strong>compiled with NumPy 1.x</strong> and are <strong>not yet compatible with NumPy 2.x</strong>. This has been forced to downgrade for this NLP and modelling task. Normally, NumPy 2.0.x is used in the environment.\n",
    "</div>"
   ]
  },
  {
   "cell_type": "code",
   "execution_count": null,
   "metadata": {},
   "outputs": [],
   "source": [
    "!pip install \"numpy<2.0\""
   ]
  },
  {
   "cell_type": "code",
   "execution_count": null,
   "metadata": {
    "id": "seuI59_RFfRQ"
   },
   "outputs": [],
   "source": [
    "# Core Libraries\n",
    "import re\n",
    "import ast\n",
    "import numpy as np\n",
    "import pandas as pd\n",
    "import os\n",
    "import gc\n",
    "import psutil\n",
    "import datetime as dt\n",
    "from itertools import islice\n",
    "\n",
    "# File & Data Utilities\n",
    "from pathlib import Path\n",
    "from collections import Counter\n",
    "\n",
    "# Progress & Debugging\n",
    "from tqdm import tqdm\n",
    "\n",
    "# Visualization\n",
    "import matplotlib.pyplot as plt\n",
    "import seaborn as sns\n",
    "from wordcloud import WordCloud\n",
    "from IPython.display import display, HTML\n",
    "\n",
    "# NLP & Transformers\n",
    "import spacy\n",
    "import torch\n",
    "from transformers import (\n",
    "    pipeline,\n",
    "    AutoTokenizer,\n",
    "    AutoModelForSequenceClassification\n",
    ")\n",
    "\n",
    "# Statistics & Math\n",
    "from scipy.special import softmax\n",
    "from scipy.stats import spearmanr"
   ]
  },
  {
   "cell_type": "code",
   "execution_count": null,
   "metadata": {},
   "outputs": [],
   "source": [
    "# Install spaCy model inside the notebook (only needs to be done once) to save time when build docker image\n",
    "import spacy.cli\n",
    "spacy.cli.download(\"en_core_web_sm\")"
   ]
  },
  {
   "cell_type": "markdown",
   "metadata": {},
   "source": [
    "### Version Check"
   ]
  },
  {
   "cell_type": "code",
   "execution_count": null,
   "metadata": {},
   "outputs": [],
   "source": [
    "print(\"Python:\", sys.version)\n",
    "print(\"*NumPy*:\", np.__version__)\n",
    "print(\"Pandas:\", pd.__version__)"
   ]
  },
  {
   "cell_type": "code",
   "execution_count": null,
   "metadata": {},
   "outputs": [],
   "source": [
    "print(\"Torch:\", torch.__version__)\n",
    "print(\"Transformers:\", transformers.__version__)\n",
    "print(\"spaCy:\", spacy.__version__)\n",
    "print(\"WordCloud:\", wordcloud.__version__)"
   ]
  },
  {
   "cell_type": "markdown",
   "metadata": {},
   "source": [
    "### File path"
   ]
  },
  {
   "cell_type": "code",
   "execution_count": null,
   "metadata": {},
   "outputs": [],
   "source": [
    "# Get and display the current working directory for file verification\n",
    "# The environment is based on a Jupyter container with the default 'jovyan' user, as configured by the server.\n",
    "main_path = os.getcwd()\n",
    "current_directory = os.path.dirname(main_path) + \"/\"\n",
    "current_directory"
   ]
  },
  {
   "cell_type": "code",
   "execution_count": null,
   "metadata": {
    "id": "TeMpvbp8hmSz"
   },
   "outputs": [],
   "source": [
    "df = pd.read_parquet(current_directory + '/data/filtered_data/cleaned_nlp_all_brands_2014_2022.parquet')"
   ]
  },
  {
   "cell_type": "code",
   "execution_count": null,
   "metadata": {
    "colab": {
     "base_uri": "https://localhost:8080/",
     "height": 678
    },
    "id": "MP-RnwGDkyVq",
    "outputId": "89bfc9cd-0858-4dab-ae09-a8133981659d"
   },
   "outputs": [],
   "source": [
    "df.head()"
   ]
  },
  {
   "cell_type": "markdown",
   "metadata": {
    "id": "zsbBaZpZk9Oq"
   },
   "source": [
    "# 2 Advanced Text Processing"
   ]
  },
  {
   "cell_type": "markdown",
   "metadata": {
    "id": "Gk8G_LNhOPRZ"
   },
   "source": [
    "<div style=\"border-left: 4px solid #cc0000; padding: 1em; background-color: #ffe6e6; border-radius: 4px; margin-top: 1em;\">\n",
    "  <strong>⚠️🚫 Warning:</strong><br><br>\n",
    "  This process may take a significant amount of time to complete — potentially up to several days — due to model inference latency, system resource constraints, or unexpected runtime issues (e.g., Java heap space errors, Spark job failures, or kernel crashes) if the instance have no GPU and use only CPU.<br><br>\n",
    "\n",
    "  If sentiment analysis steps are interrupted, rerunning the process may be required from the beginning.<br><br>\n",
    "  <em>Note: The separator cell below is intentionally added to help you pause and verify environment readiness before proceeding.</em>\n",
    "</div>\n"
   ]
  },
  {
   "cell_type": "markdown",
   "metadata": {
    "id": "RQySC05KhvQz"
   },
   "source": [
    "## SpaCy"
   ]
  },
  {
   "cell_type": "markdown",
   "metadata": {
    "id": "3oEHUtVQjX5H"
   },
   "source": [
    "**SpaCy** is a fast, open-source library for advanced **Natural Language Processing (NLP)** in Python. Key Features includes as below;\n",
    "- **Tokenization** – Split text into words\n",
    "- **Lemmatization** – Reduce words to their base form\n",
    "- **Part-of-Speech Tagging** – Identify word types (noun, verb, etc.)\n",
    "- **Named Entity Recognition (NER)** – Detect names, places, dates, etc.\n",
    "- **Dependency Parsing** – Understand sentence structure\n"
   ]
  },
  {
   "cell_type": "markdown",
   "metadata": {
    "id": "At_vJGnml3h9"
   },
   "source": [
    "SpaCy Named Entity Recognition (NER) Labels\n",
    "\n",
    "| Label | Description |\n",
    "|-------|-------------|\n",
    "| PERSON     | People, including fictional |\n",
    "| NORP       | Nationalities, religious and political groups |\n",
    "| FAC        | Facilities (e.g., buildings, airports, highways) |\n",
    "| ORG        | Organizations (e.g., companies, agencies, institutions) |\n",
    "| GPE        | Countries, cities, states (Geopolitical Entities) |\n",
    "| LOC        | Non-GPE locations (e.g., mountain ranges, bodies of water) |\n",
    "| PRODUCT    | Products (e.g., vehicles, devices, food) |\n",
    "| EVENT      | Named events (e.g., World War II, Olympics) |\n",
    "| WORK_OF_ART| Titles of creative works (books, songs, films) |\n",
    "| LAW        | Named legal documents (e.g., treaties, laws) |\n",
    "| LANGUAGE   | Any named language |\n",
    "| DATE       | Absolute or relative dates (e.g., \"2022\", \"next week\") |\n",
    "| TIME       | Times smaller than a day (e.g., \"2 PM\", \"morning\") |\n",
    "| PERCENT    | Percentage values (e.g., \"50%\") |\n",
    "| MONEY      | Monetary values (e.g., \"$100\", \"€20\") |\n",
    "| QUANTITY   | Measurements (e.g., \"10 kg\", \"5 miles\") |\n",
    "| ORDINAL    | First, second, third, etc. |\n",
    "| CARDINAL   | Numerical values (e.g., \"one\", \"100\") |\n"
   ]
  },
  {
   "cell_type": "markdown",
   "metadata": {
    "id": "4J8Kc9xqj62j"
   },
   "source": [
    "## Extract entities; Named Entity Recognition (NER)"
   ]
  },
  {
   "cell_type": "code",
   "execution_count": null,
   "metadata": {
    "colab": {
     "base_uri": "https://localhost:8080/"
    },
    "id": "BLYJ-4A-irOW",
    "outputId": "0497d308-02c4-4b2b-91ae-4964e592d766"
   },
   "outputs": [],
   "source": [
    "nlp = spacy.load(\"en_core_web_sm\")  # Load a small English NLP model from spaCy\n",
    "\n",
    "doc = nlp(\"H&M launched a new clothing line in Paris.\")\n",
    "\n",
    "for ent in doc.ents:\n",
    "    print(ent.text, ent.label_)"
   ]
  },
  {
   "cell_type": "markdown",
   "metadata": {
    "id": "qIIOy6arlVvf"
   },
   "source": [
    "## Sample from DataFrame"
   ]
  },
  {
   "cell_type": "code",
   "execution_count": null,
   "metadata": {
    "colab": {
     "base_uri": "https://localhost:8080/"
    },
    "id": "2oypNBC6j6kV",
    "outputId": "0a06fa9c-7121-4edd-85ea-0674b2e69c08"
   },
   "outputs": [],
   "source": [
    "sample_text = df['content'].iloc[0]  # sample from the first row\n",
    "\n",
    "doc = nlp(sample_text)\n",
    "\n",
    "for ent in doc.ents:\n",
    "    print(ent.text, ent.label_)"
   ]
  },
  {
   "cell_type": "markdown",
   "metadata": {
    "id": "k1bxPOe7oFga"
   },
   "source": [
    "## Apply to all dataframe"
   ]
  },
  {
   "cell_type": "markdown",
   "metadata": {
    "id": "LnHAe5AHt8q9"
   },
   "source": [
    "Apply batch processing to the entire DataFrame using nlp.pipe which is significant faster than .apply"
   ]
  },
  {
   "cell_type": "code",
   "execution_count": null,
   "metadata": {
    "colab": {
     "base_uri": "https://localhost:8080/"
    },
    "id": "bz-D7JJJvmgf",
    "outputId": "19488add-8cbc-4451-ad0c-8eaad698f288"
   },
   "outputs": [],
   "source": [
    "# Check RAM before applying NLP techniques\n",
    "print(f\"Available memory: {psutil.virtual_memory().available / 1e9:.2f} GB\")"
   ]
  },
  {
   "cell_type": "code",
   "execution_count": null,
   "metadata": {
    "colab": {
     "base_uri": "https://localhost:8080/"
    },
    "id": "56U_6W2Fktfs",
    "outputId": "289793ce-e744-4ca4-91dc-99ae1b01e215"
   },
   "outputs": [],
   "source": [
    "texts = df['content'].tolist()\n",
    "entities = []\n",
    "\n",
    "for doc in tqdm(nlp.pipe(texts, batch_size=100), total=len(texts)):  # add tqdm wrapper\n",
    "    entities.append([(ent.text, ent.label_) for ent in doc.ents])\n",
    "\n",
    "df['entities'] = entities"
   ]
  },
  {
   "cell_type": "code",
   "execution_count": null,
   "metadata": {
    "colab": {
     "base_uri": "https://localhost:8080/"
    },
    "id": "lrkMGiaHgVk2",
    "outputId": "1722ced1-b3e9-4371-f518-9a51168d2816"
   },
   "outputs": [],
   "source": [
    "print(df[\"entities\"].iloc[0])"
   ]
  },
  {
   "cell_type": "code",
   "execution_count": null,
   "metadata": {
    "colab": {
     "base_uri": "https://localhost:8080/"
    },
    "id": "8nXt80VygYMT",
    "outputId": "f9ff0690-b26c-4a5d-9ff1-7b7ee7cf1bc1"
   },
   "outputs": [],
   "source": [
    "df[\"entities\"].apply(lambda x: isinstance(x, list) and all(isinstance(i, tuple) and len(i) == 2 for i in x)).all()"
   ]
  },
  {
   "cell_type": "code",
   "execution_count": null,
   "metadata": {
    "colab": {
     "base_uri": "https://localhost:8080/"
    },
    "id": "DobmV-1ggkG9",
    "outputId": "1d9bdecd-4e1b-4ccb-dc38-ada07b478842"
   },
   "outputs": [],
   "source": [
    "# Check data type\n",
    "type(df[\"entities\"].iloc[0])"
   ]
  },
  {
   "cell_type": "code",
   "execution_count": null,
   "metadata": {
    "colab": {
     "base_uri": "https://localhost:8080/"
    },
    "id": "FZjLdo-ThK_c",
    "outputId": "12168b86-ac92-4c01-ac28-c2423df95fdf"
   },
   "outputs": [],
   "source": [
    "df[\"entities\"].iloc[0][0]"
   ]
  },
  {
   "cell_type": "code",
   "execution_count": null,
   "metadata": {
    "colab": {
     "base_uri": "https://localhost:8080/"
    },
    "id": "RZ5FwmiGhLrL",
    "outputId": "58008f0f-6e78-4647-8fb6-557b075cb4d8"
   },
   "outputs": [],
   "source": [
    "type(df[\"entities\"].iloc[0][0])"
   ]
  },
  {
   "cell_type": "markdown",
   "metadata": {
    "id": "v41Uf1oXqU1s"
   },
   "source": [
    "## Text Preprocessing; Lemmatization & Stopwords Removal"
   ]
  },
  {
   "cell_type": "code",
   "execution_count": null,
   "metadata": {
    "colab": {
     "base_uri": "https://localhost:8080/",
     "height": 49,
     "referenced_widgets": [
      "b35e0140d07348b68dc20ad0d2cc5061",
      "fa2c868da70e43ec92cb80002aadfc62",
      "4e7baa502f5e4ce0b9361005026ba2e5",
      "ee8f391e9b694348a2fec416157dd875",
      "6e0288dcd70248169923a96c2a259917",
      "3693905281884712aab95ecd815f41eb",
      "bab234cea16a478cba2cf2afcc46cf8c",
      "7d4d10d3235947c0b6111f02ba5b1785",
      "a262e1b851184387a6d771e0d506d6ef",
      "5a19d5fdd2ea47a7bc354f09958c817c",
      "d46566ab637044edaa6dce854c89e0c1"
     ]
    },
    "id": "VSdW-EFwoV6s",
    "outputId": "f65bd227-8e11-4fe8-b18a-f122457c95ae"
   },
   "outputs": [],
   "source": [
    "# Redefine your function if needed\n",
    "def preprocess_spacy(text):\n",
    "    doc = nlp(text)\n",
    "    return \" \".join([token.lemma_ for token in doc if not token.is_stop and not token.is_punct])\n",
    "\n",
    "# Apply with progress bar\n",
    "df['processed_text'] = df['content'].progress_apply(preprocess_spacy)"
   ]
  },
  {
   "cell_type": "code",
   "execution_count": null,
   "metadata": {
    "id": "AyRqy4jYmDf4"
   },
   "outputs": [],
   "source": [
    "# Replace old content features\n",
    "df[\"content\"] = df[\"processed_text\"]\n",
    "df = df.drop(columns=[\"processed_text\"])"
   ]
  },
  {
   "cell_type": "markdown",
   "metadata": {
    "id": "hcz6Ek-Fsm-2"
   },
   "source": [
    "# 3 Keyword-based Filtering and Additional Feature Engineering"
   ]
  },
  {
   "cell_type": "markdown",
   "metadata": {
    "id": "eeaqOHatIQ1H"
   },
   "source": [
    "Additional feature engineering has been applied for further filtering and analysis, Decided to remove polarity from VADER cause no insight gains"
   ]
  },
  {
   "cell_type": "markdown",
   "metadata": {
    "id": "iTaTv1bZI9zl"
   },
   "source": [
    "## is_relevant"
   ]
  },
  {
   "cell_type": "code",
   "execution_count": null,
   "metadata": {
    "colab": {
     "base_uri": "https://localhost:8080/",
     "height": 49,
     "referenced_widgets": [
      "d1f9bc26f54441c2ae26592f174ea787",
      "6de1792d23e34b22894385287a2ba51d",
      "c96df53fe1e84a3692ff78d5ee06a50c",
      "877e1fee8780410eb82ef0149f2c9843",
      "1443863e4b954c0383a33a23583f863c",
      "d3f3adc10ec949c896de684b340d5932",
      "26fcf53a44794f4f939cc37519cc1c21",
      "4ccbca5215b74c909929a8ff54b64d0a",
      "be1037da87024de2bd63a5dbec2e9e86",
      "d488da69a6bb48f3b42fb02da6593db4",
      "8dc9b20644704c27b8cd7be89c73c839"
     ]
    },
    "id": "Klpz5DeFsrnl",
    "outputId": "5c304c4e-430c-453f-b612-2e844bea185e"
   },
   "outputs": [],
   "source": [
    "# Define domain-specific keywords for filtering retail/fashion-related pages\n",
    "keywords = [\n",
    "    'dress', 'shirt', 't-shirt', 'jeans', 'pants', 'trousers', 'blouse',\n",
    "    'jacket', 'coat', 'skirt', 'shorts', 'sweater', 'cardigan', 'fashion',\n",
    "    'trend', 'style', 'sale', 'discount', 'shop', 'shopping', 'quality',\n",
    "    'cheap', 'price', 'return', 'delivery', 'fit', 'comfortable', 'look'\n",
    "]\n",
    "\n",
    "# Define filtering function\n",
    "def is_relevant(row):\n",
    "    # Convert content to lowercase\n",
    "    content = row['content'].lower()\n",
    "\n",
    "    # Check if any keyword exists in the content\n",
    "    has_keyword = any(kw in content for kw in keywords)\n",
    "\n",
    "    # Content must be longer than 50 characters (filter out short/noise content)\n",
    "    enough_length = len(content) > 50\n",
    "\n",
    "    # Return True only if all conditions are met\n",
    "    return has_keyword and enough_length\n",
    "\n",
    "# Apply filtering to your DataFrame\n",
    "df['is_relevant'] = df.progress_apply(is_relevant, axis=1)\n"
   ]
  },
  {
   "cell_type": "code",
   "execution_count": null,
   "metadata": {
    "id": "TF3v3KPmml7p"
   },
   "outputs": [],
   "source": [
    "# filter only is_relevant page\n",
    "df = df[df[\"is_relevant\"] == True]"
   ]
  },
  {
   "cell_type": "markdown",
   "metadata": {
    "id": "HL2Hhryxfh-e"
   },
   "source": [
    "## Co-mentioned Brands; Extract brands mentioned in the same page"
   ]
  },
  {
   "cell_type": "markdown",
   "metadata": {},
   "source": [
    "The `co_mentioned_brands` feature captures other brand names mentioned on the same page as the target `brand_name`. For example, if `brand_name = 'Primark'` and the page also includes `Zara` and `H&M`, then `co_mentioned_brands = ['Zara', 'H&M']`. The main brand is excluded from this list."
   ]
  },
  {
   "cell_type": "code",
   "execution_count": null,
   "metadata": {
    "colab": {
     "base_uri": "https://localhost:8080/",
     "height": 49,
     "referenced_widgets": [
      "9b681bcc57264d99b5613d8de2bbd3aa",
      "e5594ed89fa047728ad1258c194275dc",
      "61a690bd450b44c098178fe4a8c265d5",
      "c66f485773d348c489c2ff9f7ddf6f98",
      "85d07ea04853454095d6c92e89295e06",
      "78e0618210674578aab1731741367705",
      "092ffaf7f7394afcb0baa0aa6e12ffc3",
      "d45654b535174f7d973cdba0f24e4b35",
      "8debc7611c1f41ce8a182d4e55b136ae",
      "3ae7606311674437b6c93f220a39219a",
      "e41fa159e017439b899b0bc86e039426"
     ]
    },
    "id": "VkXFGjWSl5hh",
    "outputId": "44255372-d65f-4001-f806-17638bd7f9a3"
   },
   "outputs": [],
   "source": [
    "# Define a list of target brands we want to track co-mentions for\n",
    "brands = [\"zara\", \"h&m\", \"primark\"]\n",
    "\n",
    "# Function to extract co-mentioned brands from a list of named entities\n",
    "def extract_co_mentions_from_entities(entities, primary_brand):\n",
    "    mentions = []  # This will hold other brands mentioned in the same text\n",
    "    for name, label in entities:  # Each entity is a (name, label) tuple, like ('primark', 'ORG')\n",
    "        name_lower = name.lower()  # Convert entity name to lowercase for case-insensitive comparison\n",
    "        # Check if the name is one of the known brands, and not the same as the main brand for the row\n",
    "        if name_lower in brands and name_lower != primary_brand.lower():\n",
    "            mentions.append(name_lower)  # Add it to the co-mention list\n",
    "    return list(set(mentions))  # Remove duplicates by converting to a set, then back to a list\n",
    "\n",
    "# Apply the co-mention extraction function to each row of the DataFrame\n",
    "df['co_mentioned_brands'] = df.progress_apply(\n",
    "    lambda row: extract_co_mentions_from_entities(row['entities'], row['brand_name']),\n",
    "    axis=1  # Apply the function row by row\n",
    ")"
   ]
  },
  {
   "cell_type": "code",
   "execution_count": null,
   "metadata": {
    "colab": {
     "base_uri": "https://localhost:8080/",
     "height": 73
    },
    "id": "B0aWhctimiAt",
    "outputId": "040bc625-70c2-4280-f526-8c3375aeee91"
   },
   "outputs": [],
   "source": [
    "# astype(bool) return False for [], None, or NaN\n",
    "df[df[\"co_mentioned_brands\"].astype(bool)].head()"
   ]
  },
  {
   "cell_type": "code",
   "execution_count": null,
   "metadata": {
    "colab": {
     "base_uri": "https://localhost:8080/"
    },
    "id": "sYOFezVnmi84",
    "outputId": "85d7bae9-7426-4ab3-c6c5-58f83fa1549f"
   },
   "outputs": [],
   "source": [
    "# return non-null co_mention_brands\n",
    "count = df[\"co_mentioned_brands\"].astype(bool).sum()\n",
    "print(count)"
   ]
  },
  {
   "cell_type": "markdown",
   "metadata": {
    "id": "FW7uyAQdlbs8"
   },
   "source": [
    "No insight gains from co_mention_brands"
   ]
  },
  {
   "cell_type": "markdown",
   "metadata": {
    "id": "tis1wMZEeaIf"
   },
   "source": [
    "## Convert Data to correct category"
   ]
  },
  {
   "cell_type": "code",
   "execution_count": null,
   "metadata": {
    "id": "S88pQnnHe1i7"
   },
   "outputs": [],
   "source": [
    "# Convert date and time columns\n",
    "df['timestamp'] = pd.to_datetime(df['timestamp'], errors='coerce')\n",
    "df['full_date'] = pd.to_datetime(df['full_date'], errors='coerce')\n",
    "df['time'] = pd.to_datetime(df['time'], errors='coerce').dt.time\n",
    "\n",
    "# Convert numeric columns\n",
    "numeric_cols = ['year', 'month', 'day', 'page_length', 'mention_count']\n",
    "df[numeric_cols] = df[numeric_cols].apply(pd.to_numeric, errors='coerce')\n",
    "\n",
    "# Convert boolean columns\n",
    "df['has_ugc_keyword'] = df['has_ugc_keyword'].astype(bool)\n",
    "df['is_relevant'] = df['is_relevant'].astype(bool)\n",
    "\n",
    "# Remaining object columns should generally stay as string (object) unless a specific conversion is needed\n",
    "\n",
    "# Verify the changes\n",
    "print(df.dtypes)"
   ]
  },
  {
   "cell_type": "markdown",
   "metadata": {
    "id": "XYNyKSdZb1VB"
   },
   "source": [
    "## Save as a checkpoint"
   ]
  },
  {
   "cell_type": "markdown",
   "metadata": {
    "id": "fw818YxgJTpZ"
   },
   "source": [
    "**Note:** After downloading the dataset once, the code block below should be intentionally hidden to prevent unintentional multiple downloads. This is considered a best practice to avoid redundant operations that may consume unnecessary resources or result in duplicate file writes."
   ]
  },
  {
   "cell_type": "code",
   "execution_count": null,
   "metadata": {},
   "outputs": [],
   "source": [
    "os.getcwd()"
   ]
  },
  {
   "cell_type": "markdown",
   "metadata": {},
   "source": [
    "## Define main roots"
   ]
  },
  {
   "cell_type": "code",
   "execution_count": null,
   "metadata": {},
   "outputs": [],
   "source": [
    "current_path = Path.cwd()\n",
    "current_path"
   ]
  },
  {
   "cell_type": "code",
   "execution_count": null,
   "metadata": {},
   "outputs": [],
   "source": [
    "# Define path directly\n",
    "csv_path = current_path.parent / \"data/csv_data/nlp-added-nlp-features-1.csv\"\n",
    "\n",
    "# Save DataFrame\n",
    "df.to_csv(csv_path, index=False)"
   ]
  },
  {
   "cell_type": "code",
   "execution_count": null,
   "metadata": {},
   "outputs": [],
   "source": [
    "# Read CSV\n",
    "df = pd.read_csv(csv_path)"
   ]
  },
  {
   "cell_type": "code",
   "execution_count": null,
   "metadata": {
    "colab": {
     "base_uri": "https://localhost:8080/",
     "height": 398
    },
    "id": "JR7RqkpV0iiC",
    "outputId": "48795c72-4706-4c4d-f8f4-2560bc0ed68a"
   },
   "outputs": [],
   "source": [
    "df.head()\n",
    "df['web_category'].value_counts()"
   ]
  },
  {
   "cell_type": "code",
   "execution_count": null,
   "metadata": {
    "colab": {
     "base_uri": "https://localhost:8080/"
    },
    "id": "3jwM-32304wR",
    "outputId": "0382c633-d55d-4770-8d2c-a03ee7d8d5ed"
   },
   "outputs": [],
   "source": [
    "df.info()"
   ]
  },
  {
   "cell_type": "code",
   "execution_count": null,
   "metadata": {
    "colab": {
     "base_uri": "https://localhost:8080/",
     "height": 607
    },
    "id": "gDRVp1CB04Jl",
    "outputId": "2109ae35-0922-495f-a60d-74944ab8f5aa"
   },
   "outputs": [],
   "source": [
    "# Count web categories and exclude 'Others'\n",
    "category_counts = df['web_category'].value_counts()\n",
    "category_counts = category_counts[category_counts.index != 'Others']\n",
    "\n",
    "# Plot horizontal bar chart\n",
    "plt.figure(figsize=(10, 6))\n",
    "category_counts.plot(kind='barh', color='steelblue', edgecolor='black')\n",
    "plt.title('Document Count by Web Category (Excluding \"Others\")')\n",
    "plt.xlabel('Number of Documents')\n",
    "plt.ylabel('Web Category')\n",
    "plt.gca().invert_yaxis()  # Highest count on top\n",
    "plt.grid(axis='x', linestyle='--', alpha=0.7)\n",
    "plt.tight_layout()\n",
    "plt.show()"
   ]
  },
  {
   "cell_type": "markdown",
   "metadata": {
    "id": "DVbi3LdgnBJE"
   },
   "source": [
    "# 4 Keyword Extraction"
   ]
  },
  {
   "cell_type": "markdown",
   "metadata": {
    "id": "Cj3OvdHWiY8R"
   },
   "source": [
    "## KeyBERT: Keyword Extraction with BERT (Theme-based Insight)\n",
    "\n",
    "KeyBERT is a minimal and easy-to-use keyword extraction technique that leverages BERT embeddings to identify the most relevant keywords or keyphrases in a document. It uses contextual word embeddings from BERT to compare document embeddings with candidate keyword embeddings, selecting those with the highest semantic similarity.\n",
    "\n",
    "### Key Features:\n",
    "- Utilizes pre-trained BERT models for semantic similarity\n",
    "- Extracts keywords that are contextually relevant\n",
    "- Supports customization with different embedding models and parameters"
   ]
  },
  {
   "cell_type": "code",
   "execution_count": null,
   "metadata": {
    "colab": {
     "base_uri": "https://localhost:8080/",
     "height": 455,
     "referenced_widgets": [
      "090fe3e3b65b4157b9c9f9a8dd9b2bf8",
      "d4d1cd66d7cb4a28833d36704577b83c",
      "bd79935134fb478b8a44744bffb793ed",
      "189e806cda494f888bbcd614db863a77",
      "dfd2aef038764931b5d570b7db7554e1",
      "0509f3bf0be14666ae8b779e172bed21",
      "e04400ede8484ab096228ae93d63bc52",
      "41c425cc9f9742658633d3b90a930068",
      "52d33a3981f9450da5326c46c3b47941",
      "7542cb4fedff46eb802f6ff941e66fc1",
      "1628faf5c18441bc99a51196cf34300c",
      "687ae62acf0745bf9347fe75a094a803",
      "ada2fea770044eb4bc121ce51b084e94",
      "602026d850ad46c49bfa83da0e6f1427",
      "40021f4b1a1f4fc7a1fd3ed7bd1e9c11",
      "56f696d9ba2942c6ae50c73584842a3d",
      "25c9aad5f6d641c4a898300a20ef6de8",
      "737a6c82d2e648b2ac5f108c5846a77d",
      "cc49ee51fc5f407f8b42b111e331e869",
      "e0e14de4bec14ddbb946905bb42e84db",
      "830541955e6c47c1b4b471f7174f82a2",
      "ab49d126a2a3407696e56badc2e1d699",
      "0b35854586ef49b98ec371458177b270",
      "19308a1ce73b44149cf3235904d6a6e3",
      "0fa8dbe334b3497b869e2125ca994c60",
      "712a42bc92e44466bb735da8a1886c3e",
      "42354d6adc07478682a5c74b943b6a28",
      "fae6f2efdefe4e2ca5bb3ade2068c627",
      "3c123d5b481142dc9638512a0e3a6eb4",
      "db0cd454434440619c89a3fc20f20571",
      "7f4ef5856c0b4dada21aa358b63edf78",
      "60bc73cc8e34454a811a330fe2c87e01",
      "703414873823404f95492f03a86a574c",
      "04780d06c8cb43a0aa68a662ed95ffae",
      "d8e0d81bc97d481689114c5864ecdd22",
      "931b345cb2104fedb71d4d2ddd06016b",
      "5002b4a2886d4a2cb742d57f0af13af2",
      "2295bc2054a64d9480450634afab947f",
      "9826fe6af8484b40a3003fe7c433dacc",
      "3a607fbb943a498cbbf7742dd537b8ed",
      "120457fd15fe4a78ac7c5afc0618aa3c",
      "c37a24152d46462398a0bb7498287d92",
      "0b3c4b9285354a649fe49fc830dfd712",
      "707a1cbcbfff43929f8dd4cf9f73719c",
      "a284d102537745df9dd73c6f3bd3a957",
      "88f30689aca74d839a87f8ebe9b0ba82",
      "51d331618d824c6fa73ff8c303372d42",
      "7e756566318a47f79c6fc5e69f029a3e",
      "938cb978ae6e4198a197cad56645d22d",
      "da2b3c6f7e8c44cd9a3a1197dd7008d0",
      "a664dca79e5948c989154ab6e2d1e088",
      "9cedb7f6201a4a76ba201fb427224cca",
      "40e2474c54804a3891c5dff54531296b",
      "864d4309dcbc4b33877696c069e5e6a8",
      "de5041acf6ed4e03ab0180b3013124e2",
      "ad0f022246ac44eba80b0594759a381e",
      "6314ccb63a7f47d18d1c4045cc7fa815",
      "ea5b22fe30784378b295d1bb3dc33610",
      "07c24fc5608f4432a9762e41a6105d4f",
      "94f68c51cba84ba09da54b76fb22cba0",
      "4435cf87bad24961bd58bb92dc6ea8aa",
      "315efc905a894986bc556f7d5ae92e66",
      "f1024d9a53694a3dbc64ab2118dacb76",
      "ec86b03865a2470eb7f4f0e3dae12bba",
      "e24439f763e54ebc8bc7496e76dae998",
      "807f2f029cb8401f81d6d75cec2635f6",
      "0617762339d8477b9f109c424f629fb9",
      "1ef0058879e6453d98294684e4a5e571",
      "87649e61735e4b72b4be023f781735a5",
      "f5ca05f3113d4b3b8d7166863fb071f9",
      "ec1e8d32bb2e4bd086fe9cf150c95d4c",
      "0db934c08f844569987507d909518399",
      "1c4198113049416fa032b5b76edab46a",
      "cfd6a03145414c7fa19168dd0f08e469",
      "c9cb21df936547e0a24f9ef7e3f162e5",
      "dab27eedc99f4828b4425bbf1f9527a3",
      "dc22f5eb48e14e359bf8858b3d62c17b",
      "d6576563a5cb49e39b4fbcd0e541a6c4",
      "1dcef9e6cfdb462d810ba8a966e03fda",
      "c17820c5dca74d6c88c6646e56a20a04",
      "67d7b750cd5e4faead437423a97d74ae",
      "ca6df22dd2b0482eb0e76e20b66c4a05",
      "c4fbd0c187b6467d9c82652f2f7b0d20",
      "8e87c60f904644a3b630f92a0c2666eb",
      "6e65d0edc4a840c1988deefe62a2cd18",
      "706a9c85e8944df3a40dff540481cb8a",
      "2d505cfa88224b35a5d0c889ab1fc51c",
      "90bb9e0892164dbfa6007523bfa3bf3a",
      "a9ba90096c1f48208bce8ec64efdbc17",
      "a428981e73d64fcda91d45da67f5e307",
      "594e4f67028d41cdb14fa435b6a8d124",
      "aa39d41d0b3f4c0b9d5123c8a24664b0",
      "64494a54a11a4a75ae8cec85ea482945",
      "3131cda6f10942a7981b6c9251045116",
      "87f2208615b141d8aa5e615f49e576a4",
      "e15e85a9061442009da08b94acaecdba",
      "2e87b98a727e4521994308b7939e2caa",
      "abb0aef3c25d4f6d9fa574145148337e",
      "454c0375519f42c4a9fafcae126d8766",
      "abcf299cfbbc4ce98fbf28697f7acfed",
      "4cae9f3e61c143a1a8e68145d5301ee1",
      "ccc17a292a0a488ca0a61a6bf9fac6cf",
      "a29d2a27823a4580b6d5527e8ea198b5",
      "0595d72a2a7a46e9bda3892b333c39ac",
      "49de1d3b768349dcb35fee1cdee62c89",
      "105fe9bcb656451d8d02d3f487293aec",
      "25d938f52cf74127a7fc99566d37eec1",
      "85eadecca808426c99b186bddbd4d4b0",
      "9a1df364d8934189b95e163a42c84cf8",
      "3b6a4fe56af543c78dc796b10ec668e9",
      "6d6545732dab4403b3d3db65c413dbb6",
      "3c479a844edf41e196d120753834b49f",
      "e15e15a3ad474ca680229793336320ca",
      "11a212ff97d0400e8391eaaa4837fc00",
      "78e3d057321d42579f8a124f55f64749",
      "dcb0fc56418843deb4743372ac806692",
      "8b991a0a2875488ab67d22857e9b9bfa",
      "ae0e9dd19b004531a509706b068ed1de",
      "6f9a964d491d48cb9abe2efc2c37fab4",
      "8944c5d9d0264a1bb0e71fb10a4ffe1c",
      "0ee067a255bd46ac99088268f5db0a4a",
      "07e8f7fe864a4925b8620d43af4b25c2",
      "60d52dd64331433683d9811b5f55779c",
      "1eadb5d828ce443f9144612a87c3e5ea",
      "2af4ab9ddee148c88bde62e52c3b8476",
      "af27ac3a639449968cd4e03da5c711e3",
      "a042bd66c8444b06ad22e7fab0e8045a",
      "ce8529188d3348fc9bb5a8810fb6ec3d",
      "bebd2d070b88464e85af339f8a072b89",
      "06b21db7c51f4db59f73f1f7c80e74ee",
      "0e1b89186e8e4663b48758279fc94011",
      "b71a7ed17d694c87811fa62ef010d4f0"
     ]
    },
    "id": "n5OS7E_4m_MY",
    "outputId": "790aa232-25da-487c-ede4-d577d4472536"
   },
   "outputs": [],
   "source": [
    "kw_model = KeyBERT()\n",
    "\n",
    "df['keywords'] = df['content'].progress_apply(\n",
    "    lambda x: [kw[0] for kw in kw_model.extract_keywords(x, top_n=5)]\n",
    ")"
   ]
  },
  {
   "cell_type": "markdown",
   "metadata": {
    "id": "s9ViZTc4mwHu"
   },
   "source": [
    "## Save as a checkpoint"
   ]
  },
  {
   "cell_type": "markdown",
   "metadata": {
    "id": "or-3W0cBNR0J"
   },
   "source": [
    "**Note:** After downloading the dataset once, the code block below should be intentionally hidden to prevent unintentional multiple downloads. This is considered a best practice to avoid redundant operations that may consume unnecessary resources or result in duplicate file writes."
   ]
  },
  {
   "cell_type": "code",
   "execution_count": null,
   "metadata": {},
   "outputs": [],
   "source": [
    "# Define path directly\n",
    "csv_path = current_path.parent / \"data/csv_data/nlp-added-nlp-features-2.csv\"\n",
    "\n",
    "# Save DataFrame\n",
    "df.to_csv(csv_path, index=False)"
   ]
  },
  {
   "cell_type": "code",
   "execution_count": null,
   "metadata": {},
   "outputs": [],
   "source": [
    "csv_path"
   ]
  },
  {
   "cell_type": "code",
   "execution_count": null,
   "metadata": {
    "id": "MXPeU6ORmfZ5"
   },
   "outputs": [],
   "source": [
    "# Load DataFrame\n",
    "df = pd.read_csv(csv_path)"
   ]
  },
  {
   "cell_type": "code",
   "execution_count": null,
   "metadata": {
    "colab": {
     "base_uri": "https://localhost:8080/",
     "height": 678
    },
    "id": "7itR1u7zkgrS",
    "outputId": "6492622f-6a49-4463-d7e4-bfe7726c8749"
   },
   "outputs": [],
   "source": [
    "df.head()"
   ]
  },
  {
   "cell_type": "markdown",
   "metadata": {
    "id": "VEQyWHZN8UPB"
   },
   "source": [
    "## Add web_category features"
   ]
  },
  {
   "cell_type": "code",
   "execution_count": null,
   "metadata": {
    "id": "uA-JxXwp8UA_"
   },
   "outputs": [],
   "source": [
    "# Define the categorization function\n",
    "def categorize_website(row):\n",
    "    domain = str(row['url_host']).lower()\n",
    "    url = str(row['url']).lower()\n",
    "\n",
    "    if re.search(r'cnn|bbc|nytimes|reuters|guardian|forbes|bloomberg|ft\\.com|cnbc|npr|washingtonpost|wsj', domain) \\\n",
    "       or re.search(r'/news|/breaking|/politics|/world|/article|/headlines', url):\n",
    "        return 'News'\n",
    "\n",
    "    elif re.search(r'/blog|/post|/mypage|/mystory|/user|/forum|/profile|/comment|/thread', url) \\\n",
    "         or re.search(r'wordpress|medium|blogspot|tumblr|livejournal', domain):\n",
    "        return 'Blogs & Community'\n",
    "\n",
    "    elif re.search(r'/shop|/product|/buy|/cart|/checkout|/store|/item|/deal|/brand|/collection|/sale|/pricing', url) \\\n",
    "         or re.search(r'amazon|ebay|bestbuy|alibaba|etsy|shopify|shein|zara|nike|adidas', domain):\n",
    "        return 'E-commerce & Commercial'\n",
    "\n",
    "    elif re.search(r'\\.edu$', domain) \\\n",
    "         or re.search(r'edu|university|college|khanacademy|coursera|edx|mit|harvard|stanford', domain) \\\n",
    "         or re.search(r'/learn|/curriculum|/syllabus|/classroom', url):\n",
    "        return 'Education'\n",
    "\n",
    "    elif re.search(r'netflix|hulu|spotify|imdb|rottentomatoes|disney|youtube|vimeo|soundcloud', domain) \\\n",
    "         or re.search(r'/music|/tv|/movies|/video|/trailer|/playlist|/watch', url):\n",
    "        return 'Media & Entertainment'\n",
    "\n",
    "    elif re.search(r'\\.gov$', domain) \\\n",
    "         or re.search(r'gov|nasa|cdc|whitehouse|senate|house\\.gov|europa\\.eu', domain) \\\n",
    "         or re.search(r'/regulation|/policy|/bill|/law|/agency', url):\n",
    "        return 'Government'\n",
    "\n",
    "    elif re.search(r'reddit|facebook|twitter|tiktok|linkedin|pinterest|instagram|snapchat', domain) \\\n",
    "         or re.search(r'/user|/status|/likes|/shares|/posts', url):\n",
    "        return 'Social'\n",
    "\n",
    "    elif re.search(r'/investor|/financial|/annual-report|/results|/statement|/earnings|/balance|/report|/10-k|/sec', url) \\\n",
    "         or re.search(r'nasdaq|bloomberg|yahoo\\.finance|marketwatch|investopedia', domain):\n",
    "        return 'Financial'\n",
    "\n",
    "    elif re.search(r'wikipedia\\.org', domain):\n",
    "        return 'Education'\n",
    "\n",
    "    elif re.search(r'mozilla\\.org', domain):\n",
    "        return 'Media & Entertainment'\n",
    "\n",
    "    elif re.search(r'archive\\.org', domain):\n",
    "        return 'Education'\n",
    "\n",
    "    elif re.search(r'who\\.int', domain):\n",
    "        return 'Government'\n",
    "\n",
    "    else:\n",
    "        return 'Others'"
   ]
  },
  {
   "cell_type": "code",
   "execution_count": null,
   "metadata": {
    "id": "vizwbPAS8T2m"
   },
   "outputs": [],
   "source": [
    "# Apply the function to create a new column\n",
    "df['web_category'] = df.apply(categorize_website, axis=1)"
   ]
  },
  {
   "cell_type": "markdown",
   "metadata": {
    "id": "b19VJRYZh0tO"
   },
   "source": [
    "## Top N words by brand"
   ]
  },
  {
   "cell_type": "code",
   "execution_count": null,
   "metadata": {
    "colab": {
     "base_uri": "https://localhost:8080/",
     "height": 607
    },
    "id": "IE59A3_4rlFS",
    "outputId": "ffafb492-386f-4e5d-eb5d-f67e3dbe8de3"
   },
   "outputs": [],
   "source": [
    "all_keywords = [kw for kws in df['keywords'] for kw in eval(kws)]\n",
    "keyword_counts = Counter(all_keywords)\n",
    "\n",
    "# top 20 keywords\n",
    "top_keywords = keyword_counts.most_common(20)\n",
    "labels, values = zip(*top_keywords)\n",
    "\n",
    "plt.figure(figsize=(12, 6))\n",
    "plt.barh(labels[::-1], values[::-1])\n",
    "plt.title(\"Top 20 Keywords Overall\")\n",
    "plt.xlabel(\"Frequency\")\n",
    "plt.tight_layout()\n",
    "plt.show()"
   ]
  },
  {
   "cell_type": "markdown",
   "metadata": {
    "id": "9FNsO4A6r-5i"
   },
   "source": [
    "## Filtering out of neutral keyword"
   ]
  },
  {
   "cell_type": "markdown",
   "metadata": {
    "id": "OHC1laDc0zjv"
   },
   "source": [
    "Applied further filtering when added feature is_relevant words"
   ]
  },
  {
   "cell_type": "code",
   "execution_count": null,
   "metadata": {
    "id": "AYydDgtQrx0-"
   },
   "outputs": [],
   "source": [
    "neutral_words = {\n",
    "    'blouse', 'cardigan', 'coat', 'delivery', 'discount', 'dress',\n",
    "    'fashion', 'fit', 'jacket', 'jeans', 'look', 'pants', 'price',\n",
    "    'return', 'sale', 'shirt', 'shop', 'shopping', 'shorts',\n",
    "    'skirt', 'style', 'sweater', 't-shirt', 'trousers', 'trend','outfit', 'wear'\n",
    "}"
   ]
  },
  {
   "cell_type": "code",
   "execution_count": null,
   "metadata": {
    "colab": {
     "base_uri": "https://localhost:8080/",
     "height": 607
    },
    "id": "EzN2OE-Fr-qP",
    "outputId": "6f4f5aab-e0d4-4906-8b98-f41b5c725bd4"
   },
   "outputs": [],
   "source": [
    "# Flatten keywords and filter out neutral words\n",
    "all_keywords = [\n",
    "    kw for kws in df['keywords']\n",
    "    for kw in eval(kws)\n",
    "    if kw not in neutral_words\n",
    "]\n",
    "\n",
    "# Count keywords\n",
    "keyword_counts = Counter(all_keywords)\n",
    "\n",
    "# Get top 20\n",
    "top_keywords = keyword_counts.most_common(20)\n",
    "labels, values = zip(*top_keywords)\n",
    "\n",
    "# Plot\n",
    "plt.figure(figsize=(12, 6))\n",
    "plt.barh(labels[::-1], values[::-1])\n",
    "plt.title(\"Top 20 Keywords Overall (Filtered)\")\n",
    "plt.xlabel(\"Frequency\")\n",
    "plt.tight_layout()\n",
    "plt.show()\n"
   ]
  },
  {
   "cell_type": "code",
   "execution_count": null,
   "metadata": {
    "id": "aC49ZV7gv3ub"
   },
   "outputs": [],
   "source": [
    "brand_keywords = df.groupby('brand_name')['keywords'].apply(\n",
    "    lambda x: [kw for sublist in x for kw in eval(sublist) if kw not in neutral_words]\n",
    ")\n",
    "\n",
    "top_brand_keywords = brand_keywords.apply(lambda x: Counter(x).most_common(20))"
   ]
  },
  {
   "cell_type": "code",
   "execution_count": null,
   "metadata": {
    "colab": {
     "base_uri": "https://localhost:8080/",
     "height": 407
    },
    "id": "lzG4V8KFtTRE",
    "outputId": "37aa7899-9362-42c3-c05a-47bb4348a62a"
   },
   "outputs": [],
   "source": [
    "# Selected brand\n",
    "import seaborn as sns\n",
    "brand = \"Zara\"\n",
    "keywords = dict(top_brand_keywords[brand])\n",
    "\n",
    "plt.figure(figsize=(8,4))\n",
    "sns.barplot(x=list(keywords.values()), y=list(keywords.keys()))\n",
    "plt.title(f\"Top Keywords for {brand}\")\n",
    "plt.xlabel(\"Frequency\")\n",
    "plt.tight_layout()\n",
    "plt.show()"
   ]
  },
  {
   "cell_type": "code",
   "execution_count": null,
   "metadata": {
    "colab": {
     "base_uri": "https://localhost:8080/",
     "height": 1000
    },
    "id": "QW2-ntOduDKL",
    "outputId": "57a96a8b-bf2c-42ec-8bac-6737d4a16a8e"
   },
   "outputs": [],
   "source": [
    "brand = \"Zara\"\n",
    "filtered_keywords = [kw for kw in brand_keywords[brand] if kw not in neutral_words]\n",
    "\n",
    "# Counter to Dataframe\n",
    "keyword_counts = Counter(filtered_keywords)\n",
    "df_top_keywords_zara = pd.DataFrame(keyword_counts.most_common(40), columns=[\"keyword\", \"count\"])\n",
    "\n",
    "df_top_keywords_zara"
   ]
  },
  {
   "cell_type": "code",
   "execution_count": null,
   "metadata": {
    "colab": {
     "base_uri": "https://localhost:8080/",
     "height": 407
    },
    "id": "f5zw_kP5tTE2",
    "outputId": "480192ea-595e-407d-84aa-63409deeb928"
   },
   "outputs": [],
   "source": [
    "# Selected brand\n",
    "brand = \"H&M\"\n",
    "keywords = dict(top_brand_keywords[brand])\n",
    "\n",
    "plt.figure(figsize=(8,4))\n",
    "sns.barplot(x=list(keywords.values()), y=list(keywords.keys()))\n",
    "plt.title(f\"Top Keywords for {brand}\")\n",
    "plt.xlabel(\"Frequency\")\n",
    "plt.tight_layout()\n",
    "plt.show()"
   ]
  },
  {
   "cell_type": "code",
   "execution_count": null,
   "metadata": {
    "colab": {
     "base_uri": "https://localhost:8080/",
     "height": 1000
    },
    "id": "NsYoLhmHuRE0",
    "outputId": "a32ab1e6-8ee6-44d0-b525-9478f3c84c02"
   },
   "outputs": [],
   "source": [
    "brand = \"H&M\"\n",
    "filtered_keywords = [kw for kw in brand_keywords[brand] if kw not in neutral_words]\n",
    "\n",
    "# Counter to Dataframe\n",
    "keyword_counts = Counter(filtered_keywords)\n",
    "df_top_keywords_hm = pd.DataFrame(keyword_counts.most_common(40), columns=[\"keyword\", \"count\"])\n",
    "\n",
    "df_top_keywords_hm"
   ]
  },
  {
   "cell_type": "code",
   "execution_count": null,
   "metadata": {
    "colab": {
     "base_uri": "https://localhost:8080/",
     "height": 407
    },
    "id": "B78-a0XftmL5",
    "outputId": "e91f2338-6e40-48c6-d118-f4bf30e946c6"
   },
   "outputs": [],
   "source": [
    "# Selected brand\n",
    "brand = \"Primark\"\n",
    "keywords = dict(top_brand_keywords[brand])\n",
    "\n",
    "plt.figure(figsize=(8,4))\n",
    "sns.barplot(x=list(keywords.values()), y=list(keywords.keys()))\n",
    "plt.title(f\"Top Keywords for {brand}\")\n",
    "plt.xlabel(\"Frequency\")\n",
    "plt.tight_layout()\n",
    "plt.show()"
   ]
  },
  {
   "cell_type": "code",
   "execution_count": null,
   "metadata": {
    "colab": {
     "base_uri": "https://localhost:8080/",
     "height": 1000
    },
    "id": "4CU4w76AuZ9M",
    "outputId": "a1520d0e-ad5c-4438-c9c9-649728a5b8c1"
   },
   "outputs": [],
   "source": [
    "brand = \"Primark\"\n",
    "filtered_keywords = [kw for kw in brand_keywords[brand] if kw not in neutral_words]\n",
    "\n",
    "# Counter to Dataframe\n",
    "keyword_counts = Counter(filtered_keywords)\n",
    "df_top_keywords_primark = pd.DataFrame(keyword_counts.most_common(40), columns=[\"keyword\", \"count\"])\n",
    "\n",
    "df_top_keywords_primark"
   ]
  },
  {
   "cell_type": "code",
   "execution_count": null,
   "metadata": {
    "id": "2klSuWvi0M1e"
   },
   "outputs": [],
   "source": [
    "# Add a new column named 'brand' to each dataframe to identify the brand before merging\n",
    "df_top_keywords_zara['brand'] = 'Zara'\n",
    "df_top_keywords_hm['brand'] = 'H&M'\n",
    "df_top_keywords_primark['brand'] = 'Primark'\n",
    "\n",
    "# Combine all three dataframes into one, stacking them vertically\n",
    "df_all = pd.concat([\n",
    "    df_top_keywords_zara,\n",
    "    df_top_keywords_hm,\n",
    "    df_top_keywords_primark\n",
    "], ignore_index=True)  # Reset index to avoid duplicate index values\n",
    "\n",
    "# Create a pivot table to see how each keyword is distributed across the brands\n",
    "pivot_df = df_all.pivot_table(\n",
    "    index='keyword',        # Each row represents a unique keyword\n",
    "    columns='brand',        # Each column represents a brand (Zara, H&M, Primark)\n",
    "    values='count',         # Cell values represent the count of the keyword\n",
    "    fill_value=0            # Fill missing values with 0 (i.e., keyword not present for that brand)\n",
    ").reset_index()\n",
    "\n",
    "# Filter: Find keywords that appear in all three brands\n",
    "common_keywords = pivot_df[\n",
    "    (pivot_df['Zara'] > 0) & (pivot_df['H&M'] > 0) & (pivot_df['Primark'] > 0)\n",
    "].sort_values(by=['Zara', 'H&M', 'Primark'], ascending=False)  # Sort to show most common first\n",
    "\n",
    "# Filter: Find keywords that appear in only one brand (i.e., unique to a brand)\n",
    "unique_keywords = pivot_df[\n",
    "    ((pivot_df['Zara'] > 0).astype(int) +      # Convert boolean to int (True → 1, False → 0)\n",
    "     (pivot_df['H&M'] > 0).astype(int) +\n",
    "     (pivot_df['Primark'] > 0).astype(int)) == 1  # Sum should be 1 → means keyword appears in only one brand\n",
    "]"
   ]
  },
  {
   "cell_type": "code",
   "execution_count": null,
   "metadata": {
    "colab": {
     "base_uri": "https://localhost:8080/",
     "height": 796
    },
    "id": "tsPq0KbA2z5j",
    "outputId": "58f886b0-5f74-4289-d4c9-f06163a1f10d"
   },
   "outputs": [],
   "source": [
    "# Create HTML layout with side-by-side display and section headers\n",
    "html_output = f\"\"\"\n",
    "<h2>Keyword Comparison Across Brands</h2>\n",
    "\n",
    "<div style=\"display: flex; gap: 40px;\">\n",
    "\n",
    "  <div style=\"flex: 1;\">\n",
    "    <h3>Common Keywords (All Brands)</h3>\n",
    "    {common_keywords.to_html(index=False)}\n",
    "  </div>\n",
    "\n",
    "  <div style=\"flex: 1;\">\n",
    "    <h3>Unique Keywords (Only One Brand)</h3>\n",
    "    {unique_keywords.to_html(index=False)}\n",
    "  </div>\n",
    "\n",
    "</div>\n",
    "\"\"\"\n",
    "\n",
    "display(HTML(html_output))"
   ]
  },
  {
   "cell_type": "markdown",
   "metadata": {
    "id": "TGMpwEnt1p45"
   },
   "source": [
    "## Heatmap of Top Keywords"
   ]
  },
  {
   "cell_type": "code",
   "execution_count": null,
   "metadata": {
    "colab": {
     "base_uri": "https://localhost:8080/",
     "height": 807
    },
    "id": "q1dkusOf056J",
    "outputId": "5ab170fe-2024-4de3-ba5d-3a36f3d3d871"
   },
   "outputs": [],
   "source": [
    "# Create a long-form DataFrame with brand, keyword, and count\n",
    "brand_keyword_df = pd.DataFrame([\n",
    "    (brand, kw, count)\n",
    "    for brand, kws in brand_keywords.items()  # brand_keywords: dict of brand → list of keywords\n",
    "    for kw, count in Counter(kws).items()     # count keywords for each brand\n",
    "    if kw not in neutral_words                # exclude neutral words\n",
    "], columns=['brand', 'kw', 'count'])          # name the columns\n",
    "\n",
    "# Pivot to make a matrix: rows = keywords, columns = brands, values = counts\n",
    "pivot = brand_keyword_df.pivot_table(\n",
    "    index='kw', columns='brand', values='count', fill_value=0\n",
    ")\n",
    "\n",
    "# Select top 20 keywords by total count across all brands\n",
    "top_keywords = pivot.sum(axis=1).sort_values(ascending=False).head(20).index\n",
    "pivot = pivot.loc[top_keywords]  # Filter to keep only top keywords\n",
    "\n",
    "# Plot heatmap\n",
    "plt.figure(figsize=(10, 8))\n",
    "sns.heatmap(pivot, annot=True, fmt=\".0f\", cmap='YlGnBu')\n",
    "plt.title(\"Top Keywords Across Brands (Filtered)\")\n",
    "plt.ylabel(\"Keyword\")\n",
    "plt.xlabel(\"Brand\")\n",
    "plt.tight_layout()\n",
    "plt.show()\n"
   ]
  },
  {
   "cell_type": "markdown",
   "metadata": {
    "id": "q2cIdqTeine2"
   },
   "source": [
    "## Keyword Word Cloud - Overall top keyword"
   ]
  },
  {
   "cell_type": "code",
   "execution_count": null,
   "metadata": {
    "colab": {
     "base_uri": "https://localhost:8080/",
     "height": 444
    },
    "id": "T4hcz8UEtwqk",
    "outputId": "747162b0-1a2d-4c3f-bf35-fb4df39c26ba"
   },
   "outputs": [],
   "source": [
    "wordcloud = WordCloud(width=800, height=400, background_color='white').generate_from_frequencies(keyword_counts)\n",
    "\n",
    "plt.figure(figsize=(10, 5))\n",
    "plt.imshow(wordcloud, interpolation='bilinear')\n",
    "plt.axis('off')\n",
    "plt.title(\"Keyword Word Cloud\")\n",
    "plt.show()"
   ]
  },
  {
   "cell_type": "markdown",
   "metadata": {
    "id": "1QJQ_uyz9dri"
   },
   "source": [
    "## Keyword Word Cloud per Brand "
   ]
  },
  {
   "cell_type": "markdown",
   "metadata": {},
   "source": [
    "Filtering out common word"
   ]
  },
  {
   "cell_type": "code",
   "execution_count": null,
   "metadata": {
    "colab": {
     "base_uri": "https://localhost:8080/",
     "height": 1000
    },
    "id": "J4XDqYv2in_W",
    "outputId": "2240540a-8373-47c0-8ab3-a7eb448b4e49"
   },
   "outputs": [],
   "source": [
    "# Combine all dataframes\n",
    "df_all = pd.concat([df_top_keywords_zara, df_top_keywords_hm, df_top_keywords_primark], ignore_index=True)\n",
    "\n",
    "# Filter out common keywords\n",
    "df_filtered = df_all[~df_all['keyword'].isin(common_keywords['keyword'])]\n",
    "\n",
    "# Function to generate word cloud per brand\n",
    "def generate_wordcloud(df, brand_name):\n",
    "    brand_df = df[df['brand'] == brand_name]\n",
    "    word_freq = dict(zip(brand_df['keyword'], brand_df['count']))\n",
    "    wc = WordCloud(width=800, height=400, background_color='white').generate_from_frequencies(word_freq)\n",
    "    plt.figure(figsize=(10, 5))\n",
    "    plt.imshow(wc, interpolation='bilinear')\n",
    "    plt.title(f'Word Cloud for {brand_name} (Excluding Common Keywords)', fontsize=14)\n",
    "    plt.axis('off')\n",
    "    plt.show()\n",
    "\n",
    "# Generate word clouds\n",
    "for brand in ['Zara', 'H&M', 'Primark']:\n",
    "    generate_wordcloud(df_filtered, brand)\n"
   ]
  },
  {
   "cell_type": "markdown",
   "metadata": {
    "id": "FlsvW_1rsncr"
   },
   "source": [
    "# 5 Sentiment Classification and Modelling"
   ]
  },
  {
   "cell_type": "markdown",
   "metadata": {
    "id": "NKqXt-g3tBMq"
   },
   "source": [
    "Due to polarity from VADER is too weak, this time the project will replace with sentiment engine from Hugging face (more Advanced techniques to see the sentiment from each brand). In this project, two sentiment model have been used\n",
    "\n",
    "Methods\n",
    "- Uses Hugging Face Transformers\n",
    "- Loads a pretrained model via Hugging Face Hub\n",
    "- Applies pipeline() to abstract away tokenizer/model handling\n",
    "- Returns label and score per input\n",
    "- Commonly used in production-ready sentiment tasks"
   ]
  },
  {
   "cell_type": "markdown",
   "metadata": {
    "id": "SXrS1oaZVNCr"
   },
   "source": [
    "## First Sentiment Model"
   ]
  },
  {
   "cell_type": "markdown",
   "metadata": {
    "id": "1yfM1EPvoVZ8"
   },
   "source": [
    "#### Sentiment Engine; [Twitter-roBERTa-base for Sentiment Analysis - UPDATED (2022)](https://huggingface.co/cardiffnlp/twitter-roberta-base-sentiment-latest)\n",
    "**`cardiffnlp/twitter-roberta-base-sentiment-latest`**\n",
    "\n",
    "This model is a fine-tuned version of the RoBERTa-base architecture specifically adapted for sentiment analysis on social media content, particularly Twitter. It has been trained on approximately 124 million tweets collected between January 2018 and December 2021. The model was fine-tuned using the TweetEval benchmark, which is widely used for evaluating sentiment classification tasks on short-form and informal text for retail sentiment.\n",
    "\n",
    "\n",
    "- Fine-tuned on approximately 124 million tweets, making it well-suited for short, informal, and noisy web content.\n",
    "- Trained using the TweetEval benchmark, widely accepted for sentiment classification.\n",
    "- Adaptable to a variety of content types including editorial, blog posts, and general online discourse.\n",
    "- Seamlessly integrates with the Hugging Face `pipeline()` for efficient implementation.\n",
    "- The RoBERTa-based model is broad generalization capabilities and training on diverse social media content. Possible to apply more to non-review data\n",
    "\n",
    "\n",
    "### Key Characteristics\n",
    "\n",
    "- **Base Architecture**: RoBERTa-base (pretrained transformer model by Facebook AI)\n",
    "- **Training Data**: ~124M tweets (Jan 2018 – Dec 2021)\n",
    "- **Task**: Sentiment analysis (text classification)\n",
    "- **Fine-tuning Benchmark**: TweetEval\n",
    "- **Language**: English\n",
    "\n",
    "### Label Mapping\n",
    "\n",
    "The model produces sentiment scores using the following label mapping:\n",
    "\n",
    "- `0` → Negative  \n",
    "- `1` → Neutral  \n",
    "- `2` → Positive\n",
    "\n",
    "When used via the Hugging Face `transformers` pipeline with `pipeline(\"sentiment-analysis\", model=...)`, it automatically maps these internal numeric labels to descriptive class names (e.g., `label='positive'`).\n",
    "\n",
    "\n",
    "\n",
    "With Confidence features in RoBERTa Sentiment Classification when using Hugging Face sentiment models like `cardiffnlp/twitter-roberta-base-sentiment-latest`,  \n",
    "each prediction includes confidence score: the model’s confidence in its prediction (also called **confidence probability**)\n",
    "\n",
    "### Use Cases\n",
    "\n",
    "- Sentiment classification for brand monitoring\n",
    "- Social media opinion mining\n",
    "- Public sentiment tracking over time\n",
    "- Fine-grained analysis in retail, politics, and events\n",
    "\n",
    "### Integration\n",
    "\n",
    "This model is fully integrated into the Hugging Face `transformers` library and can be loaded with:\n"
   ]
  },
  {
   "cell_type": "markdown",
   "metadata": {
    "id": "zGi9mfW3NPC8"
   },
   "source": [
    "## Limitations\n",
    "\n",
    "- **English-Only Support**  \n",
    "  The model is trained exclusively on English tweets and does not support other languages.\n",
    "\n",
    "- **Limited Contextual Understanding**  \n",
    "  It may misinterpret sarcasm, irony, idioms, or other nuanced language elements.\n",
    "\n",
    "- **Training Data Constraints**  \n",
    "  Based on tweets from 2018–2021; may not reflect recent slang or language trends.\n",
    "\n",
    "- **Token Limitations**  \n",
    "  Can only process up to 512 tokens per input. Longer texts are truncated, possibly omitting important context.\n",
    "\n",
    "- **Preprocessing Requirements**  \n",
    "  Inputs should replace usernames with `@user` and URLs with `http` for accurate results, matching the format used during training.\n",
    "\n",
    "- **Domain Specificity**  \n",
    "  Optimized for Twitter content—performance may degrade on data outside this domain (e.g., formal text, customer reviews).\n",
    "\n"
   ]
  },
  {
   "cell_type": "code",
   "execution_count": null,
   "metadata": {
    "id": "RuCdgoPGMDuv"
   },
   "outputs": [],
   "source": [
    "# Copy the original DataFrame\n",
    "df_robert = df.copy()"
   ]
  },
  {
   "cell_type": "code",
   "execution_count": null,
   "metadata": {
    "colab": {
     "base_uri": "https://localhost:8080/",
     "height": 1000,
     "referenced_widgets": [
      "d9a1863d0c0e45ad89a62538359808fb",
      "4525d46422fc4fd39f0118672477ae00",
      "19a61a2031e34e58a8469dedfea3862a",
      "a9c6e417a9dd472babce76afe9a857a4",
      "5a4f00c18039475aad544d2e9500a39d",
      "366d5d48628e4810abf5ee829def8200"
     ]
    },
    "id": "yskyKrDNXir0",
    "outputId": "d68b481b-34c0-4751-85e1-b66ffa56a45e"
   },
   "outputs": [],
   "source": [
    "# Load model and tokenizer\n",
    "model_name = \"cardiffnlp/twitter-roberta-base-sentiment-latest\"\n",
    "tokenizer = AutoTokenizer.from_pretrained(model_name)\n",
    "model = AutoModelForSequenceClassification.from_pretrained(model_name)\n",
    "\n",
    "# Define sentiment labels\n",
    "sentiment_labels = ['negative', 'neutral', 'positive']\n",
    "\n",
    "# Function to get sentiment and confidence\n",
    "def get_sentiment_with_confidence(text):\n",
    "    text = str(text).strip().replace('\\n', ' ')\n",
    "    encoded_input = tokenizer(text, return_tensors='pt', truncation=True, max_length=512)\n",
    "    with torch.no_grad():\n",
    "        output = model(**encoded_input)\n",
    "    scores = output.logits[0].numpy()\n",
    "    probs = softmax(scores)\n",
    "    pred_index = probs.argmax()\n",
    "    return sentiment_labels[pred_index], float(probs[pred_index])\n",
    "\n",
    "# Apply function with progress bar\n",
    "tqdm.pandas(desc=\"Processing sentiments\")\n",
    "df_robert[['sentiment', 'confidence']] = df_robert['content'].progress_apply(\n",
    "    lambda x: pd.Series(get_sentiment_with_confidence(x))\n",
    ")\n",
    "\n",
    "# View result\n",
    "print(df_robert[['content', 'sentiment', 'confidence']])\n"
   ]
  },
  {
   "cell_type": "code",
   "execution_count": null,
   "metadata": {
    "colab": {
     "base_uri": "https://localhost:8080/",
     "height": 678
    },
    "id": "QP1ju7B6IrEQ",
    "outputId": "89892ed8-7da1-4b90-eeb2-8f8cefa52ca0"
   },
   "outputs": [],
   "source": [
    "df_robert.head()"
   ]
  },
  {
   "cell_type": "markdown",
   "metadata": {},
   "source": [
    "## Save as a checkpoint"
   ]
  },
  {
   "cell_type": "markdown",
   "metadata": {},
   "source": [
    "**Note:** After downloading the dataset once, the code block below should be intentionally hidden to prevent unintentional multiple downloads. This is considered a best practice to avoid redundant operations that may consume unnecessary resources or result in duplicate file writes."
   ]
  },
  {
   "cell_type": "code",
   "execution_count": null,
   "metadata": {
    "id": "cni44gkZBzc5"
   },
   "outputs": [],
   "source": [
    "# Define path directly\n",
    "csv_path = current_path.parent /  \"data/csv_data/robert-sentiment.csv\"\n",
    "\n",
    "# Save DataFrame\n",
    "df_robert.to_csv(csv_path, index=False)"
   ]
  },
  {
   "cell_type": "code",
   "execution_count": null,
   "metadata": {
    "id": "8Np9u_fWByfH"
   },
   "outputs": [],
   "source": [
    "df_robert = pd.read_csv(csv_path)"
   ]
  },
  {
   "cell_type": "code",
   "execution_count": null,
   "metadata": {
    "id": "1uXUoQVrBNkr"
   },
   "outputs": [],
   "source": [
    "# Filtering only high confidence score\n",
    "df_filtered_robert = df_robert[df_robert['confidence'] >= 0.75].copy()"
   ]
  },
  {
   "cell_type": "code",
   "execution_count": null,
   "metadata": {
    "colab": {
     "base_uri": "https://localhost:8080/",
     "height": 695
    },
    "id": "G-PBTXvOBNbO",
    "outputId": "28a633a9-625e-4400-8896-e043c3d1439a"
   },
   "outputs": [],
   "source": [
    "df_filtered_robert.head()"
   ]
  },
  {
   "cell_type": "markdown",
   "metadata": {
    "id": "r4tLRp71OtY-"
   },
   "source": [
    "## Sentiment Distribution Per Brand"
   ]
  },
  {
   "cell_type": "code",
   "execution_count": null,
   "metadata": {
    "colab": {
     "base_uri": "https://localhost:8080/",
     "height": 238
    },
    "id": "O-tixDggOagV",
    "outputId": "9bb77738-790c-4e47-9ddc-ff9b73c3faf9"
   },
   "outputs": [],
   "source": [
    "# Filter out neutral sentiment\n",
    "df_pos_neg = df_filtered_robert[df_filtered_robert['sentiment'].isin(['positive', 'negative'])]\n",
    "\n",
    "# Count sentiment per brand\n",
    "counts = df_pos_neg.groupby(['brand_name', 'sentiment']).size().reset_index(name='count')\n",
    "\n",
    "# Compute total counts per brand\n",
    "counts['total'] = counts.groupby('brand_name')['count'].transform('sum')\n",
    "\n",
    "# Compute percentage\n",
    "counts['percentage'] = (counts['count'] / counts['total']) * 100\n",
    "\n",
    "# Final summary table\n",
    "summary_df = counts[['brand_name', 'sentiment', 'percentage']]\n",
    "summary_df"
   ]
  },
  {
   "cell_type": "markdown",
   "metadata": {
    "id": "b2HrK7dKO_jO"
   },
   "source": [
    "## Average Confidence Per Sentiment Type"
   ]
  },
  {
   "cell_type": "code",
   "execution_count": null,
   "metadata": {
    "colab": {
     "base_uri": "https://localhost:8080/"
    },
    "id": "SGUKb5CSOaSD",
    "outputId": "844eaf74-3343-400b-a054-15dab4535ae9"
   },
   "outputs": [],
   "source": [
    "# Create pivot table for average confidence score\n",
    "avg_confidence_table = df_filtered_robert.pivot_table(\n",
    "    index='sentiment',\n",
    "    columns='brand_name',\n",
    "    values='confidence',\n",
    "    aggfunc='mean'\n",
    ")\n",
    "\n",
    "# Format as percentage with 2 decimal places\n",
    "avg_confidence_table = (avg_confidence_table * 100).applymap(lambda x: f\"{x:.2f}%\")\n",
    "\n",
    "# Display the table\n",
    "print(\"Average Confidence Score per Sentiment and Brand:\\n\")\n",
    "print(avg_confidence_table)"
   ]
  },
  {
   "cell_type": "markdown",
   "metadata": {
    "id": "WGUsndZEa44E"
   },
   "source": [
    "## NSS score by brand\n"
   ]
  },
  {
   "cell_type": "code",
   "execution_count": null,
   "metadata": {
    "colab": {
     "base_uri": "https://localhost:8080/"
    },
    "id": "flvHT81Qaq6k",
    "outputId": "a65d813f-b0ff-464f-b1db-69393bc47fa7"
   },
   "outputs": [],
   "source": [
    "# Count sentiment occurrences per brand\n",
    "sentiment_counts = df_filtered_robert.groupby(['brand_name', 'sentiment']).size().unstack(fill_value=0)\n",
    "\n",
    "# Calculate total mentions per brand\n",
    "sentiment_counts['total'] = sentiment_counts.sum(axis=1)\n",
    "\n",
    "# Calculate percentages\n",
    "sentiment_counts['%positive'] = (sentiment_counts.get('positive', 0) / sentiment_counts['total']) * 100\n",
    "sentiment_counts['%negative'] = (sentiment_counts.get('negative', 0) / sentiment_counts['total']) * 100\n",
    "\n",
    "# Calculate NSS\n",
    "sentiment_counts['NSS'] = sentiment_counts['%positive'] - sentiment_counts['%negative']\n",
    "\n",
    "# Format NSS as percentage with 2 decimal places\n",
    "sentiment_counts['NSS'] = sentiment_counts['NSS'].map(lambda x: f\"{x:.2f}%\")\n",
    "\n",
    "# Display only NSS per brand\n",
    "nss_scores = sentiment_counts[['NSS']]\n",
    "\n",
    "print(\"Net Sentiment Score (NSS) per Brand:\\n\")\n",
    "print(nss_scores)"
   ]
  },
  {
   "cell_type": "markdown",
   "metadata": {
    "id": "Ymg5oZlNPLYX"
   },
   "source": [
    "## Brand-wise Confidence Score Distribution"
   ]
  },
  {
   "cell_type": "code",
   "execution_count": null,
   "metadata": {
    "colab": {
     "base_uri": "https://localhost:8080/",
     "height": 507
    },
    "id": "n9sO5dXKPCQ7",
    "outputId": "667826a8-d13f-482f-f10d-07520b117630"
   },
   "outputs": [],
   "source": [
    "plt.figure(figsize=(10, 5))\n",
    "sns.boxplot(data=df_filtered_robert, x='brand_name', y='confidence', hue='sentiment')\n",
    "plt.title('Confidence Score Distribution by Brand and Sentiment')\n",
    "plt.xlabel('Brand')\n",
    "plt.ylabel('Confidence Score')\n",
    "plt.tight_layout()\n",
    "plt.show()"
   ]
  },
  {
   "cell_type": "markdown",
   "metadata": {
    "id": "F7-c7QkFPM35"
   },
   "source": [
    "No insigth gains from this sentiment engine"
   ]
  },
  {
   "cell_type": "markdown",
   "metadata": {
    "id": "xTS353lr7aCy"
   },
   "source": [
    "## Second Sentiment Model"
   ]
  },
  {
   "cell_type": "markdown",
   "metadata": {
    "id": "2XUKEWhkM1Ti"
   },
   "source": [
    "\n",
    "**`DistilBERT Clothing Review Model`**\n",
    "\n",
    "- Specifically trained on customer reviews from a structured dataset. Even it seems suitable but the content features are generic one and unstructured text\n",
    "- Optimized for opinion mining in product feedback rather than unstructured website or article content.\n",
    "- Narrow domain scope may lead to reduced performance on broader fashion-related discussions."
   ]
  },
  {
   "cell_type": "markdown",
   "metadata": {
    "id": "46WRDrN7NHOv"
   },
   "source": [
    "## Limitations of `ongaunjie/distilbert-cloths-sentiment`\n",
    "\n",
    "- **Domain-specific training**  \n",
    "  The model is fine-tuned on women's clothing reviews, so it may underperform on other domains such as electronics or general social media text.\n",
    "\n",
    "- **Limited label set**  \n",
    "  The sentiment classification is limited to three categories: `positive`, `neutral`, and `negative`. It does not support nuanced sentiment like sarcasm, mixed emotion, or multi-aspect sentiment.\n",
    "\n",
    "- **Short to medium text**  \n",
    "  It performs best on short to medium-length reviews (1-3 sentences). Long product descriptions or multi-topic paragraphs may be truncated or misclassified.\n",
    "\n",
    "- **English-only**  \n",
    "  The model is trained on English text and may not generalize well to other languages or multilingual content.\n",
    "\n",
    "- **No aspect-based sentiment**  \n",
    "  It does not identify sentiment by product features (e.g., \"quality is good but size is small\"), which is often required in fine-grained retail analysis.\n",
    "\n",
    "- **Batch inference may vary**  \n",
    "  On large batches or very noisy input, the model may return inconsistent results or fail unless preprocessed properly.\n"
   ]
  },
  {
   "cell_type": "code",
   "execution_count": null,
   "metadata": {
    "id": "8CDEGCQ3Ndfg"
   },
   "outputs": [],
   "source": [
    "# Copy the original DataFrame\n",
    "df_bert = df.copy()"
   ]
  },
  {
   "cell_type": "code",
   "execution_count": null,
   "metadata": {
    "colab": {
     "base_uri": "https://localhost:8080/",
     "height": 519,
     "referenced_widgets": [
      "9c87804b9e73443bb191fe5804436f99",
      "e7cb731ab729443f95a6806332eff60d",
      "189635ac27754f39bee999e42d845138",
      "b2c9484be7c741838ac238e030531ce4",
      "ddd1257230ce4da19716c814b80fd179",
      "89736e01f6404af5ba5ba5fd0d4804bd",
      "c71928cb87b748039fbd59aa8fbba292",
      "59adba0ce4a84363be671570c75b1104",
      "bf211eb8c47c4a71aba78eb92aac6aa7",
      "d1c037d9d3d141bd8c23cff47ece8d44",
      "00d427b4697c4bd3af220794dacc091c",
      "5b7fefe98e2f44ea985c1022e82e64d4",
      "9971360e9d374020890567cad112b44a",
      "ab9823ac510442a2aeaa030ad817429c",
      "e9e8e0753d044bfca73bf41ba241d477",
      "8f69c0b56a054532823637fe580a4ae5",
      "cfb5a23fa97a450e9730099d3f1d14b0",
      "f0884abdd9e14f8f93da18d1e9df6535",
      "4c60464413b84131a47ef2ef79efecbb",
      "334bf7fe424e4556b86cdf2bebd455ff",
      "86416f9059d5462eb225481f42465d53",
      "16993d0f64184265a96216cae5dda4f1",
      "15f68f4e1ded4ae58dbb554446f1d10d",
      "d114d7580c794ea58049b1b36d67ad68",
      "02d2acd02ddc43918acbd989c2e08b40",
      "960afdb83d4a45c784c10610bf0f05d0",
      "67c7826693db4819b874a97873cf340b",
      "c89e990bdec44a519fa273536d3b4d4a",
      "b26531f04aab4016a74384b383ecabe8",
      "ec4b4ad16e144fbaaf2f34ac7b46f496",
      "6fd41a74bc3c428bab1969b434080848",
      "1d03c6f6499a46528eeb84d95fbc2488",
      "100b61a1c75b40c5b58bf7ec2aeb66f3",
      "13cf78bc4c3a4a0aa269ab025e60b289",
      "1bf10d434e7d445ebd729de1e65a508b",
      "205a2e155854427fad55d8e73eb42dfb",
      "e0098863afbc4cd0bb13296cdb224f8b",
      "62ce7595ce694bf58d82d6dbf97344fb",
      "5711570f3ae44596b31037205eb3868e",
      "5ed7d0bbb79141ba8198004e837c9310",
      "eaa158379a774ed594f5e3fd5157c144",
      "5451eb80d75040e4bcea8ebae1d22f77",
      "938f16e87eed49f28ff8418476c3e6f0",
      "bfe608542f4b4c5ea553b72805f28460",
      "1731a0b15c544dfcbd8e27ed0d5e0551",
      "c82733a247fc4fca8010f37c70da92f7",
      "23cce37ad6e34f12a53138f9e468eb39",
      "81ccf17a54ef41ada4034a30bce2888e",
      "b9730340d1304542a5f3e7af30edc7d5",
      "1f1c8cb41754413a934051517554b8cd",
      "f88269b8c601415d86bcef2cec4433d3",
      "285495b403f44a5888abbe31907f8fea",
      "91e621ea24264ad49e9025fc0082aee0",
      "c2c5bb9ed13042e0b9857a3cfeb56160",
      "09992a25175a43f2b7271e013260794d",
      "0fd8e8bd72944b03aa74bac888b1fa5c",
      "2c2a91f9116a4a84b23f9e5b720fced2",
      "4031c677ed5a4aa2967f149cc13cdd7c",
      "406df43ab611486f885d02407c37a13a",
      "12bf58d778564304a829a3f223b117d6",
      "e4e76e9a3a324244a8a83890448edc09",
      "e1536a1449b24dd7ba55df35617990a6",
      "3c3a97d37b9444b48fc3750461004dcc",
      "36660e9b2bfb42de827cd628fdead69b",
      "890160fbd9a645709b230162f7593da5",
      "a7a262d97309492293e425f5445be77a",
      "0c3e57dfe1bb4246b83674ecc592b118",
      "a8ed049731df48d89d83154865830fe0",
      "41fe82d0436340c1b0b51e242e4e1bde",
      "41ed2e9a681046fbb7e713b18a9235dc",
      "20d45805d6f7413694aee2fb00ca2288",
      "e7ea2d4fbb9d4b4ebb04de2f1a49666e",
      "4e1b611ab0f0408bb130fbf4f0e33e45",
      "1fe41bf158614ed1aeab3ff725102247",
      "c0d96b63fdd74ac5b69444cb30a5e549",
      "d005f44946134de99e15a06cdc13a11f",
      "3c9470c981ab4e56b95a72ead72cd308"
     ]
    },
    "id": "40f3W6g8YVm-",
    "outputId": "22adbe41-2bc4-4ffb-f8bc-e30b4daa0715"
   },
   "outputs": [],
   "source": [
    "# Load model and tokenizer\n",
    "model_name = \"ongaunjie/distilbert-cloths-sentiment\"\n",
    "tokenizer = AutoTokenizer.from_pretrained(model_name)\n",
    "model = AutoModelForSequenceClassification.from_pretrained(model_name)\n",
    "\n",
    "# Get sentiment labels from the model config\n",
    "sentiment_labels = model.config.id2label.values()\n",
    "\n",
    "# Function to get sentiment and confidence\n",
    "def get_sentiment_with_confidence(text):\n",
    "    text = str(text).strip().replace('\\n', ' ')\n",
    "    encoded_input = tokenizer(text, return_tensors='pt', truncation=True, max_length=512)\n",
    "    with torch.no_grad():\n",
    "        output = model(**encoded_input)\n",
    "    scores = output.logits[0].numpy()\n",
    "    probs = softmax(scores)\n",
    "    pred_index = probs.argmax()\n",
    "    return list(sentiment_labels)[pred_index], float(probs[pred_index])\n",
    "\n",
    "# Apply with progress bar\n",
    "tqdm.pandas(desc=\"Analyzing sentiment\")\n",
    "df_bert[['sentiment', 'confidence']] = df_bert['content'].progress_apply(\n",
    "    lambda x: pd.Series(get_sentiment_with_confidence(x))\n",
    ")\n",
    "\n",
    "# Display results\n",
    "print(df_bert[['content', 'sentiment', 'confidence']])\n"
   ]
  },
  {
   "cell_type": "markdown",
   "metadata": {},
   "source": [
    "## Save as a checkpoint"
   ]
  },
  {
   "cell_type": "markdown",
   "metadata": {},
   "source": [
    "**Note:** After downloading the dataset once, the code block below should be intentionally hidden to prevent unintentional multiple downloads. This is considered a best practice to avoid redundant operations that may consume unnecessary resources or result in duplicate file writes."
   ]
  },
  {
   "cell_type": "code",
   "execution_count": null,
   "metadata": {},
   "outputs": [],
   "source": [
    "# Define path directly\n",
    "csv_path = current_path.parent /  \"data/csv_data/bert-sentiment.csv\"\n",
    "\n",
    "# Save DataFrame\n",
    "df_bert.to_csv(csv_path, index=False)"
   ]
  },
  {
   "cell_type": "code",
   "execution_count": null,
   "metadata": {},
   "outputs": [],
   "source": [
    "# Load DataFrame\n",
    "df_bert = pd.read_csv(csv_path)"
   ]
  },
  {
   "cell_type": "code",
   "execution_count": null,
   "metadata": {
    "colab": {
     "base_uri": "https://localhost:8080/",
     "height": 678
    },
    "id": "O2cuGlSs9sw7",
    "outputId": "625dec87-6688-429a-9656-6c70f93756c9"
   },
   "outputs": [],
   "source": [
    "df_bert.head()"
   ]
  },
  {
   "cell_type": "markdown",
   "metadata": {
    "id": "1FAm1MlpbHh6"
   },
   "source": [
    "**Further Hypothesis**: The sentiment score derived from the pretrained dataset might be positively correlated with the LLM's brand preference as expressed in its responses."
   ]
  },
  {
   "cell_type": "code",
   "execution_count": null,
   "metadata": {
    "id": "oMKvefBUdTxG"
   },
   "outputs": [],
   "source": [
    "# Filtering only high confidence score\n",
    "df_filtered_bert = df_bert[df_bert['confidence'] >= 0.75].copy()"
   ]
  },
  {
   "cell_type": "code",
   "execution_count": null,
   "metadata": {
    "colab": {
     "base_uri": "https://localhost:8080/",
     "height": 678
    },
    "id": "AQz-FSZKdiJS",
    "outputId": "e1c8348e-76e2-4ebb-c711-da9c597a5272"
   },
   "outputs": [],
   "source": [
    "df_filtered_bert.head()"
   ]
  },
  {
   "cell_type": "code",
   "execution_count": null,
   "metadata": {
    "colab": {
     "base_uri": "https://localhost:8080/",
     "height": 442
    },
    "id": "9Pdqi4KfeFSw",
    "outputId": "c4339bec-2cd7-42bc-e55b-4817962a83c4"
   },
   "outputs": [],
   "source": [
    "df_unique_sentiment = df_filtered_bert.drop_duplicates(subset='sentiment')\n",
    "df_unique_sentiment"
   ]
  },
  {
   "cell_type": "code",
   "execution_count": null,
   "metadata": {
    "id": "dCPpnQ0OeCd9"
   },
   "outputs": [],
   "source": [
    "# Sentiment Categories: Neutral [0], Negative [1], Positive [2]\n",
    "label_mapping = {\n",
    "    'LABEL_0': 'neutral',\n",
    "    'LABEL_1': 'negative',\n",
    "    'LABEL_2': 'positive'\n",
    "}\n",
    "\n",
    "df_filtered_bert['sentiment'] = df_filtered_bert['sentiment'].map(label_mapping)"
   ]
  },
  {
   "cell_type": "code",
   "execution_count": null,
   "metadata": {
    "colab": {
     "base_uri": "https://localhost:8080/",
     "height": 982
    },
    "id": "r3mJNA9qew2q",
    "outputId": "d2c6648a-6c06-44b0-a4f2-0fa9f5318698"
   },
   "outputs": [],
   "source": [
    "df_filtered_bert"
   ]
  },
  {
   "cell_type": "markdown",
   "metadata": {
    "id": "yOOOB8vBdPu2"
   },
   "source": [
    "# Sentiment Distribution per Brand"
   ]
  },
  {
   "cell_type": "code",
   "execution_count": null,
   "metadata": {
    "colab": {
     "base_uri": "https://localhost:8080/",
     "height": 238
    },
    "id": "5dG3NVNrdPkN",
    "outputId": "6c3c320b-c8a7-4742-ad26-1e0dfe1d31e8"
   },
   "outputs": [],
   "source": [
    "# Filter out neutral sentiment\n",
    "df_pos_neg = df_filtered_bert[df_filtered_bert['sentiment'].isin(['positive', 'negative'])]\n",
    "\n",
    "# Count sentiment per brand\n",
    "counts = df_pos_neg.groupby(['brand_name', 'sentiment']).size().reset_index(name='count')\n",
    "\n",
    "# Compute total counts per brand\n",
    "counts['total'] = counts.groupby('brand_name')['count'].transform('sum')\n",
    "\n",
    "# Compute percentage\n",
    "counts['percentage'] = (counts['count'] / counts['total']) * 100\n",
    "\n",
    "# Final summary table\n",
    "summary_df_bert = counts[['brand_name', 'sentiment', 'percentage']]\n",
    "summary_df_bert"
   ]
  },
  {
   "cell_type": "markdown",
   "metadata": {
    "id": "1xb5f4WxdPNd"
   },
   "source": [
    "# Average Confidence per Sentiment Type"
   ]
  },
  {
   "cell_type": "code",
   "execution_count": null,
   "metadata": {
    "colab": {
     "base_uri": "https://localhost:8080/"
    },
    "id": "RoYSa50odPEn",
    "outputId": "458baf61-897a-4d70-ed06-58df9509fc71"
   },
   "outputs": [],
   "source": [
    "# Create pivot table for average confidence score\n",
    "avg_confidence_table = df_filtered_bert.pivot_table(\n",
    "    index='sentiment',\n",
    "    columns='brand_name',\n",
    "    values='confidence',\n",
    "    aggfunc='mean'\n",
    ")\n",
    "\n",
    "# Format as percentage with 2 decimal places\n",
    "avg_confidence_table = (avg_confidence_table * 100).applymap(lambda x: f\"{x:.2f}%\")\n",
    "\n",
    "# Display the table\n",
    "print(\"Average Confidence Score per Sentiment and Brand:\\n\")\n",
    "print(avg_confidence_table)"
   ]
  },
  {
   "cell_type": "markdown",
   "metadata": {
    "id": "bID6GCULrz7P"
   },
   "source": [
    "## Filter rows with high confidence"
   ]
  },
  {
   "cell_type": "code",
   "execution_count": null,
   "metadata": {
    "colab": {
     "base_uri": "https://localhost:8080/",
     "height": 293
    },
    "id": "H5zbpwPUIjaf",
    "outputId": "11898d93-73ad-4b15-99b5-aa1bf01c4b85"
   },
   "outputs": [],
   "source": [
    "df_filtered_bert.head()"
   ]
  },
  {
   "cell_type": "markdown",
   "metadata": {
    "id": "XNDp9lMUAI3V"
   },
   "source": [
    "## Change page length to categorical data"
   ]
  },
  {
   "cell_type": "markdown",
   "metadata": {
    "id": "JqQPwprHAURx"
   },
   "source": [
    "The numerical of page length still be kept"
   ]
  },
  {
   "cell_type": "code",
   "execution_count": null,
   "metadata": {
    "id": "nbESVPRvAHc7"
   },
   "outputs": [],
   "source": [
    "df['page_length_bin'] = pd.qcut(df['page_length'], q=5, labels=['very_short', 'short', 'medium', 'long', 'very_long'])"
   ]
  },
  {
   "cell_type": "code",
   "execution_count": null,
   "metadata": {
    "colab": {
     "base_uri": "https://localhost:8080/",
     "height": 707
    },
    "id": "uBtTi88WAsbm",
    "outputId": "2d4f596d-7e4b-43d8-ab9d-915fe357e068"
   },
   "outputs": [],
   "source": [
    "df.head()"
   ]
  },
  {
   "cell_type": "code",
   "execution_count": null,
   "metadata": {
    "colab": {
     "base_uri": "https://localhost:8080/"
    },
    "id": "d_JAUu6nEbQK",
    "outputId": "e7553cd7-d2f3-42f4-a436-171446303fdf"
   },
   "outputs": [],
   "source": [
    "df.info()"
   ]
  },
  {
   "cell_type": "markdown",
   "metadata": {
    "id": "6wxxfpMg0Piu"
   },
   "source": [
    "# 6 Correlation Analysis"
   ]
  },
  {
   "cell_type": "code",
   "execution_count": null,
   "metadata": {
    "colab": {
     "base_uri": "https://localhost:8080/",
     "height": 707
    },
    "id": "j121WOoi7S0K",
    "outputId": "7a5ad0e8-474b-4b5b-95dd-5d35804908f9"
   },
   "outputs": [],
   "source": [
    "df.head()"
   ]
  },
  {
   "cell_type": "code",
   "execution_count": null,
   "metadata": {
    "id": "60XFAVi_Absm"
   },
   "outputs": [],
   "source": [
    "df_corr = df.copy()"
   ]
  },
  {
   "cell_type": "code",
   "execution_count": null,
   "metadata": {
    "id": "Uj3VsN8J0PXE"
   },
   "outputs": [],
   "source": [
    "# Drop irrelevant columns to do one-hot encoding\n",
    "drop_cols = ['url', 'content', 'timestamp', 'full_date', 'time', 'month', 'day',\n",
    "             'url_host', 'url_domain', 'url_path', 'entities', 'is_relevant', 'keywords', 'co_mentioned_brands']\n",
    "df_corr.drop(columns=drop_cols, inplace=True)"
   ]
  },
  {
   "cell_type": "code",
   "execution_count": null,
   "metadata": {
    "id": "N96CciY02aL_"
   },
   "outputs": [],
   "source": [
    "# One-hot encode 'brand_name', 'web_category', 'url_tld'\n",
    "df_corr = pd.get_dummies(df_corr, columns=['brand_name', 'web_category', 'url_tld', 'page_length_bin', 'year'], drop_first=True)"
   ]
  },
  {
   "cell_type": "code",
   "execution_count": null,
   "metadata": {
    "colab": {
     "base_uri": "https://localhost:8080/"
    },
    "id": "JSNJZoUI2faT",
    "outputId": "ebd448ca-1c89-403b-a402-10e9d2cb1938"
   },
   "outputs": [],
   "source": [
    "# Check data type\n",
    "print(df_corr.dtypes)"
   ]
  },
  {
   "cell_type": "code",
   "execution_count": null,
   "metadata": {
    "colab": {
     "base_uri": "https://localhost:8080/",
     "height": 607
    },
    "id": "NJRK1TUY4R2e",
    "outputId": "c908b0a6-7a43-4111-dc4b-b2796b1b7054"
   },
   "outputs": [],
   "source": [
    "correlation_matrix = df_corr.corr()\n",
    "\n",
    "# Identify brand and web feature columns\n",
    "brand_cols = [col for col in df_corr.columns if col.startswith('brand_name_')]\n",
    "web_feature_cols = [col for col in df_corr.columns if any(prefix in col for prefix in ['web_category_', 'url_tld_', 'page_length', 'mention_count', 'has_ugc_keyword', 'page_length_bin'])]\n",
    "\n",
    "# Extract correlation values between brands and web features\n",
    "filtered_corr = correlation_matrix.loc[brand_cols, web_feature_cols]\n",
    "\n",
    "# Keep only values with abs(correlation) > 0.1\n",
    "threshold = 0.1\n",
    "high_corr_only = filtered_corr.where(filtered_corr.abs() > threshold)\n",
    "\n",
    "# Drop rows and columns where all values are NaN (i.e., below threshold)\n",
    "high_corr_only.dropna(how='all', axis=0, inplace=True)\n",
    "high_corr_only.dropna(how='all', axis=1, inplace=True)\n",
    "\n",
    "# Plot only the high-correlation values\n",
    "plt.figure(figsize=(12, 6))\n",
    "sns.heatmap(high_corr_only, annot=True, cmap='coolwarm', fmt=\".2f\", cbar=True)\n",
    "plt.title(f'Correlation (|r| > {threshold}): Brand Name vs Web Characteristics')\n",
    "plt.tight_layout()\n",
    "plt.show()\n"
   ]
  },
  {
   "cell_type": "code",
   "execution_count": null,
   "metadata": {
    "colab": {
     "base_uri": "https://localhost:8080/",
     "height": 607
    },
    "id": "MG1jof0C4I-n",
    "outputId": "fe37b48a-e7dd-4084-fdff-63e0b4e78de1"
   },
   "outputs": [],
   "source": [
    "# Compute correlation\n",
    "correlation_matrix = df_corr.corr()\n",
    "\n",
    "# Identify brand and web feature columns\n",
    "brand_cols = [col for col in df_corr.columns if col.startswith('brand_name_')]\n",
    "web_feature_cols = [col for col in df_corr.columns if any(prefix in col for prefix in ['web_category_', 'url_tld_'])]\n",
    "\n",
    "# Filter correlation matrix\n",
    "filtered_corr = correlation_matrix.loc[brand_cols, web_feature_cols]\n",
    "\n",
    "# Only keep columns with at least one correlation > threshold (absolute)\n",
    "threshold = 0.1\n",
    "important_corr = filtered_corr.loc[:, (filtered_corr.abs() > threshold).any()]\n",
    "\n",
    "# Visualize the filtered matrix\n",
    "plt.figure(figsize=(12, 6))\n",
    "sns.heatmap(important_corr, annot=True, cmap='coolwarm', fmt=\".2f\")\n",
    "plt.title('Filtered Correlation: Brand Name vs Significant Web Characteristics')\n",
    "plt.tight_layout()\n",
    "plt.show()\n"
   ]
  },
  {
   "cell_type": "markdown",
   "metadata": {
    "id": "xZ-kWzfklUif"
   },
   "source": [
    "# 7 Hypothesis Testing"
   ]
  },
  {
   "cell_type": "markdown",
   "metadata": {
    "id": "SMSijpPYi-Py"
   },
   "source": [
    "As monitoring DeepSeek response and match the pattern to gain insights. The Framework of Hypothesis has been developed to analyze the pretrained dataset"
   ]
  },
  {
   "cell_type": "markdown",
   "metadata": {
    "id": "WYFNWEkhmVg5"
   },
   "source": [
    "### Correlation Methods Used For hypothesis testing\n",
    "\n",
    "| Method     | Use Case                                    | Assumptions                            |\n",
    "|------------|---------------------------------------------|-----------------------------------------|\n",
    "| **Pearson**  | Measures linear correlation between numeric values | Requires normal distribution and linearity |\n",
    "| **Spearman** | Measures correlation based on rank order     | **Non-parametric** (no distribution assumptions) |\n",
    "\n",
    "### Why Spearman?\n",
    "\n",
    "Given the **small sample size (n = 3 brands)** and the potential **non-linear** nature of relationships, **Spearman is more appropriate**. It evaluates whether increases in one variable are associated with consistent changes in the ranking of the other — making it **robust and conservative** for this use case.\n"
   ]
  },
  {
   "cell_type": "markdown",
   "metadata": {
    "id": "stnia-v1b_RQ"
   },
   "source": [
    "## Generic Prompt for brand ranking and Specific brand provided"
   ]
  },
  {
   "cell_type": "markdown",
   "metadata": {
    "id": "eG5Z5zEMiY8f"
   },
   "source": [
    "<div style=\"\n",
    "    background-color: #e7f3fe;\n",
    "    border-left: 6px solid #2196F3;\n",
    "    padding: 20px;\n",
    "    font-family: Arial, sans-serif;\n",
    "    font-size: 20px;\">\n",
    "    💡 <b>Note:</b> Due to small sample size (n=3), <code>p-value</code> is mostly not statistically significant. statistical significance cannot be established. The observed correlation (r = ...) should be interpreted as exploratory insight rather than conclusive evidence.\n",
    "\n",
    "</div>\n"
   ]
  },
  {
   "cell_type": "markdown",
   "metadata": {
    "id": "w_cj56BDrVr2"
   },
   "source": [
    "**Disclaimer: This time, the p-value will not be considered due to extreamely small sample size,  Correlation results are exploratory and serve to illustrate directional trends, not confirm causal or predictive relationships.**"
   ]
  },
  {
   "cell_type": "markdown",
   "metadata": {
    "id": "tLLcKs9r18t1"
   },
   "source": [
    "## Hypothesis testing 1 - Token Frequency (sum of mention_count) Correlates with Rank Stability"
   ]
  },
  {
   "cell_type": "markdown",
   "metadata": {
    "id": "Sx_2_6a8iwVI"
   },
   "source": [
    "Goal; Online presence measuring via Token count (mention_count) impact the higher LLM ranking"
   ]
  },
  {
   "cell_type": "markdown",
   "metadata": {
    "id": "Jddu4NHQn8NN"
   },
   "source": [
    "With General asking in LLM for brand ranking (DeepSeek), Below are categorized as the top rank. This will be the fixed rank as testing until the prompt changes"
   ]
  },
  {
   "cell_type": "code",
   "execution_count": null,
   "metadata": {
    "id": "WzX2Y9XLKmUo"
   },
   "outputs": [],
   "source": [
    "df_hypo = df.copy()"
   ]
  },
  {
   "cell_type": "code",
   "execution_count": null,
   "metadata": {
    "id": "CDNBYphmn_bv"
   },
   "outputs": [],
   "source": [
    "# Define static ranking: lower rank = better - as try with DeepSeep Response\n",
    "static_rank_data = [\n",
    "    (\"Zara\", 1),\n",
    "    (\"H&M\", 2),\n",
    "    (\"Primark\", 3)\n",
    "]"
   ]
  },
  {
   "cell_type": "markdown",
   "metadata": {
    "id": "CTJUAIZ7X244"
   },
   "source": [
    "**Assumption**; Brands that appear frequently in pretraining data, measured via total token/mention count, may be ranked higher by LLMs, regardless of the surrounding context or semantic framing.\n",
    "\n",
    "**Metric Used**:\n",
    "- mention_count (sum) = proxy for token frequency\n",
    "- avg_rank = fixed brand ranking (lower is better)"
   ]
  },
  {
   "cell_type": "code",
   "execution_count": null,
   "metadata": {
    "colab": {
     "base_uri": "https://localhost:8080/",
     "height": 144
    },
    "id": "mhJv0ymzhBfe",
    "outputId": "d8adee4e-246d-468a-953a-4f241503d6bf"
   },
   "outputs": [],
   "source": [
    "# Group by brand_name to get total mentions and number of rows with each brand\n",
    "mention_counts_df = df_hypo.groupby(\"brand_name\").agg(\n",
    "    mention_count=('mention_count', 'sum'),\n",
    "    brand_occurrence_count=('brand_name', 'count')\n",
    ").reset_index()\n",
    "\n",
    "mention_counts_df"
   ]
  },
  {
   "cell_type": "code",
   "execution_count": null,
   "metadata": {
    "colab": {
     "base_uri": "https://localhost:8080/",
     "height": 524
    },
    "id": "1iG0_JtvlSG9",
    "outputId": "7c76807f-9039-4cd7-8187-86b557ec370c"
   },
   "outputs": [],
   "source": [
    "# Static Rank info\n",
    "rank_df = pd.DataFrame(static_rank_data, columns=[\"brand_name\", \"avg_rank\"])\n",
    "\n",
    "# Merge mention counts with rank info\n",
    "joined_df = pd.merge(mention_counts_df, rank_df, on=\"brand_name\")\n",
    "\n",
    "\n",
    "# Spearman Correlation: Total Mention Count vs LLM Rank\n",
    "corr_s1, pval_s1 = spearmanr(joined_df[\"mention_count\"], joined_df[\"avg_rank\"])\n",
    "print(f\"Spearman Correlation (mention count vs rank): r = {corr_s1:.3f}, p = {pval_s1:.3f}\")\n",
    "\n",
    "# Scatter plot\n",
    "plt.figure(figsize=(8, 5))\n",
    "sns.scatterplot(data=joined_df, x=\"mention_count\", y=\"avg_rank\", s=120, color=\"royalblue\")\n",
    "\n",
    "# Annotate points\n",
    "for _, row in joined_df.iterrows():\n",
    "    plt.text(row[\"mention_count\"], row[\"avg_rank\"] + 0.1, row[\"brand_name\"], ha='center', fontsize=10)\n",
    "\n",
    "plt.title(\"Total Mention Count vs Brand Rank\", fontsize=14)\n",
    "plt.xlabel(\"Total Mention Count\", fontsize=12)\n",
    "plt.ylabel(\"Average Rank (Lower = Better)\", fontsize=12)\n",
    "plt.gca().invert_yaxis()  # Lower rank (1) at the top\n",
    "plt.grid(True)\n",
    "plt.tight_layout()\n",
    "plt.show()"
   ]
  },
  {
   "cell_type": "markdown",
   "metadata": {
    "id": "ymr7gnFOZKeb"
   },
   "source": [
    "### Hypothesis Conclusion: Token Frequency vs Brand Rank\n",
    "The analysis shows a moderate negative Spearman correlation (r = -0.500, p = 0.667) between total mention count and brand rank  where Zara consistently appeared as the most prominent brand, followed by H&M and Primark. The result suggests a trend where brands mentioned more frequently across web sources tend to receive higher ranking in LLM outputs.\n"
   ]
  },
  {
   "cell_type": "markdown",
   "metadata": {
    "id": "dFk7dyh408Kv"
   },
   "source": [
    "# Bias Analysis"
   ]
  },
  {
   "cell_type": "markdown",
   "metadata": {
    "id": "qb4WshXLKBGv"
   },
   "source": [
    "## Hypothesis testing 2 - Formal vs Informal Content Bias (Unsolved; high irrelevant page)"
   ]
  },
  {
   "cell_type": "markdown",
   "metadata": {
    "id": "6JtCZGl-icS1"
   },
   "source": [
    "Goal; Output leans toward formal tone, likely from news/research. LLM might rank the higher rank for those brands that seems formal tone or on the reliable web page"
   ]
  },
  {
   "cell_type": "markdown",
   "metadata": {
    "id": "bBi9ey8FKQPe"
   },
   "source": [
    "For this hypothesis, the method is to use web_category to classify formal/informal, Calculate the proportion of content that is formal (e.g., News, Financial) vs informal (e.g., Blogs, Community)."
   ]
  },
  {
   "cell_type": "code",
   "execution_count": null,
   "metadata": {
    "colab": {
     "base_uri": "https://localhost:8080/",
     "height": 175
    },
    "id": "ZzUHeHNCKwru",
    "outputId": "6d9a8ff7-8f11-4c7f-96b7-ffdf94ef32f1"
   },
   "outputs": [],
   "source": [
    "df_hypo.groupby(['brand_name', 'web_category'])['mention_count'].sum().unstack(fill_value=0)"
   ]
  },
  {
   "cell_type": "code",
   "execution_count": null,
   "metadata": {
    "colab": {
     "base_uri": "https://localhost:8080/",
     "height": 1000
    },
    "id": "Ps1gnwlu0-Xu",
    "outputId": "6373eb51-7655-4207-99b5-a4616a8c79d2"
   },
   "outputs": [],
   "source": [
    "df_hypo.head()"
   ]
  },
  {
   "cell_type": "code",
   "execution_count": null,
   "metadata": {
    "id": "IggvKZl4dmLz"
   },
   "outputs": [],
   "source": [
    "# Catogorize formal and informal cats\n",
    "formal_cats = ['Education', 'Financial', 'Government', 'News']\n",
    "informal_cats = ['Blogs & Community', 'Media & Entertainment', 'Social', 'Others', 'E-commerce & Commercial']"
   ]
  },
  {
   "cell_type": "code",
   "execution_count": null,
   "metadata": {
    "colab": {
     "base_uri": "https://localhost:8080/"
    },
    "id": "MymeDt3cJOw2",
    "outputId": "ebc17d06-d994-4a5d-f150-ebea6da81d2b"
   },
   "outputs": [],
   "source": [
    "total_docs = len(df_hypo)\n",
    "formal_docs = df_hypo['web_category'].isin(formal_cats).sum()\n",
    "formal_ratio = formal_docs / total_docs\n",
    "print(f\"Formal category ratio: {formal_ratio:.2%}\")"
   ]
  },
  {
   "cell_type": "code",
   "execution_count": null,
   "metadata": {
    "id": "dq44DDAedo7c"
   },
   "outputs": [],
   "source": [
    "# Group the original DataFrame to get formal mentions only\n",
    "df_formal_mentions = df_hypo[df_hypo['web_category'].isin(formal_cats)]\n",
    "\n",
    "# Sum formal mentions per brand\n",
    "df_formal_sum = df_formal_mentions.groupby('brand_name')['mention_count'].sum()\n",
    "\n",
    "# Compute % share for each brand\n",
    "df_formal_pct = df_formal_sum / df_formal_sum.sum() * 100"
   ]
  },
  {
   "cell_type": "code",
   "execution_count": null,
   "metadata": {
    "colab": {
     "base_uri": "https://localhost:8080/",
     "height": 210
    },
    "id": "4z9d0FD9_vSr",
    "outputId": "763f2b07-16fc-4d32-9473-10d2c6669727"
   },
   "outputs": [],
   "source": [
    "df_formal_pct.head()"
   ]
  },
  {
   "cell_type": "code",
   "execution_count": null,
   "metadata": {
    "id": "wDURC3Iq3yMc"
   },
   "outputs": [],
   "source": [
    "pd.set_option('display.max_columns', None)  # Show all columns"
   ]
  },
  {
   "cell_type": "code",
   "execution_count": null,
   "metadata": {
    "colab": {
     "base_uri": "https://localhost:8080/",
     "height": 507
    },
    "id": "Fegmf1_qd280",
    "outputId": "92e606e2-cedc-43c2-d6bc-409b861b30b4"
   },
   "outputs": [],
   "source": [
    "# Visualize the Ratios\n",
    "plt.figure(figsize=(6, 5))\n",
    "df_formal_pct.plot(kind='bar', title='Share of Formal Mentions by Brand', ylabel='Percentage (%)')\n",
    "plt.xticks(rotation=0)\n",
    "plt.tight_layout()\n",
    "plt.show()"
   ]
  },
  {
   "cell_type": "code",
   "execution_count": null,
   "metadata": {
    "colab": {
     "base_uri": "https://localhost:8080/"
    },
    "id": "sBEARlVFpfVe",
    "outputId": "e8c6fc21-8166-4655-93fe-6c4039eb6286"
   },
   "outputs": [],
   "source": [
    "static_rank_data"
   ]
  },
  {
   "cell_type": "code",
   "execution_count": null,
   "metadata": {
    "id": "dXbQiWJGAzuC"
   },
   "outputs": [],
   "source": [
    "pd.set_option('display.max_colwidth', None)"
   ]
  },
  {
   "cell_type": "markdown",
   "metadata": {
    "id": "OC_XU0KmiKRK"
   },
   "source": [
    "### Human Evaluation Check"
   ]
  },
  {
   "cell_type": "markdown",
   "metadata": {
    "id": "5g0UwevIiMn0"
   },
   "source": [
    "The page return are irrelevant to the sentiment analysis"
   ]
  },
  {
   "cell_type": "code",
   "execution_count": null,
   "metadata": {
    "colab": {
     "base_uri": "https://localhost:8080/",
     "height": 1000
    },
    "id": "-geTPdf8BZ2h",
    "outputId": "46d2cb17-f402-4be6-bd3b-cb3e32eb6d7f"
   },
   "outputs": [],
   "source": [
    "df_formal_mentions[\n",
    "    df_formal_mentions['web_category'].isin([\"Education\", \"Financial\", \"Government\"])\n",
    "][['url_host', 'url_domain','content']].head(10)"
   ]
  },
  {
   "cell_type": "code",
   "execution_count": null,
   "metadata": {
    "colab": {
     "base_uri": "https://localhost:8080/",
     "height": 1000
    },
    "id": "BuFBlTm08QDK",
    "outputId": "8fd53b46-89dd-48c1-bb20-07f77c2ee0c9"
   },
   "outputs": [],
   "source": [
    "df_formal_mentions[\n",
    "    (df_formal_mentions['web_category'].isin([\"Education\", \"Financial\", \"Government\"])) &\n",
    "    (df_formal_mentions['brand_name'] == \"Zara\")\n",
    "][['brand_name', 'content']].head(10)"
   ]
  },
  {
   "cell_type": "markdown",
   "metadata": {
    "id": "XcSsHvSSBdLU"
   },
   "source": [
    "## Filtering relevant page"
   ]
  },
  {
   "cell_type": "code",
   "execution_count": null,
   "metadata": {
    "colab": {
     "base_uri": "https://localhost:8080/",
     "height": 53
    },
    "id": "GdDeT3kX-63w",
    "outputId": "5ba60129-cf89-4dee-ef7a-02e011ff367a"
   },
   "outputs": [],
   "source": [
    "fashion_keywords = [\n",
    "    \"dress\", \"clothing\", \"style\", \"fashion\", \"outfit\", \"wear\",\n",
    "    \"collection\", \"trend\", \"runway\", \"model\", \"lookbook\", \"wardrobe\",\n",
    "    \"design\", \"brand\", \"shop\", \"retail\"\n",
    "]\n",
    "\n",
    "def contains_zara_and_3_fashion_words(text):\n",
    "    if not isinstance(text, str):\n",
    "        return False\n",
    "    text_lower = text.lower()\n",
    "    zara_match = re.search(r'\\bzara\\b', text_lower)\n",
    "    count = sum(1 for word in fashion_keywords if word in text_lower)\n",
    "    return bool(zara_match) and count >= 3\n",
    "\n",
    "filtered_df = df_formal_mentions[\n",
    "    df_formal_mentions['content'].apply(contains_zara_and_3_fashion_words)\n",
    "][['brand_name', 'content']]\n",
    "\n",
    "# Show all text in 'content'\n",
    "pd.set_option('display.max_colwidth', None)\n",
    "filtered_df.head(3)"
   ]
  },
  {
   "cell_type": "markdown",
   "metadata": {},
   "source": [
    "There is no relevant page when doing heavier filtering once again"
   ]
  },
  {
   "cell_type": "markdown",
   "metadata": {
    "id": "3DjqGIsrLkNE"
   },
   "source": [
    "## Hypothesis 3: Location Bias from TLD"
   ]
  },
  {
   "cell_type": "markdown",
   "metadata": {
    "id": "8N6fR7hKLtrw"
   },
   "source": [
    "Goal: Are certain brands more common in .uk, .fr, etc.?, is there any Bias in Location in LLM response"
   ]
  },
  {
   "cell_type": "code",
   "execution_count": null,
   "metadata": {
    "id": "wnzaGhYqLyuQ"
   },
   "outputs": [],
   "source": [
    "crosstab_df = pd.crosstab(df_hypo['brand_name'], df_hypo['url_tld'], normalize='index')"
   ]
  },
  {
   "cell_type": "markdown",
   "metadata": {
    "id": "jetGB7vEK23V"
   },
   "source": [
    "### Heatmap for TLD"
   ]
  },
  {
   "cell_type": "code",
   "execution_count": null,
   "metadata": {
    "colab": {
     "base_uri": "https://localhost:8080/",
     "height": 407
    },
    "id": "G0nBGPwWK7DQ",
    "outputId": "5a6669d8-fab1-4b80-b676-68ff479aab35"
   },
   "outputs": [],
   "source": [
    "# Filter top N TLDs by overall usage (column sum)\n",
    "top_tlds = crosstab_df.sum(axis=0).sort_values(ascending=False).head(10).index\n",
    "filtered = crosstab_df[top_tlds]\n",
    "\n",
    "# Heatmap\n",
    "plt.figure(figsize=(10, 4))\n",
    "sns.heatmap(filtered, annot=True, cmap='Blues', fmt=\".2%\", linewidths=0.5)\n",
    "plt.title(\"Brand Presence Across Top 10 TLDs (Normalized by Brand)\", fontsize=14)\n",
    "plt.xlabel(\"TLD\")\n",
    "plt.ylabel(\"Brand\")\n",
    "plt.tight_layout()\n",
    "plt.show()"
   ]
  },
  {
   "cell_type": "markdown",
   "metadata": {
    "id": "F8b5RkCJhkkI"
   },
   "source": [
    "### Remove .com"
   ]
  },
  {
   "cell_type": "code",
   "execution_count": null,
   "metadata": {
    "colab": {
     "base_uri": "https://localhost:8080/",
     "height": 407
    },
    "id": "CH2Tq2-XLXbg",
    "outputId": "ef8ab555-385b-40d4-e7e7-43354dd1468b"
   },
   "outputs": [],
   "source": [
    "# Remove 'com' column first\n",
    "crosstab_excl_com = crosstab_df.drop(columns='com', errors='ignore')\n",
    "\n",
    "# Re-normalize so each row sums to 1 again (without 'com')\n",
    "crosstab_excl_com = crosstab_excl_com.div(crosstab_excl_com.sum(axis=1), axis=0)\n",
    "\n",
    "# Pick top TLDs excluding 'com' by global presence\n",
    "top_tlds = crosstab_excl_com.sum(axis=0).sort_values(ascending=False).head(10).index\n",
    "filtered = crosstab_excl_com[top_tlds]\n",
    "\n",
    "# Plot heatmap\n",
    "plt.figure(figsize=(10, 4))\n",
    "sns.heatmap(filtered, annot=True, cmap='Blues', fmt=\".2%\", linewidths=0.5)\n",
    "plt.title(\"Brand Presence Across Top TLDs (Excluding .com, Normalized by Brand)\", fontsize=14)\n",
    "plt.xlabel(\"TLD\")\n",
    "plt.ylabel(\"Brand\")\n",
    "plt.tight_layout()\n",
    "plt.show()"
   ]
  },
  {
   "cell_type": "markdown",
   "metadata": {
    "id": "9axOvd4EL4NT"
   },
   "source": [
    "### Top-Level Domain (TLD) Descriptions\n",
    "\n",
    "Below are brief descriptions of each TLD extracted from the image:\n",
    "\n",
    "- **.co.uk**: United Kingdom – Used by commercial entities based in the UK.\n",
    "- **.org**: Organization – Commonly used by non-profit and non-governmental organizations.\n",
    "- **.net**: Network – Originally for network providers, now broadly used.\n",
    "- **.co**: Colombia – Country-code TLD often marketed globally for “company”.\n",
    "- **.ca**: Canada – The official country code TLD for Canada.\n",
    "- **.info**: Information – Generic TLD intended for informational websites.\n",
    "- **.com.au**: Australia – Commercial organizations in Australia.\n",
    "- **.ie**: Ireland – Country code TLD for Ireland.\n",
    "- **.ru**: Russia – Country code TLD for the Russian Federation.\n",
    "- **.in**: India – Country code TLD for India.\n"
   ]
  },
  {
   "cell_type": "markdown",
   "metadata": {
    "id": "smWFSGaAMCnT"
   },
   "source": [
    "For all details of top-level domains, including gTLDs worldwide, please see [Link](https://www.iana.org/domains/root/db)."
   ]
  },
  {
   "cell_type": "markdown",
   "metadata": {
    "id": "6-4GOV1XLIQH"
   },
   "source": [
    "### Stacked Bar Chart (% distribution per brand)"
   ]
  },
  {
   "cell_type": "code",
   "execution_count": null,
   "metadata": {
    "colab": {
     "base_uri": "https://localhost:8080/",
     "height": 507
    },
    "id": "D3gpYBKGLIgF",
    "outputId": "34985506-e465-4d7b-8e41-47961ab859f7"
   },
   "outputs": [],
   "source": [
    "# Transpose so each brand's row becomes a stacked column\n",
    "filtered.T.plot(kind='bar', stacked=True, figsize=(10, 5), colormap='tab20c')\n",
    "plt.title(\"Distribution of Brands Across Top TLDs\")\n",
    "plt.ylabel(\"Proportion of URLs\")\n",
    "plt.xticks(rotation=45)\n",
    "plt.legend(title=\"Brand\", bbox_to_anchor=(1.05, 1), loc='upper left')\n",
    "plt.tight_layout()\n",
    "plt.show()"
   ]
  },
  {
   "cell_type": "code",
   "execution_count": null,
   "metadata": {
    "colab": {
     "base_uri": "https://localhost:8080/",
     "height": 1000
    },
    "id": "euBtQSxtOHuu",
    "outputId": "42946a68-9be4-413b-f60e-dfb4c2cbc16f"
   },
   "outputs": [],
   "source": [
    "# Check False Postiive of uk content\n",
    "filtered_df = df_hypo[df_hypo['url_tld'] == 'uk'][['brand_name', 'content','url', 'url_tld']]\n",
    "filtered_df.head(20)"
   ]
  },
  {
   "cell_type": "markdown",
   "metadata": {
    "id": "waWn7vt_EAYQ"
   },
   "source": [
    "The filtered web pages contain only limited relevance to fashion retail and sentiment, and only in a few cases — specifically in examples related to the brands Zara and Primark as detail below."
   ]
  },
  {
   "cell_type": "markdown",
   "metadata": {
    "id": "uE7JT8vbDx1U"
   },
   "source": [
    "1. **Zara – Camel Coat with Faux Fur Cuff**\n",
    "- **Excerpt:** `\"camel coat fashionable moment ... let thought comment section\"`\n",
    "- **Relevance:** A fashion blog discussing the popularity of camel coats.\n",
    "- **Sentiment Indicators:** Words like *“timeless”*, *“pretty”*, *“happy”* convey positive sentiment.\n",
    "- **User Engagement:** Encourages reader comments – linked to user feedback.\n",
    "\n",
    "---\n",
    "\n",
    "2. **Primark – Selling Criteria**\n",
    "- **Excerpt:** `\"analyse datum trend million past sale help gauge sell bag acceptance rate payout buyer favourite\"`\n",
    "- **Relevance:** Fashion retail data analysis.\n",
    "- **Sentiment Indicators:** Uses buyer behavior and purchase trends – sentiment via quantitative feedback.\n",
    "\n",
    "---\n",
    "\n",
    "3. **Zara – Blog Outfit Post**\n",
    "- **Excerpt:** `\"happy halloween xo andi ... maybe bucket bag work burgundy ... justify late purchase\"`\n",
    "- **Relevance:** Personal fashion post reflecting emotions about styling choices.\n",
    "- **Sentiment Indicators:** Implied *joy*, and *self-assurance* reflect consumer sentiment.\n"
   ]
  },
  {
   "cell_type": "code",
   "execution_count": null,
   "metadata": {
    "colab": {
     "base_uri": "https://localhost:8080/",
     "height": 1000
    },
    "id": "7BwD2IfKMqZX",
    "outputId": "ec9fe164-df15-4bcf-a771-9d899882a489"
   },
   "outputs": [],
   "source": [
    "# Check False Postiive of org content\n",
    "filtered_df = df_hypo[df_hypo['url_tld'] == 'org'][['brand_name', 'content','url', 'url_tld']]\n",
    "filtered_df.head(10)"
   ]
  },
  {
   "cell_type": "markdown",
   "metadata": {
    "id": "06spzvyDLzC8"
   },
   "source": [
    "### Hypothesis 4: Revenue Context Bias"
   ]
  },
  {
   "cell_type": "markdown",
   "metadata": {
    "id": "KAx_Xs-7L5nB"
   },
   "source": [
    "Goal: Check if top-ranked brands co-occur with financial context or not as Reasoning model prioritize the market value, Revenue, Financial statement. The response related to the numerical figures"
   ]
  },
  {
   "cell_type": "markdown",
   "metadata": {
    "id": "us9yQa7O66Rv"
   },
   "source": [
    "In this hypothesis, the ranking based on **R1 model** will be highlihgted due to the nature of reasoning model and understanding forcus"
   ]
  },
  {
   "cell_type": "code",
   "execution_count": null,
   "metadata": {
    "colab": {
     "base_uri": "https://localhost:8080/"
    },
    "id": "OJfU7Mwl1TZ5",
    "outputId": "0b02189c-b506-4d07-cb9d-b0637c1531d4"
   },
   "outputs": [],
   "source": [
    "df_hypo.info()"
   ]
  },
  {
   "cell_type": "code",
   "execution_count": null,
   "metadata": {
    "colab": {
     "base_uri": "https://localhost:8080/",
     "height": 175
    },
    "id": "RbbT292n23Pw",
    "outputId": "37568869-f2e6-4e5b-dcd9-7d76290282bd"
   },
   "outputs": [],
   "source": [
    "financial_keywords = [\n",
    "    'revenue', 'billion', 'million', 'sales', 'usd', '£',\n",
    "    'profit', 'net income', 'earnings', 'financial statement', 'market value'\n",
    "]\n",
    "\n",
    "df_hypo['contains_financial_context'] = df_hypo['content'].str.lower().apply(\n",
    "    lambda text: any(keyword in text for keyword in financial_keywords)\n",
    ")\n",
    "\n",
    "df_hypo['content_word_count'] = df_hypo['content'].str.split().str.len()\n",
    "\n",
    "brand_context_bias = df_hypo.groupby('brand_name').agg(\n",
    "    total_mentions=('content', 'count'),\n",
    "    financial_context_mentions=('contains_financial_context', 'sum'),\n",
    "    avg_word_count=('content_word_count', 'mean'),\n",
    "    avg_word_count_financial=('content_word_count', lambda x: x[df_hypo.loc[x.index, 'contains_financial_context']].mean())\n",
    ")\n",
    "\n",
    "brand_context_bias['pct_financial_context'] = (\n",
    "    brand_context_bias['financial_context_mentions'] / brand_context_bias['total_mentions']\n",
    ") * 100\n",
    "\n",
    "brand_context_bias_sorted = brand_context_bias.sort_values(by='pct_financial_context', ascending=False)\n",
    "\n",
    "# Round numeric columns to 2 decimals\n",
    "brand_context_bias_sorted = brand_context_bias_sorted.round(2)\n",
    "\n",
    "# Format percentage with % sign\n",
    "brand_context_bias_sorted['pct_financial_context'] = brand_context_bias_sorted['pct_financial_context'].astype(str) + '%'\n",
    "\n",
    "# Display\n",
    "display(brand_context_bias_sorted.head(10))\n"
   ]
  },
  {
   "cell_type": "code",
   "execution_count": null,
   "metadata": {
    "colab": {
     "base_uri": "https://localhost:8080/",
     "height": 524
    },
    "id": "7ALT1iFM3MCB",
    "outputId": "7769bdae-07e1-4547-a230-b416c4ed08a9"
   },
   "outputs": [],
   "source": [
    "# Prepare bias dataframe\n",
    "financial_bias_df = brand_context_bias_sorted.copy()\n",
    "financial_bias_df['pct_financial_context'] = financial_bias_df['pct_financial_context'].str.replace('%', '').astype(float)\n",
    "financial_bias_df['rank'] = financial_bias_df.index.map(static_rank_dict)\n",
    "\n",
    "# Drop any brands not in the rank list\n",
    "financial_bias_df = financial_bias_df.dropna(subset=['rank'])\n",
    "\n",
    "# Spearman correlation\n",
    "r_spear, p_spear = spearmanr(financial_bias_df['pct_financial_context'], financial_bias_df['rank'])\n",
    "print(f\"Spearman Correlation (Financial Context % vs Rank): r = {r_spear:.2f}, p = {p_spear:.3f}\")\n",
    "\n",
    "# Plot\n",
    "plt.figure(figsize=(7, 5))\n",
    "plt.scatter(financial_bias_df['pct_financial_context'], financial_bias_df['rank'], s=100)\n",
    "\n",
    "# Annotate points\n",
    "for brand, row in financial_bias_df.iterrows():\n",
    "    plt.text(row['pct_financial_context'] + 0.5, row['rank'], brand)\n",
    "\n",
    "plt.xlabel(\"Share of Mentions in Financial Context (%)\")\n",
    "plt.ylabel(\"Static Brand Rank (Lower = Better)\")\n",
    "plt.title(\"Brand Rank vs Financial Context Share\")\n",
    "plt.gca().invert_yaxis()  # Lower rank = better\n",
    "plt.grid(True)\n",
    "plt.tight_layout()\n",
    "plt.show()\n"
   ]
  },
  {
   "cell_type": "markdown",
   "metadata": {
    "id": "Yok2HQYzOBvA"
   },
   "source": [
    "-- End of the notebook --"
   ]
  }
 ],
 "metadata": {
  "colab": {
   "provenance": []
  },
  "kernelspec": {
   "display_name": "Python 3 (ipykernel)",
   "language": "python",
   "name": "python3"
  },
  "language_info": {
   "codemirror_mode": {
    "name": "ipython",
    "version": 3
   },
   "file_extension": ".py",
   "mimetype": "text/x-python",
   "name": "python",
   "nbconvert_exporter": "python",
   "pygments_lexer": "ipython3",
   "version": "3.12.8"
  },
  "widgets": {
   "application/vnd.jupyter.widget-state+json": {
    "00d427b4697c4bd3af220794dacc091c": {
     "model_module": "@jupyter-widgets/controls",
     "model_module_version": "1.5.0",
     "model_name": "DescriptionStyleModel",
     "state": {
      "_model_module": "@jupyter-widgets/controls",
      "_model_module_version": "1.5.0",
      "_model_name": "DescriptionStyleModel",
      "_view_count": null,
      "_view_module": "@jupyter-widgets/base",
      "_view_module_version": "1.2.0",
      "_view_name": "StyleView",
      "description_width": ""
     }
    },
    "02d2acd02ddc43918acbd989c2e08b40": {
     "model_module": "@jupyter-widgets/controls",
     "model_module_version": "1.5.0",
     "model_name": "FloatProgressModel",
     "state": {
      "_dom_classes": [],
      "_model_module": "@jupyter-widgets/controls",
      "_model_module_version": "1.5.0",
      "_model_name": "FloatProgressModel",
      "_view_count": null,
      "_view_module": "@jupyter-widgets/controls",
      "_view_module_version": "1.5.0",
      "_view_name": "ProgressView",
      "bar_style": "success",
      "description": "",
      "description_tooltip": null,
      "layout": "IPY_MODEL_ec4b4ad16e144fbaaf2f34ac7b46f496",
      "max": 711661,
      "min": 0,
      "orientation": "horizontal",
      "style": "IPY_MODEL_6fd41a74bc3c428bab1969b434080848",
      "value": 711661
     }
    },
    "04780d06c8cb43a0aa68a662ed95ffae": {
     "model_module": "@jupyter-widgets/controls",
     "model_module_version": "1.5.0",
     "model_name": "HBoxModel",
     "state": {
      "_dom_classes": [],
      "_model_module": "@jupyter-widgets/controls",
      "_model_module_version": "1.5.0",
      "_model_name": "HBoxModel",
      "_view_count": null,
      "_view_module": "@jupyter-widgets/controls",
      "_view_module_version": "1.5.0",
      "_view_name": "HBoxView",
      "box_style": "",
      "children": [
       "IPY_MODEL_d8e0d81bc97d481689114c5864ecdd22",
       "IPY_MODEL_931b345cb2104fedb71d4d2ddd06016b",
       "IPY_MODEL_5002b4a2886d4a2cb742d57f0af13af2"
      ],
      "layout": "IPY_MODEL_2295bc2054a64d9480450634afab947f"
     }
    },
    "0509f3bf0be14666ae8b779e172bed21": {
     "model_module": "@jupyter-widgets/base",
     "model_module_version": "1.2.0",
     "model_name": "LayoutModel",
     "state": {
      "_model_module": "@jupyter-widgets/base",
      "_model_module_version": "1.2.0",
      "_model_name": "LayoutModel",
      "_view_count": null,
      "_view_module": "@jupyter-widgets/base",
      "_view_module_version": "1.2.0",
      "_view_name": "LayoutView",
      "align_content": null,
      "align_items": null,
      "align_self": null,
      "border": null,
      "bottom": null,
      "display": null,
      "flex": null,
      "flex_flow": null,
      "grid_area": null,
      "grid_auto_columns": null,
      "grid_auto_flow": null,
      "grid_auto_rows": null,
      "grid_column": null,
      "grid_gap": null,
      "grid_row": null,
      "grid_template_areas": null,
      "grid_template_columns": null,
      "grid_template_rows": null,
      "height": null,
      "justify_content": null,
      "justify_items": null,
      "left": null,
      "margin": null,
      "max_height": null,
      "max_width": null,
      "min_height": null,
      "min_width": null,
      "object_fit": null,
      "object_position": null,
      "order": null,
      "overflow": null,
      "overflow_x": null,
      "overflow_y": null,
      "padding": null,
      "right": null,
      "top": null,
      "visibility": null,
      "width": null
     }
    },
    "0595d72a2a7a46e9bda3892b333c39ac": {
     "model_module": "@jupyter-widgets/base",
     "model_module_version": "1.2.0",
     "model_name": "LayoutModel",
     "state": {
      "_model_module": "@jupyter-widgets/base",
      "_model_module_version": "1.2.0",
      "_model_name": "LayoutModel",
      "_view_count": null,
      "_view_module": "@jupyter-widgets/base",
      "_view_module_version": "1.2.0",
      "_view_name": "LayoutView",
      "align_content": null,
      "align_items": null,
      "align_self": null,
      "border": null,
      "bottom": null,
      "display": null,
      "flex": null,
      "flex_flow": null,
      "grid_area": null,
      "grid_auto_columns": null,
      "grid_auto_flow": null,
      "grid_auto_rows": null,
      "grid_column": null,
      "grid_gap": null,
      "grid_row": null,
      "grid_template_areas": null,
      "grid_template_columns": null,
      "grid_template_rows": null,
      "height": null,
      "justify_content": null,
      "justify_items": null,
      "left": null,
      "margin": null,
      "max_height": null,
      "max_width": null,
      "min_height": null,
      "min_width": null,
      "object_fit": null,
      "object_position": null,
      "order": null,
      "overflow": null,
      "overflow_x": null,
      "overflow_y": null,
      "padding": null,
      "right": null,
      "top": null,
      "visibility": null,
      "width": null
     }
    },
    "0617762339d8477b9f109c424f629fb9": {
     "model_module": "@jupyter-widgets/controls",
     "model_module_version": "1.5.0",
     "model_name": "HBoxModel",
     "state": {
      "_dom_classes": [],
      "_model_module": "@jupyter-widgets/controls",
      "_model_module_version": "1.5.0",
      "_model_name": "HBoxModel",
      "_view_count": null,
      "_view_module": "@jupyter-widgets/controls",
      "_view_module_version": "1.5.0",
      "_view_name": "HBoxView",
      "box_style": "",
      "children": [
       "IPY_MODEL_1ef0058879e6453d98294684e4a5e571",
       "IPY_MODEL_87649e61735e4b72b4be023f781735a5",
       "IPY_MODEL_f5ca05f3113d4b3b8d7166863fb071f9"
      ],
      "layout": "IPY_MODEL_ec1e8d32bb2e4bd086fe9cf150c95d4c"
     }
    },
    "06b21db7c51f4db59f73f1f7c80e74ee": {
     "model_module": "@jupyter-widgets/controls",
     "model_module_version": "1.5.0",
     "model_name": "ProgressStyleModel",
     "state": {
      "_model_module": "@jupyter-widgets/controls",
      "_model_module_version": "1.5.0",
      "_model_name": "ProgressStyleModel",
      "_view_count": null,
      "_view_module": "@jupyter-widgets/base",
      "_view_module_version": "1.2.0",
      "_view_name": "StyleView",
      "bar_color": null,
      "description_width": ""
     }
    },
    "07c24fc5608f4432a9762e41a6105d4f": {
     "model_module": "@jupyter-widgets/controls",
     "model_module_version": "1.5.0",
     "model_name": "HTMLModel",
     "state": {
      "_dom_classes": [],
      "_model_module": "@jupyter-widgets/controls",
      "_model_module_version": "1.5.0",
      "_model_name": "HTMLModel",
      "_view_count": null,
      "_view_module": "@jupyter-widgets/controls",
      "_view_module_version": "1.5.0",
      "_view_name": "HTMLView",
      "description": "",
      "description_tooltip": null,
      "layout": "IPY_MODEL_e24439f763e54ebc8bc7496e76dae998",
      "placeholder": "​",
      "style": "IPY_MODEL_807f2f029cb8401f81d6d75cec2635f6",
      "value": " 90.9M/90.9M [00:00&lt;00:00, 97.8MB/s]"
     }
    },
    "07e8f7fe864a4925b8620d43af4b25c2": {
     "model_module": "@jupyter-widgets/controls",
     "model_module_version": "1.5.0",
     "model_name": "HBoxModel",
     "state": {
      "_dom_classes": [],
      "_model_module": "@jupyter-widgets/controls",
      "_model_module_version": "1.5.0",
      "_model_name": "HBoxModel",
      "_view_count": null,
      "_view_module": "@jupyter-widgets/controls",
      "_view_module_version": "1.5.0",
      "_view_name": "HBoxView",
      "box_style": "",
      "children": [
       "IPY_MODEL_60d52dd64331433683d9811b5f55779c",
       "IPY_MODEL_1eadb5d828ce443f9144612a87c3e5ea",
       "IPY_MODEL_2af4ab9ddee148c88bde62e52c3b8476"
      ],
      "layout": "IPY_MODEL_af27ac3a639449968cd4e03da5c711e3"
     }
    },
    "090fe3e3b65b4157b9c9f9a8dd9b2bf8": {
     "model_module": "@jupyter-widgets/controls",
     "model_module_version": "1.5.0",
     "model_name": "HBoxModel",
     "state": {
      "_dom_classes": [],
      "_model_module": "@jupyter-widgets/controls",
      "_model_module_version": "1.5.0",
      "_model_name": "HBoxModel",
      "_view_count": null,
      "_view_module": "@jupyter-widgets/controls",
      "_view_module_version": "1.5.0",
      "_view_name": "HBoxView",
      "box_style": "",
      "children": [
       "IPY_MODEL_d4d1cd66d7cb4a28833d36704577b83c",
       "IPY_MODEL_bd79935134fb478b8a44744bffb793ed",
       "IPY_MODEL_189e806cda494f888bbcd614db863a77"
      ],
      "layout": "IPY_MODEL_dfd2aef038764931b5d570b7db7554e1"
     }
    },
    "092ffaf7f7394afcb0baa0aa6e12ffc3": {
     "model_module": "@jupyter-widgets/controls",
     "model_module_version": "1.5.0",
     "model_name": "DescriptionStyleModel",
     "state": {
      "_model_module": "@jupyter-widgets/controls",
      "_model_module_version": "1.5.0",
      "_model_name": "DescriptionStyleModel",
      "_view_count": null,
      "_view_module": "@jupyter-widgets/base",
      "_view_module_version": "1.2.0",
      "_view_name": "StyleView",
      "description_width": ""
     }
    },
    "09992a25175a43f2b7271e013260794d": {
     "model_module": "@jupyter-widgets/controls",
     "model_module_version": "1.5.0",
     "model_name": "DescriptionStyleModel",
     "state": {
      "_model_module": "@jupyter-widgets/controls",
      "_model_module_version": "1.5.0",
      "_model_name": "DescriptionStyleModel",
      "_view_count": null,
      "_view_module": "@jupyter-widgets/base",
      "_view_module_version": "1.2.0",
      "_view_name": "StyleView",
      "description_width": ""
     }
    },
    "0b35854586ef49b98ec371458177b270": {
     "model_module": "@jupyter-widgets/controls",
     "model_module_version": "1.5.0",
     "model_name": "HBoxModel",
     "state": {
      "_dom_classes": [],
      "_model_module": "@jupyter-widgets/controls",
      "_model_module_version": "1.5.0",
      "_model_name": "HBoxModel",
      "_view_count": null,
      "_view_module": "@jupyter-widgets/controls",
      "_view_module_version": "1.5.0",
      "_view_name": "HBoxView",
      "box_style": "",
      "children": [
       "IPY_MODEL_19308a1ce73b44149cf3235904d6a6e3",
       "IPY_MODEL_0fa8dbe334b3497b869e2125ca994c60",
       "IPY_MODEL_712a42bc92e44466bb735da8a1886c3e"
      ],
      "layout": "IPY_MODEL_42354d6adc07478682a5c74b943b6a28"
     }
    },
    "0b3c4b9285354a649fe49fc830dfd712": {
     "model_module": "@jupyter-widgets/base",
     "model_module_version": "1.2.0",
     "model_name": "LayoutModel",
     "state": {
      "_model_module": "@jupyter-widgets/base",
      "_model_module_version": "1.2.0",
      "_model_name": "LayoutModel",
      "_view_count": null,
      "_view_module": "@jupyter-widgets/base",
      "_view_module_version": "1.2.0",
      "_view_name": "LayoutView",
      "align_content": null,
      "align_items": null,
      "align_self": null,
      "border": null,
      "bottom": null,
      "display": null,
      "flex": null,
      "flex_flow": null,
      "grid_area": null,
      "grid_auto_columns": null,
      "grid_auto_flow": null,
      "grid_auto_rows": null,
      "grid_column": null,
      "grid_gap": null,
      "grid_row": null,
      "grid_template_areas": null,
      "grid_template_columns": null,
      "grid_template_rows": null,
      "height": null,
      "justify_content": null,
      "justify_items": null,
      "left": null,
      "margin": null,
      "max_height": null,
      "max_width": null,
      "min_height": null,
      "min_width": null,
      "object_fit": null,
      "object_position": null,
      "order": null,
      "overflow": null,
      "overflow_x": null,
      "overflow_y": null,
      "padding": null,
      "right": null,
      "top": null,
      "visibility": null,
      "width": null
     }
    },
    "0c3e57dfe1bb4246b83674ecc592b118": {
     "model_module": "@jupyter-widgets/controls",
     "model_module_version": "1.5.0",
     "model_name": "HBoxModel",
     "state": {
      "_dom_classes": [],
      "_model_module": "@jupyter-widgets/controls",
      "_model_module_version": "1.5.0",
      "_model_name": "HBoxModel",
      "_view_count": null,
      "_view_module": "@jupyter-widgets/controls",
      "_view_module_version": "1.5.0",
      "_view_name": "HBoxView",
      "box_style": "",
      "children": [
       "IPY_MODEL_a8ed049731df48d89d83154865830fe0",
       "IPY_MODEL_41fe82d0436340c1b0b51e242e4e1bde",
       "IPY_MODEL_41ed2e9a681046fbb7e713b18a9235dc"
      ],
      "layout": "IPY_MODEL_20d45805d6f7413694aee2fb00ca2288"
     }
    },
    "0db934c08f844569987507d909518399": {
     "model_module": "@jupyter-widgets/base",
     "model_module_version": "1.2.0",
     "model_name": "LayoutModel",
     "state": {
      "_model_module": "@jupyter-widgets/base",
      "_model_module_version": "1.2.0",
      "_model_name": "LayoutModel",
      "_view_count": null,
      "_view_module": "@jupyter-widgets/base",
      "_view_module_version": "1.2.0",
      "_view_name": "LayoutView",
      "align_content": null,
      "align_items": null,
      "align_self": null,
      "border": null,
      "bottom": null,
      "display": null,
      "flex": null,
      "flex_flow": null,
      "grid_area": null,
      "grid_auto_columns": null,
      "grid_auto_flow": null,
      "grid_auto_rows": null,
      "grid_column": null,
      "grid_gap": null,
      "grid_row": null,
      "grid_template_areas": null,
      "grid_template_columns": null,
      "grid_template_rows": null,
      "height": null,
      "justify_content": null,
      "justify_items": null,
      "left": null,
      "margin": null,
      "max_height": null,
      "max_width": null,
      "min_height": null,
      "min_width": null,
      "object_fit": null,
      "object_position": null,
      "order": null,
      "overflow": null,
      "overflow_x": null,
      "overflow_y": null,
      "padding": null,
      "right": null,
      "top": null,
      "visibility": null,
      "width": null
     }
    },
    "0e1b89186e8e4663b48758279fc94011": {
     "model_module": "@jupyter-widgets/base",
     "model_module_version": "1.2.0",
     "model_name": "LayoutModel",
     "state": {
      "_model_module": "@jupyter-widgets/base",
      "_model_module_version": "1.2.0",
      "_model_name": "LayoutModel",
      "_view_count": null,
      "_view_module": "@jupyter-widgets/base",
      "_view_module_version": "1.2.0",
      "_view_name": "LayoutView",
      "align_content": null,
      "align_items": null,
      "align_self": null,
      "border": null,
      "bottom": null,
      "display": null,
      "flex": null,
      "flex_flow": null,
      "grid_area": null,
      "grid_auto_columns": null,
      "grid_auto_flow": null,
      "grid_auto_rows": null,
      "grid_column": null,
      "grid_gap": null,
      "grid_row": null,
      "grid_template_areas": null,
      "grid_template_columns": null,
      "grid_template_rows": null,
      "height": null,
      "justify_content": null,
      "justify_items": null,
      "left": null,
      "margin": null,
      "max_height": null,
      "max_width": null,
      "min_height": null,
      "min_width": null,
      "object_fit": null,
      "object_position": null,
      "order": null,
      "overflow": null,
      "overflow_x": null,
      "overflow_y": null,
      "padding": null,
      "right": null,
      "top": null,
      "visibility": null,
      "width": null
     }
    },
    "0ee067a255bd46ac99088268f5db0a4a": {
     "model_module": "@jupyter-widgets/controls",
     "model_module_version": "1.5.0",
     "model_name": "DescriptionStyleModel",
     "state": {
      "_model_module": "@jupyter-widgets/controls",
      "_model_module_version": "1.5.0",
      "_model_name": "DescriptionStyleModel",
      "_view_count": null,
      "_view_module": "@jupyter-widgets/base",
      "_view_module_version": "1.2.0",
      "_view_name": "StyleView",
      "description_width": ""
     }
    },
    "0fa8dbe334b3497b869e2125ca994c60": {
     "model_module": "@jupyter-widgets/controls",
     "model_module_version": "1.5.0",
     "model_name": "FloatProgressModel",
     "state": {
      "_dom_classes": [],
      "_model_module": "@jupyter-widgets/controls",
      "_model_module_version": "1.5.0",
      "_model_name": "FloatProgressModel",
      "_view_count": null,
      "_view_module": "@jupyter-widgets/controls",
      "_view_module_version": "1.5.0",
      "_view_name": "ProgressView",
      "bar_style": "success",
      "description": "",
      "description_tooltip": null,
      "layout": "IPY_MODEL_db0cd454434440619c89a3fc20f20571",
      "max": 10454,
      "min": 0,
      "orientation": "horizontal",
      "style": "IPY_MODEL_7f4ef5856c0b4dada21aa358b63edf78",
      "value": 10454
     }
    },
    "0fd8e8bd72944b03aa74bac888b1fa5c": {
     "model_module": "@jupyter-widgets/controls",
     "model_module_version": "1.5.0",
     "model_name": "HBoxModel",
     "state": {
      "_dom_classes": [],
      "_model_module": "@jupyter-widgets/controls",
      "_model_module_version": "1.5.0",
      "_model_name": "HBoxModel",
      "_view_count": null,
      "_view_module": "@jupyter-widgets/controls",
      "_view_module_version": "1.5.0",
      "_view_name": "HBoxView",
      "box_style": "",
      "children": [
       "IPY_MODEL_2c2a91f9116a4a84b23f9e5b720fced2",
       "IPY_MODEL_4031c677ed5a4aa2967f149cc13cdd7c",
       "IPY_MODEL_406df43ab611486f885d02407c37a13a"
      ],
      "layout": "IPY_MODEL_12bf58d778564304a829a3f223b117d6"
     }
    },
    "100b61a1c75b40c5b58bf7ec2aeb66f3": {
     "model_module": "@jupyter-widgets/controls",
     "model_module_version": "1.5.0",
     "model_name": "DescriptionStyleModel",
     "state": {
      "_model_module": "@jupyter-widgets/controls",
      "_model_module_version": "1.5.0",
      "_model_name": "DescriptionStyleModel",
      "_view_count": null,
      "_view_module": "@jupyter-widgets/base",
      "_view_module_version": "1.2.0",
      "_view_name": "StyleView",
      "description_width": ""
     }
    },
    "105fe9bcb656451d8d02d3f487293aec": {
     "model_module": "@jupyter-widgets/controls",
     "model_module_version": "1.5.0",
     "model_name": "DescriptionStyleModel",
     "state": {
      "_model_module": "@jupyter-widgets/controls",
      "_model_module_version": "1.5.0",
      "_model_name": "DescriptionStyleModel",
      "_view_count": null,
      "_view_module": "@jupyter-widgets/base",
      "_view_module_version": "1.2.0",
      "_view_name": "StyleView",
      "description_width": ""
     }
    },
    "11a212ff97d0400e8391eaaa4837fc00": {
     "model_module": "@jupyter-widgets/controls",
     "model_module_version": "1.5.0",
     "model_name": "HTMLModel",
     "state": {
      "_dom_classes": [],
      "_model_module": "@jupyter-widgets/controls",
      "_model_module_version": "1.5.0",
      "_model_name": "HTMLModel",
      "_view_count": null,
      "_view_module": "@jupyter-widgets/controls",
      "_view_module_version": "1.5.0",
      "_view_name": "HTMLView",
      "description": "",
      "description_tooltip": null,
      "layout": "IPY_MODEL_8944c5d9d0264a1bb0e71fb10a4ffe1c",
      "placeholder": "​",
      "style": "IPY_MODEL_0ee067a255bd46ac99088268f5db0a4a",
      "value": " 190/190 [00:00&lt;00:00, 16.9kB/s]"
     }
    },
    "120457fd15fe4a78ac7c5afc0618aa3c": {
     "model_module": "@jupyter-widgets/base",
     "model_module_version": "1.2.0",
     "model_name": "LayoutModel",
     "state": {
      "_model_module": "@jupyter-widgets/base",
      "_model_module_version": "1.2.0",
      "_model_name": "LayoutModel",
      "_view_count": null,
      "_view_module": "@jupyter-widgets/base",
      "_view_module_version": "1.2.0",
      "_view_name": "LayoutView",
      "align_content": null,
      "align_items": null,
      "align_self": null,
      "border": null,
      "bottom": null,
      "display": null,
      "flex": null,
      "flex_flow": null,
      "grid_area": null,
      "grid_auto_columns": null,
      "grid_auto_flow": null,
      "grid_auto_rows": null,
      "grid_column": null,
      "grid_gap": null,
      "grid_row": null,
      "grid_template_areas": null,
      "grid_template_columns": null,
      "grid_template_rows": null,
      "height": null,
      "justify_content": null,
      "justify_items": null,
      "left": null,
      "margin": null,
      "max_height": null,
      "max_width": null,
      "min_height": null,
      "min_width": null,
      "object_fit": null,
      "object_position": null,
      "order": null,
      "overflow": null,
      "overflow_x": null,
      "overflow_y": null,
      "padding": null,
      "right": null,
      "top": null,
      "visibility": null,
      "width": null
     }
    },
    "12bf58d778564304a829a3f223b117d6": {
     "model_module": "@jupyter-widgets/base",
     "model_module_version": "1.2.0",
     "model_name": "LayoutModel",
     "state": {
      "_model_module": "@jupyter-widgets/base",
      "_model_module_version": "1.2.0",
      "_model_name": "LayoutModel",
      "_view_count": null,
      "_view_module": "@jupyter-widgets/base",
      "_view_module_version": "1.2.0",
      "_view_name": "LayoutView",
      "align_content": null,
      "align_items": null,
      "align_self": null,
      "border": null,
      "bottom": null,
      "display": null,
      "flex": null,
      "flex_flow": null,
      "grid_area": null,
      "grid_auto_columns": null,
      "grid_auto_flow": null,
      "grid_auto_rows": null,
      "grid_column": null,
      "grid_gap": null,
      "grid_row": null,
      "grid_template_areas": null,
      "grid_template_columns": null,
      "grid_template_rows": null,
      "height": null,
      "justify_content": null,
      "justify_items": null,
      "left": null,
      "margin": null,
      "max_height": null,
      "max_width": null,
      "min_height": null,
      "min_width": null,
      "object_fit": null,
      "object_position": null,
      "order": null,
      "overflow": null,
      "overflow_x": null,
      "overflow_y": null,
      "padding": null,
      "right": null,
      "top": null,
      "visibility": null,
      "width": null
     }
    },
    "13cf78bc4c3a4a0aa269ab025e60b289": {
     "model_module": "@jupyter-widgets/controls",
     "model_module_version": "1.5.0",
     "model_name": "HBoxModel",
     "state": {
      "_dom_classes": [],
      "_model_module": "@jupyter-widgets/controls",
      "_model_module_version": "1.5.0",
      "_model_name": "HBoxModel",
      "_view_count": null,
      "_view_module": "@jupyter-widgets/controls",
      "_view_module_version": "1.5.0",
      "_view_name": "HBoxView",
      "box_style": "",
      "children": [
       "IPY_MODEL_1bf10d434e7d445ebd729de1e65a508b",
       "IPY_MODEL_205a2e155854427fad55d8e73eb42dfb",
       "IPY_MODEL_e0098863afbc4cd0bb13296cdb224f8b"
      ],
      "layout": "IPY_MODEL_62ce7595ce694bf58d82d6dbf97344fb"
     }
    },
    "1443863e4b954c0383a33a23583f863c": {
     "model_module": "@jupyter-widgets/base",
     "model_module_version": "1.2.0",
     "model_name": "LayoutModel",
     "state": {
      "_model_module": "@jupyter-widgets/base",
      "_model_module_version": "1.2.0",
      "_model_name": "LayoutModel",
      "_view_count": null,
      "_view_module": "@jupyter-widgets/base",
      "_view_module_version": "1.2.0",
      "_view_name": "LayoutView",
      "align_content": null,
      "align_items": null,
      "align_self": null,
      "border": null,
      "bottom": null,
      "display": null,
      "flex": null,
      "flex_flow": null,
      "grid_area": null,
      "grid_auto_columns": null,
      "grid_auto_flow": null,
      "grid_auto_rows": null,
      "grid_column": null,
      "grid_gap": null,
      "grid_row": null,
      "grid_template_areas": null,
      "grid_template_columns": null,
      "grid_template_rows": null,
      "height": null,
      "justify_content": null,
      "justify_items": null,
      "left": null,
      "margin": null,
      "max_height": null,
      "max_width": null,
      "min_height": null,
      "min_width": null,
      "object_fit": null,
      "object_position": null,
      "order": null,
      "overflow": null,
      "overflow_x": null,
      "overflow_y": null,
      "padding": null,
      "right": null,
      "top": null,
      "visibility": null,
      "width": null
     }
    },
    "15f68f4e1ded4ae58dbb554446f1d10d": {
     "model_module": "@jupyter-widgets/controls",
     "model_module_version": "1.5.0",
     "model_name": "HBoxModel",
     "state": {
      "_dom_classes": [],
      "_model_module": "@jupyter-widgets/controls",
      "_model_module_version": "1.5.0",
      "_model_name": "HBoxModel",
      "_view_count": null,
      "_view_module": "@jupyter-widgets/controls",
      "_view_module_version": "1.5.0",
      "_view_name": "HBoxView",
      "box_style": "",
      "children": [
       "IPY_MODEL_d114d7580c794ea58049b1b36d67ad68",
       "IPY_MODEL_02d2acd02ddc43918acbd989c2e08b40",
       "IPY_MODEL_960afdb83d4a45c784c10610bf0f05d0"
      ],
      "layout": "IPY_MODEL_67c7826693db4819b874a97873cf340b"
     }
    },
    "1628faf5c18441bc99a51196cf34300c": {
     "model_module": "@jupyter-widgets/controls",
     "model_module_version": "1.5.0",
     "model_name": "DescriptionStyleModel",
     "state": {
      "_model_module": "@jupyter-widgets/controls",
      "_model_module_version": "1.5.0",
      "_model_name": "DescriptionStyleModel",
      "_view_count": null,
      "_view_module": "@jupyter-widgets/base",
      "_view_module_version": "1.2.0",
      "_view_name": "StyleView",
      "description_width": ""
     }
    },
    "16993d0f64184265a96216cae5dda4f1": {
     "model_module": "@jupyter-widgets/controls",
     "model_module_version": "1.5.0",
     "model_name": "DescriptionStyleModel",
     "state": {
      "_model_module": "@jupyter-widgets/controls",
      "_model_module_version": "1.5.0",
      "_model_name": "DescriptionStyleModel",
      "_view_count": null,
      "_view_module": "@jupyter-widgets/base",
      "_view_module_version": "1.2.0",
      "_view_name": "StyleView",
      "description_width": ""
     }
    },
    "1731a0b15c544dfcbd8e27ed0d5e0551": {
     "model_module": "@jupyter-widgets/controls",
     "model_module_version": "1.5.0",
     "model_name": "HBoxModel",
     "state": {
      "_dom_classes": [],
      "_model_module": "@jupyter-widgets/controls",
      "_model_module_version": "1.5.0",
      "_model_name": "HBoxModel",
      "_view_count": null,
      "_view_module": "@jupyter-widgets/controls",
      "_view_module_version": "1.5.0",
      "_view_name": "HBoxView",
      "box_style": "",
      "children": [
       "IPY_MODEL_c82733a247fc4fca8010f37c70da92f7",
       "IPY_MODEL_23cce37ad6e34f12a53138f9e468eb39",
       "IPY_MODEL_81ccf17a54ef41ada4034a30bce2888e"
      ],
      "layout": "IPY_MODEL_b9730340d1304542a5f3e7af30edc7d5"
     }
    },
    "189635ac27754f39bee999e42d845138": {
     "model_module": "@jupyter-widgets/controls",
     "model_module_version": "1.5.0",
     "model_name": "FloatProgressModel",
     "state": {
      "_dom_classes": [],
      "_model_module": "@jupyter-widgets/controls",
      "_model_module_version": "1.5.0",
      "_model_name": "FloatProgressModel",
      "_view_count": null,
      "_view_module": "@jupyter-widgets/controls",
      "_view_module_version": "1.5.0",
      "_view_name": "ProgressView",
      "bar_style": "success",
      "description": "",
      "description_tooltip": null,
      "layout": "IPY_MODEL_59adba0ce4a84363be671570c75b1104",
      "max": 320,
      "min": 0,
      "orientation": "horizontal",
      "style": "IPY_MODEL_bf211eb8c47c4a71aba78eb92aac6aa7",
      "value": 320
     }
    },
    "189e806cda494f888bbcd614db863a77": {
     "model_module": "@jupyter-widgets/controls",
     "model_module_version": "1.5.0",
     "model_name": "HTMLModel",
     "state": {
      "_dom_classes": [],
      "_model_module": "@jupyter-widgets/controls",
      "_model_module_version": "1.5.0",
      "_model_name": "HTMLModel",
      "_view_count": null,
      "_view_module": "@jupyter-widgets/controls",
      "_view_module_version": "1.5.0",
      "_view_name": "HTMLView",
      "description": "",
      "description_tooltip": null,
      "layout": "IPY_MODEL_7542cb4fedff46eb802f6ff941e66fc1",
      "placeholder": "​",
      "style": "IPY_MODEL_1628faf5c18441bc99a51196cf34300c",
      "value": " 349/349 [00:00&lt;00:00, 21.3kB/s]"
     }
    },
    "19308a1ce73b44149cf3235904d6a6e3": {
     "model_module": "@jupyter-widgets/controls",
     "model_module_version": "1.5.0",
     "model_name": "HTMLModel",
     "state": {
      "_dom_classes": [],
      "_model_module": "@jupyter-widgets/controls",
      "_model_module_version": "1.5.0",
      "_model_name": "HTMLModel",
      "_view_count": null,
      "_view_module": "@jupyter-widgets/controls",
      "_view_module_version": "1.5.0",
      "_view_name": "HTMLView",
      "description": "",
      "description_tooltip": null,
      "layout": "IPY_MODEL_fae6f2efdefe4e2ca5bb3ade2068c627",
      "placeholder": "​",
      "style": "IPY_MODEL_3c123d5b481142dc9638512a0e3a6eb4",
      "value": "README.md: 100%"
     }
    },
    "1bf10d434e7d445ebd729de1e65a508b": {
     "model_module": "@jupyter-widgets/controls",
     "model_module_version": "1.5.0",
     "model_name": "HTMLModel",
     "state": {
      "_dom_classes": [],
      "_model_module": "@jupyter-widgets/controls",
      "_model_module_version": "1.5.0",
      "_model_name": "HTMLModel",
      "_view_count": null,
      "_view_module": "@jupyter-widgets/controls",
      "_view_module_version": "1.5.0",
      "_view_name": "HTMLView",
      "description": "",
      "description_tooltip": null,
      "layout": "IPY_MODEL_5711570f3ae44596b31037205eb3868e",
      "placeholder": "​",
      "style": "IPY_MODEL_5ed7d0bbb79141ba8198004e837c9310",
      "value": "special_tokens_map.json: 100%"
     }
    },
    "1c4198113049416fa032b5b76edab46a": {
     "model_module": "@jupyter-widgets/controls",
     "model_module_version": "1.5.0",
     "model_name": "DescriptionStyleModel",
     "state": {
      "_model_module": "@jupyter-widgets/controls",
      "_model_module_version": "1.5.0",
      "_model_name": "DescriptionStyleModel",
      "_view_count": null,
      "_view_module": "@jupyter-widgets/base",
      "_view_module_version": "1.2.0",
      "_view_name": "StyleView",
      "description_width": ""
     }
    },
    "1d03c6f6499a46528eeb84d95fbc2488": {
     "model_module": "@jupyter-widgets/base",
     "model_module_version": "1.2.0",
     "model_name": "LayoutModel",
     "state": {
      "_model_module": "@jupyter-widgets/base",
      "_model_module_version": "1.2.0",
      "_model_name": "LayoutModel",
      "_view_count": null,
      "_view_module": "@jupyter-widgets/base",
      "_view_module_version": "1.2.0",
      "_view_name": "LayoutView",
      "align_content": null,
      "align_items": null,
      "align_self": null,
      "border": null,
      "bottom": null,
      "display": null,
      "flex": null,
      "flex_flow": null,
      "grid_area": null,
      "grid_auto_columns": null,
      "grid_auto_flow": null,
      "grid_auto_rows": null,
      "grid_column": null,
      "grid_gap": null,
      "grid_row": null,
      "grid_template_areas": null,
      "grid_template_columns": null,
      "grid_template_rows": null,
      "height": null,
      "justify_content": null,
      "justify_items": null,
      "left": null,
      "margin": null,
      "max_height": null,
      "max_width": null,
      "min_height": null,
      "min_width": null,
      "object_fit": null,
      "object_position": null,
      "order": null,
      "overflow": null,
      "overflow_x": null,
      "overflow_y": null,
      "padding": null,
      "right": null,
      "top": null,
      "visibility": null,
      "width": null
     }
    },
    "1dcef9e6cfdb462d810ba8a966e03fda": {
     "model_module": "@jupyter-widgets/controls",
     "model_module_version": "1.5.0",
     "model_name": "HTMLModel",
     "state": {
      "_dom_classes": [],
      "_model_module": "@jupyter-widgets/controls",
      "_model_module_version": "1.5.0",
      "_model_name": "HTMLModel",
      "_view_count": null,
      "_view_module": "@jupyter-widgets/controls",
      "_view_module_version": "1.5.0",
      "_view_name": "HTMLView",
      "description": "",
      "description_tooltip": null,
      "layout": "IPY_MODEL_c4fbd0c187b6467d9c82652f2f7b0d20",
      "placeholder": "​",
      "style": "IPY_MODEL_8e87c60f904644a3b630f92a0c2666eb",
      "value": "vocab.txt: 100%"
     }
    },
    "1eadb5d828ce443f9144612a87c3e5ea": {
     "model_module": "@jupyter-widgets/controls",
     "model_module_version": "1.5.0",
     "model_name": "FloatProgressModel",
     "state": {
      "_dom_classes": [],
      "_model_module": "@jupyter-widgets/controls",
      "_model_module_version": "1.5.0",
      "_model_name": "FloatProgressModel",
      "_view_count": null,
      "_view_module": "@jupyter-widgets/controls",
      "_view_module_version": "1.5.0",
      "_view_name": "ProgressView",
      "bar_style": "success",
      "description": "",
      "description_tooltip": null,
      "layout": "IPY_MODEL_bebd2d070b88464e85af339f8a072b89",
      "max": 10021,
      "min": 0,
      "orientation": "horizontal",
      "style": "IPY_MODEL_06b21db7c51f4db59f73f1f7c80e74ee",
      "value": 10021
     }
    },
    "1ef0058879e6453d98294684e4a5e571": {
     "model_module": "@jupyter-widgets/controls",
     "model_module_version": "1.5.0",
     "model_name": "HTMLModel",
     "state": {
      "_dom_classes": [],
      "_model_module": "@jupyter-widgets/controls",
      "_model_module_version": "1.5.0",
      "_model_name": "HTMLModel",
      "_view_count": null,
      "_view_module": "@jupyter-widgets/controls",
      "_view_module_version": "1.5.0",
      "_view_name": "HTMLView",
      "description": "",
      "description_tooltip": null,
      "layout": "IPY_MODEL_0db934c08f844569987507d909518399",
      "placeholder": "​",
      "style": "IPY_MODEL_1c4198113049416fa032b5b76edab46a",
      "value": "tokenizer_config.json: 100%"
     }
    },
    "1f1c8cb41754413a934051517554b8cd": {
     "model_module": "@jupyter-widgets/base",
     "model_module_version": "1.2.0",
     "model_name": "LayoutModel",
     "state": {
      "_model_module": "@jupyter-widgets/base",
      "_model_module_version": "1.2.0",
      "_model_name": "LayoutModel",
      "_view_count": null,
      "_view_module": "@jupyter-widgets/base",
      "_view_module_version": "1.2.0",
      "_view_name": "LayoutView",
      "align_content": null,
      "align_items": null,
      "align_self": null,
      "border": null,
      "bottom": null,
      "display": null,
      "flex": null,
      "flex_flow": null,
      "grid_area": null,
      "grid_auto_columns": null,
      "grid_auto_flow": null,
      "grid_auto_rows": null,
      "grid_column": null,
      "grid_gap": null,
      "grid_row": null,
      "grid_template_areas": null,
      "grid_template_columns": null,
      "grid_template_rows": null,
      "height": null,
      "justify_content": null,
      "justify_items": null,
      "left": null,
      "margin": null,
      "max_height": null,
      "max_width": null,
      "min_height": null,
      "min_width": null,
      "object_fit": null,
      "object_position": null,
      "order": null,
      "overflow": null,
      "overflow_x": null,
      "overflow_y": null,
      "padding": null,
      "right": null,
      "top": null,
      "visibility": null,
      "width": null
     }
    },
    "1fe41bf158614ed1aeab3ff725102247": {
     "model_module": "@jupyter-widgets/base",
     "model_module_version": "1.2.0",
     "model_name": "LayoutModel",
     "state": {
      "_model_module": "@jupyter-widgets/base",
      "_model_module_version": "1.2.0",
      "_model_name": "LayoutModel",
      "_view_count": null,
      "_view_module": "@jupyter-widgets/base",
      "_view_module_version": "1.2.0",
      "_view_name": "LayoutView",
      "align_content": null,
      "align_items": null,
      "align_self": null,
      "border": null,
      "bottom": null,
      "display": null,
      "flex": null,
      "flex_flow": null,
      "grid_area": null,
      "grid_auto_columns": null,
      "grid_auto_flow": null,
      "grid_auto_rows": null,
      "grid_column": null,
      "grid_gap": null,
      "grid_row": null,
      "grid_template_areas": null,
      "grid_template_columns": null,
      "grid_template_rows": null,
      "height": null,
      "justify_content": null,
      "justify_items": null,
      "left": null,
      "margin": null,
      "max_height": null,
      "max_width": null,
      "min_height": null,
      "min_width": null,
      "object_fit": null,
      "object_position": null,
      "order": null,
      "overflow": null,
      "overflow_x": null,
      "overflow_y": null,
      "padding": null,
      "right": null,
      "top": null,
      "visibility": null,
      "width": null
     }
    },
    "205a2e155854427fad55d8e73eb42dfb": {
     "model_module": "@jupyter-widgets/controls",
     "model_module_version": "1.5.0",
     "model_name": "FloatProgressModel",
     "state": {
      "_dom_classes": [],
      "_model_module": "@jupyter-widgets/controls",
      "_model_module_version": "1.5.0",
      "_model_name": "FloatProgressModel",
      "_view_count": null,
      "_view_module": "@jupyter-widgets/controls",
      "_view_module_version": "1.5.0",
      "_view_name": "ProgressView",
      "bar_style": "success",
      "description": "",
      "description_tooltip": null,
      "layout": "IPY_MODEL_eaa158379a774ed594f5e3fd5157c144",
      "max": 125,
      "min": 0,
      "orientation": "horizontal",
      "style": "IPY_MODEL_5451eb80d75040e4bcea8ebae1d22f77",
      "value": 125
     }
    },
    "20d45805d6f7413694aee2fb00ca2288": {
     "model_module": "@jupyter-widgets/base",
     "model_module_version": "1.2.0",
     "model_name": "LayoutModel",
     "state": {
      "_model_module": "@jupyter-widgets/base",
      "_model_module_version": "1.2.0",
      "_model_name": "LayoutModel",
      "_view_count": null,
      "_view_module": "@jupyter-widgets/base",
      "_view_module_version": "1.2.0",
      "_view_name": "LayoutView",
      "align_content": null,
      "align_items": null,
      "align_self": null,
      "border": null,
      "bottom": null,
      "display": null,
      "flex": null,
      "flex_flow": null,
      "grid_area": null,
      "grid_auto_columns": null,
      "grid_auto_flow": null,
      "grid_auto_rows": null,
      "grid_column": null,
      "grid_gap": null,
      "grid_row": null,
      "grid_template_areas": null,
      "grid_template_columns": null,
      "grid_template_rows": null,
      "height": null,
      "justify_content": null,
      "justify_items": null,
      "left": null,
      "margin": null,
      "max_height": null,
      "max_width": null,
      "min_height": null,
      "min_width": null,
      "object_fit": null,
      "object_position": null,
      "order": null,
      "overflow": null,
      "overflow_x": null,
      "overflow_y": null,
      "padding": null,
      "right": null,
      "top": null,
      "visibility": null,
      "width": null
     }
    },
    "2295bc2054a64d9480450634afab947f": {
     "model_module": "@jupyter-widgets/base",
     "model_module_version": "1.2.0",
     "model_name": "LayoutModel",
     "state": {
      "_model_module": "@jupyter-widgets/base",
      "_model_module_version": "1.2.0",
      "_model_name": "LayoutModel",
      "_view_count": null,
      "_view_module": "@jupyter-widgets/base",
      "_view_module_version": "1.2.0",
      "_view_name": "LayoutView",
      "align_content": null,
      "align_items": null,
      "align_self": null,
      "border": null,
      "bottom": null,
      "display": null,
      "flex": null,
      "flex_flow": null,
      "grid_area": null,
      "grid_auto_columns": null,
      "grid_auto_flow": null,
      "grid_auto_rows": null,
      "grid_column": null,
      "grid_gap": null,
      "grid_row": null,
      "grid_template_areas": null,
      "grid_template_columns": null,
      "grid_template_rows": null,
      "height": null,
      "justify_content": null,
      "justify_items": null,
      "left": null,
      "margin": null,
      "max_height": null,
      "max_width": null,
      "min_height": null,
      "min_width": null,
      "object_fit": null,
      "object_position": null,
      "order": null,
      "overflow": null,
      "overflow_x": null,
      "overflow_y": null,
      "padding": null,
      "right": null,
      "top": null,
      "visibility": null,
      "width": null
     }
    },
    "23cce37ad6e34f12a53138f9e468eb39": {
     "model_module": "@jupyter-widgets/controls",
     "model_module_version": "1.5.0",
     "model_name": "FloatProgressModel",
     "state": {
      "_dom_classes": [],
      "_model_module": "@jupyter-widgets/controls",
      "_model_module_version": "1.5.0",
      "_model_name": "FloatProgressModel",
      "_view_count": null,
      "_view_module": "@jupyter-widgets/controls",
      "_view_module_version": "1.5.0",
      "_view_name": "ProgressView",
      "bar_style": "success",
      "description": "",
      "description_tooltip": null,
      "layout": "IPY_MODEL_285495b403f44a5888abbe31907f8fea",
      "max": 769,
      "min": 0,
      "orientation": "horizontal",
      "style": "IPY_MODEL_91e621ea24264ad49e9025fc0082aee0",
      "value": 769
     }
    },
    "25c9aad5f6d641c4a898300a20ef6de8": {
     "model_module": "@jupyter-widgets/base",
     "model_module_version": "1.2.0",
     "model_name": "LayoutModel",
     "state": {
      "_model_module": "@jupyter-widgets/base",
      "_model_module_version": "1.2.0",
      "_model_name": "LayoutModel",
      "_view_count": null,
      "_view_module": "@jupyter-widgets/base",
      "_view_module_version": "1.2.0",
      "_view_name": "LayoutView",
      "align_content": null,
      "align_items": null,
      "align_self": null,
      "border": null,
      "bottom": null,
      "display": null,
      "flex": null,
      "flex_flow": null,
      "grid_area": null,
      "grid_auto_columns": null,
      "grid_auto_flow": null,
      "grid_auto_rows": null,
      "grid_column": null,
      "grid_gap": null,
      "grid_row": null,
      "grid_template_areas": null,
      "grid_template_columns": null,
      "grid_template_rows": null,
      "height": null,
      "justify_content": null,
      "justify_items": null,
      "left": null,
      "margin": null,
      "max_height": null,
      "max_width": null,
      "min_height": null,
      "min_width": null,
      "object_fit": null,
      "object_position": null,
      "order": null,
      "overflow": null,
      "overflow_x": null,
      "overflow_y": null,
      "padding": null,
      "right": null,
      "top": null,
      "visibility": null,
      "width": null
     }
    },
    "25d938f52cf74127a7fc99566d37eec1": {
     "model_module": "@jupyter-widgets/base",
     "model_module_version": "1.2.0",
     "model_name": "LayoutModel",
     "state": {
      "_model_module": "@jupyter-widgets/base",
      "_model_module_version": "1.2.0",
      "_model_name": "LayoutModel",
      "_view_count": null,
      "_view_module": "@jupyter-widgets/base",
      "_view_module_version": "1.2.0",
      "_view_name": "LayoutView",
      "align_content": null,
      "align_items": null,
      "align_self": null,
      "border": null,
      "bottom": null,
      "display": null,
      "flex": null,
      "flex_flow": null,
      "grid_area": null,
      "grid_auto_columns": null,
      "grid_auto_flow": null,
      "grid_auto_rows": null,
      "grid_column": null,
      "grid_gap": null,
      "grid_row": null,
      "grid_template_areas": null,
      "grid_template_columns": null,
      "grid_template_rows": null,
      "height": null,
      "justify_content": null,
      "justify_items": null,
      "left": null,
      "margin": null,
      "max_height": null,
      "max_width": null,
      "min_height": null,
      "min_width": null,
      "object_fit": null,
      "object_position": null,
      "order": null,
      "overflow": null,
      "overflow_x": null,
      "overflow_y": null,
      "padding": null,
      "right": null,
      "top": null,
      "visibility": null,
      "width": null
     }
    },
    "26fcf53a44794f4f939cc37519cc1c21": {
     "model_module": "@jupyter-widgets/controls",
     "model_module_version": "1.5.0",
     "model_name": "DescriptionStyleModel",
     "state": {
      "_model_module": "@jupyter-widgets/controls",
      "_model_module_version": "1.5.0",
      "_model_name": "DescriptionStyleModel",
      "_view_count": null,
      "_view_module": "@jupyter-widgets/base",
      "_view_module_version": "1.2.0",
      "_view_name": "StyleView",
      "description_width": ""
     }
    },
    "285495b403f44a5888abbe31907f8fea": {
     "model_module": "@jupyter-widgets/base",
     "model_module_version": "1.2.0",
     "model_name": "LayoutModel",
     "state": {
      "_model_module": "@jupyter-widgets/base",
      "_model_module_version": "1.2.0",
      "_model_name": "LayoutModel",
      "_view_count": null,
      "_view_module": "@jupyter-widgets/base",
      "_view_module_version": "1.2.0",
      "_view_name": "LayoutView",
      "align_content": null,
      "align_items": null,
      "align_self": null,
      "border": null,
      "bottom": null,
      "display": null,
      "flex": null,
      "flex_flow": null,
      "grid_area": null,
      "grid_auto_columns": null,
      "grid_auto_flow": null,
      "grid_auto_rows": null,
      "grid_column": null,
      "grid_gap": null,
      "grid_row": null,
      "grid_template_areas": null,
      "grid_template_columns": null,
      "grid_template_rows": null,
      "height": null,
      "justify_content": null,
      "justify_items": null,
      "left": null,
      "margin": null,
      "max_height": null,
      "max_width": null,
      "min_height": null,
      "min_width": null,
      "object_fit": null,
      "object_position": null,
      "order": null,
      "overflow": null,
      "overflow_x": null,
      "overflow_y": null,
      "padding": null,
      "right": null,
      "top": null,
      "visibility": null,
      "width": null
     }
    },
    "2af4ab9ddee148c88bde62e52c3b8476": {
     "model_module": "@jupyter-widgets/controls",
     "model_module_version": "1.5.0",
     "model_name": "HTMLModel",
     "state": {
      "_dom_classes": [],
      "_model_module": "@jupyter-widgets/controls",
      "_model_module_version": "1.5.0",
      "_model_name": "HTMLModel",
      "_view_count": null,
      "_view_module": "@jupyter-widgets/controls",
      "_view_module_version": "1.5.0",
      "_view_name": "HTMLView",
      "description": "",
      "description_tooltip": null,
      "layout": "IPY_MODEL_0e1b89186e8e4663b48758279fc94011",
      "placeholder": "​",
      "style": "IPY_MODEL_b71a7ed17d694c87811fa62ef010d4f0",
      "value": " 10021/10021 [3:01:55&lt;00:00,  1.09s/it]"
     }
    },
    "2c2a91f9116a4a84b23f9e5b720fced2": {
     "model_module": "@jupyter-widgets/controls",
     "model_module_version": "1.5.0",
     "model_name": "HTMLModel",
     "state": {
      "_dom_classes": [],
      "_model_module": "@jupyter-widgets/controls",
      "_model_module_version": "1.5.0",
      "_model_name": "HTMLModel",
      "_view_count": null,
      "_view_module": "@jupyter-widgets/controls",
      "_view_module_version": "1.5.0",
      "_view_name": "HTMLView",
      "description": "",
      "description_tooltip": null,
      "layout": "IPY_MODEL_e4e76e9a3a324244a8a83890448edc09",
      "placeholder": "​",
      "style": "IPY_MODEL_e1536a1449b24dd7ba55df35617990a6",
      "value": "pytorch_model.bin: 100%"
     }
    },
    "2d505cfa88224b35a5d0c889ab1fc51c": {
     "model_module": "@jupyter-widgets/base",
     "model_module_version": "1.2.0",
     "model_name": "LayoutModel",
     "state": {
      "_model_module": "@jupyter-widgets/base",
      "_model_module_version": "1.2.0",
      "_model_name": "LayoutModel",
      "_view_count": null,
      "_view_module": "@jupyter-widgets/base",
      "_view_module_version": "1.2.0",
      "_view_name": "LayoutView",
      "align_content": null,
      "align_items": null,
      "align_self": null,
      "border": null,
      "bottom": null,
      "display": null,
      "flex": null,
      "flex_flow": null,
      "grid_area": null,
      "grid_auto_columns": null,
      "grid_auto_flow": null,
      "grid_auto_rows": null,
      "grid_column": null,
      "grid_gap": null,
      "grid_row": null,
      "grid_template_areas": null,
      "grid_template_columns": null,
      "grid_template_rows": null,
      "height": null,
      "justify_content": null,
      "justify_items": null,
      "left": null,
      "margin": null,
      "max_height": null,
      "max_width": null,
      "min_height": null,
      "min_width": null,
      "object_fit": null,
      "object_position": null,
      "order": null,
      "overflow": null,
      "overflow_x": null,
      "overflow_y": null,
      "padding": null,
      "right": null,
      "top": null,
      "visibility": null,
      "width": null
     }
    },
    "2e87b98a727e4521994308b7939e2caa": {
     "model_module": "@jupyter-widgets/controls",
     "model_module_version": "1.5.0",
     "model_name": "ProgressStyleModel",
     "state": {
      "_model_module": "@jupyter-widgets/controls",
      "_model_module_version": "1.5.0",
      "_model_name": "ProgressStyleModel",
      "_view_count": null,
      "_view_module": "@jupyter-widgets/base",
      "_view_module_version": "1.2.0",
      "_view_name": "StyleView",
      "bar_color": null,
      "description_width": ""
     }
    },
    "3131cda6f10942a7981b6c9251045116": {
     "model_module": "@jupyter-widgets/base",
     "model_module_version": "1.2.0",
     "model_name": "LayoutModel",
     "state": {
      "_model_module": "@jupyter-widgets/base",
      "_model_module_version": "1.2.0",
      "_model_name": "LayoutModel",
      "_view_count": null,
      "_view_module": "@jupyter-widgets/base",
      "_view_module_version": "1.2.0",
      "_view_name": "LayoutView",
      "align_content": null,
      "align_items": null,
      "align_self": null,
      "border": null,
      "bottom": null,
      "display": null,
      "flex": null,
      "flex_flow": null,
      "grid_area": null,
      "grid_auto_columns": null,
      "grid_auto_flow": null,
      "grid_auto_rows": null,
      "grid_column": null,
      "grid_gap": null,
      "grid_row": null,
      "grid_template_areas": null,
      "grid_template_columns": null,
      "grid_template_rows": null,
      "height": null,
      "justify_content": null,
      "justify_items": null,
      "left": null,
      "margin": null,
      "max_height": null,
      "max_width": null,
      "min_height": null,
      "min_width": null,
      "object_fit": null,
      "object_position": null,
      "order": null,
      "overflow": null,
      "overflow_x": null,
      "overflow_y": null,
      "padding": null,
      "right": null,
      "top": null,
      "visibility": null,
      "width": null
     }
    },
    "315efc905a894986bc556f7d5ae92e66": {
     "model_module": "@jupyter-widgets/controls",
     "model_module_version": "1.5.0",
     "model_name": "DescriptionStyleModel",
     "state": {
      "_model_module": "@jupyter-widgets/controls",
      "_model_module_version": "1.5.0",
      "_model_name": "DescriptionStyleModel",
      "_view_count": null,
      "_view_module": "@jupyter-widgets/base",
      "_view_module_version": "1.2.0",
      "_view_name": "StyleView",
      "description_width": ""
     }
    },
    "334bf7fe424e4556b86cdf2bebd455ff": {
     "model_module": "@jupyter-widgets/controls",
     "model_module_version": "1.5.0",
     "model_name": "ProgressStyleModel",
     "state": {
      "_model_module": "@jupyter-widgets/controls",
      "_model_module_version": "1.5.0",
      "_model_name": "ProgressStyleModel",
      "_view_count": null,
      "_view_module": "@jupyter-widgets/base",
      "_view_module_version": "1.2.0",
      "_view_name": "StyleView",
      "bar_color": null,
      "description_width": ""
     }
    },
    "36660e9b2bfb42de827cd628fdead69b": {
     "model_module": "@jupyter-widgets/controls",
     "model_module_version": "1.5.0",
     "model_name": "ProgressStyleModel",
     "state": {
      "_model_module": "@jupyter-widgets/controls",
      "_model_module_version": "1.5.0",
      "_model_name": "ProgressStyleModel",
      "_view_count": null,
      "_view_module": "@jupyter-widgets/base",
      "_view_module_version": "1.2.0",
      "_view_name": "StyleView",
      "bar_color": null,
      "description_width": ""
     }
    },
    "3693905281884712aab95ecd815f41eb": {
     "model_module": "@jupyter-widgets/base",
     "model_module_version": "1.2.0",
     "model_name": "LayoutModel",
     "state": {
      "_model_module": "@jupyter-widgets/base",
      "_model_module_version": "1.2.0",
      "_model_name": "LayoutModel",
      "_view_count": null,
      "_view_module": "@jupyter-widgets/base",
      "_view_module_version": "1.2.0",
      "_view_name": "LayoutView",
      "align_content": null,
      "align_items": null,
      "align_self": null,
      "border": null,
      "bottom": null,
      "display": null,
      "flex": null,
      "flex_flow": null,
      "grid_area": null,
      "grid_auto_columns": null,
      "grid_auto_flow": null,
      "grid_auto_rows": null,
      "grid_column": null,
      "grid_gap": null,
      "grid_row": null,
      "grid_template_areas": null,
      "grid_template_columns": null,
      "grid_template_rows": null,
      "height": null,
      "justify_content": null,
      "justify_items": null,
      "left": null,
      "margin": null,
      "max_height": null,
      "max_width": null,
      "min_height": null,
      "min_width": null,
      "object_fit": null,
      "object_position": null,
      "order": null,
      "overflow": null,
      "overflow_x": null,
      "overflow_y": null,
      "padding": null,
      "right": null,
      "top": null,
      "visibility": null,
      "width": null
     }
    },
    "3a607fbb943a498cbbf7742dd537b8ed": {
     "model_module": "@jupyter-widgets/controls",
     "model_module_version": "1.5.0",
     "model_name": "DescriptionStyleModel",
     "state": {
      "_model_module": "@jupyter-widgets/controls",
      "_model_module_version": "1.5.0",
      "_model_name": "DescriptionStyleModel",
      "_view_count": null,
      "_view_module": "@jupyter-widgets/base",
      "_view_module_version": "1.2.0",
      "_view_name": "StyleView",
      "description_width": ""
     }
    },
    "3ae7606311674437b6c93f220a39219a": {
     "model_module": "@jupyter-widgets/base",
     "model_module_version": "1.2.0",
     "model_name": "LayoutModel",
     "state": {
      "_model_module": "@jupyter-widgets/base",
      "_model_module_version": "1.2.0",
      "_model_name": "LayoutModel",
      "_view_count": null,
      "_view_module": "@jupyter-widgets/base",
      "_view_module_version": "1.2.0",
      "_view_name": "LayoutView",
      "align_content": null,
      "align_items": null,
      "align_self": null,
      "border": null,
      "bottom": null,
      "display": null,
      "flex": null,
      "flex_flow": null,
      "grid_area": null,
      "grid_auto_columns": null,
      "grid_auto_flow": null,
      "grid_auto_rows": null,
      "grid_column": null,
      "grid_gap": null,
      "grid_row": null,
      "grid_template_areas": null,
      "grid_template_columns": null,
      "grid_template_rows": null,
      "height": null,
      "justify_content": null,
      "justify_items": null,
      "left": null,
      "margin": null,
      "max_height": null,
      "max_width": null,
      "min_height": null,
      "min_width": null,
      "object_fit": null,
      "object_position": null,
      "order": null,
      "overflow": null,
      "overflow_x": null,
      "overflow_y": null,
      "padding": null,
      "right": null,
      "top": null,
      "visibility": null,
      "width": null
     }
    },
    "3b6a4fe56af543c78dc796b10ec668e9": {
     "model_module": "@jupyter-widgets/controls",
     "model_module_version": "1.5.0",
     "model_name": "DescriptionStyleModel",
     "state": {
      "_model_module": "@jupyter-widgets/controls",
      "_model_module_version": "1.5.0",
      "_model_name": "DescriptionStyleModel",
      "_view_count": null,
      "_view_module": "@jupyter-widgets/base",
      "_view_module_version": "1.2.0",
      "_view_name": "StyleView",
      "description_width": ""
     }
    },
    "3c123d5b481142dc9638512a0e3a6eb4": {
     "model_module": "@jupyter-widgets/controls",
     "model_module_version": "1.5.0",
     "model_name": "DescriptionStyleModel",
     "state": {
      "_model_module": "@jupyter-widgets/controls",
      "_model_module_version": "1.5.0",
      "_model_name": "DescriptionStyleModel",
      "_view_count": null,
      "_view_module": "@jupyter-widgets/base",
      "_view_module_version": "1.2.0",
      "_view_name": "StyleView",
      "description_width": ""
     }
    },
    "3c3a97d37b9444b48fc3750461004dcc": {
     "model_module": "@jupyter-widgets/base",
     "model_module_version": "1.2.0",
     "model_name": "LayoutModel",
     "state": {
      "_model_module": "@jupyter-widgets/base",
      "_model_module_version": "1.2.0",
      "_model_name": "LayoutModel",
      "_view_count": null,
      "_view_module": "@jupyter-widgets/base",
      "_view_module_version": "1.2.0",
      "_view_name": "LayoutView",
      "align_content": null,
      "align_items": null,
      "align_self": null,
      "border": null,
      "bottom": null,
      "display": null,
      "flex": null,
      "flex_flow": null,
      "grid_area": null,
      "grid_auto_columns": null,
      "grid_auto_flow": null,
      "grid_auto_rows": null,
      "grid_column": null,
      "grid_gap": null,
      "grid_row": null,
      "grid_template_areas": null,
      "grid_template_columns": null,
      "grid_template_rows": null,
      "height": null,
      "justify_content": null,
      "justify_items": null,
      "left": null,
      "margin": null,
      "max_height": null,
      "max_width": null,
      "min_height": null,
      "min_width": null,
      "object_fit": null,
      "object_position": null,
      "order": null,
      "overflow": null,
      "overflow_x": null,
      "overflow_y": null,
      "padding": null,
      "right": null,
      "top": null,
      "visibility": null,
      "width": null
     }
    },
    "3c479a844edf41e196d120753834b49f": {
     "model_module": "@jupyter-widgets/controls",
     "model_module_version": "1.5.0",
     "model_name": "HTMLModel",
     "state": {
      "_dom_classes": [],
      "_model_module": "@jupyter-widgets/controls",
      "_model_module_version": "1.5.0",
      "_model_name": "HTMLModel",
      "_view_count": null,
      "_view_module": "@jupyter-widgets/controls",
      "_view_module_version": "1.5.0",
      "_view_name": "HTMLView",
      "description": "",
      "description_tooltip": null,
      "layout": "IPY_MODEL_dcb0fc56418843deb4743372ac806692",
      "placeholder": "​",
      "style": "IPY_MODEL_8b991a0a2875488ab67d22857e9b9bfa",
      "value": "config.json: 100%"
     }
    },
    "3c9470c981ab4e56b95a72ead72cd308": {
     "model_module": "@jupyter-widgets/controls",
     "model_module_version": "1.5.0",
     "model_name": "DescriptionStyleModel",
     "state": {
      "_model_module": "@jupyter-widgets/controls",
      "_model_module_version": "1.5.0",
      "_model_name": "DescriptionStyleModel",
      "_view_count": null,
      "_view_module": "@jupyter-widgets/base",
      "_view_module_version": "1.2.0",
      "_view_name": "StyleView",
      "description_width": ""
     }
    },
    "40021f4b1a1f4fc7a1fd3ed7bd1e9c11": {
     "model_module": "@jupyter-widgets/controls",
     "model_module_version": "1.5.0",
     "model_name": "HTMLModel",
     "state": {
      "_dom_classes": [],
      "_model_module": "@jupyter-widgets/controls",
      "_model_module_version": "1.5.0",
      "_model_name": "HTMLModel",
      "_view_count": null,
      "_view_module": "@jupyter-widgets/controls",
      "_view_module_version": "1.5.0",
      "_view_name": "HTMLView",
      "description": "",
      "description_tooltip": null,
      "layout": "IPY_MODEL_830541955e6c47c1b4b471f7174f82a2",
      "placeholder": "​",
      "style": "IPY_MODEL_ab49d126a2a3407696e56badc2e1d699",
      "value": " 116/116 [00:00&lt;00:00, 6.64kB/s]"
     }
    },
    "4031c677ed5a4aa2967f149cc13cdd7c": {
     "model_module": "@jupyter-widgets/controls",
     "model_module_version": "1.5.0",
     "model_name": "FloatProgressModel",
     "state": {
      "_dom_classes": [],
      "_model_module": "@jupyter-widgets/controls",
      "_model_module_version": "1.5.0",
      "_model_name": "FloatProgressModel",
      "_view_count": null,
      "_view_module": "@jupyter-widgets/controls",
      "_view_module_version": "1.5.0",
      "_view_name": "ProgressView",
      "bar_style": "success",
      "description": "",
      "description_tooltip": null,
      "layout": "IPY_MODEL_3c3a97d37b9444b48fc3750461004dcc",
      "max": 267858605,
      "min": 0,
      "orientation": "horizontal",
      "style": "IPY_MODEL_36660e9b2bfb42de827cd628fdead69b",
      "value": 267858605
     }
    },
    "406df43ab611486f885d02407c37a13a": {
     "model_module": "@jupyter-widgets/controls",
     "model_module_version": "1.5.0",
     "model_name": "HTMLModel",
     "state": {
      "_dom_classes": [],
      "_model_module": "@jupyter-widgets/controls",
      "_model_module_version": "1.5.0",
      "_model_name": "HTMLModel",
      "_view_count": null,
      "_view_module": "@jupyter-widgets/controls",
      "_view_module_version": "1.5.0",
      "_view_name": "HTMLView",
      "description": "",
      "description_tooltip": null,
      "layout": "IPY_MODEL_890160fbd9a645709b230162f7593da5",
      "placeholder": "​",
      "style": "IPY_MODEL_a7a262d97309492293e425f5445be77a",
      "value": " 268M/268M [00:02&lt;00:00, 154MB/s]"
     }
    },
    "40e2474c54804a3891c5dff54531296b": {
     "model_module": "@jupyter-widgets/controls",
     "model_module_version": "1.5.0",
     "model_name": "ProgressStyleModel",
     "state": {
      "_model_module": "@jupyter-widgets/controls",
      "_model_module_version": "1.5.0",
      "_model_name": "ProgressStyleModel",
      "_view_count": null,
      "_view_module": "@jupyter-widgets/base",
      "_view_module_version": "1.2.0",
      "_view_name": "StyleView",
      "bar_color": null,
      "description_width": ""
     }
    },
    "41c425cc9f9742658633d3b90a930068": {
     "model_module": "@jupyter-widgets/base",
     "model_module_version": "1.2.0",
     "model_name": "LayoutModel",
     "state": {
      "_model_module": "@jupyter-widgets/base",
      "_model_module_version": "1.2.0",
      "_model_name": "LayoutModel",
      "_view_count": null,
      "_view_module": "@jupyter-widgets/base",
      "_view_module_version": "1.2.0",
      "_view_name": "LayoutView",
      "align_content": null,
      "align_items": null,
      "align_self": null,
      "border": null,
      "bottom": null,
      "display": null,
      "flex": null,
      "flex_flow": null,
      "grid_area": null,
      "grid_auto_columns": null,
      "grid_auto_flow": null,
      "grid_auto_rows": null,
      "grid_column": null,
      "grid_gap": null,
      "grid_row": null,
      "grid_template_areas": null,
      "grid_template_columns": null,
      "grid_template_rows": null,
      "height": null,
      "justify_content": null,
      "justify_items": null,
      "left": null,
      "margin": null,
      "max_height": null,
      "max_width": null,
      "min_height": null,
      "min_width": null,
      "object_fit": null,
      "object_position": null,
      "order": null,
      "overflow": null,
      "overflow_x": null,
      "overflow_y": null,
      "padding": null,
      "right": null,
      "top": null,
      "visibility": null,
      "width": null
     }
    },
    "41ed2e9a681046fbb7e713b18a9235dc": {
     "model_module": "@jupyter-widgets/controls",
     "model_module_version": "1.5.0",
     "model_name": "HTMLModel",
     "state": {
      "_dom_classes": [],
      "_model_module": "@jupyter-widgets/controls",
      "_model_module_version": "1.5.0",
      "_model_name": "HTMLModel",
      "_view_count": null,
      "_view_module": "@jupyter-widgets/controls",
      "_view_module_version": "1.5.0",
      "_view_name": "HTMLView",
      "description": "",
      "description_tooltip": null,
      "layout": "IPY_MODEL_d005f44946134de99e15a06cdc13a11f",
      "placeholder": "​",
      "style": "IPY_MODEL_3c9470c981ab4e56b95a72ead72cd308",
      "value": " 268M/268M [00:02&lt;00:00, 126MB/s]"
     }
    },
    "41fe82d0436340c1b0b51e242e4e1bde": {
     "model_module": "@jupyter-widgets/controls",
     "model_module_version": "1.5.0",
     "model_name": "FloatProgressModel",
     "state": {
      "_dom_classes": [],
      "_model_module": "@jupyter-widgets/controls",
      "_model_module_version": "1.5.0",
      "_model_name": "FloatProgressModel",
      "_view_count": null,
      "_view_module": "@jupyter-widgets/controls",
      "_view_module_version": "1.5.0",
      "_view_name": "ProgressView",
      "bar_style": "success",
      "description": "",
      "description_tooltip": null,
      "layout": "IPY_MODEL_1fe41bf158614ed1aeab3ff725102247",
      "max": 267835644,
      "min": 0,
      "orientation": "horizontal",
      "style": "IPY_MODEL_c0d96b63fdd74ac5b69444cb30a5e549",
      "value": 267835644
     }
    },
    "42354d6adc07478682a5c74b943b6a28": {
     "model_module": "@jupyter-widgets/base",
     "model_module_version": "1.2.0",
     "model_name": "LayoutModel",
     "state": {
      "_model_module": "@jupyter-widgets/base",
      "_model_module_version": "1.2.0",
      "_model_name": "LayoutModel",
      "_view_count": null,
      "_view_module": "@jupyter-widgets/base",
      "_view_module_version": "1.2.0",
      "_view_name": "LayoutView",
      "align_content": null,
      "align_items": null,
      "align_self": null,
      "border": null,
      "bottom": null,
      "display": null,
      "flex": null,
      "flex_flow": null,
      "grid_area": null,
      "grid_auto_columns": null,
      "grid_auto_flow": null,
      "grid_auto_rows": null,
      "grid_column": null,
      "grid_gap": null,
      "grid_row": null,
      "grid_template_areas": null,
      "grid_template_columns": null,
      "grid_template_rows": null,
      "height": null,
      "justify_content": null,
      "justify_items": null,
      "left": null,
      "margin": null,
      "max_height": null,
      "max_width": null,
      "min_height": null,
      "min_width": null,
      "object_fit": null,
      "object_position": null,
      "order": null,
      "overflow": null,
      "overflow_x": null,
      "overflow_y": null,
      "padding": null,
      "right": null,
      "top": null,
      "visibility": null,
      "width": null
     }
    },
    "4435cf87bad24961bd58bb92dc6ea8aa": {
     "model_module": "@jupyter-widgets/base",
     "model_module_version": "1.2.0",
     "model_name": "LayoutModel",
     "state": {
      "_model_module": "@jupyter-widgets/base",
      "_model_module_version": "1.2.0",
      "_model_name": "LayoutModel",
      "_view_count": null,
      "_view_module": "@jupyter-widgets/base",
      "_view_module_version": "1.2.0",
      "_view_name": "LayoutView",
      "align_content": null,
      "align_items": null,
      "align_self": null,
      "border": null,
      "bottom": null,
      "display": null,
      "flex": null,
      "flex_flow": null,
      "grid_area": null,
      "grid_auto_columns": null,
      "grid_auto_flow": null,
      "grid_auto_rows": null,
      "grid_column": null,
      "grid_gap": null,
      "grid_row": null,
      "grid_template_areas": null,
      "grid_template_columns": null,
      "grid_template_rows": null,
      "height": null,
      "justify_content": null,
      "justify_items": null,
      "left": null,
      "margin": null,
      "max_height": null,
      "max_width": null,
      "min_height": null,
      "min_width": null,
      "object_fit": null,
      "object_position": null,
      "order": null,
      "overflow": null,
      "overflow_x": null,
      "overflow_y": null,
      "padding": null,
      "right": null,
      "top": null,
      "visibility": null,
      "width": null
     }
    },
    "454c0375519f42c4a9fafcae126d8766": {
     "model_module": "@jupyter-widgets/controls",
     "model_module_version": "1.5.0",
     "model_name": "DescriptionStyleModel",
     "state": {
      "_model_module": "@jupyter-widgets/controls",
      "_model_module_version": "1.5.0",
      "_model_name": "DescriptionStyleModel",
      "_view_count": null,
      "_view_module": "@jupyter-widgets/base",
      "_view_module_version": "1.2.0",
      "_view_name": "StyleView",
      "description_width": ""
     }
    },
    "49de1d3b768349dcb35fee1cdee62c89": {
     "model_module": "@jupyter-widgets/base",
     "model_module_version": "1.2.0",
     "model_name": "LayoutModel",
     "state": {
      "_model_module": "@jupyter-widgets/base",
      "_model_module_version": "1.2.0",
      "_model_name": "LayoutModel",
      "_view_count": null,
      "_view_module": "@jupyter-widgets/base",
      "_view_module_version": "1.2.0",
      "_view_name": "LayoutView",
      "align_content": null,
      "align_items": null,
      "align_self": null,
      "border": null,
      "bottom": null,
      "display": null,
      "flex": null,
      "flex_flow": null,
      "grid_area": null,
      "grid_auto_columns": null,
      "grid_auto_flow": null,
      "grid_auto_rows": null,
      "grid_column": null,
      "grid_gap": null,
      "grid_row": null,
      "grid_template_areas": null,
      "grid_template_columns": null,
      "grid_template_rows": null,
      "height": null,
      "justify_content": null,
      "justify_items": null,
      "left": null,
      "margin": null,
      "max_height": null,
      "max_width": null,
      "min_height": null,
      "min_width": null,
      "object_fit": null,
      "object_position": null,
      "order": null,
      "overflow": null,
      "overflow_x": null,
      "overflow_y": null,
      "padding": null,
      "right": null,
      "top": null,
      "visibility": null,
      "width": null
     }
    },
    "4c60464413b84131a47ef2ef79efecbb": {
     "model_module": "@jupyter-widgets/base",
     "model_module_version": "1.2.0",
     "model_name": "LayoutModel",
     "state": {
      "_model_module": "@jupyter-widgets/base",
      "_model_module_version": "1.2.0",
      "_model_name": "LayoutModel",
      "_view_count": null,
      "_view_module": "@jupyter-widgets/base",
      "_view_module_version": "1.2.0",
      "_view_name": "LayoutView",
      "align_content": null,
      "align_items": null,
      "align_self": null,
      "border": null,
      "bottom": null,
      "display": null,
      "flex": null,
      "flex_flow": null,
      "grid_area": null,
      "grid_auto_columns": null,
      "grid_auto_flow": null,
      "grid_auto_rows": null,
      "grid_column": null,
      "grid_gap": null,
      "grid_row": null,
      "grid_template_areas": null,
      "grid_template_columns": null,
      "grid_template_rows": null,
      "height": null,
      "justify_content": null,
      "justify_items": null,
      "left": null,
      "margin": null,
      "max_height": null,
      "max_width": null,
      "min_height": null,
      "min_width": null,
      "object_fit": null,
      "object_position": null,
      "order": null,
      "overflow": null,
      "overflow_x": null,
      "overflow_y": null,
      "padding": null,
      "right": null,
      "top": null,
      "visibility": null,
      "width": null
     }
    },
    "4cae9f3e61c143a1a8e68145d5301ee1": {
     "model_module": "@jupyter-widgets/controls",
     "model_module_version": "1.5.0",
     "model_name": "HTMLModel",
     "state": {
      "_dom_classes": [],
      "_model_module": "@jupyter-widgets/controls",
      "_model_module_version": "1.5.0",
      "_model_name": "HTMLModel",
      "_view_count": null,
      "_view_module": "@jupyter-widgets/controls",
      "_view_module_version": "1.5.0",
      "_view_name": "HTMLView",
      "description": "",
      "description_tooltip": null,
      "layout": "IPY_MODEL_49de1d3b768349dcb35fee1cdee62c89",
      "placeholder": "​",
      "style": "IPY_MODEL_105fe9bcb656451d8d02d3f487293aec",
      "value": "special_tokens_map.json: 100%"
     }
    },
    "4ccbca5215b74c909929a8ff54b64d0a": {
     "model_module": "@jupyter-widgets/base",
     "model_module_version": "1.2.0",
     "model_name": "LayoutModel",
     "state": {
      "_model_module": "@jupyter-widgets/base",
      "_model_module_version": "1.2.0",
      "_model_name": "LayoutModel",
      "_view_count": null,
      "_view_module": "@jupyter-widgets/base",
      "_view_module_version": "1.2.0",
      "_view_name": "LayoutView",
      "align_content": null,
      "align_items": null,
      "align_self": null,
      "border": null,
      "bottom": null,
      "display": null,
      "flex": null,
      "flex_flow": null,
      "grid_area": null,
      "grid_auto_columns": null,
      "grid_auto_flow": null,
      "grid_auto_rows": null,
      "grid_column": null,
      "grid_gap": null,
      "grid_row": null,
      "grid_template_areas": null,
      "grid_template_columns": null,
      "grid_template_rows": null,
      "height": null,
      "justify_content": null,
      "justify_items": null,
      "left": null,
      "margin": null,
      "max_height": null,
      "max_width": null,
      "min_height": null,
      "min_width": null,
      "object_fit": null,
      "object_position": null,
      "order": null,
      "overflow": null,
      "overflow_x": null,
      "overflow_y": null,
      "padding": null,
      "right": null,
      "top": null,
      "visibility": null,
      "width": null
     }
    },
    "4e1b611ab0f0408bb130fbf4f0e33e45": {
     "model_module": "@jupyter-widgets/controls",
     "model_module_version": "1.5.0",
     "model_name": "DescriptionStyleModel",
     "state": {
      "_model_module": "@jupyter-widgets/controls",
      "_model_module_version": "1.5.0",
      "_model_name": "DescriptionStyleModel",
      "_view_count": null,
      "_view_module": "@jupyter-widgets/base",
      "_view_module_version": "1.2.0",
      "_view_name": "StyleView",
      "description_width": ""
     }
    },
    "4e7baa502f5e4ce0b9361005026ba2e5": {
     "model_module": "@jupyter-widgets/controls",
     "model_module_version": "1.5.0",
     "model_name": "FloatProgressModel",
     "state": {
      "_dom_classes": [],
      "_model_module": "@jupyter-widgets/controls",
      "_model_module_version": "1.5.0",
      "_model_name": "FloatProgressModel",
      "_view_count": null,
      "_view_module": "@jupyter-widgets/controls",
      "_view_module_version": "1.5.0",
      "_view_name": "ProgressView",
      "bar_style": "success",
      "description": "",
      "description_tooltip": null,
      "layout": "IPY_MODEL_7d4d10d3235947c0b6111f02ba5b1785",
      "max": 10800,
      "min": 0,
      "orientation": "horizontal",
      "style": "IPY_MODEL_a262e1b851184387a6d771e0d506d6ef",
      "value": 10800
     }
    },
    "5002b4a2886d4a2cb742d57f0af13af2": {
     "model_module": "@jupyter-widgets/controls",
     "model_module_version": "1.5.0",
     "model_name": "HTMLModel",
     "state": {
      "_dom_classes": [],
      "_model_module": "@jupyter-widgets/controls",
      "_model_module_version": "1.5.0",
      "_model_name": "HTMLModel",
      "_view_count": null,
      "_view_module": "@jupyter-widgets/controls",
      "_view_module_version": "1.5.0",
      "_view_name": "HTMLView",
      "description": "",
      "description_tooltip": null,
      "layout": "IPY_MODEL_0b3c4b9285354a649fe49fc830dfd712",
      "placeholder": "​",
      "style": "IPY_MODEL_707a1cbcbfff43929f8dd4cf9f73719c",
      "value": " 53.0/53.0 [00:00&lt;00:00, 4.49kB/s]"
     }
    },
    "51d331618d824c6fa73ff8c303372d42": {
     "model_module": "@jupyter-widgets/controls",
     "model_module_version": "1.5.0",
     "model_name": "FloatProgressModel",
     "state": {
      "_dom_classes": [],
      "_model_module": "@jupyter-widgets/controls",
      "_model_module_version": "1.5.0",
      "_model_name": "FloatProgressModel",
      "_view_count": null,
      "_view_module": "@jupyter-widgets/controls",
      "_view_module_version": "1.5.0",
      "_view_name": "ProgressView",
      "bar_style": "success",
      "description": "",
      "description_tooltip": null,
      "layout": "IPY_MODEL_9cedb7f6201a4a76ba201fb427224cca",
      "max": 612,
      "min": 0,
      "orientation": "horizontal",
      "style": "IPY_MODEL_40e2474c54804a3891c5dff54531296b",
      "value": 612
     }
    },
    "52d33a3981f9450da5326c46c3b47941": {
     "model_module": "@jupyter-widgets/controls",
     "model_module_version": "1.5.0",
     "model_name": "ProgressStyleModel",
     "state": {
      "_model_module": "@jupyter-widgets/controls",
      "_model_module_version": "1.5.0",
      "_model_name": "ProgressStyleModel",
      "_view_count": null,
      "_view_module": "@jupyter-widgets/base",
      "_view_module_version": "1.2.0",
      "_view_name": "StyleView",
      "bar_color": null,
      "description_width": ""
     }
    },
    "5451eb80d75040e4bcea8ebae1d22f77": {
     "model_module": "@jupyter-widgets/controls",
     "model_module_version": "1.5.0",
     "model_name": "ProgressStyleModel",
     "state": {
      "_model_module": "@jupyter-widgets/controls",
      "_model_module_version": "1.5.0",
      "_model_name": "ProgressStyleModel",
      "_view_count": null,
      "_view_module": "@jupyter-widgets/base",
      "_view_module_version": "1.2.0",
      "_view_name": "StyleView",
      "bar_color": null,
      "description_width": ""
     }
    },
    "56f696d9ba2942c6ae50c73584842a3d": {
     "model_module": "@jupyter-widgets/base",
     "model_module_version": "1.2.0",
     "model_name": "LayoutModel",
     "state": {
      "_model_module": "@jupyter-widgets/base",
      "_model_module_version": "1.2.0",
      "_model_name": "LayoutModel",
      "_view_count": null,
      "_view_module": "@jupyter-widgets/base",
      "_view_module_version": "1.2.0",
      "_view_name": "LayoutView",
      "align_content": null,
      "align_items": null,
      "align_self": null,
      "border": null,
      "bottom": null,
      "display": null,
      "flex": null,
      "flex_flow": null,
      "grid_area": null,
      "grid_auto_columns": null,
      "grid_auto_flow": null,
      "grid_auto_rows": null,
      "grid_column": null,
      "grid_gap": null,
      "grid_row": null,
      "grid_template_areas": null,
      "grid_template_columns": null,
      "grid_template_rows": null,
      "height": null,
      "justify_content": null,
      "justify_items": null,
      "left": null,
      "margin": null,
      "max_height": null,
      "max_width": null,
      "min_height": null,
      "min_width": null,
      "object_fit": null,
      "object_position": null,
      "order": null,
      "overflow": null,
      "overflow_x": null,
      "overflow_y": null,
      "padding": null,
      "right": null,
      "top": null,
      "visibility": null,
      "width": null
     }
    },
    "5711570f3ae44596b31037205eb3868e": {
     "model_module": "@jupyter-widgets/base",
     "model_module_version": "1.2.0",
     "model_name": "LayoutModel",
     "state": {
      "_model_module": "@jupyter-widgets/base",
      "_model_module_version": "1.2.0",
      "_model_name": "LayoutModel",
      "_view_count": null,
      "_view_module": "@jupyter-widgets/base",
      "_view_module_version": "1.2.0",
      "_view_name": "LayoutView",
      "align_content": null,
      "align_items": null,
      "align_self": null,
      "border": null,
      "bottom": null,
      "display": null,
      "flex": null,
      "flex_flow": null,
      "grid_area": null,
      "grid_auto_columns": null,
      "grid_auto_flow": null,
      "grid_auto_rows": null,
      "grid_column": null,
      "grid_gap": null,
      "grid_row": null,
      "grid_template_areas": null,
      "grid_template_columns": null,
      "grid_template_rows": null,
      "height": null,
      "justify_content": null,
      "justify_items": null,
      "left": null,
      "margin": null,
      "max_height": null,
      "max_width": null,
      "min_height": null,
      "min_width": null,
      "object_fit": null,
      "object_position": null,
      "order": null,
      "overflow": null,
      "overflow_x": null,
      "overflow_y": null,
      "padding": null,
      "right": null,
      "top": null,
      "visibility": null,
      "width": null
     }
    },
    "594e4f67028d41cdb14fa435b6a8d124": {
     "model_module": "@jupyter-widgets/controls",
     "model_module_version": "1.5.0",
     "model_name": "FloatProgressModel",
     "state": {
      "_dom_classes": [],
      "_model_module": "@jupyter-widgets/controls",
      "_model_module_version": "1.5.0",
      "_model_name": "FloatProgressModel",
      "_view_count": null,
      "_view_module": "@jupyter-widgets/controls",
      "_view_module_version": "1.5.0",
      "_view_name": "ProgressView",
      "bar_style": "success",
      "description": "",
      "description_tooltip": null,
      "layout": "IPY_MODEL_e15e85a9061442009da08b94acaecdba",
      "max": 466247,
      "min": 0,
      "orientation": "horizontal",
      "style": "IPY_MODEL_2e87b98a727e4521994308b7939e2caa",
      "value": 466247
     }
    },
    "59adba0ce4a84363be671570c75b1104": {
     "model_module": "@jupyter-widgets/base",
     "model_module_version": "1.2.0",
     "model_name": "LayoutModel",
     "state": {
      "_model_module": "@jupyter-widgets/base",
      "_model_module_version": "1.2.0",
      "_model_name": "LayoutModel",
      "_view_count": null,
      "_view_module": "@jupyter-widgets/base",
      "_view_module_version": "1.2.0",
      "_view_name": "LayoutView",
      "align_content": null,
      "align_items": null,
      "align_self": null,
      "border": null,
      "bottom": null,
      "display": null,
      "flex": null,
      "flex_flow": null,
      "grid_area": null,
      "grid_auto_columns": null,
      "grid_auto_flow": null,
      "grid_auto_rows": null,
      "grid_column": null,
      "grid_gap": null,
      "grid_row": null,
      "grid_template_areas": null,
      "grid_template_columns": null,
      "grid_template_rows": null,
      "height": null,
      "justify_content": null,
      "justify_items": null,
      "left": null,
      "margin": null,
      "max_height": null,
      "max_width": null,
      "min_height": null,
      "min_width": null,
      "object_fit": null,
      "object_position": null,
      "order": null,
      "overflow": null,
      "overflow_x": null,
      "overflow_y": null,
      "padding": null,
      "right": null,
      "top": null,
      "visibility": null,
      "width": null
     }
    },
    "5a19d5fdd2ea47a7bc354f09958c817c": {
     "model_module": "@jupyter-widgets/base",
     "model_module_version": "1.2.0",
     "model_name": "LayoutModel",
     "state": {
      "_model_module": "@jupyter-widgets/base",
      "_model_module_version": "1.2.0",
      "_model_name": "LayoutModel",
      "_view_count": null,
      "_view_module": "@jupyter-widgets/base",
      "_view_module_version": "1.2.0",
      "_view_name": "LayoutView",
      "align_content": null,
      "align_items": null,
      "align_self": null,
      "border": null,
      "bottom": null,
      "display": null,
      "flex": null,
      "flex_flow": null,
      "grid_area": null,
      "grid_auto_columns": null,
      "grid_auto_flow": null,
      "grid_auto_rows": null,
      "grid_column": null,
      "grid_gap": null,
      "grid_row": null,
      "grid_template_areas": null,
      "grid_template_columns": null,
      "grid_template_rows": null,
      "height": null,
      "justify_content": null,
      "justify_items": null,
      "left": null,
      "margin": null,
      "max_height": null,
      "max_width": null,
      "min_height": null,
      "min_width": null,
      "object_fit": null,
      "object_position": null,
      "order": null,
      "overflow": null,
      "overflow_x": null,
      "overflow_y": null,
      "padding": null,
      "right": null,
      "top": null,
      "visibility": null,
      "width": null
     }
    },
    "5b7fefe98e2f44ea985c1022e82e64d4": {
     "model_module": "@jupyter-widgets/controls",
     "model_module_version": "1.5.0",
     "model_name": "HBoxModel",
     "state": {
      "_dom_classes": [],
      "_model_module": "@jupyter-widgets/controls",
      "_model_module_version": "1.5.0",
      "_model_name": "HBoxModel",
      "_view_count": null,
      "_view_module": "@jupyter-widgets/controls",
      "_view_module_version": "1.5.0",
      "_view_name": "HBoxView",
      "box_style": "",
      "children": [
       "IPY_MODEL_9971360e9d374020890567cad112b44a",
       "IPY_MODEL_ab9823ac510442a2aeaa030ad817429c",
       "IPY_MODEL_e9e8e0753d044bfca73bf41ba241d477"
      ],
      "layout": "IPY_MODEL_8f69c0b56a054532823637fe580a4ae5"
     }
    },
    "5ed7d0bbb79141ba8198004e837c9310": {
     "model_module": "@jupyter-widgets/controls",
     "model_module_version": "1.5.0",
     "model_name": "DescriptionStyleModel",
     "state": {
      "_model_module": "@jupyter-widgets/controls",
      "_model_module_version": "1.5.0",
      "_model_name": "DescriptionStyleModel",
      "_view_count": null,
      "_view_module": "@jupyter-widgets/base",
      "_view_module_version": "1.2.0",
      "_view_name": "StyleView",
      "description_width": ""
     }
    },
    "602026d850ad46c49bfa83da0e6f1427": {
     "model_module": "@jupyter-widgets/controls",
     "model_module_version": "1.5.0",
     "model_name": "FloatProgressModel",
     "state": {
      "_dom_classes": [],
      "_model_module": "@jupyter-widgets/controls",
      "_model_module_version": "1.5.0",
      "_model_name": "FloatProgressModel",
      "_view_count": null,
      "_view_module": "@jupyter-widgets/controls",
      "_view_module_version": "1.5.0",
      "_view_name": "ProgressView",
      "bar_style": "success",
      "description": "",
      "description_tooltip": null,
      "layout": "IPY_MODEL_cc49ee51fc5f407f8b42b111e331e869",
      "max": 116,
      "min": 0,
      "orientation": "horizontal",
      "style": "IPY_MODEL_e0e14de4bec14ddbb946905bb42e84db",
      "value": 116
     }
    },
    "60bc73cc8e34454a811a330fe2c87e01": {
     "model_module": "@jupyter-widgets/base",
     "model_module_version": "1.2.0",
     "model_name": "LayoutModel",
     "state": {
      "_model_module": "@jupyter-widgets/base",
      "_model_module_version": "1.2.0",
      "_model_name": "LayoutModel",
      "_view_count": null,
      "_view_module": "@jupyter-widgets/base",
      "_view_module_version": "1.2.0",
      "_view_name": "LayoutView",
      "align_content": null,
      "align_items": null,
      "align_self": null,
      "border": null,
      "bottom": null,
      "display": null,
      "flex": null,
      "flex_flow": null,
      "grid_area": null,
      "grid_auto_columns": null,
      "grid_auto_flow": null,
      "grid_auto_rows": null,
      "grid_column": null,
      "grid_gap": null,
      "grid_row": null,
      "grid_template_areas": null,
      "grid_template_columns": null,
      "grid_template_rows": null,
      "height": null,
      "justify_content": null,
      "justify_items": null,
      "left": null,
      "margin": null,
      "max_height": null,
      "max_width": null,
      "min_height": null,
      "min_width": null,
      "object_fit": null,
      "object_position": null,
      "order": null,
      "overflow": null,
      "overflow_x": null,
      "overflow_y": null,
      "padding": null,
      "right": null,
      "top": null,
      "visibility": null,
      "width": null
     }
    },
    "60d52dd64331433683d9811b5f55779c": {
     "model_module": "@jupyter-widgets/controls",
     "model_module_version": "1.5.0",
     "model_name": "HTMLModel",
     "state": {
      "_dom_classes": [],
      "_model_module": "@jupyter-widgets/controls",
      "_model_module_version": "1.5.0",
      "_model_name": "HTMLModel",
      "_view_count": null,
      "_view_module": "@jupyter-widgets/controls",
      "_view_module_version": "1.5.0",
      "_view_name": "HTMLView",
      "description": "",
      "description_tooltip": null,
      "layout": "IPY_MODEL_a042bd66c8444b06ad22e7fab0e8045a",
      "placeholder": "​",
      "style": "IPY_MODEL_ce8529188d3348fc9bb5a8810fb6ec3d",
      "value": "100%"
     }
    },
    "61a690bd450b44c098178fe4a8c265d5": {
     "model_module": "@jupyter-widgets/controls",
     "model_module_version": "1.5.0",
     "model_name": "FloatProgressModel",
     "state": {
      "_dom_classes": [],
      "_model_module": "@jupyter-widgets/controls",
      "_model_module_version": "1.5.0",
      "_model_name": "FloatProgressModel",
      "_view_count": null,
      "_view_module": "@jupyter-widgets/controls",
      "_view_module_version": "1.5.0",
      "_view_name": "ProgressView",
      "bar_style": "success",
      "description": "",
      "description_tooltip": null,
      "layout": "IPY_MODEL_d45654b535174f7d973cdba0f24e4b35",
      "max": 10021,
      "min": 0,
      "orientation": "horizontal",
      "style": "IPY_MODEL_8debc7611c1f41ce8a182d4e55b136ae",
      "value": 10021
     }
    },
    "62ce7595ce694bf58d82d6dbf97344fb": {
     "model_module": "@jupyter-widgets/base",
     "model_module_version": "1.2.0",
     "model_name": "LayoutModel",
     "state": {
      "_model_module": "@jupyter-widgets/base",
      "_model_module_version": "1.2.0",
      "_model_name": "LayoutModel",
      "_view_count": null,
      "_view_module": "@jupyter-widgets/base",
      "_view_module_version": "1.2.0",
      "_view_name": "LayoutView",
      "align_content": null,
      "align_items": null,
      "align_self": null,
      "border": null,
      "bottom": null,
      "display": null,
      "flex": null,
      "flex_flow": null,
      "grid_area": null,
      "grid_auto_columns": null,
      "grid_auto_flow": null,
      "grid_auto_rows": null,
      "grid_column": null,
      "grid_gap": null,
      "grid_row": null,
      "grid_template_areas": null,
      "grid_template_columns": null,
      "grid_template_rows": null,
      "height": null,
      "justify_content": null,
      "justify_items": null,
      "left": null,
      "margin": null,
      "max_height": null,
      "max_width": null,
      "min_height": null,
      "min_width": null,
      "object_fit": null,
      "object_position": null,
      "order": null,
      "overflow": null,
      "overflow_x": null,
      "overflow_y": null,
      "padding": null,
      "right": null,
      "top": null,
      "visibility": null,
      "width": null
     }
    },
    "6314ccb63a7f47d18d1c4045cc7fa815": {
     "model_module": "@jupyter-widgets/controls",
     "model_module_version": "1.5.0",
     "model_name": "HTMLModel",
     "state": {
      "_dom_classes": [],
      "_model_module": "@jupyter-widgets/controls",
      "_model_module_version": "1.5.0",
      "_model_name": "HTMLModel",
      "_view_count": null,
      "_view_module": "@jupyter-widgets/controls",
      "_view_module_version": "1.5.0",
      "_view_name": "HTMLView",
      "description": "",
      "description_tooltip": null,
      "layout": "IPY_MODEL_4435cf87bad24961bd58bb92dc6ea8aa",
      "placeholder": "​",
      "style": "IPY_MODEL_315efc905a894986bc556f7d5ae92e66",
      "value": "model.safetensors: 100%"
     }
    },
    "64494a54a11a4a75ae8cec85ea482945": {
     "model_module": "@jupyter-widgets/base",
     "model_module_version": "1.2.0",
     "model_name": "LayoutModel",
     "state": {
      "_model_module": "@jupyter-widgets/base",
      "_model_module_version": "1.2.0",
      "_model_name": "LayoutModel",
      "_view_count": null,
      "_view_module": "@jupyter-widgets/base",
      "_view_module_version": "1.2.0",
      "_view_name": "LayoutView",
      "align_content": null,
      "align_items": null,
      "align_self": null,
      "border": null,
      "bottom": null,
      "display": null,
      "flex": null,
      "flex_flow": null,
      "grid_area": null,
      "grid_auto_columns": null,
      "grid_auto_flow": null,
      "grid_auto_rows": null,
      "grid_column": null,
      "grid_gap": null,
      "grid_row": null,
      "grid_template_areas": null,
      "grid_template_columns": null,
      "grid_template_rows": null,
      "height": null,
      "justify_content": null,
      "justify_items": null,
      "left": null,
      "margin": null,
      "max_height": null,
      "max_width": null,
      "min_height": null,
      "min_width": null,
      "object_fit": null,
      "object_position": null,
      "order": null,
      "overflow": null,
      "overflow_x": null,
      "overflow_y": null,
      "padding": null,
      "right": null,
      "top": null,
      "visibility": null,
      "width": null
     }
    },
    "67c7826693db4819b874a97873cf340b": {
     "model_module": "@jupyter-widgets/base",
     "model_module_version": "1.2.0",
     "model_name": "LayoutModel",
     "state": {
      "_model_module": "@jupyter-widgets/base",
      "_model_module_version": "1.2.0",
      "_model_name": "LayoutModel",
      "_view_count": null,
      "_view_module": "@jupyter-widgets/base",
      "_view_module_version": "1.2.0",
      "_view_name": "LayoutView",
      "align_content": null,
      "align_items": null,
      "align_self": null,
      "border": null,
      "bottom": null,
      "display": null,
      "flex": null,
      "flex_flow": null,
      "grid_area": null,
      "grid_auto_columns": null,
      "grid_auto_flow": null,
      "grid_auto_rows": null,
      "grid_column": null,
      "grid_gap": null,
      "grid_row": null,
      "grid_template_areas": null,
      "grid_template_columns": null,
      "grid_template_rows": null,
      "height": null,
      "justify_content": null,
      "justify_items": null,
      "left": null,
      "margin": null,
      "max_height": null,
      "max_width": null,
      "min_height": null,
      "min_width": null,
      "object_fit": null,
      "object_position": null,
      "order": null,
      "overflow": null,
      "overflow_x": null,
      "overflow_y": null,
      "padding": null,
      "right": null,
      "top": null,
      "visibility": null,
      "width": null
     }
    },
    "67d7b750cd5e4faead437423a97d74ae": {
     "model_module": "@jupyter-widgets/controls",
     "model_module_version": "1.5.0",
     "model_name": "HTMLModel",
     "state": {
      "_dom_classes": [],
      "_model_module": "@jupyter-widgets/controls",
      "_model_module_version": "1.5.0",
      "_model_name": "HTMLModel",
      "_view_count": null,
      "_view_module": "@jupyter-widgets/controls",
      "_view_module_version": "1.5.0",
      "_view_name": "HTMLView",
      "description": "",
      "description_tooltip": null,
      "layout": "IPY_MODEL_2d505cfa88224b35a5d0c889ab1fc51c",
      "placeholder": "​",
      "style": "IPY_MODEL_90bb9e0892164dbfa6007523bfa3bf3a",
      "value": " 232k/232k [00:00&lt;00:00, 1.25MB/s]"
     }
    },
    "687ae62acf0745bf9347fe75a094a803": {
     "model_module": "@jupyter-widgets/controls",
     "model_module_version": "1.5.0",
     "model_name": "HBoxModel",
     "state": {
      "_dom_classes": [],
      "_model_module": "@jupyter-widgets/controls",
      "_model_module_version": "1.5.0",
      "_model_name": "HBoxModel",
      "_view_count": null,
      "_view_module": "@jupyter-widgets/controls",
      "_view_module_version": "1.5.0",
      "_view_name": "HBoxView",
      "box_style": "",
      "children": [
       "IPY_MODEL_ada2fea770044eb4bc121ce51b084e94",
       "IPY_MODEL_602026d850ad46c49bfa83da0e6f1427",
       "IPY_MODEL_40021f4b1a1f4fc7a1fd3ed7bd1e9c11"
      ],
      "layout": "IPY_MODEL_56f696d9ba2942c6ae50c73584842a3d"
     }
    },
    "6d6545732dab4403b3d3db65c413dbb6": {
     "model_module": "@jupyter-widgets/controls",
     "model_module_version": "1.5.0",
     "model_name": "HBoxModel",
     "state": {
      "_dom_classes": [],
      "_model_module": "@jupyter-widgets/controls",
      "_model_module_version": "1.5.0",
      "_model_name": "HBoxModel",
      "_view_count": null,
      "_view_module": "@jupyter-widgets/controls",
      "_view_module_version": "1.5.0",
      "_view_name": "HBoxView",
      "box_style": "",
      "children": [
       "IPY_MODEL_3c479a844edf41e196d120753834b49f",
       "IPY_MODEL_e15e15a3ad474ca680229793336320ca",
       "IPY_MODEL_11a212ff97d0400e8391eaaa4837fc00"
      ],
      "layout": "IPY_MODEL_78e3d057321d42579f8a124f55f64749"
     }
    },
    "6de1792d23e34b22894385287a2ba51d": {
     "model_module": "@jupyter-widgets/controls",
     "model_module_version": "1.5.0",
     "model_name": "HTMLModel",
     "state": {
      "_dom_classes": [],
      "_model_module": "@jupyter-widgets/controls",
      "_model_module_version": "1.5.0",
      "_model_name": "HTMLModel",
      "_view_count": null,
      "_view_module": "@jupyter-widgets/controls",
      "_view_module_version": "1.5.0",
      "_view_name": "HTMLView",
      "description": "",
      "description_tooltip": null,
      "layout": "IPY_MODEL_d3f3adc10ec949c896de684b340d5932",
      "placeholder": "​",
      "style": "IPY_MODEL_26fcf53a44794f4f939cc37519cc1c21",
      "value": "100%"
     }
    },
    "6e0288dcd70248169923a96c2a259917": {
     "model_module": "@jupyter-widgets/base",
     "model_module_version": "1.2.0",
     "model_name": "LayoutModel",
     "state": {
      "_model_module": "@jupyter-widgets/base",
      "_model_module_version": "1.2.0",
      "_model_name": "LayoutModel",
      "_view_count": null,
      "_view_module": "@jupyter-widgets/base",
      "_view_module_version": "1.2.0",
      "_view_name": "LayoutView",
      "align_content": null,
      "align_items": null,
      "align_self": null,
      "border": null,
      "bottom": null,
      "display": null,
      "flex": null,
      "flex_flow": null,
      "grid_area": null,
      "grid_auto_columns": null,
      "grid_auto_flow": null,
      "grid_auto_rows": null,
      "grid_column": null,
      "grid_gap": null,
      "grid_row": null,
      "grid_template_areas": null,
      "grid_template_columns": null,
      "grid_template_rows": null,
      "height": null,
      "justify_content": null,
      "justify_items": null,
      "left": null,
      "margin": null,
      "max_height": null,
      "max_width": null,
      "min_height": null,
      "min_width": null,
      "object_fit": null,
      "object_position": null,
      "order": null,
      "overflow": null,
      "overflow_x": null,
      "overflow_y": null,
      "padding": null,
      "right": null,
      "top": null,
      "visibility": null,
      "width": null
     }
    },
    "6e65d0edc4a840c1988deefe62a2cd18": {
     "model_module": "@jupyter-widgets/base",
     "model_module_version": "1.2.0",
     "model_name": "LayoutModel",
     "state": {
      "_model_module": "@jupyter-widgets/base",
      "_model_module_version": "1.2.0",
      "_model_name": "LayoutModel",
      "_view_count": null,
      "_view_module": "@jupyter-widgets/base",
      "_view_module_version": "1.2.0",
      "_view_name": "LayoutView",
      "align_content": null,
      "align_items": null,
      "align_self": null,
      "border": null,
      "bottom": null,
      "display": null,
      "flex": null,
      "flex_flow": null,
      "grid_area": null,
      "grid_auto_columns": null,
      "grid_auto_flow": null,
      "grid_auto_rows": null,
      "grid_column": null,
      "grid_gap": null,
      "grid_row": null,
      "grid_template_areas": null,
      "grid_template_columns": null,
      "grid_template_rows": null,
      "height": null,
      "justify_content": null,
      "justify_items": null,
      "left": null,
      "margin": null,
      "max_height": null,
      "max_width": null,
      "min_height": null,
      "min_width": null,
      "object_fit": null,
      "object_position": null,
      "order": null,
      "overflow": null,
      "overflow_x": null,
      "overflow_y": null,
      "padding": null,
      "right": null,
      "top": null,
      "visibility": null,
      "width": null
     }
    },
    "6f9a964d491d48cb9abe2efc2c37fab4": {
     "model_module": "@jupyter-widgets/controls",
     "model_module_version": "1.5.0",
     "model_name": "ProgressStyleModel",
     "state": {
      "_model_module": "@jupyter-widgets/controls",
      "_model_module_version": "1.5.0",
      "_model_name": "ProgressStyleModel",
      "_view_count": null,
      "_view_module": "@jupyter-widgets/base",
      "_view_module_version": "1.2.0",
      "_view_name": "StyleView",
      "bar_color": null,
      "description_width": ""
     }
    },
    "6fd41a74bc3c428bab1969b434080848": {
     "model_module": "@jupyter-widgets/controls",
     "model_module_version": "1.5.0",
     "model_name": "ProgressStyleModel",
     "state": {
      "_model_module": "@jupyter-widgets/controls",
      "_model_module_version": "1.5.0",
      "_model_name": "ProgressStyleModel",
      "_view_count": null,
      "_view_module": "@jupyter-widgets/base",
      "_view_module_version": "1.2.0",
      "_view_name": "StyleView",
      "bar_color": null,
      "description_width": ""
     }
    },
    "703414873823404f95492f03a86a574c": {
     "model_module": "@jupyter-widgets/controls",
     "model_module_version": "1.5.0",
     "model_name": "DescriptionStyleModel",
     "state": {
      "_model_module": "@jupyter-widgets/controls",
      "_model_module_version": "1.5.0",
      "_model_name": "DescriptionStyleModel",
      "_view_count": null,
      "_view_module": "@jupyter-widgets/base",
      "_view_module_version": "1.2.0",
      "_view_name": "StyleView",
      "description_width": ""
     }
    },
    "706a9c85e8944df3a40dff540481cb8a": {
     "model_module": "@jupyter-widgets/controls",
     "model_module_version": "1.5.0",
     "model_name": "ProgressStyleModel",
     "state": {
      "_model_module": "@jupyter-widgets/controls",
      "_model_module_version": "1.5.0",
      "_model_name": "ProgressStyleModel",
      "_view_count": null,
      "_view_module": "@jupyter-widgets/base",
      "_view_module_version": "1.2.0",
      "_view_name": "StyleView",
      "bar_color": null,
      "description_width": ""
     }
    },
    "707a1cbcbfff43929f8dd4cf9f73719c": {
     "model_module": "@jupyter-widgets/controls",
     "model_module_version": "1.5.0",
     "model_name": "DescriptionStyleModel",
     "state": {
      "_model_module": "@jupyter-widgets/controls",
      "_model_module_version": "1.5.0",
      "_model_name": "DescriptionStyleModel",
      "_view_count": null,
      "_view_module": "@jupyter-widgets/base",
      "_view_module_version": "1.2.0",
      "_view_name": "StyleView",
      "description_width": ""
     }
    },
    "712a42bc92e44466bb735da8a1886c3e": {
     "model_module": "@jupyter-widgets/controls",
     "model_module_version": "1.5.0",
     "model_name": "HTMLModel",
     "state": {
      "_dom_classes": [],
      "_model_module": "@jupyter-widgets/controls",
      "_model_module_version": "1.5.0",
      "_model_name": "HTMLModel",
      "_view_count": null,
      "_view_module": "@jupyter-widgets/controls",
      "_view_module_version": "1.5.0",
      "_view_name": "HTMLView",
      "description": "",
      "description_tooltip": null,
      "layout": "IPY_MODEL_60bc73cc8e34454a811a330fe2c87e01",
      "placeholder": "​",
      "style": "IPY_MODEL_703414873823404f95492f03a86a574c",
      "value": " 10.5k/10.5k [00:00&lt;00:00, 684kB/s]"
     }
    },
    "737a6c82d2e648b2ac5f108c5846a77d": {
     "model_module": "@jupyter-widgets/controls",
     "model_module_version": "1.5.0",
     "model_name": "DescriptionStyleModel",
     "state": {
      "_model_module": "@jupyter-widgets/controls",
      "_model_module_version": "1.5.0",
      "_model_name": "DescriptionStyleModel",
      "_view_count": null,
      "_view_module": "@jupyter-widgets/base",
      "_view_module_version": "1.2.0",
      "_view_name": "StyleView",
      "description_width": ""
     }
    },
    "7542cb4fedff46eb802f6ff941e66fc1": {
     "model_module": "@jupyter-widgets/base",
     "model_module_version": "1.2.0",
     "model_name": "LayoutModel",
     "state": {
      "_model_module": "@jupyter-widgets/base",
      "_model_module_version": "1.2.0",
      "_model_name": "LayoutModel",
      "_view_count": null,
      "_view_module": "@jupyter-widgets/base",
      "_view_module_version": "1.2.0",
      "_view_name": "LayoutView",
      "align_content": null,
      "align_items": null,
      "align_self": null,
      "border": null,
      "bottom": null,
      "display": null,
      "flex": null,
      "flex_flow": null,
      "grid_area": null,
      "grid_auto_columns": null,
      "grid_auto_flow": null,
      "grid_auto_rows": null,
      "grid_column": null,
      "grid_gap": null,
      "grid_row": null,
      "grid_template_areas": null,
      "grid_template_columns": null,
      "grid_template_rows": null,
      "height": null,
      "justify_content": null,
      "justify_items": null,
      "left": null,
      "margin": null,
      "max_height": null,
      "max_width": null,
      "min_height": null,
      "min_width": null,
      "object_fit": null,
      "object_position": null,
      "order": null,
      "overflow": null,
      "overflow_x": null,
      "overflow_y": null,
      "padding": null,
      "right": null,
      "top": null,
      "visibility": null,
      "width": null
     }
    },
    "78e0618210674578aab1731741367705": {
     "model_module": "@jupyter-widgets/base",
     "model_module_version": "1.2.0",
     "model_name": "LayoutModel",
     "state": {
      "_model_module": "@jupyter-widgets/base",
      "_model_module_version": "1.2.0",
      "_model_name": "LayoutModel",
      "_view_count": null,
      "_view_module": "@jupyter-widgets/base",
      "_view_module_version": "1.2.0",
      "_view_name": "LayoutView",
      "align_content": null,
      "align_items": null,
      "align_self": null,
      "border": null,
      "bottom": null,
      "display": null,
      "flex": null,
      "flex_flow": null,
      "grid_area": null,
      "grid_auto_columns": null,
      "grid_auto_flow": null,
      "grid_auto_rows": null,
      "grid_column": null,
      "grid_gap": null,
      "grid_row": null,
      "grid_template_areas": null,
      "grid_template_columns": null,
      "grid_template_rows": null,
      "height": null,
      "justify_content": null,
      "justify_items": null,
      "left": null,
      "margin": null,
      "max_height": null,
      "max_width": null,
      "min_height": null,
      "min_width": null,
      "object_fit": null,
      "object_position": null,
      "order": null,
      "overflow": null,
      "overflow_x": null,
      "overflow_y": null,
      "padding": null,
      "right": null,
      "top": null,
      "visibility": null,
      "width": null
     }
    },
    "78e3d057321d42579f8a124f55f64749": {
     "model_module": "@jupyter-widgets/base",
     "model_module_version": "1.2.0",
     "model_name": "LayoutModel",
     "state": {
      "_model_module": "@jupyter-widgets/base",
      "_model_module_version": "1.2.0",
      "_model_name": "LayoutModel",
      "_view_count": null,
      "_view_module": "@jupyter-widgets/base",
      "_view_module_version": "1.2.0",
      "_view_name": "LayoutView",
      "align_content": null,
      "align_items": null,
      "align_self": null,
      "border": null,
      "bottom": null,
      "display": null,
      "flex": null,
      "flex_flow": null,
      "grid_area": null,
      "grid_auto_columns": null,
      "grid_auto_flow": null,
      "grid_auto_rows": null,
      "grid_column": null,
      "grid_gap": null,
      "grid_row": null,
      "grid_template_areas": null,
      "grid_template_columns": null,
      "grid_template_rows": null,
      "height": null,
      "justify_content": null,
      "justify_items": null,
      "left": null,
      "margin": null,
      "max_height": null,
      "max_width": null,
      "min_height": null,
      "min_width": null,
      "object_fit": null,
      "object_position": null,
      "order": null,
      "overflow": null,
      "overflow_x": null,
      "overflow_y": null,
      "padding": null,
      "right": null,
      "top": null,
      "visibility": null,
      "width": null
     }
    },
    "7d4d10d3235947c0b6111f02ba5b1785": {
     "model_module": "@jupyter-widgets/base",
     "model_module_version": "1.2.0",
     "model_name": "LayoutModel",
     "state": {
      "_model_module": "@jupyter-widgets/base",
      "_model_module_version": "1.2.0",
      "_model_name": "LayoutModel",
      "_view_count": null,
      "_view_module": "@jupyter-widgets/base",
      "_view_module_version": "1.2.0",
      "_view_name": "LayoutView",
      "align_content": null,
      "align_items": null,
      "align_self": null,
      "border": null,
      "bottom": null,
      "display": null,
      "flex": null,
      "flex_flow": null,
      "grid_area": null,
      "grid_auto_columns": null,
      "grid_auto_flow": null,
      "grid_auto_rows": null,
      "grid_column": null,
      "grid_gap": null,
      "grid_row": null,
      "grid_template_areas": null,
      "grid_template_columns": null,
      "grid_template_rows": null,
      "height": null,
      "justify_content": null,
      "justify_items": null,
      "left": null,
      "margin": null,
      "max_height": null,
      "max_width": null,
      "min_height": null,
      "min_width": null,
      "object_fit": null,
      "object_position": null,
      "order": null,
      "overflow": null,
      "overflow_x": null,
      "overflow_y": null,
      "padding": null,
      "right": null,
      "top": null,
      "visibility": null,
      "width": null
     }
    },
    "7e756566318a47f79c6fc5e69f029a3e": {
     "model_module": "@jupyter-widgets/controls",
     "model_module_version": "1.5.0",
     "model_name": "HTMLModel",
     "state": {
      "_dom_classes": [],
      "_model_module": "@jupyter-widgets/controls",
      "_model_module_version": "1.5.0",
      "_model_name": "HTMLModel",
      "_view_count": null,
      "_view_module": "@jupyter-widgets/controls",
      "_view_module_version": "1.5.0",
      "_view_name": "HTMLView",
      "description": "",
      "description_tooltip": null,
      "layout": "IPY_MODEL_864d4309dcbc4b33877696c069e5e6a8",
      "placeholder": "​",
      "style": "IPY_MODEL_de5041acf6ed4e03ab0180b3013124e2",
      "value": " 612/612 [00:00&lt;00:00, 42.8kB/s]"
     }
    },
    "7f4ef5856c0b4dada21aa358b63edf78": {
     "model_module": "@jupyter-widgets/controls",
     "model_module_version": "1.5.0",
     "model_name": "ProgressStyleModel",
     "state": {
      "_model_module": "@jupyter-widgets/controls",
      "_model_module_version": "1.5.0",
      "_model_name": "ProgressStyleModel",
      "_view_count": null,
      "_view_module": "@jupyter-widgets/base",
      "_view_module_version": "1.2.0",
      "_view_name": "StyleView",
      "bar_color": null,
      "description_width": ""
     }
    },
    "807f2f029cb8401f81d6d75cec2635f6": {
     "model_module": "@jupyter-widgets/controls",
     "model_module_version": "1.5.0",
     "model_name": "DescriptionStyleModel",
     "state": {
      "_model_module": "@jupyter-widgets/controls",
      "_model_module_version": "1.5.0",
      "_model_name": "DescriptionStyleModel",
      "_view_count": null,
      "_view_module": "@jupyter-widgets/base",
      "_view_module_version": "1.2.0",
      "_view_name": "StyleView",
      "description_width": ""
     }
    },
    "81ccf17a54ef41ada4034a30bce2888e": {
     "model_module": "@jupyter-widgets/controls",
     "model_module_version": "1.5.0",
     "model_name": "HTMLModel",
     "state": {
      "_dom_classes": [],
      "_model_module": "@jupyter-widgets/controls",
      "_model_module_version": "1.5.0",
      "_model_name": "HTMLModel",
      "_view_count": null,
      "_view_module": "@jupyter-widgets/controls",
      "_view_module_version": "1.5.0",
      "_view_name": "HTMLView",
      "description": "",
      "description_tooltip": null,
      "layout": "IPY_MODEL_c2c5bb9ed13042e0b9857a3cfeb56160",
      "placeholder": "​",
      "style": "IPY_MODEL_09992a25175a43f2b7271e013260794d",
      "value": " 769/769 [00:00&lt;00:00, 21.1kB/s]"
     }
    },
    "830541955e6c47c1b4b471f7174f82a2": {
     "model_module": "@jupyter-widgets/base",
     "model_module_version": "1.2.0",
     "model_name": "LayoutModel",
     "state": {
      "_model_module": "@jupyter-widgets/base",
      "_model_module_version": "1.2.0",
      "_model_name": "LayoutModel",
      "_view_count": null,
      "_view_module": "@jupyter-widgets/base",
      "_view_module_version": "1.2.0",
      "_view_name": "LayoutView",
      "align_content": null,
      "align_items": null,
      "align_self": null,
      "border": null,
      "bottom": null,
      "display": null,
      "flex": null,
      "flex_flow": null,
      "grid_area": null,
      "grid_auto_columns": null,
      "grid_auto_flow": null,
      "grid_auto_rows": null,
      "grid_column": null,
      "grid_gap": null,
      "grid_row": null,
      "grid_template_areas": null,
      "grid_template_columns": null,
      "grid_template_rows": null,
      "height": null,
      "justify_content": null,
      "justify_items": null,
      "left": null,
      "margin": null,
      "max_height": null,
      "max_width": null,
      "min_height": null,
      "min_width": null,
      "object_fit": null,
      "object_position": null,
      "order": null,
      "overflow": null,
      "overflow_x": null,
      "overflow_y": null,
      "padding": null,
      "right": null,
      "top": null,
      "visibility": null,
      "width": null
     }
    },
    "85d07ea04853454095d6c92e89295e06": {
     "model_module": "@jupyter-widgets/base",
     "model_module_version": "1.2.0",
     "model_name": "LayoutModel",
     "state": {
      "_model_module": "@jupyter-widgets/base",
      "_model_module_version": "1.2.0",
      "_model_name": "LayoutModel",
      "_view_count": null,
      "_view_module": "@jupyter-widgets/base",
      "_view_module_version": "1.2.0",
      "_view_name": "LayoutView",
      "align_content": null,
      "align_items": null,
      "align_self": null,
      "border": null,
      "bottom": null,
      "display": null,
      "flex": null,
      "flex_flow": null,
      "grid_area": null,
      "grid_auto_columns": null,
      "grid_auto_flow": null,
      "grid_auto_rows": null,
      "grid_column": null,
      "grid_gap": null,
      "grid_row": null,
      "grid_template_areas": null,
      "grid_template_columns": null,
      "grid_template_rows": null,
      "height": null,
      "justify_content": null,
      "justify_items": null,
      "left": null,
      "margin": null,
      "max_height": null,
      "max_width": null,
      "min_height": null,
      "min_width": null,
      "object_fit": null,
      "object_position": null,
      "order": null,
      "overflow": null,
      "overflow_x": null,
      "overflow_y": null,
      "padding": null,
      "right": null,
      "top": null,
      "visibility": null,
      "width": null
     }
    },
    "85eadecca808426c99b186bddbd4d4b0": {
     "model_module": "@jupyter-widgets/controls",
     "model_module_version": "1.5.0",
     "model_name": "ProgressStyleModel",
     "state": {
      "_model_module": "@jupyter-widgets/controls",
      "_model_module_version": "1.5.0",
      "_model_name": "ProgressStyleModel",
      "_view_count": null,
      "_view_module": "@jupyter-widgets/base",
      "_view_module_version": "1.2.0",
      "_view_name": "StyleView",
      "bar_color": null,
      "description_width": ""
     }
    },
    "86416f9059d5462eb225481f42465d53": {
     "model_module": "@jupyter-widgets/base",
     "model_module_version": "1.2.0",
     "model_name": "LayoutModel",
     "state": {
      "_model_module": "@jupyter-widgets/base",
      "_model_module_version": "1.2.0",
      "_model_name": "LayoutModel",
      "_view_count": null,
      "_view_module": "@jupyter-widgets/base",
      "_view_module_version": "1.2.0",
      "_view_name": "LayoutView",
      "align_content": null,
      "align_items": null,
      "align_self": null,
      "border": null,
      "bottom": null,
      "display": null,
      "flex": null,
      "flex_flow": null,
      "grid_area": null,
      "grid_auto_columns": null,
      "grid_auto_flow": null,
      "grid_auto_rows": null,
      "grid_column": null,
      "grid_gap": null,
      "grid_row": null,
      "grid_template_areas": null,
      "grid_template_columns": null,
      "grid_template_rows": null,
      "height": null,
      "justify_content": null,
      "justify_items": null,
      "left": null,
      "margin": null,
      "max_height": null,
      "max_width": null,
      "min_height": null,
      "min_width": null,
      "object_fit": null,
      "object_position": null,
      "order": null,
      "overflow": null,
      "overflow_x": null,
      "overflow_y": null,
      "padding": null,
      "right": null,
      "top": null,
      "visibility": null,
      "width": null
     }
    },
    "864d4309dcbc4b33877696c069e5e6a8": {
     "model_module": "@jupyter-widgets/base",
     "model_module_version": "1.2.0",
     "model_name": "LayoutModel",
     "state": {
      "_model_module": "@jupyter-widgets/base",
      "_model_module_version": "1.2.0",
      "_model_name": "LayoutModel",
      "_view_count": null,
      "_view_module": "@jupyter-widgets/base",
      "_view_module_version": "1.2.0",
      "_view_name": "LayoutView",
      "align_content": null,
      "align_items": null,
      "align_self": null,
      "border": null,
      "bottom": null,
      "display": null,
      "flex": null,
      "flex_flow": null,
      "grid_area": null,
      "grid_auto_columns": null,
      "grid_auto_flow": null,
      "grid_auto_rows": null,
      "grid_column": null,
      "grid_gap": null,
      "grid_row": null,
      "grid_template_areas": null,
      "grid_template_columns": null,
      "grid_template_rows": null,
      "height": null,
      "justify_content": null,
      "justify_items": null,
      "left": null,
      "margin": null,
      "max_height": null,
      "max_width": null,
      "min_height": null,
      "min_width": null,
      "object_fit": null,
      "object_position": null,
      "order": null,
      "overflow": null,
      "overflow_x": null,
      "overflow_y": null,
      "padding": null,
      "right": null,
      "top": null,
      "visibility": null,
      "width": null
     }
    },
    "87649e61735e4b72b4be023f781735a5": {
     "model_module": "@jupyter-widgets/controls",
     "model_module_version": "1.5.0",
     "model_name": "FloatProgressModel",
     "state": {
      "_dom_classes": [],
      "_model_module": "@jupyter-widgets/controls",
      "_model_module_version": "1.5.0",
      "_model_name": "FloatProgressModel",
      "_view_count": null,
      "_view_module": "@jupyter-widgets/controls",
      "_view_module_version": "1.5.0",
      "_view_name": "ProgressView",
      "bar_style": "success",
      "description": "",
      "description_tooltip": null,
      "layout": "IPY_MODEL_cfd6a03145414c7fa19168dd0f08e469",
      "max": 350,
      "min": 0,
      "orientation": "horizontal",
      "style": "IPY_MODEL_c9cb21df936547e0a24f9ef7e3f162e5",
      "value": 350
     }
    },
    "877e1fee8780410eb82ef0149f2c9843": {
     "model_module": "@jupyter-widgets/controls",
     "model_module_version": "1.5.0",
     "model_name": "HTMLModel",
     "state": {
      "_dom_classes": [],
      "_model_module": "@jupyter-widgets/controls",
      "_model_module_version": "1.5.0",
      "_model_name": "HTMLModel",
      "_view_count": null,
      "_view_module": "@jupyter-widgets/controls",
      "_view_module_version": "1.5.0",
      "_view_name": "HTMLView",
      "description": "",
      "description_tooltip": null,
      "layout": "IPY_MODEL_d488da69a6bb48f3b42fb02da6593db4",
      "placeholder": "​",
      "style": "IPY_MODEL_8dc9b20644704c27b8cd7be89c73c839",
      "value": " 10800/10800 [00:00&lt;00:00, 23803.26it/s]"
     }
    },
    "87f2208615b141d8aa5e615f49e576a4": {
     "model_module": "@jupyter-widgets/controls",
     "model_module_version": "1.5.0",
     "model_name": "DescriptionStyleModel",
     "state": {
      "_model_module": "@jupyter-widgets/controls",
      "_model_module_version": "1.5.0",
      "_model_name": "DescriptionStyleModel",
      "_view_count": null,
      "_view_module": "@jupyter-widgets/base",
      "_view_module_version": "1.2.0",
      "_view_name": "StyleView",
      "description_width": ""
     }
    },
    "88f30689aca74d839a87f8ebe9b0ba82": {
     "model_module": "@jupyter-widgets/controls",
     "model_module_version": "1.5.0",
     "model_name": "HTMLModel",
     "state": {
      "_dom_classes": [],
      "_model_module": "@jupyter-widgets/controls",
      "_model_module_version": "1.5.0",
      "_model_name": "HTMLModel",
      "_view_count": null,
      "_view_module": "@jupyter-widgets/controls",
      "_view_module_version": "1.5.0",
      "_view_name": "HTMLView",
      "description": "",
      "description_tooltip": null,
      "layout": "IPY_MODEL_da2b3c6f7e8c44cd9a3a1197dd7008d0",
      "placeholder": "​",
      "style": "IPY_MODEL_a664dca79e5948c989154ab6e2d1e088",
      "value": "config.json: 100%"
     }
    },
    "890160fbd9a645709b230162f7593da5": {
     "model_module": "@jupyter-widgets/base",
     "model_module_version": "1.2.0",
     "model_name": "LayoutModel",
     "state": {
      "_model_module": "@jupyter-widgets/base",
      "_model_module_version": "1.2.0",
      "_model_name": "LayoutModel",
      "_view_count": null,
      "_view_module": "@jupyter-widgets/base",
      "_view_module_version": "1.2.0",
      "_view_name": "LayoutView",
      "align_content": null,
      "align_items": null,
      "align_self": null,
      "border": null,
      "bottom": null,
      "display": null,
      "flex": null,
      "flex_flow": null,
      "grid_area": null,
      "grid_auto_columns": null,
      "grid_auto_flow": null,
      "grid_auto_rows": null,
      "grid_column": null,
      "grid_gap": null,
      "grid_row": null,
      "grid_template_areas": null,
      "grid_template_columns": null,
      "grid_template_rows": null,
      "height": null,
      "justify_content": null,
      "justify_items": null,
      "left": null,
      "margin": null,
      "max_height": null,
      "max_width": null,
      "min_height": null,
      "min_width": null,
      "object_fit": null,
      "object_position": null,
      "order": null,
      "overflow": null,
      "overflow_x": null,
      "overflow_y": null,
      "padding": null,
      "right": null,
      "top": null,
      "visibility": null,
      "width": null
     }
    },
    "8944c5d9d0264a1bb0e71fb10a4ffe1c": {
     "model_module": "@jupyter-widgets/base",
     "model_module_version": "1.2.0",
     "model_name": "LayoutModel",
     "state": {
      "_model_module": "@jupyter-widgets/base",
      "_model_module_version": "1.2.0",
      "_model_name": "LayoutModel",
      "_view_count": null,
      "_view_module": "@jupyter-widgets/base",
      "_view_module_version": "1.2.0",
      "_view_name": "LayoutView",
      "align_content": null,
      "align_items": null,
      "align_self": null,
      "border": null,
      "bottom": null,
      "display": null,
      "flex": null,
      "flex_flow": null,
      "grid_area": null,
      "grid_auto_columns": null,
      "grid_auto_flow": null,
      "grid_auto_rows": null,
      "grid_column": null,
      "grid_gap": null,
      "grid_row": null,
      "grid_template_areas": null,
      "grid_template_columns": null,
      "grid_template_rows": null,
      "height": null,
      "justify_content": null,
      "justify_items": null,
      "left": null,
      "margin": null,
      "max_height": null,
      "max_width": null,
      "min_height": null,
      "min_width": null,
      "object_fit": null,
      "object_position": null,
      "order": null,
      "overflow": null,
      "overflow_x": null,
      "overflow_y": null,
      "padding": null,
      "right": null,
      "top": null,
      "visibility": null,
      "width": null
     }
    },
    "89736e01f6404af5ba5ba5fd0d4804bd": {
     "model_module": "@jupyter-widgets/base",
     "model_module_version": "1.2.0",
     "model_name": "LayoutModel",
     "state": {
      "_model_module": "@jupyter-widgets/base",
      "_model_module_version": "1.2.0",
      "_model_name": "LayoutModel",
      "_view_count": null,
      "_view_module": "@jupyter-widgets/base",
      "_view_module_version": "1.2.0",
      "_view_name": "LayoutView",
      "align_content": null,
      "align_items": null,
      "align_self": null,
      "border": null,
      "bottom": null,
      "display": null,
      "flex": null,
      "flex_flow": null,
      "grid_area": null,
      "grid_auto_columns": null,
      "grid_auto_flow": null,
      "grid_auto_rows": null,
      "grid_column": null,
      "grid_gap": null,
      "grid_row": null,
      "grid_template_areas": null,
      "grid_template_columns": null,
      "grid_template_rows": null,
      "height": null,
      "justify_content": null,
      "justify_items": null,
      "left": null,
      "margin": null,
      "max_height": null,
      "max_width": null,
      "min_height": null,
      "min_width": null,
      "object_fit": null,
      "object_position": null,
      "order": null,
      "overflow": null,
      "overflow_x": null,
      "overflow_y": null,
      "padding": null,
      "right": null,
      "top": null,
      "visibility": null,
      "width": null
     }
    },
    "8b991a0a2875488ab67d22857e9b9bfa": {
     "model_module": "@jupyter-widgets/controls",
     "model_module_version": "1.5.0",
     "model_name": "DescriptionStyleModel",
     "state": {
      "_model_module": "@jupyter-widgets/controls",
      "_model_module_version": "1.5.0",
      "_model_name": "DescriptionStyleModel",
      "_view_count": null,
      "_view_module": "@jupyter-widgets/base",
      "_view_module_version": "1.2.0",
      "_view_name": "StyleView",
      "description_width": ""
     }
    },
    "8dc9b20644704c27b8cd7be89c73c839": {
     "model_module": "@jupyter-widgets/controls",
     "model_module_version": "1.5.0",
     "model_name": "DescriptionStyleModel",
     "state": {
      "_model_module": "@jupyter-widgets/controls",
      "_model_module_version": "1.5.0",
      "_model_name": "DescriptionStyleModel",
      "_view_count": null,
      "_view_module": "@jupyter-widgets/base",
      "_view_module_version": "1.2.0",
      "_view_name": "StyleView",
      "description_width": ""
     }
    },
    "8debc7611c1f41ce8a182d4e55b136ae": {
     "model_module": "@jupyter-widgets/controls",
     "model_module_version": "1.5.0",
     "model_name": "ProgressStyleModel",
     "state": {
      "_model_module": "@jupyter-widgets/controls",
      "_model_module_version": "1.5.0",
      "_model_name": "ProgressStyleModel",
      "_view_count": null,
      "_view_module": "@jupyter-widgets/base",
      "_view_module_version": "1.2.0",
      "_view_name": "StyleView",
      "bar_color": null,
      "description_width": ""
     }
    },
    "8e87c60f904644a3b630f92a0c2666eb": {
     "model_module": "@jupyter-widgets/controls",
     "model_module_version": "1.5.0",
     "model_name": "DescriptionStyleModel",
     "state": {
      "_model_module": "@jupyter-widgets/controls",
      "_model_module_version": "1.5.0",
      "_model_name": "DescriptionStyleModel",
      "_view_count": null,
      "_view_module": "@jupyter-widgets/base",
      "_view_module_version": "1.2.0",
      "_view_name": "StyleView",
      "description_width": ""
     }
    },
    "8f69c0b56a054532823637fe580a4ae5": {
     "model_module": "@jupyter-widgets/base",
     "model_module_version": "1.2.0",
     "model_name": "LayoutModel",
     "state": {
      "_model_module": "@jupyter-widgets/base",
      "_model_module_version": "1.2.0",
      "_model_name": "LayoutModel",
      "_view_count": null,
      "_view_module": "@jupyter-widgets/base",
      "_view_module_version": "1.2.0",
      "_view_name": "LayoutView",
      "align_content": null,
      "align_items": null,
      "align_self": null,
      "border": null,
      "bottom": null,
      "display": null,
      "flex": null,
      "flex_flow": null,
      "grid_area": null,
      "grid_auto_columns": null,
      "grid_auto_flow": null,
      "grid_auto_rows": null,
      "grid_column": null,
      "grid_gap": null,
      "grid_row": null,
      "grid_template_areas": null,
      "grid_template_columns": null,
      "grid_template_rows": null,
      "height": null,
      "justify_content": null,
      "justify_items": null,
      "left": null,
      "margin": null,
      "max_height": null,
      "max_width": null,
      "min_height": null,
      "min_width": null,
      "object_fit": null,
      "object_position": null,
      "order": null,
      "overflow": null,
      "overflow_x": null,
      "overflow_y": null,
      "padding": null,
      "right": null,
      "top": null,
      "visibility": null,
      "width": null
     }
    },
    "90bb9e0892164dbfa6007523bfa3bf3a": {
     "model_module": "@jupyter-widgets/controls",
     "model_module_version": "1.5.0",
     "model_name": "DescriptionStyleModel",
     "state": {
      "_model_module": "@jupyter-widgets/controls",
      "_model_module_version": "1.5.0",
      "_model_name": "DescriptionStyleModel",
      "_view_count": null,
      "_view_module": "@jupyter-widgets/base",
      "_view_module_version": "1.2.0",
      "_view_name": "StyleView",
      "description_width": ""
     }
    },
    "91e621ea24264ad49e9025fc0082aee0": {
     "model_module": "@jupyter-widgets/controls",
     "model_module_version": "1.5.0",
     "model_name": "ProgressStyleModel",
     "state": {
      "_model_module": "@jupyter-widgets/controls",
      "_model_module_version": "1.5.0",
      "_model_name": "ProgressStyleModel",
      "_view_count": null,
      "_view_module": "@jupyter-widgets/base",
      "_view_module_version": "1.2.0",
      "_view_name": "StyleView",
      "bar_color": null,
      "description_width": ""
     }
    },
    "931b345cb2104fedb71d4d2ddd06016b": {
     "model_module": "@jupyter-widgets/controls",
     "model_module_version": "1.5.0",
     "model_name": "FloatProgressModel",
     "state": {
      "_dom_classes": [],
      "_model_module": "@jupyter-widgets/controls",
      "_model_module_version": "1.5.0",
      "_model_name": "FloatProgressModel",
      "_view_count": null,
      "_view_module": "@jupyter-widgets/controls",
      "_view_module_version": "1.5.0",
      "_view_name": "ProgressView",
      "bar_style": "success",
      "description": "",
      "description_tooltip": null,
      "layout": "IPY_MODEL_120457fd15fe4a78ac7c5afc0618aa3c",
      "max": 53,
      "min": 0,
      "orientation": "horizontal",
      "style": "IPY_MODEL_c37a24152d46462398a0bb7498287d92",
      "value": 53
     }
    },
    "938cb978ae6e4198a197cad56645d22d": {
     "model_module": "@jupyter-widgets/base",
     "model_module_version": "1.2.0",
     "model_name": "LayoutModel",
     "state": {
      "_model_module": "@jupyter-widgets/base",
      "_model_module_version": "1.2.0",
      "_model_name": "LayoutModel",
      "_view_count": null,
      "_view_module": "@jupyter-widgets/base",
      "_view_module_version": "1.2.0",
      "_view_name": "LayoutView",
      "align_content": null,
      "align_items": null,
      "align_self": null,
      "border": null,
      "bottom": null,
      "display": null,
      "flex": null,
      "flex_flow": null,
      "grid_area": null,
      "grid_auto_columns": null,
      "grid_auto_flow": null,
      "grid_auto_rows": null,
      "grid_column": null,
      "grid_gap": null,
      "grid_row": null,
      "grid_template_areas": null,
      "grid_template_columns": null,
      "grid_template_rows": null,
      "height": null,
      "justify_content": null,
      "justify_items": null,
      "left": null,
      "margin": null,
      "max_height": null,
      "max_width": null,
      "min_height": null,
      "min_width": null,
      "object_fit": null,
      "object_position": null,
      "order": null,
      "overflow": null,
      "overflow_x": null,
      "overflow_y": null,
      "padding": null,
      "right": null,
      "top": null,
      "visibility": null,
      "width": null
     }
    },
    "938f16e87eed49f28ff8418476c3e6f0": {
     "model_module": "@jupyter-widgets/base",
     "model_module_version": "1.2.0",
     "model_name": "LayoutModel",
     "state": {
      "_model_module": "@jupyter-widgets/base",
      "_model_module_version": "1.2.0",
      "_model_name": "LayoutModel",
      "_view_count": null,
      "_view_module": "@jupyter-widgets/base",
      "_view_module_version": "1.2.0",
      "_view_name": "LayoutView",
      "align_content": null,
      "align_items": null,
      "align_self": null,
      "border": null,
      "bottom": null,
      "display": null,
      "flex": null,
      "flex_flow": null,
      "grid_area": null,
      "grid_auto_columns": null,
      "grid_auto_flow": null,
      "grid_auto_rows": null,
      "grid_column": null,
      "grid_gap": null,
      "grid_row": null,
      "grid_template_areas": null,
      "grid_template_columns": null,
      "grid_template_rows": null,
      "height": null,
      "justify_content": null,
      "justify_items": null,
      "left": null,
      "margin": null,
      "max_height": null,
      "max_width": null,
      "min_height": null,
      "min_width": null,
      "object_fit": null,
      "object_position": null,
      "order": null,
      "overflow": null,
      "overflow_x": null,
      "overflow_y": null,
      "padding": null,
      "right": null,
      "top": null,
      "visibility": null,
      "width": null
     }
    },
    "94f68c51cba84ba09da54b76fb22cba0": {
     "model_module": "@jupyter-widgets/base",
     "model_module_version": "1.2.0",
     "model_name": "LayoutModel",
     "state": {
      "_model_module": "@jupyter-widgets/base",
      "_model_module_version": "1.2.0",
      "_model_name": "LayoutModel",
      "_view_count": null,
      "_view_module": "@jupyter-widgets/base",
      "_view_module_version": "1.2.0",
      "_view_name": "LayoutView",
      "align_content": null,
      "align_items": null,
      "align_self": null,
      "border": null,
      "bottom": null,
      "display": null,
      "flex": null,
      "flex_flow": null,
      "grid_area": null,
      "grid_auto_columns": null,
      "grid_auto_flow": null,
      "grid_auto_rows": null,
      "grid_column": null,
      "grid_gap": null,
      "grid_row": null,
      "grid_template_areas": null,
      "grid_template_columns": null,
      "grid_template_rows": null,
      "height": null,
      "justify_content": null,
      "justify_items": null,
      "left": null,
      "margin": null,
      "max_height": null,
      "max_width": null,
      "min_height": null,
      "min_width": null,
      "object_fit": null,
      "object_position": null,
      "order": null,
      "overflow": null,
      "overflow_x": null,
      "overflow_y": null,
      "padding": null,
      "right": null,
      "top": null,
      "visibility": null,
      "width": null
     }
    },
    "960afdb83d4a45c784c10610bf0f05d0": {
     "model_module": "@jupyter-widgets/controls",
     "model_module_version": "1.5.0",
     "model_name": "HTMLModel",
     "state": {
      "_dom_classes": [],
      "_model_module": "@jupyter-widgets/controls",
      "_model_module_version": "1.5.0",
      "_model_name": "HTMLModel",
      "_view_count": null,
      "_view_module": "@jupyter-widgets/controls",
      "_view_module_version": "1.5.0",
      "_view_name": "HTMLView",
      "description": "",
      "description_tooltip": null,
      "layout": "IPY_MODEL_1d03c6f6499a46528eeb84d95fbc2488",
      "placeholder": "​",
      "style": "IPY_MODEL_100b61a1c75b40c5b58bf7ec2aeb66f3",
      "value": " 712k/712k [00:00&lt;00:00, 8.53MB/s]"
     }
    },
    "9826fe6af8484b40a3003fe7c433dacc": {
     "model_module": "@jupyter-widgets/base",
     "model_module_version": "1.2.0",
     "model_name": "LayoutModel",
     "state": {
      "_model_module": "@jupyter-widgets/base",
      "_model_module_version": "1.2.0",
      "_model_name": "LayoutModel",
      "_view_count": null,
      "_view_module": "@jupyter-widgets/base",
      "_view_module_version": "1.2.0",
      "_view_name": "LayoutView",
      "align_content": null,
      "align_items": null,
      "align_self": null,
      "border": null,
      "bottom": null,
      "display": null,
      "flex": null,
      "flex_flow": null,
      "grid_area": null,
      "grid_auto_columns": null,
      "grid_auto_flow": null,
      "grid_auto_rows": null,
      "grid_column": null,
      "grid_gap": null,
      "grid_row": null,
      "grid_template_areas": null,
      "grid_template_columns": null,
      "grid_template_rows": null,
      "height": null,
      "justify_content": null,
      "justify_items": null,
      "left": null,
      "margin": null,
      "max_height": null,
      "max_width": null,
      "min_height": null,
      "min_width": null,
      "object_fit": null,
      "object_position": null,
      "order": null,
      "overflow": null,
      "overflow_x": null,
      "overflow_y": null,
      "padding": null,
      "right": null,
      "top": null,
      "visibility": null,
      "width": null
     }
    },
    "9971360e9d374020890567cad112b44a": {
     "model_module": "@jupyter-widgets/controls",
     "model_module_version": "1.5.0",
     "model_name": "HTMLModel",
     "state": {
      "_dom_classes": [],
      "_model_module": "@jupyter-widgets/controls",
      "_model_module_version": "1.5.0",
      "_model_name": "HTMLModel",
      "_view_count": null,
      "_view_module": "@jupyter-widgets/controls",
      "_view_module_version": "1.5.0",
      "_view_name": "HTMLView",
      "description": "",
      "description_tooltip": null,
      "layout": "IPY_MODEL_cfb5a23fa97a450e9730099d3f1d14b0",
      "placeholder": "​",
      "style": "IPY_MODEL_f0884abdd9e14f8f93da18d1e9df6535",
      "value": "vocab.txt: 100%"
     }
    },
    "9a1df364d8934189b95e163a42c84cf8": {
     "model_module": "@jupyter-widgets/base",
     "model_module_version": "1.2.0",
     "model_name": "LayoutModel",
     "state": {
      "_model_module": "@jupyter-widgets/base",
      "_model_module_version": "1.2.0",
      "_model_name": "LayoutModel",
      "_view_count": null,
      "_view_module": "@jupyter-widgets/base",
      "_view_module_version": "1.2.0",
      "_view_name": "LayoutView",
      "align_content": null,
      "align_items": null,
      "align_self": null,
      "border": null,
      "bottom": null,
      "display": null,
      "flex": null,
      "flex_flow": null,
      "grid_area": null,
      "grid_auto_columns": null,
      "grid_auto_flow": null,
      "grid_auto_rows": null,
      "grid_column": null,
      "grid_gap": null,
      "grid_row": null,
      "grid_template_areas": null,
      "grid_template_columns": null,
      "grid_template_rows": null,
      "height": null,
      "justify_content": null,
      "justify_items": null,
      "left": null,
      "margin": null,
      "max_height": null,
      "max_width": null,
      "min_height": null,
      "min_width": null,
      "object_fit": null,
      "object_position": null,
      "order": null,
      "overflow": null,
      "overflow_x": null,
      "overflow_y": null,
      "padding": null,
      "right": null,
      "top": null,
      "visibility": null,
      "width": null
     }
    },
    "9b681bcc57264d99b5613d8de2bbd3aa": {
     "model_module": "@jupyter-widgets/controls",
     "model_module_version": "1.5.0",
     "model_name": "HBoxModel",
     "state": {
      "_dom_classes": [],
      "_model_module": "@jupyter-widgets/controls",
      "_model_module_version": "1.5.0",
      "_model_name": "HBoxModel",
      "_view_count": null,
      "_view_module": "@jupyter-widgets/controls",
      "_view_module_version": "1.5.0",
      "_view_name": "HBoxView",
      "box_style": "",
      "children": [
       "IPY_MODEL_e5594ed89fa047728ad1258c194275dc",
       "IPY_MODEL_61a690bd450b44c098178fe4a8c265d5",
       "IPY_MODEL_c66f485773d348c489c2ff9f7ddf6f98"
      ],
      "layout": "IPY_MODEL_85d07ea04853454095d6c92e89295e06"
     }
    },
    "9c87804b9e73443bb191fe5804436f99": {
     "model_module": "@jupyter-widgets/controls",
     "model_module_version": "1.5.0",
     "model_name": "HBoxModel",
     "state": {
      "_dom_classes": [],
      "_model_module": "@jupyter-widgets/controls",
      "_model_module_version": "1.5.0",
      "_model_name": "HBoxModel",
      "_view_count": null,
      "_view_module": "@jupyter-widgets/controls",
      "_view_module_version": "1.5.0",
      "_view_name": "HBoxView",
      "box_style": "",
      "children": [
       "IPY_MODEL_e7cb731ab729443f95a6806332eff60d",
       "IPY_MODEL_189635ac27754f39bee999e42d845138",
       "IPY_MODEL_b2c9484be7c741838ac238e030531ce4"
      ],
      "layout": "IPY_MODEL_ddd1257230ce4da19716c814b80fd179"
     }
    },
    "9cedb7f6201a4a76ba201fb427224cca": {
     "model_module": "@jupyter-widgets/base",
     "model_module_version": "1.2.0",
     "model_name": "LayoutModel",
     "state": {
      "_model_module": "@jupyter-widgets/base",
      "_model_module_version": "1.2.0",
      "_model_name": "LayoutModel",
      "_view_count": null,
      "_view_module": "@jupyter-widgets/base",
      "_view_module_version": "1.2.0",
      "_view_name": "LayoutView",
      "align_content": null,
      "align_items": null,
      "align_self": null,
      "border": null,
      "bottom": null,
      "display": null,
      "flex": null,
      "flex_flow": null,
      "grid_area": null,
      "grid_auto_columns": null,
      "grid_auto_flow": null,
      "grid_auto_rows": null,
      "grid_column": null,
      "grid_gap": null,
      "grid_row": null,
      "grid_template_areas": null,
      "grid_template_columns": null,
      "grid_template_rows": null,
      "height": null,
      "justify_content": null,
      "justify_items": null,
      "left": null,
      "margin": null,
      "max_height": null,
      "max_width": null,
      "min_height": null,
      "min_width": null,
      "object_fit": null,
      "object_position": null,
      "order": null,
      "overflow": null,
      "overflow_x": null,
      "overflow_y": null,
      "padding": null,
      "right": null,
      "top": null,
      "visibility": null,
      "width": null
     }
    },
    "a042bd66c8444b06ad22e7fab0e8045a": {
     "model_module": "@jupyter-widgets/base",
     "model_module_version": "1.2.0",
     "model_name": "LayoutModel",
     "state": {
      "_model_module": "@jupyter-widgets/base",
      "_model_module_version": "1.2.0",
      "_model_name": "LayoutModel",
      "_view_count": null,
      "_view_module": "@jupyter-widgets/base",
      "_view_module_version": "1.2.0",
      "_view_name": "LayoutView",
      "align_content": null,
      "align_items": null,
      "align_self": null,
      "border": null,
      "bottom": null,
      "display": null,
      "flex": null,
      "flex_flow": null,
      "grid_area": null,
      "grid_auto_columns": null,
      "grid_auto_flow": null,
      "grid_auto_rows": null,
      "grid_column": null,
      "grid_gap": null,
      "grid_row": null,
      "grid_template_areas": null,
      "grid_template_columns": null,
      "grid_template_rows": null,
      "height": null,
      "justify_content": null,
      "justify_items": null,
      "left": null,
      "margin": null,
      "max_height": null,
      "max_width": null,
      "min_height": null,
      "min_width": null,
      "object_fit": null,
      "object_position": null,
      "order": null,
      "overflow": null,
      "overflow_x": null,
      "overflow_y": null,
      "padding": null,
      "right": null,
      "top": null,
      "visibility": null,
      "width": null
     }
    },
    "a262e1b851184387a6d771e0d506d6ef": {
     "model_module": "@jupyter-widgets/controls",
     "model_module_version": "1.5.0",
     "model_name": "ProgressStyleModel",
     "state": {
      "_model_module": "@jupyter-widgets/controls",
      "_model_module_version": "1.5.0",
      "_model_name": "ProgressStyleModel",
      "_view_count": null,
      "_view_module": "@jupyter-widgets/base",
      "_view_module_version": "1.2.0",
      "_view_name": "StyleView",
      "bar_color": null,
      "description_width": ""
     }
    },
    "a284d102537745df9dd73c6f3bd3a957": {
     "model_module": "@jupyter-widgets/controls",
     "model_module_version": "1.5.0",
     "model_name": "HBoxModel",
     "state": {
      "_dom_classes": [],
      "_model_module": "@jupyter-widgets/controls",
      "_model_module_version": "1.5.0",
      "_model_name": "HBoxModel",
      "_view_count": null,
      "_view_module": "@jupyter-widgets/controls",
      "_view_module_version": "1.5.0",
      "_view_name": "HBoxView",
      "box_style": "",
      "children": [
       "IPY_MODEL_88f30689aca74d839a87f8ebe9b0ba82",
       "IPY_MODEL_51d331618d824c6fa73ff8c303372d42",
       "IPY_MODEL_7e756566318a47f79c6fc5e69f029a3e"
      ],
      "layout": "IPY_MODEL_938cb978ae6e4198a197cad56645d22d"
     }
    },
    "a29d2a27823a4580b6d5527e8ea198b5": {
     "model_module": "@jupyter-widgets/controls",
     "model_module_version": "1.5.0",
     "model_name": "HTMLModel",
     "state": {
      "_dom_classes": [],
      "_model_module": "@jupyter-widgets/controls",
      "_model_module_version": "1.5.0",
      "_model_name": "HTMLModel",
      "_view_count": null,
      "_view_module": "@jupyter-widgets/controls",
      "_view_module_version": "1.5.0",
      "_view_name": "HTMLView",
      "description": "",
      "description_tooltip": null,
      "layout": "IPY_MODEL_9a1df364d8934189b95e163a42c84cf8",
      "placeholder": "​",
      "style": "IPY_MODEL_3b6a4fe56af543c78dc796b10ec668e9",
      "value": " 112/112 [00:00&lt;00:00, 8.08kB/s]"
     }
    },
    "a428981e73d64fcda91d45da67f5e307": {
     "model_module": "@jupyter-widgets/controls",
     "model_module_version": "1.5.0",
     "model_name": "HTMLModel",
     "state": {
      "_dom_classes": [],
      "_model_module": "@jupyter-widgets/controls",
      "_model_module_version": "1.5.0",
      "_model_name": "HTMLModel",
      "_view_count": null,
      "_view_module": "@jupyter-widgets/controls",
      "_view_module_version": "1.5.0",
      "_view_name": "HTMLView",
      "description": "",
      "description_tooltip": null,
      "layout": "IPY_MODEL_3131cda6f10942a7981b6c9251045116",
      "placeholder": "​",
      "style": "IPY_MODEL_87f2208615b141d8aa5e615f49e576a4",
      "value": "tokenizer.json: 100%"
     }
    },
    "a664dca79e5948c989154ab6e2d1e088": {
     "model_module": "@jupyter-widgets/controls",
     "model_module_version": "1.5.0",
     "model_name": "DescriptionStyleModel",
     "state": {
      "_model_module": "@jupyter-widgets/controls",
      "_model_module_version": "1.5.0",
      "_model_name": "DescriptionStyleModel",
      "_view_count": null,
      "_view_module": "@jupyter-widgets/base",
      "_view_module_version": "1.2.0",
      "_view_name": "StyleView",
      "description_width": ""
     }
    },
    "a7a262d97309492293e425f5445be77a": {
     "model_module": "@jupyter-widgets/controls",
     "model_module_version": "1.5.0",
     "model_name": "DescriptionStyleModel",
     "state": {
      "_model_module": "@jupyter-widgets/controls",
      "_model_module_version": "1.5.0",
      "_model_name": "DescriptionStyleModel",
      "_view_count": null,
      "_view_module": "@jupyter-widgets/base",
      "_view_module_version": "1.2.0",
      "_view_name": "StyleView",
      "description_width": ""
     }
    },
    "a8ed049731df48d89d83154865830fe0": {
     "model_module": "@jupyter-widgets/controls",
     "model_module_version": "1.5.0",
     "model_name": "HTMLModel",
     "state": {
      "_dom_classes": [],
      "_model_module": "@jupyter-widgets/controls",
      "_model_module_version": "1.5.0",
      "_model_name": "HTMLModel",
      "_view_count": null,
      "_view_module": "@jupyter-widgets/controls",
      "_view_module_version": "1.5.0",
      "_view_name": "HTMLView",
      "description": "",
      "description_tooltip": null,
      "layout": "IPY_MODEL_e7ea2d4fbb9d4b4ebb04de2f1a49666e",
      "placeholder": "​",
      "style": "IPY_MODEL_4e1b611ab0f0408bb130fbf4f0e33e45",
      "value": "model.safetensors: 100%"
     }
    },
    "a9ba90096c1f48208bce8ec64efdbc17": {
     "model_module": "@jupyter-widgets/controls",
     "model_module_version": "1.5.0",
     "model_name": "HBoxModel",
     "state": {
      "_dom_classes": [],
      "_model_module": "@jupyter-widgets/controls",
      "_model_module_version": "1.5.0",
      "_model_name": "HBoxModel",
      "_view_count": null,
      "_view_module": "@jupyter-widgets/controls",
      "_view_module_version": "1.5.0",
      "_view_name": "HBoxView",
      "box_style": "",
      "children": [
       "IPY_MODEL_a428981e73d64fcda91d45da67f5e307",
       "IPY_MODEL_594e4f67028d41cdb14fa435b6a8d124",
       "IPY_MODEL_aa39d41d0b3f4c0b9d5123c8a24664b0"
      ],
      "layout": "IPY_MODEL_64494a54a11a4a75ae8cec85ea482945"
     }
    },
    "aa39d41d0b3f4c0b9d5123c8a24664b0": {
     "model_module": "@jupyter-widgets/controls",
     "model_module_version": "1.5.0",
     "model_name": "HTMLModel",
     "state": {
      "_dom_classes": [],
      "_model_module": "@jupyter-widgets/controls",
      "_model_module_version": "1.5.0",
      "_model_name": "HTMLModel",
      "_view_count": null,
      "_view_module": "@jupyter-widgets/controls",
      "_view_module_version": "1.5.0",
      "_view_name": "HTMLView",
      "description": "",
      "description_tooltip": null,
      "layout": "IPY_MODEL_abb0aef3c25d4f6d9fa574145148337e",
      "placeholder": "​",
      "style": "IPY_MODEL_454c0375519f42c4a9fafcae126d8766",
      "value": " 466k/466k [00:00&lt;00:00, 1.34MB/s]"
     }
    },
    "ab49d126a2a3407696e56badc2e1d699": {
     "model_module": "@jupyter-widgets/controls",
     "model_module_version": "1.5.0",
     "model_name": "DescriptionStyleModel",
     "state": {
      "_model_module": "@jupyter-widgets/controls",
      "_model_module_version": "1.5.0",
      "_model_name": "DescriptionStyleModel",
      "_view_count": null,
      "_view_module": "@jupyter-widgets/base",
      "_view_module_version": "1.2.0",
      "_view_name": "StyleView",
      "description_width": ""
     }
    },
    "ab9823ac510442a2aeaa030ad817429c": {
     "model_module": "@jupyter-widgets/controls",
     "model_module_version": "1.5.0",
     "model_name": "FloatProgressModel",
     "state": {
      "_dom_classes": [],
      "_model_module": "@jupyter-widgets/controls",
      "_model_module_version": "1.5.0",
      "_model_name": "FloatProgressModel",
      "_view_count": null,
      "_view_module": "@jupyter-widgets/controls",
      "_view_module_version": "1.5.0",
      "_view_name": "ProgressView",
      "bar_style": "success",
      "description": "",
      "description_tooltip": null,
      "layout": "IPY_MODEL_4c60464413b84131a47ef2ef79efecbb",
      "max": 231508,
      "min": 0,
      "orientation": "horizontal",
      "style": "IPY_MODEL_334bf7fe424e4556b86cdf2bebd455ff",
      "value": 231508
     }
    },
    "abb0aef3c25d4f6d9fa574145148337e": {
     "model_module": "@jupyter-widgets/base",
     "model_module_version": "1.2.0",
     "model_name": "LayoutModel",
     "state": {
      "_model_module": "@jupyter-widgets/base",
      "_model_module_version": "1.2.0",
      "_model_name": "LayoutModel",
      "_view_count": null,
      "_view_module": "@jupyter-widgets/base",
      "_view_module_version": "1.2.0",
      "_view_name": "LayoutView",
      "align_content": null,
      "align_items": null,
      "align_self": null,
      "border": null,
      "bottom": null,
      "display": null,
      "flex": null,
      "flex_flow": null,
      "grid_area": null,
      "grid_auto_columns": null,
      "grid_auto_flow": null,
      "grid_auto_rows": null,
      "grid_column": null,
      "grid_gap": null,
      "grid_row": null,
      "grid_template_areas": null,
      "grid_template_columns": null,
      "grid_template_rows": null,
      "height": null,
      "justify_content": null,
      "justify_items": null,
      "left": null,
      "margin": null,
      "max_height": null,
      "max_width": null,
      "min_height": null,
      "min_width": null,
      "object_fit": null,
      "object_position": null,
      "order": null,
      "overflow": null,
      "overflow_x": null,
      "overflow_y": null,
      "padding": null,
      "right": null,
      "top": null,
      "visibility": null,
      "width": null
     }
    },
    "abcf299cfbbc4ce98fbf28697f7acfed": {
     "model_module": "@jupyter-widgets/controls",
     "model_module_version": "1.5.0",
     "model_name": "HBoxModel",
     "state": {
      "_dom_classes": [],
      "_model_module": "@jupyter-widgets/controls",
      "_model_module_version": "1.5.0",
      "_model_name": "HBoxModel",
      "_view_count": null,
      "_view_module": "@jupyter-widgets/controls",
      "_view_module_version": "1.5.0",
      "_view_name": "HBoxView",
      "box_style": "",
      "children": [
       "IPY_MODEL_4cae9f3e61c143a1a8e68145d5301ee1",
       "IPY_MODEL_ccc17a292a0a488ca0a61a6bf9fac6cf",
       "IPY_MODEL_a29d2a27823a4580b6d5527e8ea198b5"
      ],
      "layout": "IPY_MODEL_0595d72a2a7a46e9bda3892b333c39ac"
     }
    },
    "ad0f022246ac44eba80b0594759a381e": {
     "model_module": "@jupyter-widgets/controls",
     "model_module_version": "1.5.0",
     "model_name": "HBoxModel",
     "state": {
      "_dom_classes": [],
      "_model_module": "@jupyter-widgets/controls",
      "_model_module_version": "1.5.0",
      "_model_name": "HBoxModel",
      "_view_count": null,
      "_view_module": "@jupyter-widgets/controls",
      "_view_module_version": "1.5.0",
      "_view_name": "HBoxView",
      "box_style": "",
      "children": [
       "IPY_MODEL_6314ccb63a7f47d18d1c4045cc7fa815",
       "IPY_MODEL_ea5b22fe30784378b295d1bb3dc33610",
       "IPY_MODEL_07c24fc5608f4432a9762e41a6105d4f"
      ],
      "layout": "IPY_MODEL_94f68c51cba84ba09da54b76fb22cba0"
     }
    },
    "ada2fea770044eb4bc121ce51b084e94": {
     "model_module": "@jupyter-widgets/controls",
     "model_module_version": "1.5.0",
     "model_name": "HTMLModel",
     "state": {
      "_dom_classes": [],
      "_model_module": "@jupyter-widgets/controls",
      "_model_module_version": "1.5.0",
      "_model_name": "HTMLModel",
      "_view_count": null,
      "_view_module": "@jupyter-widgets/controls",
      "_view_module_version": "1.5.0",
      "_view_name": "HTMLView",
      "description": "",
      "description_tooltip": null,
      "layout": "IPY_MODEL_25c9aad5f6d641c4a898300a20ef6de8",
      "placeholder": "​",
      "style": "IPY_MODEL_737a6c82d2e648b2ac5f108c5846a77d",
      "value": "config_sentence_transformers.json: 100%"
     }
    },
    "ae0e9dd19b004531a509706b068ed1de": {
     "model_module": "@jupyter-widgets/base",
     "model_module_version": "1.2.0",
     "model_name": "LayoutModel",
     "state": {
      "_model_module": "@jupyter-widgets/base",
      "_model_module_version": "1.2.0",
      "_model_name": "LayoutModel",
      "_view_count": null,
      "_view_module": "@jupyter-widgets/base",
      "_view_module_version": "1.2.0",
      "_view_name": "LayoutView",
      "align_content": null,
      "align_items": null,
      "align_self": null,
      "border": null,
      "bottom": null,
      "display": null,
      "flex": null,
      "flex_flow": null,
      "grid_area": null,
      "grid_auto_columns": null,
      "grid_auto_flow": null,
      "grid_auto_rows": null,
      "grid_column": null,
      "grid_gap": null,
      "grid_row": null,
      "grid_template_areas": null,
      "grid_template_columns": null,
      "grid_template_rows": null,
      "height": null,
      "justify_content": null,
      "justify_items": null,
      "left": null,
      "margin": null,
      "max_height": null,
      "max_width": null,
      "min_height": null,
      "min_width": null,
      "object_fit": null,
      "object_position": null,
      "order": null,
      "overflow": null,
      "overflow_x": null,
      "overflow_y": null,
      "padding": null,
      "right": null,
      "top": null,
      "visibility": null,
      "width": null
     }
    },
    "af27ac3a639449968cd4e03da5c711e3": {
     "model_module": "@jupyter-widgets/base",
     "model_module_version": "1.2.0",
     "model_name": "LayoutModel",
     "state": {
      "_model_module": "@jupyter-widgets/base",
      "_model_module_version": "1.2.0",
      "_model_name": "LayoutModel",
      "_view_count": null,
      "_view_module": "@jupyter-widgets/base",
      "_view_module_version": "1.2.0",
      "_view_name": "LayoutView",
      "align_content": null,
      "align_items": null,
      "align_self": null,
      "border": null,
      "bottom": null,
      "display": null,
      "flex": null,
      "flex_flow": null,
      "grid_area": null,
      "grid_auto_columns": null,
      "grid_auto_flow": null,
      "grid_auto_rows": null,
      "grid_column": null,
      "grid_gap": null,
      "grid_row": null,
      "grid_template_areas": null,
      "grid_template_columns": null,
      "grid_template_rows": null,
      "height": null,
      "justify_content": null,
      "justify_items": null,
      "left": null,
      "margin": null,
      "max_height": null,
      "max_width": null,
      "min_height": null,
      "min_width": null,
      "object_fit": null,
      "object_position": null,
      "order": null,
      "overflow": null,
      "overflow_x": null,
      "overflow_y": null,
      "padding": null,
      "right": null,
      "top": null,
      "visibility": null,
      "width": null
     }
    },
    "b26531f04aab4016a74384b383ecabe8": {
     "model_module": "@jupyter-widgets/controls",
     "model_module_version": "1.5.0",
     "model_name": "DescriptionStyleModel",
     "state": {
      "_model_module": "@jupyter-widgets/controls",
      "_model_module_version": "1.5.0",
      "_model_name": "DescriptionStyleModel",
      "_view_count": null,
      "_view_module": "@jupyter-widgets/base",
      "_view_module_version": "1.2.0",
      "_view_name": "StyleView",
      "description_width": ""
     }
    },
    "b2c9484be7c741838ac238e030531ce4": {
     "model_module": "@jupyter-widgets/controls",
     "model_module_version": "1.5.0",
     "model_name": "HTMLModel",
     "state": {
      "_dom_classes": [],
      "_model_module": "@jupyter-widgets/controls",
      "_model_module_version": "1.5.0",
      "_model_name": "HTMLModel",
      "_view_count": null,
      "_view_module": "@jupyter-widgets/controls",
      "_view_module_version": "1.5.0",
      "_view_name": "HTMLView",
      "description": "",
      "description_tooltip": null,
      "layout": "IPY_MODEL_d1c037d9d3d141bd8c23cff47ece8d44",
      "placeholder": "​",
      "style": "IPY_MODEL_00d427b4697c4bd3af220794dacc091c",
      "value": " 320/320 [00:00&lt;00:00, 10.4kB/s]"
     }
    },
    "b35e0140d07348b68dc20ad0d2cc5061": {
     "model_module": "@jupyter-widgets/controls",
     "model_module_version": "1.5.0",
     "model_name": "HBoxModel",
     "state": {
      "_dom_classes": [],
      "_model_module": "@jupyter-widgets/controls",
      "_model_module_version": "1.5.0",
      "_model_name": "HBoxModel",
      "_view_count": null,
      "_view_module": "@jupyter-widgets/controls",
      "_view_module_version": "1.5.0",
      "_view_name": "HBoxView",
      "box_style": "",
      "children": [
       "IPY_MODEL_fa2c868da70e43ec92cb80002aadfc62",
       "IPY_MODEL_4e7baa502f5e4ce0b9361005026ba2e5",
       "IPY_MODEL_ee8f391e9b694348a2fec416157dd875"
      ],
      "layout": "IPY_MODEL_6e0288dcd70248169923a96c2a259917"
     }
    },
    "b71a7ed17d694c87811fa62ef010d4f0": {
     "model_module": "@jupyter-widgets/controls",
     "model_module_version": "1.5.0",
     "model_name": "DescriptionStyleModel",
     "state": {
      "_model_module": "@jupyter-widgets/controls",
      "_model_module_version": "1.5.0",
      "_model_name": "DescriptionStyleModel",
      "_view_count": null,
      "_view_module": "@jupyter-widgets/base",
      "_view_module_version": "1.2.0",
      "_view_name": "StyleView",
      "description_width": ""
     }
    },
    "b9730340d1304542a5f3e7af30edc7d5": {
     "model_module": "@jupyter-widgets/base",
     "model_module_version": "1.2.0",
     "model_name": "LayoutModel",
     "state": {
      "_model_module": "@jupyter-widgets/base",
      "_model_module_version": "1.2.0",
      "_model_name": "LayoutModel",
      "_view_count": null,
      "_view_module": "@jupyter-widgets/base",
      "_view_module_version": "1.2.0",
      "_view_name": "LayoutView",
      "align_content": null,
      "align_items": null,
      "align_self": null,
      "border": null,
      "bottom": null,
      "display": null,
      "flex": null,
      "flex_flow": null,
      "grid_area": null,
      "grid_auto_columns": null,
      "grid_auto_flow": null,
      "grid_auto_rows": null,
      "grid_column": null,
      "grid_gap": null,
      "grid_row": null,
      "grid_template_areas": null,
      "grid_template_columns": null,
      "grid_template_rows": null,
      "height": null,
      "justify_content": null,
      "justify_items": null,
      "left": null,
      "margin": null,
      "max_height": null,
      "max_width": null,
      "min_height": null,
      "min_width": null,
      "object_fit": null,
      "object_position": null,
      "order": null,
      "overflow": null,
      "overflow_x": null,
      "overflow_y": null,
      "padding": null,
      "right": null,
      "top": null,
      "visibility": null,
      "width": null
     }
    },
    "bab234cea16a478cba2cf2afcc46cf8c": {
     "model_module": "@jupyter-widgets/controls",
     "model_module_version": "1.5.0",
     "model_name": "DescriptionStyleModel",
     "state": {
      "_model_module": "@jupyter-widgets/controls",
      "_model_module_version": "1.5.0",
      "_model_name": "DescriptionStyleModel",
      "_view_count": null,
      "_view_module": "@jupyter-widgets/base",
      "_view_module_version": "1.2.0",
      "_view_name": "StyleView",
      "description_width": ""
     }
    },
    "bd79935134fb478b8a44744bffb793ed": {
     "model_module": "@jupyter-widgets/controls",
     "model_module_version": "1.5.0",
     "model_name": "FloatProgressModel",
     "state": {
      "_dom_classes": [],
      "_model_module": "@jupyter-widgets/controls",
      "_model_module_version": "1.5.0",
      "_model_name": "FloatProgressModel",
      "_view_count": null,
      "_view_module": "@jupyter-widgets/controls",
      "_view_module_version": "1.5.0",
      "_view_name": "ProgressView",
      "bar_style": "success",
      "description": "",
      "description_tooltip": null,
      "layout": "IPY_MODEL_41c425cc9f9742658633d3b90a930068",
      "max": 349,
      "min": 0,
      "orientation": "horizontal",
      "style": "IPY_MODEL_52d33a3981f9450da5326c46c3b47941",
      "value": 349
     }
    },
    "be1037da87024de2bd63a5dbec2e9e86": {
     "model_module": "@jupyter-widgets/controls",
     "model_module_version": "1.5.0",
     "model_name": "ProgressStyleModel",
     "state": {
      "_model_module": "@jupyter-widgets/controls",
      "_model_module_version": "1.5.0",
      "_model_name": "ProgressStyleModel",
      "_view_count": null,
      "_view_module": "@jupyter-widgets/base",
      "_view_module_version": "1.2.0",
      "_view_name": "StyleView",
      "bar_color": null,
      "description_width": ""
     }
    },
    "bebd2d070b88464e85af339f8a072b89": {
     "model_module": "@jupyter-widgets/base",
     "model_module_version": "1.2.0",
     "model_name": "LayoutModel",
     "state": {
      "_model_module": "@jupyter-widgets/base",
      "_model_module_version": "1.2.0",
      "_model_name": "LayoutModel",
      "_view_count": null,
      "_view_module": "@jupyter-widgets/base",
      "_view_module_version": "1.2.0",
      "_view_name": "LayoutView",
      "align_content": null,
      "align_items": null,
      "align_self": null,
      "border": null,
      "bottom": null,
      "display": null,
      "flex": null,
      "flex_flow": null,
      "grid_area": null,
      "grid_auto_columns": null,
      "grid_auto_flow": null,
      "grid_auto_rows": null,
      "grid_column": null,
      "grid_gap": null,
      "grid_row": null,
      "grid_template_areas": null,
      "grid_template_columns": null,
      "grid_template_rows": null,
      "height": null,
      "justify_content": null,
      "justify_items": null,
      "left": null,
      "margin": null,
      "max_height": null,
      "max_width": null,
      "min_height": null,
      "min_width": null,
      "object_fit": null,
      "object_position": null,
      "order": null,
      "overflow": null,
      "overflow_x": null,
      "overflow_y": null,
      "padding": null,
      "right": null,
      "top": null,
      "visibility": null,
      "width": null
     }
    },
    "bf211eb8c47c4a71aba78eb92aac6aa7": {
     "model_module": "@jupyter-widgets/controls",
     "model_module_version": "1.5.0",
     "model_name": "ProgressStyleModel",
     "state": {
      "_model_module": "@jupyter-widgets/controls",
      "_model_module_version": "1.5.0",
      "_model_name": "ProgressStyleModel",
      "_view_count": null,
      "_view_module": "@jupyter-widgets/base",
      "_view_module_version": "1.2.0",
      "_view_name": "StyleView",
      "bar_color": null,
      "description_width": ""
     }
    },
    "bfe608542f4b4c5ea553b72805f28460": {
     "model_module": "@jupyter-widgets/controls",
     "model_module_version": "1.5.0",
     "model_name": "DescriptionStyleModel",
     "state": {
      "_model_module": "@jupyter-widgets/controls",
      "_model_module_version": "1.5.0",
      "_model_name": "DescriptionStyleModel",
      "_view_count": null,
      "_view_module": "@jupyter-widgets/base",
      "_view_module_version": "1.2.0",
      "_view_name": "StyleView",
      "description_width": ""
     }
    },
    "c0d96b63fdd74ac5b69444cb30a5e549": {
     "model_module": "@jupyter-widgets/controls",
     "model_module_version": "1.5.0",
     "model_name": "ProgressStyleModel",
     "state": {
      "_model_module": "@jupyter-widgets/controls",
      "_model_module_version": "1.5.0",
      "_model_name": "ProgressStyleModel",
      "_view_count": null,
      "_view_module": "@jupyter-widgets/base",
      "_view_module_version": "1.2.0",
      "_view_name": "StyleView",
      "bar_color": null,
      "description_width": ""
     }
    },
    "c17820c5dca74d6c88c6646e56a20a04": {
     "model_module": "@jupyter-widgets/controls",
     "model_module_version": "1.5.0",
     "model_name": "FloatProgressModel",
     "state": {
      "_dom_classes": [],
      "_model_module": "@jupyter-widgets/controls",
      "_model_module_version": "1.5.0",
      "_model_name": "FloatProgressModel",
      "_view_count": null,
      "_view_module": "@jupyter-widgets/controls",
      "_view_module_version": "1.5.0",
      "_view_name": "ProgressView",
      "bar_style": "success",
      "description": "",
      "description_tooltip": null,
      "layout": "IPY_MODEL_6e65d0edc4a840c1988deefe62a2cd18",
      "max": 231508,
      "min": 0,
      "orientation": "horizontal",
      "style": "IPY_MODEL_706a9c85e8944df3a40dff540481cb8a",
      "value": 231508
     }
    },
    "c2c5bb9ed13042e0b9857a3cfeb56160": {
     "model_module": "@jupyter-widgets/base",
     "model_module_version": "1.2.0",
     "model_name": "LayoutModel",
     "state": {
      "_model_module": "@jupyter-widgets/base",
      "_model_module_version": "1.2.0",
      "_model_name": "LayoutModel",
      "_view_count": null,
      "_view_module": "@jupyter-widgets/base",
      "_view_module_version": "1.2.0",
      "_view_name": "LayoutView",
      "align_content": null,
      "align_items": null,
      "align_self": null,
      "border": null,
      "bottom": null,
      "display": null,
      "flex": null,
      "flex_flow": null,
      "grid_area": null,
      "grid_auto_columns": null,
      "grid_auto_flow": null,
      "grid_auto_rows": null,
      "grid_column": null,
      "grid_gap": null,
      "grid_row": null,
      "grid_template_areas": null,
      "grid_template_columns": null,
      "grid_template_rows": null,
      "height": null,
      "justify_content": null,
      "justify_items": null,
      "left": null,
      "margin": null,
      "max_height": null,
      "max_width": null,
      "min_height": null,
      "min_width": null,
      "object_fit": null,
      "object_position": null,
      "order": null,
      "overflow": null,
      "overflow_x": null,
      "overflow_y": null,
      "padding": null,
      "right": null,
      "top": null,
      "visibility": null,
      "width": null
     }
    },
    "c37a24152d46462398a0bb7498287d92": {
     "model_module": "@jupyter-widgets/controls",
     "model_module_version": "1.5.0",
     "model_name": "ProgressStyleModel",
     "state": {
      "_model_module": "@jupyter-widgets/controls",
      "_model_module_version": "1.5.0",
      "_model_name": "ProgressStyleModel",
      "_view_count": null,
      "_view_module": "@jupyter-widgets/base",
      "_view_module_version": "1.2.0",
      "_view_name": "StyleView",
      "bar_color": null,
      "description_width": ""
     }
    },
    "c4fbd0c187b6467d9c82652f2f7b0d20": {
     "model_module": "@jupyter-widgets/base",
     "model_module_version": "1.2.0",
     "model_name": "LayoutModel",
     "state": {
      "_model_module": "@jupyter-widgets/base",
      "_model_module_version": "1.2.0",
      "_model_name": "LayoutModel",
      "_view_count": null,
      "_view_module": "@jupyter-widgets/base",
      "_view_module_version": "1.2.0",
      "_view_name": "LayoutView",
      "align_content": null,
      "align_items": null,
      "align_self": null,
      "border": null,
      "bottom": null,
      "display": null,
      "flex": null,
      "flex_flow": null,
      "grid_area": null,
      "grid_auto_columns": null,
      "grid_auto_flow": null,
      "grid_auto_rows": null,
      "grid_column": null,
      "grid_gap": null,
      "grid_row": null,
      "grid_template_areas": null,
      "grid_template_columns": null,
      "grid_template_rows": null,
      "height": null,
      "justify_content": null,
      "justify_items": null,
      "left": null,
      "margin": null,
      "max_height": null,
      "max_width": null,
      "min_height": null,
      "min_width": null,
      "object_fit": null,
      "object_position": null,
      "order": null,
      "overflow": null,
      "overflow_x": null,
      "overflow_y": null,
      "padding": null,
      "right": null,
      "top": null,
      "visibility": null,
      "width": null
     }
    },
    "c66f485773d348c489c2ff9f7ddf6f98": {
     "model_module": "@jupyter-widgets/controls",
     "model_module_version": "1.5.0",
     "model_name": "HTMLModel",
     "state": {
      "_dom_classes": [],
      "_model_module": "@jupyter-widgets/controls",
      "_model_module_version": "1.5.0",
      "_model_name": "HTMLModel",
      "_view_count": null,
      "_view_module": "@jupyter-widgets/controls",
      "_view_module_version": "1.5.0",
      "_view_name": "HTMLView",
      "description": "",
      "description_tooltip": null,
      "layout": "IPY_MODEL_3ae7606311674437b6c93f220a39219a",
      "placeholder": "​",
      "style": "IPY_MODEL_e41fa159e017439b899b0bc86e039426",
      "value": " 10021/10021 [00:00&lt;00:00, 34669.78it/s]"
     }
    },
    "c71928cb87b748039fbd59aa8fbba292": {
     "model_module": "@jupyter-widgets/controls",
     "model_module_version": "1.5.0",
     "model_name": "DescriptionStyleModel",
     "state": {
      "_model_module": "@jupyter-widgets/controls",
      "_model_module_version": "1.5.0",
      "_model_name": "DescriptionStyleModel",
      "_view_count": null,
      "_view_module": "@jupyter-widgets/base",
      "_view_module_version": "1.2.0",
      "_view_name": "StyleView",
      "description_width": ""
     }
    },
    "c82733a247fc4fca8010f37c70da92f7": {
     "model_module": "@jupyter-widgets/controls",
     "model_module_version": "1.5.0",
     "model_name": "HTMLModel",
     "state": {
      "_dom_classes": [],
      "_model_module": "@jupyter-widgets/controls",
      "_model_module_version": "1.5.0",
      "_model_name": "HTMLModel",
      "_view_count": null,
      "_view_module": "@jupyter-widgets/controls",
      "_view_module_version": "1.5.0",
      "_view_name": "HTMLView",
      "description": "",
      "description_tooltip": null,
      "layout": "IPY_MODEL_1f1c8cb41754413a934051517554b8cd",
      "placeholder": "​",
      "style": "IPY_MODEL_f88269b8c601415d86bcef2cec4433d3",
      "value": "config.json: 100%"
     }
    },
    "c89e990bdec44a519fa273536d3b4d4a": {
     "model_module": "@jupyter-widgets/base",
     "model_module_version": "1.2.0",
     "model_name": "LayoutModel",
     "state": {
      "_model_module": "@jupyter-widgets/base",
      "_model_module_version": "1.2.0",
      "_model_name": "LayoutModel",
      "_view_count": null,
      "_view_module": "@jupyter-widgets/base",
      "_view_module_version": "1.2.0",
      "_view_name": "LayoutView",
      "align_content": null,
      "align_items": null,
      "align_self": null,
      "border": null,
      "bottom": null,
      "display": null,
      "flex": null,
      "flex_flow": null,
      "grid_area": null,
      "grid_auto_columns": null,
      "grid_auto_flow": null,
      "grid_auto_rows": null,
      "grid_column": null,
      "grid_gap": null,
      "grid_row": null,
      "grid_template_areas": null,
      "grid_template_columns": null,
      "grid_template_rows": null,
      "height": null,
      "justify_content": null,
      "justify_items": null,
      "left": null,
      "margin": null,
      "max_height": null,
      "max_width": null,
      "min_height": null,
      "min_width": null,
      "object_fit": null,
      "object_position": null,
      "order": null,
      "overflow": null,
      "overflow_x": null,
      "overflow_y": null,
      "padding": null,
      "right": null,
      "top": null,
      "visibility": null,
      "width": null
     }
    },
    "c96df53fe1e84a3692ff78d5ee06a50c": {
     "model_module": "@jupyter-widgets/controls",
     "model_module_version": "1.5.0",
     "model_name": "FloatProgressModel",
     "state": {
      "_dom_classes": [],
      "_model_module": "@jupyter-widgets/controls",
      "_model_module_version": "1.5.0",
      "_model_name": "FloatProgressModel",
      "_view_count": null,
      "_view_module": "@jupyter-widgets/controls",
      "_view_module_version": "1.5.0",
      "_view_name": "ProgressView",
      "bar_style": "success",
      "description": "",
      "description_tooltip": null,
      "layout": "IPY_MODEL_4ccbca5215b74c909929a8ff54b64d0a",
      "max": 10800,
      "min": 0,
      "orientation": "horizontal",
      "style": "IPY_MODEL_be1037da87024de2bd63a5dbec2e9e86",
      "value": 10800
     }
    },
    "c9cb21df936547e0a24f9ef7e3f162e5": {
     "model_module": "@jupyter-widgets/controls",
     "model_module_version": "1.5.0",
     "model_name": "ProgressStyleModel",
     "state": {
      "_model_module": "@jupyter-widgets/controls",
      "_model_module_version": "1.5.0",
      "_model_name": "ProgressStyleModel",
      "_view_count": null,
      "_view_module": "@jupyter-widgets/base",
      "_view_module_version": "1.2.0",
      "_view_name": "StyleView",
      "bar_color": null,
      "description_width": ""
     }
    },
    "ca6df22dd2b0482eb0e76e20b66c4a05": {
     "model_module": "@jupyter-widgets/base",
     "model_module_version": "1.2.0",
     "model_name": "LayoutModel",
     "state": {
      "_model_module": "@jupyter-widgets/base",
      "_model_module_version": "1.2.0",
      "_model_name": "LayoutModel",
      "_view_count": null,
      "_view_module": "@jupyter-widgets/base",
      "_view_module_version": "1.2.0",
      "_view_name": "LayoutView",
      "align_content": null,
      "align_items": null,
      "align_self": null,
      "border": null,
      "bottom": null,
      "display": null,
      "flex": null,
      "flex_flow": null,
      "grid_area": null,
      "grid_auto_columns": null,
      "grid_auto_flow": null,
      "grid_auto_rows": null,
      "grid_column": null,
      "grid_gap": null,
      "grid_row": null,
      "grid_template_areas": null,
      "grid_template_columns": null,
      "grid_template_rows": null,
      "height": null,
      "justify_content": null,
      "justify_items": null,
      "left": null,
      "margin": null,
      "max_height": null,
      "max_width": null,
      "min_height": null,
      "min_width": null,
      "object_fit": null,
      "object_position": null,
      "order": null,
      "overflow": null,
      "overflow_x": null,
      "overflow_y": null,
      "padding": null,
      "right": null,
      "top": null,
      "visibility": null,
      "width": null
     }
    },
    "cc49ee51fc5f407f8b42b111e331e869": {
     "model_module": "@jupyter-widgets/base",
     "model_module_version": "1.2.0",
     "model_name": "LayoutModel",
     "state": {
      "_model_module": "@jupyter-widgets/base",
      "_model_module_version": "1.2.0",
      "_model_name": "LayoutModel",
      "_view_count": null,
      "_view_module": "@jupyter-widgets/base",
      "_view_module_version": "1.2.0",
      "_view_name": "LayoutView",
      "align_content": null,
      "align_items": null,
      "align_self": null,
      "border": null,
      "bottom": null,
      "display": null,
      "flex": null,
      "flex_flow": null,
      "grid_area": null,
      "grid_auto_columns": null,
      "grid_auto_flow": null,
      "grid_auto_rows": null,
      "grid_column": null,
      "grid_gap": null,
      "grid_row": null,
      "grid_template_areas": null,
      "grid_template_columns": null,
      "grid_template_rows": null,
      "height": null,
      "justify_content": null,
      "justify_items": null,
      "left": null,
      "margin": null,
      "max_height": null,
      "max_width": null,
      "min_height": null,
      "min_width": null,
      "object_fit": null,
      "object_position": null,
      "order": null,
      "overflow": null,
      "overflow_x": null,
      "overflow_y": null,
      "padding": null,
      "right": null,
      "top": null,
      "visibility": null,
      "width": null
     }
    },
    "ccc17a292a0a488ca0a61a6bf9fac6cf": {
     "model_module": "@jupyter-widgets/controls",
     "model_module_version": "1.5.0",
     "model_name": "FloatProgressModel",
     "state": {
      "_dom_classes": [],
      "_model_module": "@jupyter-widgets/controls",
      "_model_module_version": "1.5.0",
      "_model_name": "FloatProgressModel",
      "_view_count": null,
      "_view_module": "@jupyter-widgets/controls",
      "_view_module_version": "1.5.0",
      "_view_name": "ProgressView",
      "bar_style": "success",
      "description": "",
      "description_tooltip": null,
      "layout": "IPY_MODEL_25d938f52cf74127a7fc99566d37eec1",
      "max": 112,
      "min": 0,
      "orientation": "horizontal",
      "style": "IPY_MODEL_85eadecca808426c99b186bddbd4d4b0",
      "value": 112
     }
    },
    "ce8529188d3348fc9bb5a8810fb6ec3d": {
     "model_module": "@jupyter-widgets/controls",
     "model_module_version": "1.5.0",
     "model_name": "DescriptionStyleModel",
     "state": {
      "_model_module": "@jupyter-widgets/controls",
      "_model_module_version": "1.5.0",
      "_model_name": "DescriptionStyleModel",
      "_view_count": null,
      "_view_module": "@jupyter-widgets/base",
      "_view_module_version": "1.2.0",
      "_view_name": "StyleView",
      "description_width": ""
     }
    },
    "cfb5a23fa97a450e9730099d3f1d14b0": {
     "model_module": "@jupyter-widgets/base",
     "model_module_version": "1.2.0",
     "model_name": "LayoutModel",
     "state": {
      "_model_module": "@jupyter-widgets/base",
      "_model_module_version": "1.2.0",
      "_model_name": "LayoutModel",
      "_view_count": null,
      "_view_module": "@jupyter-widgets/base",
      "_view_module_version": "1.2.0",
      "_view_name": "LayoutView",
      "align_content": null,
      "align_items": null,
      "align_self": null,
      "border": null,
      "bottom": null,
      "display": null,
      "flex": null,
      "flex_flow": null,
      "grid_area": null,
      "grid_auto_columns": null,
      "grid_auto_flow": null,
      "grid_auto_rows": null,
      "grid_column": null,
      "grid_gap": null,
      "grid_row": null,
      "grid_template_areas": null,
      "grid_template_columns": null,
      "grid_template_rows": null,
      "height": null,
      "justify_content": null,
      "justify_items": null,
      "left": null,
      "margin": null,
      "max_height": null,
      "max_width": null,
      "min_height": null,
      "min_width": null,
      "object_fit": null,
      "object_position": null,
      "order": null,
      "overflow": null,
      "overflow_x": null,
      "overflow_y": null,
      "padding": null,
      "right": null,
      "top": null,
      "visibility": null,
      "width": null
     }
    },
    "cfd6a03145414c7fa19168dd0f08e469": {
     "model_module": "@jupyter-widgets/base",
     "model_module_version": "1.2.0",
     "model_name": "LayoutModel",
     "state": {
      "_model_module": "@jupyter-widgets/base",
      "_model_module_version": "1.2.0",
      "_model_name": "LayoutModel",
      "_view_count": null,
      "_view_module": "@jupyter-widgets/base",
      "_view_module_version": "1.2.0",
      "_view_name": "LayoutView",
      "align_content": null,
      "align_items": null,
      "align_self": null,
      "border": null,
      "bottom": null,
      "display": null,
      "flex": null,
      "flex_flow": null,
      "grid_area": null,
      "grid_auto_columns": null,
      "grid_auto_flow": null,
      "grid_auto_rows": null,
      "grid_column": null,
      "grid_gap": null,
      "grid_row": null,
      "grid_template_areas": null,
      "grid_template_columns": null,
      "grid_template_rows": null,
      "height": null,
      "justify_content": null,
      "justify_items": null,
      "left": null,
      "margin": null,
      "max_height": null,
      "max_width": null,
      "min_height": null,
      "min_width": null,
      "object_fit": null,
      "object_position": null,
      "order": null,
      "overflow": null,
      "overflow_x": null,
      "overflow_y": null,
      "padding": null,
      "right": null,
      "top": null,
      "visibility": null,
      "width": null
     }
    },
    "d005f44946134de99e15a06cdc13a11f": {
     "model_module": "@jupyter-widgets/base",
     "model_module_version": "1.2.0",
     "model_name": "LayoutModel",
     "state": {
      "_model_module": "@jupyter-widgets/base",
      "_model_module_version": "1.2.0",
      "_model_name": "LayoutModel",
      "_view_count": null,
      "_view_module": "@jupyter-widgets/base",
      "_view_module_version": "1.2.0",
      "_view_name": "LayoutView",
      "align_content": null,
      "align_items": null,
      "align_self": null,
      "border": null,
      "bottom": null,
      "display": null,
      "flex": null,
      "flex_flow": null,
      "grid_area": null,
      "grid_auto_columns": null,
      "grid_auto_flow": null,
      "grid_auto_rows": null,
      "grid_column": null,
      "grid_gap": null,
      "grid_row": null,
      "grid_template_areas": null,
      "grid_template_columns": null,
      "grid_template_rows": null,
      "height": null,
      "justify_content": null,
      "justify_items": null,
      "left": null,
      "margin": null,
      "max_height": null,
      "max_width": null,
      "min_height": null,
      "min_width": null,
      "object_fit": null,
      "object_position": null,
      "order": null,
      "overflow": null,
      "overflow_x": null,
      "overflow_y": null,
      "padding": null,
      "right": null,
      "top": null,
      "visibility": null,
      "width": null
     }
    },
    "d114d7580c794ea58049b1b36d67ad68": {
     "model_module": "@jupyter-widgets/controls",
     "model_module_version": "1.5.0",
     "model_name": "HTMLModel",
     "state": {
      "_dom_classes": [],
      "_model_module": "@jupyter-widgets/controls",
      "_model_module_version": "1.5.0",
      "_model_name": "HTMLModel",
      "_view_count": null,
      "_view_module": "@jupyter-widgets/controls",
      "_view_module_version": "1.5.0",
      "_view_name": "HTMLView",
      "description": "",
      "description_tooltip": null,
      "layout": "IPY_MODEL_c89e990bdec44a519fa273536d3b4d4a",
      "placeholder": "​",
      "style": "IPY_MODEL_b26531f04aab4016a74384b383ecabe8",
      "value": "tokenizer.json: 100%"
     }
    },
    "d1c037d9d3d141bd8c23cff47ece8d44": {
     "model_module": "@jupyter-widgets/base",
     "model_module_version": "1.2.0",
     "model_name": "LayoutModel",
     "state": {
      "_model_module": "@jupyter-widgets/base",
      "_model_module_version": "1.2.0",
      "_model_name": "LayoutModel",
      "_view_count": null,
      "_view_module": "@jupyter-widgets/base",
      "_view_module_version": "1.2.0",
      "_view_name": "LayoutView",
      "align_content": null,
      "align_items": null,
      "align_self": null,
      "border": null,
      "bottom": null,
      "display": null,
      "flex": null,
      "flex_flow": null,
      "grid_area": null,
      "grid_auto_columns": null,
      "grid_auto_flow": null,
      "grid_auto_rows": null,
      "grid_column": null,
      "grid_gap": null,
      "grid_row": null,
      "grid_template_areas": null,
      "grid_template_columns": null,
      "grid_template_rows": null,
      "height": null,
      "justify_content": null,
      "justify_items": null,
      "left": null,
      "margin": null,
      "max_height": null,
      "max_width": null,
      "min_height": null,
      "min_width": null,
      "object_fit": null,
      "object_position": null,
      "order": null,
      "overflow": null,
      "overflow_x": null,
      "overflow_y": null,
      "padding": null,
      "right": null,
      "top": null,
      "visibility": null,
      "width": null
     }
    },
    "d1f9bc26f54441c2ae26592f174ea787": {
     "model_module": "@jupyter-widgets/controls",
     "model_module_version": "1.5.0",
     "model_name": "HBoxModel",
     "state": {
      "_dom_classes": [],
      "_model_module": "@jupyter-widgets/controls",
      "_model_module_version": "1.5.0",
      "_model_name": "HBoxModel",
      "_view_count": null,
      "_view_module": "@jupyter-widgets/controls",
      "_view_module_version": "1.5.0",
      "_view_name": "HBoxView",
      "box_style": "",
      "children": [
       "IPY_MODEL_6de1792d23e34b22894385287a2ba51d",
       "IPY_MODEL_c96df53fe1e84a3692ff78d5ee06a50c",
       "IPY_MODEL_877e1fee8780410eb82ef0149f2c9843"
      ],
      "layout": "IPY_MODEL_1443863e4b954c0383a33a23583f863c"
     }
    },
    "d3f3adc10ec949c896de684b340d5932": {
     "model_module": "@jupyter-widgets/base",
     "model_module_version": "1.2.0",
     "model_name": "LayoutModel",
     "state": {
      "_model_module": "@jupyter-widgets/base",
      "_model_module_version": "1.2.0",
      "_model_name": "LayoutModel",
      "_view_count": null,
      "_view_module": "@jupyter-widgets/base",
      "_view_module_version": "1.2.0",
      "_view_name": "LayoutView",
      "align_content": null,
      "align_items": null,
      "align_self": null,
      "border": null,
      "bottom": null,
      "display": null,
      "flex": null,
      "flex_flow": null,
      "grid_area": null,
      "grid_auto_columns": null,
      "grid_auto_flow": null,
      "grid_auto_rows": null,
      "grid_column": null,
      "grid_gap": null,
      "grid_row": null,
      "grid_template_areas": null,
      "grid_template_columns": null,
      "grid_template_rows": null,
      "height": null,
      "justify_content": null,
      "justify_items": null,
      "left": null,
      "margin": null,
      "max_height": null,
      "max_width": null,
      "min_height": null,
      "min_width": null,
      "object_fit": null,
      "object_position": null,
      "order": null,
      "overflow": null,
      "overflow_x": null,
      "overflow_y": null,
      "padding": null,
      "right": null,
      "top": null,
      "visibility": null,
      "width": null
     }
    },
    "d45654b535174f7d973cdba0f24e4b35": {
     "model_module": "@jupyter-widgets/base",
     "model_module_version": "1.2.0",
     "model_name": "LayoutModel",
     "state": {
      "_model_module": "@jupyter-widgets/base",
      "_model_module_version": "1.2.0",
      "_model_name": "LayoutModel",
      "_view_count": null,
      "_view_module": "@jupyter-widgets/base",
      "_view_module_version": "1.2.0",
      "_view_name": "LayoutView",
      "align_content": null,
      "align_items": null,
      "align_self": null,
      "border": null,
      "bottom": null,
      "display": null,
      "flex": null,
      "flex_flow": null,
      "grid_area": null,
      "grid_auto_columns": null,
      "grid_auto_flow": null,
      "grid_auto_rows": null,
      "grid_column": null,
      "grid_gap": null,
      "grid_row": null,
      "grid_template_areas": null,
      "grid_template_columns": null,
      "grid_template_rows": null,
      "height": null,
      "justify_content": null,
      "justify_items": null,
      "left": null,
      "margin": null,
      "max_height": null,
      "max_width": null,
      "min_height": null,
      "min_width": null,
      "object_fit": null,
      "object_position": null,
      "order": null,
      "overflow": null,
      "overflow_x": null,
      "overflow_y": null,
      "padding": null,
      "right": null,
      "top": null,
      "visibility": null,
      "width": null
     }
    },
    "d46566ab637044edaa6dce854c89e0c1": {
     "model_module": "@jupyter-widgets/controls",
     "model_module_version": "1.5.0",
     "model_name": "DescriptionStyleModel",
     "state": {
      "_model_module": "@jupyter-widgets/controls",
      "_model_module_version": "1.5.0",
      "_model_name": "DescriptionStyleModel",
      "_view_count": null,
      "_view_module": "@jupyter-widgets/base",
      "_view_module_version": "1.2.0",
      "_view_name": "StyleView",
      "description_width": ""
     }
    },
    "d488da69a6bb48f3b42fb02da6593db4": {
     "model_module": "@jupyter-widgets/base",
     "model_module_version": "1.2.0",
     "model_name": "LayoutModel",
     "state": {
      "_model_module": "@jupyter-widgets/base",
      "_model_module_version": "1.2.0",
      "_model_name": "LayoutModel",
      "_view_count": null,
      "_view_module": "@jupyter-widgets/base",
      "_view_module_version": "1.2.0",
      "_view_name": "LayoutView",
      "align_content": null,
      "align_items": null,
      "align_self": null,
      "border": null,
      "bottom": null,
      "display": null,
      "flex": null,
      "flex_flow": null,
      "grid_area": null,
      "grid_auto_columns": null,
      "grid_auto_flow": null,
      "grid_auto_rows": null,
      "grid_column": null,
      "grid_gap": null,
      "grid_row": null,
      "grid_template_areas": null,
      "grid_template_columns": null,
      "grid_template_rows": null,
      "height": null,
      "justify_content": null,
      "justify_items": null,
      "left": null,
      "margin": null,
      "max_height": null,
      "max_width": null,
      "min_height": null,
      "min_width": null,
      "object_fit": null,
      "object_position": null,
      "order": null,
      "overflow": null,
      "overflow_x": null,
      "overflow_y": null,
      "padding": null,
      "right": null,
      "top": null,
      "visibility": null,
      "width": null
     }
    },
    "d4d1cd66d7cb4a28833d36704577b83c": {
     "model_module": "@jupyter-widgets/controls",
     "model_module_version": "1.5.0",
     "model_name": "HTMLModel",
     "state": {
      "_dom_classes": [],
      "_model_module": "@jupyter-widgets/controls",
      "_model_module_version": "1.5.0",
      "_model_name": "HTMLModel",
      "_view_count": null,
      "_view_module": "@jupyter-widgets/controls",
      "_view_module_version": "1.5.0",
      "_view_name": "HTMLView",
      "description": "",
      "description_tooltip": null,
      "layout": "IPY_MODEL_0509f3bf0be14666ae8b779e172bed21",
      "placeholder": "​",
      "style": "IPY_MODEL_e04400ede8484ab096228ae93d63bc52",
      "value": "modules.json: 100%"
     }
    },
    "d6576563a5cb49e39b4fbcd0e541a6c4": {
     "model_module": "@jupyter-widgets/controls",
     "model_module_version": "1.5.0",
     "model_name": "HBoxModel",
     "state": {
      "_dom_classes": [],
      "_model_module": "@jupyter-widgets/controls",
      "_model_module_version": "1.5.0",
      "_model_name": "HBoxModel",
      "_view_count": null,
      "_view_module": "@jupyter-widgets/controls",
      "_view_module_version": "1.5.0",
      "_view_name": "HBoxView",
      "box_style": "",
      "children": [
       "IPY_MODEL_1dcef9e6cfdb462d810ba8a966e03fda",
       "IPY_MODEL_c17820c5dca74d6c88c6646e56a20a04",
       "IPY_MODEL_67d7b750cd5e4faead437423a97d74ae"
      ],
      "layout": "IPY_MODEL_ca6df22dd2b0482eb0e76e20b66c4a05"
     }
    },
    "d8e0d81bc97d481689114c5864ecdd22": {
     "model_module": "@jupyter-widgets/controls",
     "model_module_version": "1.5.0",
     "model_name": "HTMLModel",
     "state": {
      "_dom_classes": [],
      "_model_module": "@jupyter-widgets/controls",
      "_model_module_version": "1.5.0",
      "_model_name": "HTMLModel",
      "_view_count": null,
      "_view_module": "@jupyter-widgets/controls",
      "_view_module_version": "1.5.0",
      "_view_name": "HTMLView",
      "description": "",
      "description_tooltip": null,
      "layout": "IPY_MODEL_9826fe6af8484b40a3003fe7c433dacc",
      "placeholder": "​",
      "style": "IPY_MODEL_3a607fbb943a498cbbf7742dd537b8ed",
      "value": "sentence_bert_config.json: 100%"
     }
    },
    "da2b3c6f7e8c44cd9a3a1197dd7008d0": {
     "model_module": "@jupyter-widgets/base",
     "model_module_version": "1.2.0",
     "model_name": "LayoutModel",
     "state": {
      "_model_module": "@jupyter-widgets/base",
      "_model_module_version": "1.2.0",
      "_model_name": "LayoutModel",
      "_view_count": null,
      "_view_module": "@jupyter-widgets/base",
      "_view_module_version": "1.2.0",
      "_view_name": "LayoutView",
      "align_content": null,
      "align_items": null,
      "align_self": null,
      "border": null,
      "bottom": null,
      "display": null,
      "flex": null,
      "flex_flow": null,
      "grid_area": null,
      "grid_auto_columns": null,
      "grid_auto_flow": null,
      "grid_auto_rows": null,
      "grid_column": null,
      "grid_gap": null,
      "grid_row": null,
      "grid_template_areas": null,
      "grid_template_columns": null,
      "grid_template_rows": null,
      "height": null,
      "justify_content": null,
      "justify_items": null,
      "left": null,
      "margin": null,
      "max_height": null,
      "max_width": null,
      "min_height": null,
      "min_width": null,
      "object_fit": null,
      "object_position": null,
      "order": null,
      "overflow": null,
      "overflow_x": null,
      "overflow_y": null,
      "padding": null,
      "right": null,
      "top": null,
      "visibility": null,
      "width": null
     }
    },
    "dab27eedc99f4828b4425bbf1f9527a3": {
     "model_module": "@jupyter-widgets/base",
     "model_module_version": "1.2.0",
     "model_name": "LayoutModel",
     "state": {
      "_model_module": "@jupyter-widgets/base",
      "_model_module_version": "1.2.0",
      "_model_name": "LayoutModel",
      "_view_count": null,
      "_view_module": "@jupyter-widgets/base",
      "_view_module_version": "1.2.0",
      "_view_name": "LayoutView",
      "align_content": null,
      "align_items": null,
      "align_self": null,
      "border": null,
      "bottom": null,
      "display": null,
      "flex": null,
      "flex_flow": null,
      "grid_area": null,
      "grid_auto_columns": null,
      "grid_auto_flow": null,
      "grid_auto_rows": null,
      "grid_column": null,
      "grid_gap": null,
      "grid_row": null,
      "grid_template_areas": null,
      "grid_template_columns": null,
      "grid_template_rows": null,
      "height": null,
      "justify_content": null,
      "justify_items": null,
      "left": null,
      "margin": null,
      "max_height": null,
      "max_width": null,
      "min_height": null,
      "min_width": null,
      "object_fit": null,
      "object_position": null,
      "order": null,
      "overflow": null,
      "overflow_x": null,
      "overflow_y": null,
      "padding": null,
      "right": null,
      "top": null,
      "visibility": null,
      "width": null
     }
    },
    "db0cd454434440619c89a3fc20f20571": {
     "model_module": "@jupyter-widgets/base",
     "model_module_version": "1.2.0",
     "model_name": "LayoutModel",
     "state": {
      "_model_module": "@jupyter-widgets/base",
      "_model_module_version": "1.2.0",
      "_model_name": "LayoutModel",
      "_view_count": null,
      "_view_module": "@jupyter-widgets/base",
      "_view_module_version": "1.2.0",
      "_view_name": "LayoutView",
      "align_content": null,
      "align_items": null,
      "align_self": null,
      "border": null,
      "bottom": null,
      "display": null,
      "flex": null,
      "flex_flow": null,
      "grid_area": null,
      "grid_auto_columns": null,
      "grid_auto_flow": null,
      "grid_auto_rows": null,
      "grid_column": null,
      "grid_gap": null,
      "grid_row": null,
      "grid_template_areas": null,
      "grid_template_columns": null,
      "grid_template_rows": null,
      "height": null,
      "justify_content": null,
      "justify_items": null,
      "left": null,
      "margin": null,
      "max_height": null,
      "max_width": null,
      "min_height": null,
      "min_width": null,
      "object_fit": null,
      "object_position": null,
      "order": null,
      "overflow": null,
      "overflow_x": null,
      "overflow_y": null,
      "padding": null,
      "right": null,
      "top": null,
      "visibility": null,
      "width": null
     }
    },
    "dc22f5eb48e14e359bf8858b3d62c17b": {
     "model_module": "@jupyter-widgets/controls",
     "model_module_version": "1.5.0",
     "model_name": "DescriptionStyleModel",
     "state": {
      "_model_module": "@jupyter-widgets/controls",
      "_model_module_version": "1.5.0",
      "_model_name": "DescriptionStyleModel",
      "_view_count": null,
      "_view_module": "@jupyter-widgets/base",
      "_view_module_version": "1.2.0",
      "_view_name": "StyleView",
      "description_width": ""
     }
    },
    "dcb0fc56418843deb4743372ac806692": {
     "model_module": "@jupyter-widgets/base",
     "model_module_version": "1.2.0",
     "model_name": "LayoutModel",
     "state": {
      "_model_module": "@jupyter-widgets/base",
      "_model_module_version": "1.2.0",
      "_model_name": "LayoutModel",
      "_view_count": null,
      "_view_module": "@jupyter-widgets/base",
      "_view_module_version": "1.2.0",
      "_view_name": "LayoutView",
      "align_content": null,
      "align_items": null,
      "align_self": null,
      "border": null,
      "bottom": null,
      "display": null,
      "flex": null,
      "flex_flow": null,
      "grid_area": null,
      "grid_auto_columns": null,
      "grid_auto_flow": null,
      "grid_auto_rows": null,
      "grid_column": null,
      "grid_gap": null,
      "grid_row": null,
      "grid_template_areas": null,
      "grid_template_columns": null,
      "grid_template_rows": null,
      "height": null,
      "justify_content": null,
      "justify_items": null,
      "left": null,
      "margin": null,
      "max_height": null,
      "max_width": null,
      "min_height": null,
      "min_width": null,
      "object_fit": null,
      "object_position": null,
      "order": null,
      "overflow": null,
      "overflow_x": null,
      "overflow_y": null,
      "padding": null,
      "right": null,
      "top": null,
      "visibility": null,
      "width": null
     }
    },
    "ddd1257230ce4da19716c814b80fd179": {
     "model_module": "@jupyter-widgets/base",
     "model_module_version": "1.2.0",
     "model_name": "LayoutModel",
     "state": {
      "_model_module": "@jupyter-widgets/base",
      "_model_module_version": "1.2.0",
      "_model_name": "LayoutModel",
      "_view_count": null,
      "_view_module": "@jupyter-widgets/base",
      "_view_module_version": "1.2.0",
      "_view_name": "LayoutView",
      "align_content": null,
      "align_items": null,
      "align_self": null,
      "border": null,
      "bottom": null,
      "display": null,
      "flex": null,
      "flex_flow": null,
      "grid_area": null,
      "grid_auto_columns": null,
      "grid_auto_flow": null,
      "grid_auto_rows": null,
      "grid_column": null,
      "grid_gap": null,
      "grid_row": null,
      "grid_template_areas": null,
      "grid_template_columns": null,
      "grid_template_rows": null,
      "height": null,
      "justify_content": null,
      "justify_items": null,
      "left": null,
      "margin": null,
      "max_height": null,
      "max_width": null,
      "min_height": null,
      "min_width": null,
      "object_fit": null,
      "object_position": null,
      "order": null,
      "overflow": null,
      "overflow_x": null,
      "overflow_y": null,
      "padding": null,
      "right": null,
      "top": null,
      "visibility": null,
      "width": null
     }
    },
    "de5041acf6ed4e03ab0180b3013124e2": {
     "model_module": "@jupyter-widgets/controls",
     "model_module_version": "1.5.0",
     "model_name": "DescriptionStyleModel",
     "state": {
      "_model_module": "@jupyter-widgets/controls",
      "_model_module_version": "1.5.0",
      "_model_name": "DescriptionStyleModel",
      "_view_count": null,
      "_view_module": "@jupyter-widgets/base",
      "_view_module_version": "1.2.0",
      "_view_name": "StyleView",
      "description_width": ""
     }
    },
    "dfd2aef038764931b5d570b7db7554e1": {
     "model_module": "@jupyter-widgets/base",
     "model_module_version": "1.2.0",
     "model_name": "LayoutModel",
     "state": {
      "_model_module": "@jupyter-widgets/base",
      "_model_module_version": "1.2.0",
      "_model_name": "LayoutModel",
      "_view_count": null,
      "_view_module": "@jupyter-widgets/base",
      "_view_module_version": "1.2.0",
      "_view_name": "LayoutView",
      "align_content": null,
      "align_items": null,
      "align_self": null,
      "border": null,
      "bottom": null,
      "display": null,
      "flex": null,
      "flex_flow": null,
      "grid_area": null,
      "grid_auto_columns": null,
      "grid_auto_flow": null,
      "grid_auto_rows": null,
      "grid_column": null,
      "grid_gap": null,
      "grid_row": null,
      "grid_template_areas": null,
      "grid_template_columns": null,
      "grid_template_rows": null,
      "height": null,
      "justify_content": null,
      "justify_items": null,
      "left": null,
      "margin": null,
      "max_height": null,
      "max_width": null,
      "min_height": null,
      "min_width": null,
      "object_fit": null,
      "object_position": null,
      "order": null,
      "overflow": null,
      "overflow_x": null,
      "overflow_y": null,
      "padding": null,
      "right": null,
      "top": null,
      "visibility": null,
      "width": null
     }
    },
    "e0098863afbc4cd0bb13296cdb224f8b": {
     "model_module": "@jupyter-widgets/controls",
     "model_module_version": "1.5.0",
     "model_name": "HTMLModel",
     "state": {
      "_dom_classes": [],
      "_model_module": "@jupyter-widgets/controls",
      "_model_module_version": "1.5.0",
      "_model_name": "HTMLModel",
      "_view_count": null,
      "_view_module": "@jupyter-widgets/controls",
      "_view_module_version": "1.5.0",
      "_view_name": "HTMLView",
      "description": "",
      "description_tooltip": null,
      "layout": "IPY_MODEL_938f16e87eed49f28ff8418476c3e6f0",
      "placeholder": "​",
      "style": "IPY_MODEL_bfe608542f4b4c5ea553b72805f28460",
      "value": " 125/125 [00:00&lt;00:00, 2.68kB/s]"
     }
    },
    "e04400ede8484ab096228ae93d63bc52": {
     "model_module": "@jupyter-widgets/controls",
     "model_module_version": "1.5.0",
     "model_name": "DescriptionStyleModel",
     "state": {
      "_model_module": "@jupyter-widgets/controls",
      "_model_module_version": "1.5.0",
      "_model_name": "DescriptionStyleModel",
      "_view_count": null,
      "_view_module": "@jupyter-widgets/base",
      "_view_module_version": "1.2.0",
      "_view_name": "StyleView",
      "description_width": ""
     }
    },
    "e0e14de4bec14ddbb946905bb42e84db": {
     "model_module": "@jupyter-widgets/controls",
     "model_module_version": "1.5.0",
     "model_name": "ProgressStyleModel",
     "state": {
      "_model_module": "@jupyter-widgets/controls",
      "_model_module_version": "1.5.0",
      "_model_name": "ProgressStyleModel",
      "_view_count": null,
      "_view_module": "@jupyter-widgets/base",
      "_view_module_version": "1.2.0",
      "_view_name": "StyleView",
      "bar_color": null,
      "description_width": ""
     }
    },
    "e1536a1449b24dd7ba55df35617990a6": {
     "model_module": "@jupyter-widgets/controls",
     "model_module_version": "1.5.0",
     "model_name": "DescriptionStyleModel",
     "state": {
      "_model_module": "@jupyter-widgets/controls",
      "_model_module_version": "1.5.0",
      "_model_name": "DescriptionStyleModel",
      "_view_count": null,
      "_view_module": "@jupyter-widgets/base",
      "_view_module_version": "1.2.0",
      "_view_name": "StyleView",
      "description_width": ""
     }
    },
    "e15e15a3ad474ca680229793336320ca": {
     "model_module": "@jupyter-widgets/controls",
     "model_module_version": "1.5.0",
     "model_name": "FloatProgressModel",
     "state": {
      "_dom_classes": [],
      "_model_module": "@jupyter-widgets/controls",
      "_model_module_version": "1.5.0",
      "_model_name": "FloatProgressModel",
      "_view_count": null,
      "_view_module": "@jupyter-widgets/controls",
      "_view_module_version": "1.5.0",
      "_view_name": "ProgressView",
      "bar_style": "success",
      "description": "",
      "description_tooltip": null,
      "layout": "IPY_MODEL_ae0e9dd19b004531a509706b068ed1de",
      "max": 190,
      "min": 0,
      "orientation": "horizontal",
      "style": "IPY_MODEL_6f9a964d491d48cb9abe2efc2c37fab4",
      "value": 190
     }
    },
    "e15e85a9061442009da08b94acaecdba": {
     "model_module": "@jupyter-widgets/base",
     "model_module_version": "1.2.0",
     "model_name": "LayoutModel",
     "state": {
      "_model_module": "@jupyter-widgets/base",
      "_model_module_version": "1.2.0",
      "_model_name": "LayoutModel",
      "_view_count": null,
      "_view_module": "@jupyter-widgets/base",
      "_view_module_version": "1.2.0",
      "_view_name": "LayoutView",
      "align_content": null,
      "align_items": null,
      "align_self": null,
      "border": null,
      "bottom": null,
      "display": null,
      "flex": null,
      "flex_flow": null,
      "grid_area": null,
      "grid_auto_columns": null,
      "grid_auto_flow": null,
      "grid_auto_rows": null,
      "grid_column": null,
      "grid_gap": null,
      "grid_row": null,
      "grid_template_areas": null,
      "grid_template_columns": null,
      "grid_template_rows": null,
      "height": null,
      "justify_content": null,
      "justify_items": null,
      "left": null,
      "margin": null,
      "max_height": null,
      "max_width": null,
      "min_height": null,
      "min_width": null,
      "object_fit": null,
      "object_position": null,
      "order": null,
      "overflow": null,
      "overflow_x": null,
      "overflow_y": null,
      "padding": null,
      "right": null,
      "top": null,
      "visibility": null,
      "width": null
     }
    },
    "e24439f763e54ebc8bc7496e76dae998": {
     "model_module": "@jupyter-widgets/base",
     "model_module_version": "1.2.0",
     "model_name": "LayoutModel",
     "state": {
      "_model_module": "@jupyter-widgets/base",
      "_model_module_version": "1.2.0",
      "_model_name": "LayoutModel",
      "_view_count": null,
      "_view_module": "@jupyter-widgets/base",
      "_view_module_version": "1.2.0",
      "_view_name": "LayoutView",
      "align_content": null,
      "align_items": null,
      "align_self": null,
      "border": null,
      "bottom": null,
      "display": null,
      "flex": null,
      "flex_flow": null,
      "grid_area": null,
      "grid_auto_columns": null,
      "grid_auto_flow": null,
      "grid_auto_rows": null,
      "grid_column": null,
      "grid_gap": null,
      "grid_row": null,
      "grid_template_areas": null,
      "grid_template_columns": null,
      "grid_template_rows": null,
      "height": null,
      "justify_content": null,
      "justify_items": null,
      "left": null,
      "margin": null,
      "max_height": null,
      "max_width": null,
      "min_height": null,
      "min_width": null,
      "object_fit": null,
      "object_position": null,
      "order": null,
      "overflow": null,
      "overflow_x": null,
      "overflow_y": null,
      "padding": null,
      "right": null,
      "top": null,
      "visibility": null,
      "width": null
     }
    },
    "e41fa159e017439b899b0bc86e039426": {
     "model_module": "@jupyter-widgets/controls",
     "model_module_version": "1.5.0",
     "model_name": "DescriptionStyleModel",
     "state": {
      "_model_module": "@jupyter-widgets/controls",
      "_model_module_version": "1.5.0",
      "_model_name": "DescriptionStyleModel",
      "_view_count": null,
      "_view_module": "@jupyter-widgets/base",
      "_view_module_version": "1.2.0",
      "_view_name": "StyleView",
      "description_width": ""
     }
    },
    "e4e76e9a3a324244a8a83890448edc09": {
     "model_module": "@jupyter-widgets/base",
     "model_module_version": "1.2.0",
     "model_name": "LayoutModel",
     "state": {
      "_model_module": "@jupyter-widgets/base",
      "_model_module_version": "1.2.0",
      "_model_name": "LayoutModel",
      "_view_count": null,
      "_view_module": "@jupyter-widgets/base",
      "_view_module_version": "1.2.0",
      "_view_name": "LayoutView",
      "align_content": null,
      "align_items": null,
      "align_self": null,
      "border": null,
      "bottom": null,
      "display": null,
      "flex": null,
      "flex_flow": null,
      "grid_area": null,
      "grid_auto_columns": null,
      "grid_auto_flow": null,
      "grid_auto_rows": null,
      "grid_column": null,
      "grid_gap": null,
      "grid_row": null,
      "grid_template_areas": null,
      "grid_template_columns": null,
      "grid_template_rows": null,
      "height": null,
      "justify_content": null,
      "justify_items": null,
      "left": null,
      "margin": null,
      "max_height": null,
      "max_width": null,
      "min_height": null,
      "min_width": null,
      "object_fit": null,
      "object_position": null,
      "order": null,
      "overflow": null,
      "overflow_x": null,
      "overflow_y": null,
      "padding": null,
      "right": null,
      "top": null,
      "visibility": null,
      "width": null
     }
    },
    "e5594ed89fa047728ad1258c194275dc": {
     "model_module": "@jupyter-widgets/controls",
     "model_module_version": "1.5.0",
     "model_name": "HTMLModel",
     "state": {
      "_dom_classes": [],
      "_model_module": "@jupyter-widgets/controls",
      "_model_module_version": "1.5.0",
      "_model_name": "HTMLModel",
      "_view_count": null,
      "_view_module": "@jupyter-widgets/controls",
      "_view_module_version": "1.5.0",
      "_view_name": "HTMLView",
      "description": "",
      "description_tooltip": null,
      "layout": "IPY_MODEL_78e0618210674578aab1731741367705",
      "placeholder": "​",
      "style": "IPY_MODEL_092ffaf7f7394afcb0baa0aa6e12ffc3",
      "value": "100%"
     }
    },
    "e7cb731ab729443f95a6806332eff60d": {
     "model_module": "@jupyter-widgets/controls",
     "model_module_version": "1.5.0",
     "model_name": "HTMLModel",
     "state": {
      "_dom_classes": [],
      "_model_module": "@jupyter-widgets/controls",
      "_model_module_version": "1.5.0",
      "_model_name": "HTMLModel",
      "_view_count": null,
      "_view_module": "@jupyter-widgets/controls",
      "_view_module_version": "1.5.0",
      "_view_name": "HTMLView",
      "description": "",
      "description_tooltip": null,
      "layout": "IPY_MODEL_89736e01f6404af5ba5ba5fd0d4804bd",
      "placeholder": "​",
      "style": "IPY_MODEL_c71928cb87b748039fbd59aa8fbba292",
      "value": "tokenizer_config.json: 100%"
     }
    },
    "e7ea2d4fbb9d4b4ebb04de2f1a49666e": {
     "model_module": "@jupyter-widgets/base",
     "model_module_version": "1.2.0",
     "model_name": "LayoutModel",
     "state": {
      "_model_module": "@jupyter-widgets/base",
      "_model_module_version": "1.2.0",
      "_model_name": "LayoutModel",
      "_view_count": null,
      "_view_module": "@jupyter-widgets/base",
      "_view_module_version": "1.2.0",
      "_view_name": "LayoutView",
      "align_content": null,
      "align_items": null,
      "align_self": null,
      "border": null,
      "bottom": null,
      "display": null,
      "flex": null,
      "flex_flow": null,
      "grid_area": null,
      "grid_auto_columns": null,
      "grid_auto_flow": null,
      "grid_auto_rows": null,
      "grid_column": null,
      "grid_gap": null,
      "grid_row": null,
      "grid_template_areas": null,
      "grid_template_columns": null,
      "grid_template_rows": null,
      "height": null,
      "justify_content": null,
      "justify_items": null,
      "left": null,
      "margin": null,
      "max_height": null,
      "max_width": null,
      "min_height": null,
      "min_width": null,
      "object_fit": null,
      "object_position": null,
      "order": null,
      "overflow": null,
      "overflow_x": null,
      "overflow_y": null,
      "padding": null,
      "right": null,
      "top": null,
      "visibility": null,
      "width": null
     }
    },
    "e9e8e0753d044bfca73bf41ba241d477": {
     "model_module": "@jupyter-widgets/controls",
     "model_module_version": "1.5.0",
     "model_name": "HTMLModel",
     "state": {
      "_dom_classes": [],
      "_model_module": "@jupyter-widgets/controls",
      "_model_module_version": "1.5.0",
      "_model_name": "HTMLModel",
      "_view_count": null,
      "_view_module": "@jupyter-widgets/controls",
      "_view_module_version": "1.5.0",
      "_view_name": "HTMLView",
      "description": "",
      "description_tooltip": null,
      "layout": "IPY_MODEL_86416f9059d5462eb225481f42465d53",
      "placeholder": "​",
      "style": "IPY_MODEL_16993d0f64184265a96216cae5dda4f1",
      "value": " 232k/232k [00:00&lt;00:00, 4.24MB/s]"
     }
    },
    "ea5b22fe30784378b295d1bb3dc33610": {
     "model_module": "@jupyter-widgets/controls",
     "model_module_version": "1.5.0",
     "model_name": "FloatProgressModel",
     "state": {
      "_dom_classes": [],
      "_model_module": "@jupyter-widgets/controls",
      "_model_module_version": "1.5.0",
      "_model_name": "FloatProgressModel",
      "_view_count": null,
      "_view_module": "@jupyter-widgets/controls",
      "_view_module_version": "1.5.0",
      "_view_name": "ProgressView",
      "bar_style": "success",
      "description": "",
      "description_tooltip": null,
      "layout": "IPY_MODEL_f1024d9a53694a3dbc64ab2118dacb76",
      "max": 90868376,
      "min": 0,
      "orientation": "horizontal",
      "style": "IPY_MODEL_ec86b03865a2470eb7f4f0e3dae12bba",
      "value": 90868376
     }
    },
    "eaa158379a774ed594f5e3fd5157c144": {
     "model_module": "@jupyter-widgets/base",
     "model_module_version": "1.2.0",
     "model_name": "LayoutModel",
     "state": {
      "_model_module": "@jupyter-widgets/base",
      "_model_module_version": "1.2.0",
      "_model_name": "LayoutModel",
      "_view_count": null,
      "_view_module": "@jupyter-widgets/base",
      "_view_module_version": "1.2.0",
      "_view_name": "LayoutView",
      "align_content": null,
      "align_items": null,
      "align_self": null,
      "border": null,
      "bottom": null,
      "display": null,
      "flex": null,
      "flex_flow": null,
      "grid_area": null,
      "grid_auto_columns": null,
      "grid_auto_flow": null,
      "grid_auto_rows": null,
      "grid_column": null,
      "grid_gap": null,
      "grid_row": null,
      "grid_template_areas": null,
      "grid_template_columns": null,
      "grid_template_rows": null,
      "height": null,
      "justify_content": null,
      "justify_items": null,
      "left": null,
      "margin": null,
      "max_height": null,
      "max_width": null,
      "min_height": null,
      "min_width": null,
      "object_fit": null,
      "object_position": null,
      "order": null,
      "overflow": null,
      "overflow_x": null,
      "overflow_y": null,
      "padding": null,
      "right": null,
      "top": null,
      "visibility": null,
      "width": null
     }
    },
    "ec1e8d32bb2e4bd086fe9cf150c95d4c": {
     "model_module": "@jupyter-widgets/base",
     "model_module_version": "1.2.0",
     "model_name": "LayoutModel",
     "state": {
      "_model_module": "@jupyter-widgets/base",
      "_model_module_version": "1.2.0",
      "_model_name": "LayoutModel",
      "_view_count": null,
      "_view_module": "@jupyter-widgets/base",
      "_view_module_version": "1.2.0",
      "_view_name": "LayoutView",
      "align_content": null,
      "align_items": null,
      "align_self": null,
      "border": null,
      "bottom": null,
      "display": null,
      "flex": null,
      "flex_flow": null,
      "grid_area": null,
      "grid_auto_columns": null,
      "grid_auto_flow": null,
      "grid_auto_rows": null,
      "grid_column": null,
      "grid_gap": null,
      "grid_row": null,
      "grid_template_areas": null,
      "grid_template_columns": null,
      "grid_template_rows": null,
      "height": null,
      "justify_content": null,
      "justify_items": null,
      "left": null,
      "margin": null,
      "max_height": null,
      "max_width": null,
      "min_height": null,
      "min_width": null,
      "object_fit": null,
      "object_position": null,
      "order": null,
      "overflow": null,
      "overflow_x": null,
      "overflow_y": null,
      "padding": null,
      "right": null,
      "top": null,
      "visibility": null,
      "width": null
     }
    },
    "ec4b4ad16e144fbaaf2f34ac7b46f496": {
     "model_module": "@jupyter-widgets/base",
     "model_module_version": "1.2.0",
     "model_name": "LayoutModel",
     "state": {
      "_model_module": "@jupyter-widgets/base",
      "_model_module_version": "1.2.0",
      "_model_name": "LayoutModel",
      "_view_count": null,
      "_view_module": "@jupyter-widgets/base",
      "_view_module_version": "1.2.0",
      "_view_name": "LayoutView",
      "align_content": null,
      "align_items": null,
      "align_self": null,
      "border": null,
      "bottom": null,
      "display": null,
      "flex": null,
      "flex_flow": null,
      "grid_area": null,
      "grid_auto_columns": null,
      "grid_auto_flow": null,
      "grid_auto_rows": null,
      "grid_column": null,
      "grid_gap": null,
      "grid_row": null,
      "grid_template_areas": null,
      "grid_template_columns": null,
      "grid_template_rows": null,
      "height": null,
      "justify_content": null,
      "justify_items": null,
      "left": null,
      "margin": null,
      "max_height": null,
      "max_width": null,
      "min_height": null,
      "min_width": null,
      "object_fit": null,
      "object_position": null,
      "order": null,
      "overflow": null,
      "overflow_x": null,
      "overflow_y": null,
      "padding": null,
      "right": null,
      "top": null,
      "visibility": null,
      "width": null
     }
    },
    "ec86b03865a2470eb7f4f0e3dae12bba": {
     "model_module": "@jupyter-widgets/controls",
     "model_module_version": "1.5.0",
     "model_name": "ProgressStyleModel",
     "state": {
      "_model_module": "@jupyter-widgets/controls",
      "_model_module_version": "1.5.0",
      "_model_name": "ProgressStyleModel",
      "_view_count": null,
      "_view_module": "@jupyter-widgets/base",
      "_view_module_version": "1.2.0",
      "_view_name": "StyleView",
      "bar_color": null,
      "description_width": ""
     }
    },
    "ee8f391e9b694348a2fec416157dd875": {
     "model_module": "@jupyter-widgets/controls",
     "model_module_version": "1.5.0",
     "model_name": "HTMLModel",
     "state": {
      "_dom_classes": [],
      "_model_module": "@jupyter-widgets/controls",
      "_model_module_version": "1.5.0",
      "_model_name": "HTMLModel",
      "_view_count": null,
      "_view_module": "@jupyter-widgets/controls",
      "_view_module_version": "1.5.0",
      "_view_name": "HTMLView",
      "description": "",
      "description_tooltip": null,
      "layout": "IPY_MODEL_5a19d5fdd2ea47a7bc354f09958c817c",
      "placeholder": "​",
      "style": "IPY_MODEL_d46566ab637044edaa6dce854c89e0c1",
      "value": " 10800/10800 [26:57&lt;00:00, 17.77it/s]"
     }
    },
    "f0884abdd9e14f8f93da18d1e9df6535": {
     "model_module": "@jupyter-widgets/controls",
     "model_module_version": "1.5.0",
     "model_name": "DescriptionStyleModel",
     "state": {
      "_model_module": "@jupyter-widgets/controls",
      "_model_module_version": "1.5.0",
      "_model_name": "DescriptionStyleModel",
      "_view_count": null,
      "_view_module": "@jupyter-widgets/base",
      "_view_module_version": "1.2.0",
      "_view_name": "StyleView",
      "description_width": ""
     }
    },
    "f1024d9a53694a3dbc64ab2118dacb76": {
     "model_module": "@jupyter-widgets/base",
     "model_module_version": "1.2.0",
     "model_name": "LayoutModel",
     "state": {
      "_model_module": "@jupyter-widgets/base",
      "_model_module_version": "1.2.0",
      "_model_name": "LayoutModel",
      "_view_count": null,
      "_view_module": "@jupyter-widgets/base",
      "_view_module_version": "1.2.0",
      "_view_name": "LayoutView",
      "align_content": null,
      "align_items": null,
      "align_self": null,
      "border": null,
      "bottom": null,
      "display": null,
      "flex": null,
      "flex_flow": null,
      "grid_area": null,
      "grid_auto_columns": null,
      "grid_auto_flow": null,
      "grid_auto_rows": null,
      "grid_column": null,
      "grid_gap": null,
      "grid_row": null,
      "grid_template_areas": null,
      "grid_template_columns": null,
      "grid_template_rows": null,
      "height": null,
      "justify_content": null,
      "justify_items": null,
      "left": null,
      "margin": null,
      "max_height": null,
      "max_width": null,
      "min_height": null,
      "min_width": null,
      "object_fit": null,
      "object_position": null,
      "order": null,
      "overflow": null,
      "overflow_x": null,
      "overflow_y": null,
      "padding": null,
      "right": null,
      "top": null,
      "visibility": null,
      "width": null
     }
    },
    "f5ca05f3113d4b3b8d7166863fb071f9": {
     "model_module": "@jupyter-widgets/controls",
     "model_module_version": "1.5.0",
     "model_name": "HTMLModel",
     "state": {
      "_dom_classes": [],
      "_model_module": "@jupyter-widgets/controls",
      "_model_module_version": "1.5.0",
      "_model_name": "HTMLModel",
      "_view_count": null,
      "_view_module": "@jupyter-widgets/controls",
      "_view_module_version": "1.5.0",
      "_view_name": "HTMLView",
      "description": "",
      "description_tooltip": null,
      "layout": "IPY_MODEL_dab27eedc99f4828b4425bbf1f9527a3",
      "placeholder": "​",
      "style": "IPY_MODEL_dc22f5eb48e14e359bf8858b3d62c17b",
      "value": " 350/350 [00:00&lt;00:00, 18.6kB/s]"
     }
    },
    "f88269b8c601415d86bcef2cec4433d3": {
     "model_module": "@jupyter-widgets/controls",
     "model_module_version": "1.5.0",
     "model_name": "DescriptionStyleModel",
     "state": {
      "_model_module": "@jupyter-widgets/controls",
      "_model_module_version": "1.5.0",
      "_model_name": "DescriptionStyleModel",
      "_view_count": null,
      "_view_module": "@jupyter-widgets/base",
      "_view_module_version": "1.2.0",
      "_view_name": "StyleView",
      "description_width": ""
     }
    },
    "fa2c868da70e43ec92cb80002aadfc62": {
     "model_module": "@jupyter-widgets/controls",
     "model_module_version": "1.5.0",
     "model_name": "HTMLModel",
     "state": {
      "_dom_classes": [],
      "_model_module": "@jupyter-widgets/controls",
      "_model_module_version": "1.5.0",
      "_model_name": "HTMLModel",
      "_view_count": null,
      "_view_module": "@jupyter-widgets/controls",
      "_view_module_version": "1.5.0",
      "_view_name": "HTMLView",
      "description": "",
      "description_tooltip": null,
      "layout": "IPY_MODEL_3693905281884712aab95ecd815f41eb",
      "placeholder": "​",
      "style": "IPY_MODEL_bab234cea16a478cba2cf2afcc46cf8c",
      "value": "100%"
     }
    },
    "fae6f2efdefe4e2ca5bb3ade2068c627": {
     "model_module": "@jupyter-widgets/base",
     "model_module_version": "1.2.0",
     "model_name": "LayoutModel",
     "state": {
      "_model_module": "@jupyter-widgets/base",
      "_model_module_version": "1.2.0",
      "_model_name": "LayoutModel",
      "_view_count": null,
      "_view_module": "@jupyter-widgets/base",
      "_view_module_version": "1.2.0",
      "_view_name": "LayoutView",
      "align_content": null,
      "align_items": null,
      "align_self": null,
      "border": null,
      "bottom": null,
      "display": null,
      "flex": null,
      "flex_flow": null,
      "grid_area": null,
      "grid_auto_columns": null,
      "grid_auto_flow": null,
      "grid_auto_rows": null,
      "grid_column": null,
      "grid_gap": null,
      "grid_row": null,
      "grid_template_areas": null,
      "grid_template_columns": null,
      "grid_template_rows": null,
      "height": null,
      "justify_content": null,
      "justify_items": null,
      "left": null,
      "margin": null,
      "max_height": null,
      "max_width": null,
      "min_height": null,
      "min_width": null,
      "object_fit": null,
      "object_position": null,
      "order": null,
      "overflow": null,
      "overflow_x": null,
      "overflow_y": null,
      "padding": null,
      "right": null,
      "top": null,
      "visibility": null,
      "width": null
     }
    }
   }
  }
 },
 "nbformat": 4,
 "nbformat_minor": 4
}
