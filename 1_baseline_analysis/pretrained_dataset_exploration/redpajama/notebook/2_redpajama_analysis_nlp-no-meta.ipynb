{
 "cells": [
  {
   "cell_type": "markdown",
   "metadata": {
    "id": "jE_uGEjPk-Xn"
   },
   "source": [
    "This notebook is the following part to analysis of the Redpajama, analyzed on Google Colab using GPU T4 to deal with advanced NLP techniques.\n",
    "\n",
    "During this process, the project has not leveraged Spark due to limitation of using Spark **with GPU-based NLP libraries like HuggingFace Transformers and SpaCy, which are not natively supported in distributed Spark environments**.\n",
    "\n",
    "Instead, NLP techniques has been processed using Pandas to fully utilize GPU acceleration for SpaCy, Sentiment Engine (e.g., HuggingFace Transformers, modelling.\n",
    "\n",
    "Remarks; Intentinally added progress bar due to the long run time monitoring of NLP techniques and to check latency"
   ]
  },
  {
   "cell_type": "markdown",
   "metadata": {
    "id": "8LMmXdEualNK"
   },
   "source": [
    "Multiple brands has been tested to scale up the project and gains more insights. The brand included Primark, Asos, Burberry, River island, Reiss, Superdry, Ted Baker, Zara, Vivienne Westwood, and John lewis\n"
   ]
  },
  {
   "cell_type": "markdown",
   "metadata": {
    "id": "XgKMpCglZCFl"
   },
   "source": [
    "# Table of Contents\n",
    "\n",
    "1. [Notebook Setup](#1-Notebook-Setup)  \n",
    "2. [Advanced Text Processing](#2-Advanced-Text-Processing)  \n",
    "3. [Keyword-based Filtering and Additional Feature Engineering](#3-Keyword-based-Filtering-and-Additional-Feature-Engineering)  \n",
    "4. [Keyword Extraction](#4-Keyword-Extraction)  \n",
    "5. [Sentiment Classification and Modelling](#5-Sentiment-Classification-and-Modelling)  \n",
    "6. [Correlation Analysis](#6-Correlation-Analysis)  \n",
    "7. [Hypothesis Testing](#7-Hypothesis-Testing)\n"
   ]
  },
  {
   "cell_type": "markdown",
   "metadata": {
    "id": "hTyY1YD7itl-"
   },
   "source": [
    "# 1 Notebook Setup\n",
    "\n"
   ]
  },
  {
   "cell_type": "code",
   "execution_count": null,
   "metadata": {
    "colab": {
     "base_uri": "https://localhost:8080/",
     "height": 1000
    },
    "id": "dGzlc-rbjqwQ",
    "outputId": "109f950f-3249-475f-8544-f186bc246e52"
   },
   "outputs": [],
   "source": [
    "!pip install -r ../requirements.txt"
   ]
  },
  {
   "cell_type": "markdown",
   "metadata": {
    "id": "sAYbVTxFqufY"
   },
   "source": [
    "<div style=\"border: 2px solid #ffcc00; padding: 10px; border-radius: 6px; background-color: #fff9e6;\">\n",
    "  <strong>Note:</strong> Some libraries (like <code>thinc</code>, <code>spaCy</code>, <code>cupy</code>) were <strong>compiled with NumPy 1.x</strong> and are <strong>not yet compatible with NumPy 2.x</strong>. This has been forced to downgrade for this NLP and modelling task. Normally, NumPy 2.0.x is used in the environment.\n",
    "</div>"
   ]
  },
  {
   "cell_type": "code",
   "execution_count": null,
   "metadata": {
    "id": "3MwO2Qibqx9N"
   },
   "outputs": [],
   "source": [
    "!pip install \"numpy<2.0\""
   ]
  },
  {
   "cell_type": "code",
   "execution_count": null,
   "metadata": {
    "id": "EamiumIghyBM"
   },
   "outputs": [],
   "source": [
    "# Core Libraries\n",
    "import os\n",
    "import re\n",
    "import gc\n",
    "import sys\n",
    "import ast\n",
    "import psutil\n",
    "import numpy as np\n",
    "import datetime as dt\n",
    "import dateutil\n",
    "from itertools import islice\n",
    "\n",
    "# Data Handling\n",
    "import pandas as pd\n",
    "from pathlib import Path\n",
    "\n",
    "# Visualization\n",
    "import matplotlib.pyplot as plt\n",
    "import seaborn as sns\n",
    "from wordcloud import WordCloud\n",
    "import wordcloud\n",
    "from IPython.display import display, HTML\n",
    "\n",
    "# Statistics & Math\n",
    "from scipy.stats import spearmanr\n",
    "from scipy.special import softmax\n",
    "\n",
    "# NLP & Transformers\n",
    "import spacy\n",
    "import torch\n",
    "import transformers\n",
    "from transformers import (\n",
    "    pipeline,\n",
    "    AutoTokenizer,\n",
    "    AutoModelForSequenceClassification\n",
    ")\n",
    "\n",
    "# Utilities\n",
    "from collections import Counter\n",
    "from tqdm import tqdm\n",
    "from tqdm.notebook import tqdm as notebook_tqdm\n",
    "notebook_tqdm.pandas()  # Enable tqdm for pandas\n",
    "\n",
    "# External Tools\n",
    "import gdown\n"
   ]
  },
  {
   "cell_type": "code",
   "execution_count": null,
   "metadata": {
    "id": "bj3ZQB9rq02-"
   },
   "outputs": [],
   "source": [
    "# Install spaCy model inside the notebook (only needs to be done once) to save time when build docker image\n",
    "import spacy.cli\n",
    "spacy.cli.download(\"en_core_web_sm\")"
   ]
  },
  {
   "cell_type": "code",
   "execution_count": null,
   "metadata": {
    "id": "TAeH1i_lvXVy"
   },
   "outputs": [],
   "source": [
    "# keybert\n",
    "from keybert import KeyBERT"
   ]
  },
  {
   "cell_type": "markdown",
   "metadata": {
    "id": "46x2lnQ6q3Wi"
   },
   "source": [
    "## Version Check"
   ]
  },
  {
   "cell_type": "code",
   "execution_count": null,
   "metadata": {
    "id": "RT-xgxPsq3Z3"
   },
   "outputs": [],
   "source": [
    "print(\"Python:\", sys.version)\n",
    "print(\"*NumPy*:\", np.__version__)\n",
    "print(\"Pandas:\", pd.__version__)"
   ]
  },
  {
   "cell_type": "code",
   "execution_count": null,
   "metadata": {
    "id": "u1gscp2bq3ee"
   },
   "outputs": [],
   "source": [
    "print(\"Torch:\", torch.__version__)\n",
    "print(\"Transformers:\", transformers.__version__)\n",
    "print(\"spaCy:\", spacy.__version__)\n",
    "print(\"WordCloud:\", wordcloud.__version__)"
   ]
  },
  {
   "cell_type": "markdown",
   "metadata": {
    "id": "MeZd-uDvq9RG"
   },
   "source": [
    "## File path"
   ]
  },
  {
   "cell_type": "code",
   "execution_count": null,
   "metadata": {
    "id": "yJLNcYNXq9Ix"
   },
   "outputs": [],
   "source": [
    "# Get and display the current working directory for file verification\n",
    "# The environment is based on a Jupyter container with the default 'jovyan' user, as configured by the server.\n",
    "main_path = os.getcwd()\n",
    "current_directory = os.path.dirname(main_path) + \"/\"\n",
    "current_directory"
   ]
  },
  {
   "cell_type": "code",
   "execution_count": null,
   "metadata": {
    "id": "TeMpvbp8hmSz"
   },
   "outputs": [],
   "source": [
    "df = pd.read_parquet(current_directory + 'data/csv_data/600k_selected_brand_redpajama.parquet')"
   ]
  },
  {
   "cell_type": "code",
   "execution_count": null,
   "metadata": {
    "id": "MP-RnwGDkyVq"
   },
   "outputs": [],
   "source": [
    "df.head()"
   ]
  },
  {
   "cell_type": "markdown",
   "metadata": {
    "id": "F5SbAWMCZS1g"
   },
   "source": [
    "## DeepSeek Fixed Ranking"
   ]
  },
  {
   "cell_type": "code",
   "execution_count": null,
   "metadata": {
    "id": "p1dvAox4ZU6b"
   },
   "outputs": [],
   "source": [
    "# Brand ranking categories in the UK 2023\n",
    "top_rk = (\"primark\", \"asos\", \"burberry\")\n",
    "med_rk = (\"river island\", \"reiss\")\n",
    "low_rk = (\"superdry\", \"ted baker\")\n",
    "\n",
    "# Brands appearing once\n",
    "one_app = (\"zara\", \"Vivienne Westwood\", \"john lewis\")\n",
    "\n",
    "# Find brands that appear in more than one rank (intersection)\n",
    "# Convert tuples to sets for set operations\n",
    "twice_app = set(top_rk) & set(med_rk) & set(low_rk)"
   ]
  },
  {
   "cell_type": "markdown",
   "metadata": {
    "id": "zsbBaZpZk9Oq"
   },
   "source": [
    "# 2 Advanced Text Processing"
   ]
  },
  {
   "cell_type": "markdown",
   "metadata": {
    "id": "Z827HVaUZX88"
   },
   "source": [
    "<div style=\"border-left: 4px solid #cc0000; padding: 1em; background-color: #ffe6e6; border-radius: 4px; margin-top: 1em;\">\n",
    "  <strong>⚠️🚫 Warning:</strong><br><br>\n",
    "  This process may take a significant amount of time to complete — potentially up to several days — due to model inference latency, system resource constraints, or unexpected runtime issues (e.g., Java heap space errors, Spark job failures, or kernel crashes) if the instance have no GPU and use only CPU.<br><br>\n",
    "\n",
    "  If sentiment analysis steps are interrupted, rerunning the process may be required from the beginning.<br><br>\n",
    "  <em>Note: The separator cell below is intentionally added to help you pause and verify environment readiness before proceeding.</em>\n",
    "</div>\n"
   ]
  },
  {
   "cell_type": "markdown",
   "metadata": {
    "id": "RQySC05KhvQz"
   },
   "source": [
    "## SpaCy"
   ]
  },
  {
   "cell_type": "markdown",
   "metadata": {
    "id": "3oEHUtVQjX5H"
   },
   "source": [
    "**SpaCy** is a fast, open-source library for advanced **Natural Language Processing (NLP)** in Python. Key Features includes as below;\n",
    "- **Tokenization** – Split text into words\n",
    "- **Lemmatization** – Reduce words to their base form\n",
    "- **Part-of-Speech Tagging** – Identify word types (noun, verb, etc.)\n",
    "- **Named Entity Recognition (NER)** – Detect names, places, dates, etc.\n",
    "- **Dependency Parsing** – Understand sentence structure\n"
   ]
  },
  {
   "cell_type": "markdown",
   "metadata": {
    "id": "At_vJGnml3h9"
   },
   "source": [
    "SpaCy Named Entity Recognition (NER) Labels\n",
    "\n",
    "| Label | Description |\n",
    "|-------|-------------|\n",
    "| PERSON     | People, including fictional |\n",
    "| NORP       | Nationalities, religious and political groups |\n",
    "| FAC        | Facilities (e.g., buildings, airports, highways) |\n",
    "| ORG        | Organizations (e.g., companies, agencies, institutions) |\n",
    "| GPE        | Countries, cities, states (Geopolitical Entities) |\n",
    "| LOC        | Non-GPE locations (e.g., mountain ranges, bodies of water) |\n",
    "| PRODUCT    | Products (e.g., vehicles, devices, food) |\n",
    "| EVENT      | Named events (e.g., World War II, Olympics) |\n",
    "| WORK_OF_ART| Titles of creative works (books, songs, films) |\n",
    "| LAW        | Named legal documents (e.g., treaties, laws) |\n",
    "| LANGUAGE   | Any named language |\n",
    "| DATE       | Absolute or relative dates (e.g., \"2022\", \"next week\") |\n",
    "| TIME       | Times smaller than a day (e.g., \"2 PM\", \"morning\") |\n",
    "| PERCENT    | Percentage values (e.g., \"50%\") |\n",
    "| MONEY      | Monetary values (e.g., \"$100\", \"€20\") |\n",
    "| QUANTITY   | Measurements (e.g., \"10 kg\", \"5 miles\") |\n",
    "| ORDINAL    | First, second, third, etc. |\n",
    "| CARDINAL   | Numerical values (e.g., \"one\", \"100\") |\n"
   ]
  },
  {
   "cell_type": "markdown",
   "metadata": {
    "id": "4J8Kc9xqj62j"
   },
   "source": [
    "## Extract entities; Named Entity Recognition (NER)"
   ]
  },
  {
   "cell_type": "code",
   "execution_count": null,
   "metadata": {
    "id": "BLYJ-4A-irOW"
   },
   "outputs": [],
   "source": [
    "nlp = spacy.load(\"en_core_web_sm\")  # Load a small English NLP model from spaCy\n",
    "\n",
    "doc = nlp(\"H&M launched a new clothing line in Paris.\")\n",
    "\n",
    "for ent in doc.ents:\n",
    "    print(ent.text, ent.label_)"
   ]
  },
  {
   "cell_type": "markdown",
   "metadata": {
    "id": "qIIOy6arlVvf"
   },
   "source": [
    "## Sample from DataFrame"
   ]
  },
  {
   "cell_type": "code",
   "execution_count": null,
   "metadata": {
    "id": "2oypNBC6j6kV"
   },
   "outputs": [],
   "source": [
    "sample_text = df['content'].iloc[0]  # sample from the first row\n",
    "\n",
    "doc = nlp(sample_text)\n",
    "\n",
    "for ent in doc.ents:\n",
    "    print(ent.text, ent.label_)"
   ]
  },
  {
   "cell_type": "markdown",
   "metadata": {
    "id": "k1bxPOe7oFga"
   },
   "source": [
    "## Apply to all dataframe"
   ]
  },
  {
   "cell_type": "markdown",
   "metadata": {
    "id": "LnHAe5AHt8q9"
   },
   "source": [
    "Apply batch processing to the entire DataFrame using nlp.pipe which is significant faster than .apply"
   ]
  },
  {
   "cell_type": "code",
   "execution_count": null,
   "metadata": {
    "id": "bz-D7JJJvmgf"
   },
   "outputs": [],
   "source": [
    "# Check RAM before applying NLP techniques~\n",
    "import psutil\n",
    "print(f\"Available memory: {psutil.virtual_memory().available / 1e9:.2f} GB\")"
   ]
  },
  {
   "cell_type": "code",
   "execution_count": null,
   "metadata": {
    "id": "56U_6W2Fktfs"
   },
   "outputs": [],
   "source": [
    "from tqdm import tqdm  # or from tqdm import tqdm if not in Jupyter\n",
    "\n",
    "texts = df['content'].tolist()\n",
    "entities = []\n",
    "\n",
    "for doc in tqdm(nlp.pipe(texts, batch_size=100), total=len(texts)):  # add tqdm wrapper\n",
    "    entities.append([(ent.text, ent.label_) for ent in doc.ents])\n",
    "\n",
    "df['entities'] = entities"
   ]
  },
  {
   "cell_type": "code",
   "execution_count": null,
   "metadata": {
    "id": "lrkMGiaHgVk2"
   },
   "outputs": [],
   "source": [
    "print(df[\"entities\"].iloc[0])"
   ]
  },
  {
   "cell_type": "code",
   "execution_count": null,
   "metadata": {
    "id": "8nXt80VygYMT"
   },
   "outputs": [],
   "source": [
    "df[\"entities\"].apply(lambda x: isinstance(x, list) and all(isinstance(i, tuple) and len(i) == 2 for i in x)).all()"
   ]
  },
  {
   "cell_type": "code",
   "execution_count": null,
   "metadata": {
    "id": "DobmV-1ggkG9"
   },
   "outputs": [],
   "source": [
    "type(df[\"entities\"].iloc[0])"
   ]
  },
  {
   "cell_type": "code",
   "execution_count": null,
   "metadata": {
    "id": "FZjLdo-ThK_c"
   },
   "outputs": [],
   "source": [
    "df[\"entities\"].iloc[0][0]"
   ]
  },
  {
   "cell_type": "code",
   "execution_count": null,
   "metadata": {
    "id": "RZ5FwmiGhLrL"
   },
   "outputs": [],
   "source": [
    "type(df[\"entities\"].iloc[0][0])"
   ]
  },
  {
   "cell_type": "markdown",
   "metadata": {
    "id": "v41Uf1oXqU1s"
   },
   "source": [
    "## Text Preprocessing; Lemmatization + Stopwords Removal"
   ]
  },
  {
   "cell_type": "code",
   "execution_count": null,
   "metadata": {
    "id": "VSdW-EFwoV6s"
   },
   "outputs": [],
   "source": [
    "# Redefine your function if needed\n",
    "def preprocess_spacy(text):\n",
    "    doc = nlp(text)\n",
    "    return \" \".join([token.lemma_ for token in doc if not token.is_stop and not token.is_punct])\n",
    "\n",
    "# Apply with progress bar\n",
    "df['processed_text'] = df['content'].progress_apply(preprocess_spacy)"
   ]
  },
  {
   "cell_type": "code",
   "execution_count": null,
   "metadata": {
    "id": "AyRqy4jYmDf4"
   },
   "outputs": [],
   "source": [
    "# Replace old content features\n",
    "df[\"content\"] = df[\"processed_text\"]\n",
    "df = df.drop(columns=[\"processed_text\"])"
   ]
  },
  {
   "cell_type": "markdown",
   "metadata": {
    "id": "hcz6Ek-Fsm-2"
   },
   "source": [
    "# 3 Keyword-based Filtering and Additional Feature Engineering"
   ]
  },
  {
   "cell_type": "markdown",
   "metadata": {
    "id": "9SkdYFVaGRMq"
   },
   "source": [
    "Additional feature engineering has been applied for further filtering and analysis, Decided to remove polarity from VADER cause no insight gains"
   ]
  },
  {
   "cell_type": "markdown",
   "metadata": {
    "id": "3SsniwOuZuld"
   },
   "source": [
    "## is_relevant"
   ]
  },
  {
   "cell_type": "code",
   "execution_count": null,
   "metadata": {
    "id": "Klpz5DeFsrnl"
   },
   "outputs": [],
   "source": [
    "# Define domain-specific keywords for filtering retail/fashion-related pages\n",
    "keywords = [\n",
    "    'dress', 'shirt', 't-shirt', 'jeans', 'pants', 'trousers', 'blouse',\n",
    "    'jacket', 'coat', 'skirt', 'shorts', 'sweater', 'cardigan', 'fashion',\n",
    "    'trend', 'style', 'sale', 'discount', 'shop', 'shopping', 'quality',\n",
    "    'cheap', 'price', 'return', 'delivery', 'fit', 'comfortable', 'look'\n",
    "]\n",
    "\n",
    "# Define filtering function\n",
    "def is_relevant(row):\n",
    "    # Convert content to lowercase\n",
    "    content = row['content'].lower()\n",
    "\n",
    "    # Check if any keyword exists in the content\n",
    "    has_keyword = any(kw in content for kw in keywords)\n",
    "\n",
    "    # Content must be longer than 50 characters (filter out short/noise content)\n",
    "    enough_length = len(content) > 50\n",
    "\n",
    "    # Return True only if all conditions are met\n",
    "    return has_keyword and enough_length\n",
    "\n",
    "# Apply filtering to your DataFrame\n",
    "df['is_relevant'] = df.progress_apply(is_relevant, axis=1)\n"
   ]
  },
  {
   "cell_type": "code",
   "execution_count": null,
   "metadata": {
    "id": "TF3v3KPmml7p"
   },
   "outputs": [],
   "source": [
    "# filter only is_relevant page\n",
    "df = df[df[\"is_relevant\"] == True]"
   ]
  },
  {
   "cell_type": "markdown",
   "metadata": {
    "id": "HL2Hhryxfh-e"
   },
   "source": [
    "## Co-mentioned Brands; Extract brands mentioned in the same page"
   ]
  },
  {
   "cell_type": "markdown",
   "metadata": {},
   "source": [
    "The `co_mentioned_brands` feature captures other brand names mentioned on the same page as the target `brand_name`. For example, if `brand_name = 'Primark'` and theThe `co_mentioned_brands` feature captures other brand names mentioned on the same page as the target `brand_name`. For example, if `brand_name = 'Primark'` and the page also includes `Reiss` and `Burberry`, then `co_mentioned_brands = ['Reiss', 'Burberry']`. The main brand is excluded from this list.page also includes `Reiss` and `Burberry`, then `co_mentioned_brands = ['Reiss', 'Burberry']`. The main brand is excluded from this list."
   ]
  },
  {
   "cell_type": "code",
   "execution_count": null,
   "metadata": {
    "id": "VkXFGjWSl5hh"
   },
   "outputs": [],
   "source": [
    "# Define a list of target brands we want to track co-mentions for\n",
    "brands = ['primark', 'asos', 'burberry', 'river island', 'reiss', 'superdry', 'ted baker', 'zara', 'Vivienne Westwood', 'john lewis']\n",
    "\n",
    "# Function to extract co-mentioned brands from a list of named entities\n",
    "def extract_co_mentions_from_entities(entities, primary_brand):\n",
    "    mentions = []  # This will hold other brands mentioned in the same text\n",
    "    for name, label in entities:  # Each entity is a (name, label) tuple, like ('primark', 'ORG')\n",
    "        name_lower = name.lower()  # Convert entity name to lowercase for case-insensitive comparison\n",
    "        # Check if the name is one of the known brands, and not the same as the main brand for the row\n",
    "        if name_lower in brands and name_lower != primary_brand.lower():\n",
    "            mentions.append(name_lower)  # Add it to the co-mention list\n",
    "    return list(set(mentions))  # Remove duplicates by converting to a set, then back to a list\n",
    "\n",
    "# Apply the co-mention extraction function to each row of the DataFrame\n",
    "df['co_mentioned_brands'] = df.progress_apply(\n",
    "    lambda row: extract_co_mentions_from_entities(row['entities'], row['brand_name']),\n",
    "    axis=1  # Apply the function row by row\n",
    ")"
   ]
  },
  {
   "cell_type": "code",
   "execution_count": null,
   "metadata": {
    "id": "B0aWhctimiAt"
   },
   "outputs": [],
   "source": [
    "# astype(bool) return False for [], None, or NaN\n",
    "df[df[\"co_mentioned_brands\"].astype(bool)].head()"
   ]
  },
  {
   "cell_type": "code",
   "execution_count": null,
   "metadata": {
    "id": "sYOFezVnmi84"
   },
   "outputs": [],
   "source": [
    "# return non-null co_mention_brands\n",
    "count = df[\"co_mentioned_brands\"].astype(bool).sum()\n",
    "print(count)"
   ]
  },
  {
   "cell_type": "markdown",
   "metadata": {
    "id": "FW7uyAQdlbs8"
   },
   "source": [
    "No insight gains from co_mention_grands"
   ]
  },
  {
   "cell_type": "code",
   "execution_count": null,
   "metadata": {
    "id": "FFvzVXJtmpfW"
   },
   "outputs": [],
   "source": [
    "df.shape\n",
    "list(df.columns)"
   ]
  },
  {
   "cell_type": "code",
   "execution_count": null,
   "metadata": {
    "id": "7dLsFSmLmsdH"
   },
   "outputs": [],
   "source": [
    "df.head()"
   ]
  },
  {
   "cell_type": "markdown",
   "metadata": {
    "id": "XYNyKSdZb1VB"
   },
   "source": [
    "## Save as a checkpoint"
   ]
  },
  {
   "cell_type": "markdown",
   "metadata": {
    "id": "AptAi6RCbBTb"
   },
   "source": [
    "**Note:** After downloading the dataset once, the code block below should be intentionally hidden to prevent unintentional multiple downloads. This is considered a best practice to avoid redundant operations that may consume unnecessary resources or result in duplicate file writes."
   ]
  },
  {
   "cell_type": "code",
   "execution_count": null,
   "metadata": {
    "id": "U4kOCR1Gbuy6"
   },
   "outputs": [],
   "source": [
    "os.getcwd()"
   ]
  },
  {
   "cell_type": "markdown",
   "metadata": {
    "id": "VnLzcOak6C1v"
   },
   "source": [
    "## Define main roots"
   ]
  },
  {
   "cell_type": "code",
   "execution_count": null,
   "metadata": {
    "id": "7ReD9nlabv5t"
   },
   "outputs": [],
   "source": [
    "# Create Output path/folder name\n",
    "csv_path = current_path.parent / \"data/csv_data/nlp-added-nlp-features-1.csv\"\n",
    "\n",
    "# Save DataFrame\n",
    "df.to_csv(csv_path, index=False)"
   ]
  },
  {
   "cell_type": "code",
   "execution_count": null,
   "metadata": {
    "id": "N7QpnazS6HB0"
   },
   "outputs": [],
   "source": [
    "csv_path"
   ]
  },
  {
   "cell_type": "code",
   "execution_count": null,
   "metadata": {
    "id": "Dx1WMw44bxZ2"
   },
   "outputs": [],
   "source": [
    "# Read CSV\n",
    "df = pd.read_csv(csv_path)"
   ]
  },
  {
   "cell_type": "markdown",
   "metadata": {
    "id": "aDoiYYVncCfp"
   },
   "source": [
    "# 4 Keyword Extraction"
   ]
  },
  {
   "cell_type": "markdown",
   "metadata": {
    "id": "DVbi3LdgnBJE"
   },
   "source": [
    "## KeyBERT: Keyword Extraction with BERT (Theme-based Insight)\n",
    "\n",
    "KeyBERT is a minimal and easy-to-use keyword extraction technique that leverages BERT embeddings to identify the most relevant keywords or keyphrases in a document. It uses contextual word embeddings from BERT to compare document embeddings with candidate keyword embeddings, selecting those with the highest semantic similarity.\n",
    "\n",
    "### Key Features:\n",
    "- Utilizes pre-trained BERT models for semantic similarity\n",
    "- Extracts keywords that are contextually relevant\n",
    "- Supports customization with different embedding models and parameters"
   ]
  },
  {
   "cell_type": "code",
   "execution_count": null,
   "metadata": {
    "colab": {
     "base_uri": "https://localhost:8080/",
     "height": 49,
     "referenced_widgets": [
      "913da2d509434177ba3307af75914266",
      "7d0bee48d7fe42d5bb1b5bf1b310b9f6",
      "0a94160cd3b34accbcc13509d91f745c",
      "f3fce49a51ee44eaa90538ee45c57b8a",
      "d96459c025194f4d9999aab53ef38e78",
      "c055fc2238464215a9ff75cdbe299220",
      "7d814cf590fe4c62a678e607e84f0418",
      "ce626e29850a42b48201c7e8e6ad3ff3",
      "2645f0e8d51541dabfabb0c16ad4400d",
      "d4f6c83f18a04215bf92774863362354",
      "f3e1c08350bb4065bd23ab1c66a59365"
     ]
    },
    "id": "n5OS7E_4m_MY",
    "outputId": "dbd199fb-e1d6-4563-a6e4-d7ac970af4a2"
   },
   "outputs": [],
   "source": [
    "kw_model = KeyBERT()\n",
    "\n",
    "df['keywords'] = df['content'].progress_apply(\n",
    "    lambda x: [kw[0] for kw in kw_model.extract_keywords(x, top_n=5)]\n",
    ")"
   ]
  },
  {
   "cell_type": "markdown",
   "metadata": {
    "id": "s9ViZTc4mwHu"
   },
   "source": [
    "## Save as a checkpoint"
   ]
  },
  {
   "cell_type": "markdown",
   "metadata": {
    "id": "oOCrMBkjcOkd"
   },
   "source": [
    "**Note:** After downloading the dataset once, the code block below should be intentionally hidden to prevent unintentional multiple downloads. This is considered a best practice to avoid redundant operations that may consume unnecessary resources or result in duplicate file writes."
   ]
  },
  {
   "cell_type": "code",
   "execution_count": null,
   "metadata": {
    "id": "aP4w8EjRcSX8"
   },
   "outputs": [],
   "source": [
    "# Create Output path/folder name\n",
    "csv_path = current_path.parent / \"data/csv_data/nlp-added-nlp-features-2.csv\"\n",
    "\n",
    "# Save DataFrame\n",
    "df.to_csv(csv_path, index=False)"
   ]
  },
  {
   "cell_type": "code",
   "execution_count": null,
   "metadata": {
    "id": "xc0ed3TCcSOR"
   },
   "outputs": [],
   "source": [
    "# Load DataFrame\n",
    "df = pd.read_csv(csv_path)"
   ]
  },
  {
   "cell_type": "code",
   "execution_count": null,
   "metadata": {
    "colab": {
     "base_uri": "https://localhost:8080/",
     "height": 1000
    },
    "id": "7itR1u7zkgrS",
    "outputId": "d01a86d7-3409-41a8-990a-d9c80ef5032a"
   },
   "outputs": [],
   "source": [
    "df.head()"
   ]
  },
  {
   "cell_type": "markdown",
   "metadata": {
    "id": "-BOhbJZNaY6w"
   },
   "source": [
    "## Convert to correct category"
   ]
  },
  {
   "cell_type": "code",
   "execution_count": null,
   "metadata": {
    "id": "HUzAj2KPaXgF"
   },
   "outputs": [],
   "source": [
    "# Convert numeric columns\n",
    "numeric_cols = ['content_length', 'mention_count']\n",
    "df[numeric_cols] = df[numeric_cols].apply(pd.to_numeric, errors='coerce')\n",
    "\n",
    "# Convert boolean columns\n",
    "df['has_ugc_keyword'] = df['has_ugc_keyword'].astype(bool)\n",
    "df['is_relevant'] = df['is_relevant'].astype(bool)\n",
    "\n",
    "# Remaining object columns should generally stay as string (object) unless a specific conversion is needed\n",
    "\n",
    "# Verify the changes\n",
    "print(df.dtypes)"
   ]
  },
  {
   "cell_type": "markdown",
   "metadata": {
    "id": "19cNn0gaabjW"
   },
   "source": [
    "## Rename column"
   ]
  },
  {
   "cell_type": "code",
   "execution_count": null,
   "metadata": {
    "id": "GsCkIWU_aa9I"
   },
   "outputs": [],
   "source": [
    "df.rename(columns={'content_length': 'page_length'}, inplace=True)"
   ]
  },
  {
   "cell_type": "markdown",
   "metadata": {
    "id": "b19VJRYZh0tO"
   },
   "source": [
    "## Top N words by brand"
   ]
  },
  {
   "cell_type": "code",
   "execution_count": null,
   "metadata": {
    "colab": {
     "base_uri": "https://localhost:8080/",
     "height": 527
    },
    "id": "IE59A3_4rlFS",
    "outputId": "d2dc13fe-adcb-46e1-ebf3-d890977aa74e"
   },
   "outputs": [],
   "source": [
    "all_keywords = [kw for kws in df['keywords'] for kw in eval(kws)]\n",
    "keyword_counts = Counter(all_keywords)\n",
    "\n",
    "# top 20 keywords\n",
    "top_keywords = keyword_counts.most_common(20)\n",
    "labels, values = zip(*top_keywords)\n",
    "\n",
    "plt.figure(figsize=(12, 6))\n",
    "plt.barh(labels[::-1], values[::-1])\n",
    "plt.title(\"Top 20 Keywords Overall\")\n",
    "plt.xlabel(\"Frequency\")\n",
    "plt.tight_layout()\n",
    "plt.show()"
   ]
  },
  {
   "cell_type": "markdown",
   "metadata": {
    "id": "9FNsO4A6r-5i"
   },
   "source": [
    "## Filtering out of neutral keyword"
   ]
  },
  {
   "cell_type": "markdown",
   "metadata": {
    "id": "OHC1laDc0zjv"
   },
   "source": [
    "as used to filtered when added feature is_relevant words"
   ]
  },
  {
   "cell_type": "code",
   "execution_count": null,
   "metadata": {
    "id": "AYydDgtQrx0-"
   },
   "outputs": [],
   "source": [
    "neutral_words = {\n",
    "    'blouse', 'cardigan', 'coat', 'delivery', 'discount', 'dress',\n",
    "    'fashion', 'fit', 'jacket', 'jeans', 'look', 'pants', 'price',\n",
    "    'return', 'sale', 'shirt', 'shop', 'shopping', 'shorts',\n",
    "    'skirt', 'style', 'sweater', 't-shirt', 'trousers', 'trend','outfit', 'wear'\n",
    "}"
   ]
  },
  {
   "cell_type": "code",
   "execution_count": null,
   "metadata": {
    "colab": {
     "base_uri": "https://localhost:8080/",
     "height": 527
    },
    "id": "EzN2OE-Fr-qP",
    "outputId": "a7ed282b-37e0-4d53-e363-0604e5c1e392"
   },
   "outputs": [],
   "source": [
    "# Flatten keywords and filter out neutral words\n",
    "all_keywords = [\n",
    "    kw for kws in df['keywords']\n",
    "    for kw in eval(kws)\n",
    "    if kw not in neutral_words\n",
    "]\n",
    "\n",
    "# Count keywords\n",
    "keyword_counts = Counter(all_keywords)\n",
    "\n",
    "# Get top 20\n",
    "top_keywords = keyword_counts.most_common(20)\n",
    "labels, values = zip(*top_keywords)\n",
    "\n",
    "# Plot\n",
    "plt.figure(figsize=(12, 6))\n",
    "plt.barh(labels[::-1], values[::-1])\n",
    "plt.title(\"Top 20 Keywords Overall (Filtered)\")\n",
    "plt.xlabel(\"Frequency\")\n",
    "plt.tight_layout()\n",
    "plt.show()\n"
   ]
  },
  {
   "cell_type": "code",
   "execution_count": null,
   "metadata": {
    "id": "aC49ZV7gv3ub"
   },
   "outputs": [],
   "source": [
    "brand_keywords = df.groupby('brand_name')['keywords'].apply(\n",
    "    lambda x: [kw for sublist in x for kw in eval(sublist) if kw not in neutral_words]\n",
    ")\n",
    "\n",
    "top_brand_keywords = brand_keywords.apply(lambda x: Counter(x).most_common(20))"
   ]
  },
  {
   "cell_type": "code",
   "execution_count": null,
   "metadata": {
    "colab": {
     "base_uri": "https://localhost:8080/",
     "height": 407
    },
    "id": "lzG4V8KFtTRE",
    "outputId": "c27abf29-0a91-4c4e-e175-47c9e0d86852"
   },
   "outputs": [],
   "source": [
    "# Selected brand\n",
    "brand = \"zara\"\n",
    "keywords = dict(top_brand_keywords[brand])\n",
    "\n",
    "plt.figure(figsize=(8,4))\n",
    "sns.barplot(x=list(keywords.values()), y=list(keywords.keys()))\n",
    "plt.title(f\"Top Keywords for {brand}\")\n",
    "plt.xlabel(\"Frequency\")\n",
    "plt.tight_layout()\n",
    "plt.show()"
   ]
  },
  {
   "cell_type": "code",
   "execution_count": null,
   "metadata": {
    "colab": {
     "base_uri": "https://localhost:8080/",
     "height": 1000
    },
    "id": "QW2-ntOduDKL",
    "outputId": "8a65efb2-e81a-41e5-fbe6-5b73d6382d24"
   },
   "outputs": [],
   "source": [
    "# Selected brand\n",
    "brand = \"zara\"\n",
    "filtered_keywords = [kw for kw in brand_keywords[brand] if kw not in neutral_words]\n",
    "\n",
    "# Counter to Dataframe\n",
    "keyword_counts = Counter(filtered_keywords)\n",
    "df_top_keywords_zara = pd.DataFrame(keyword_counts.most_common(40), columns=[\"keyword\", \"count\"])\n",
    "\n",
    "df_top_keywords_zara"
   ]
  },
  {
   "cell_type": "code",
   "execution_count": null,
   "metadata": {
    "colab": {
     "base_uri": "https://localhost:8080/",
     "height": 407
    },
    "id": "63dyL1WRU71c",
    "outputId": "4dbc6864-2bb7-4bb4-ee48-9b1c388b8e71"
   },
   "outputs": [],
   "source": [
    "# Selected brand\n",
    "brand = \"john lewis\"\n",
    "keywords = dict(top_brand_keywords[brand])\n",
    "\n",
    "plt.figure(figsize=(8,4))\n",
    "sns.barplot(x=list(keywords.values()), y=list(keywords.keys()))\n",
    "plt.title(f\"Top Keywords for {brand}\")\n",
    "plt.xlabel(\"Frequency\")\n",
    "plt.tight_layout()\n",
    "plt.show()"
   ]
  },
  {
   "cell_type": "code",
   "execution_count": null,
   "metadata": {
    "colab": {
     "base_uri": "https://localhost:8080/",
     "height": 1000
    },
    "id": "mHJs9XQUU7qP",
    "outputId": "a279b446-c280-435c-e0a1-4d5fe0eaae1c"
   },
   "outputs": [],
   "source": [
    "# Selected brand\n",
    "brand = \"john lewis\"\n",
    "filtered_keywords = [kw for kw in brand_keywords[brand] if kw not in neutral_words]\n",
    "\n",
    "# Counter to Dataframe\n",
    "keyword_counts = Counter(filtered_keywords)\n",
    "df_top_keywords_john_lewis = pd.DataFrame(keyword_counts.most_common(40), columns=[\"keyword\", \"count\"])\n",
    "\n",
    "df_top_keywords_john_lewis"
   ]
  },
  {
   "cell_type": "code",
   "execution_count": null,
   "metadata": {
    "colab": {
     "base_uri": "https://localhost:8080/",
     "height": 407
    },
    "id": "cqlt_V3-U4av",
    "outputId": "2387e63a-8130-4ae0-8841-5e2332ace7ef"
   },
   "outputs": [],
   "source": [
    "# Selected brand\n",
    "brand = \"Vivienne Westwood\"\n",
    "keywords = dict(top_brand_keywords[brand])\n",
    "\n",
    "plt.figure(figsize=(8,4))\n",
    "sns.barplot(x=list(keywords.values()), y=list(keywords.keys()))\n",
    "plt.title(f\"Top Keywords for {brand}\")\n",
    "plt.xlabel(\"Frequency\")\n",
    "plt.tight_layout()\n",
    "plt.show()"
   ]
  },
  {
   "cell_type": "code",
   "execution_count": null,
   "metadata": {
    "colab": {
     "base_uri": "https://localhost:8080/",
     "height": 1000
    },
    "id": "BZyXhAuEU5jp",
    "outputId": "43cda7ab-41df-4806-cd73-7331ed265f6b"
   },
   "outputs": [],
   "source": [
    "# Selected brand\n",
    "brand = \"Vivienne Westwood\"\n",
    "filtered_keywords = [kw for kw in brand_keywords[brand] if kw not in neutral_words]\n",
    "\n",
    "# Counter to Dataframe\n",
    "keyword_counts = Counter(filtered_keywords)\n",
    "df_top_keywords_vivienne_westwood = pd.DataFrame(keyword_counts.most_common(40), columns=[\"keyword\", \"count\"])\n",
    "\n",
    "df_top_keywords_vivienne_westwood"
   ]
  },
  {
   "cell_type": "code",
   "execution_count": null,
   "metadata": {
    "colab": {
     "base_uri": "https://localhost:8080/",
     "height": 407
    },
    "id": "nZ7DEc0PU1Sc",
    "outputId": "df93f394-88e7-46d0-d09d-3f955988cd34"
   },
   "outputs": [],
   "source": [
    "# Selected brand\n",
    "brand = \"ted baker\"\n",
    "keywords = dict(top_brand_keywords[brand])\n",
    "\n",
    "plt.figure(figsize=(8,4))\n",
    "sns.barplot(x=list(keywords.values()), y=list(keywords.keys()))\n",
    "plt.title(f\"Top Keywords for {brand}\")\n",
    "plt.xlabel(\"Frequency\")\n",
    "plt.tight_layout()\n",
    "plt.show()"
   ]
  },
  {
   "cell_type": "code",
   "execution_count": null,
   "metadata": {
    "colab": {
     "base_uri": "https://localhost:8080/",
     "height": 1000
    },
    "id": "y-rGK0dKU2aS",
    "outputId": "a60138a0-c1ec-448b-e772-7dd716866adc"
   },
   "outputs": [],
   "source": [
    "# Selected brand\n",
    "brand = \"ted baker\"\n",
    "filtered_keywords = [kw for kw in brand_keywords[brand] if kw not in neutral_words]\n",
    "\n",
    "# Counter to Dataframe\n",
    "keyword_counts = Counter(filtered_keywords)\n",
    "df_top_keywords_ted_baker = pd.DataFrame(keyword_counts.most_common(40), columns=[\"keyword\", \"count\"])\n",
    "\n",
    "df_top_keywords_ted_baker"
   ]
  },
  {
   "cell_type": "code",
   "execution_count": null,
   "metadata": {
    "colab": {
     "base_uri": "https://localhost:8080/",
     "height": 407
    },
    "id": "JAIScGZmUyIB",
    "outputId": "fcf926fb-a581-4a49-8cb1-47b64e5aaa06"
   },
   "outputs": [],
   "source": [
    "# Selected brand\n",
    "brand = \"superdry\"\n",
    "keywords = dict(top_brand_keywords[brand])\n",
    "\n",
    "plt.figure(figsize=(8,4))\n",
    "sns.barplot(x=list(keywords.values()), y=list(keywords.keys()))\n",
    "plt.title(f\"Top Keywords for {brand}\")\n",
    "plt.xlabel(\"Frequency\")\n",
    "plt.tight_layout()\n",
    "plt.show()"
   ]
  },
  {
   "cell_type": "code",
   "execution_count": null,
   "metadata": {
    "colab": {
     "base_uri": "https://localhost:8080/",
     "height": 363
    },
    "id": "XnHIt7CaUx-Q",
    "outputId": "53efb7a2-2ba9-425c-bb6e-542ea9f962b8"
   },
   "outputs": [],
   "source": [
    "# Selected brand\n",
    "brand = \"superdry\"\n",
    "filtered_keywords = [kw for kw in brand_keywords[brand] if kw not in neutral_words]\n",
    "\n",
    "# Counter to Dataframe\n",
    "keyword_counts = Counter(filtered_keywords)\n",
    "df_top_keywords_superdry = pd.DataFrame(keyword_counts.most_common(40), columns=[\"keyword\", \"count\"])\n",
    "\n",
    "df_top_keywords_superdry"
   ]
  },
  {
   "cell_type": "code",
   "execution_count": null,
   "metadata": {
    "colab": {
     "base_uri": "https://localhost:8080/",
     "height": 407
    },
    "id": "opfIxH_zUvPQ",
    "outputId": "8819b9a6-c480-4d5e-8806-55480b166828"
   },
   "outputs": [],
   "source": [
    "# Selected brand\n",
    "brand = \"reiss\"\n",
    "keywords = dict(top_brand_keywords[brand])\n",
    "\n",
    "plt.figure(figsize=(8,4))\n",
    "sns.barplot(x=list(keywords.values()), y=list(keywords.keys()))\n",
    "plt.title(f\"Top Keywords for {brand}\")\n",
    "plt.xlabel(\"Frequency\")\n",
    "plt.tight_layout()\n",
    "plt.show()"
   ]
  },
  {
   "cell_type": "code",
   "execution_count": null,
   "metadata": {
    "colab": {
     "base_uri": "https://localhost:8080/",
     "height": 1000
    },
    "id": "H6zXM7eNUvA4",
    "outputId": "94b47972-dc6d-4759-ee57-77091bf78f09"
   },
   "outputs": [],
   "source": [
    "# Selected brand\n",
    "brand = \"reiss\"\n",
    "filtered_keywords = [kw for kw in brand_keywords[brand] if kw not in neutral_words]\n",
    "\n",
    "# Counter to Dataframe\n",
    "keyword_counts = Counter(filtered_keywords)\n",
    "df_top_keywords_reiss = pd.DataFrame(keyword_counts.most_common(40), columns=[\"keyword\", \"count\"])\n",
    "\n",
    "df_top_keywords_reiss"
   ]
  },
  {
   "cell_type": "code",
   "execution_count": null,
   "metadata": {
    "colab": {
     "base_uri": "https://localhost:8080/",
     "height": 407
    },
    "id": "W8Lv49jjUpdn",
    "outputId": "a7b7cdab-2e3f-4951-c87e-816d97d8cd09"
   },
   "outputs": [],
   "source": [
    "# Selected brand\n",
    "brand = \"river island\"\n",
    "keywords = dict(top_brand_keywords[brand])\n",
    "\n",
    "plt.figure(figsize=(8,4))\n",
    "sns.barplot(x=list(keywords.values()), y=list(keywords.keys()))\n",
    "plt.title(f\"Top Keywords for {brand}\")\n",
    "plt.xlabel(\"Frequency\")\n",
    "plt.tight_layout()\n",
    "plt.show()"
   ]
  },
  {
   "cell_type": "code",
   "execution_count": null,
   "metadata": {
    "colab": {
     "base_uri": "https://localhost:8080/",
     "height": 1000
    },
    "id": "OZ4-w9DAUszC",
    "outputId": "99bd4754-4d96-4245-fc1c-fc2d71696a87"
   },
   "outputs": [],
   "source": [
    "# Selected brand\n",
    "brand = \"river island\"\n",
    "filtered_keywords = [kw for kw in brand_keywords[brand] if kw not in neutral_words]\n",
    "\n",
    "# Counter to Dataframe\n",
    "keyword_counts = Counter(filtered_keywords)\n",
    "df_top_keywords_river_island = pd.DataFrame(keyword_counts.most_common(40), columns=[\"keyword\", \"count\"])\n",
    "\n",
    "df_top_keywords_river_island"
   ]
  },
  {
   "cell_type": "code",
   "execution_count": null,
   "metadata": {
    "colab": {
     "base_uri": "https://localhost:8080/",
     "height": 407
    },
    "id": "dc-7DoA9UklY",
    "outputId": "608bcebb-d4bd-4a5e-c602-c77ba294e8dd"
   },
   "outputs": [],
   "source": [
    "# Selected brand\n",
    "brand = \"burberry\"\n",
    "keywords = dict(top_brand_keywords[brand])\n",
    "\n",
    "plt.figure(figsize=(8,4))\n",
    "sns.barplot(x=list(keywords.values()), y=list(keywords.keys()))\n",
    "plt.title(f\"Top Keywords for {brand}\")\n",
    "plt.xlabel(\"Frequency\")\n",
    "plt.tight_layout()\n",
    "plt.show()"
   ]
  },
  {
   "cell_type": "code",
   "execution_count": null,
   "metadata": {
    "colab": {
     "base_uri": "https://localhost:8080/",
     "height": 1000
    },
    "id": "Bhm4VneuUk3W",
    "outputId": "0f60b779-4d6b-4ec3-8e6c-ffb074aacd1c"
   },
   "outputs": [],
   "source": [
    "brand = \"burberry\"\n",
    "filtered_keywords = [kw for kw in brand_keywords[brand] if kw not in neutral_words]\n",
    "\n",
    "# Counter to Dataframe\n",
    "keyword_counts = Counter(filtered_keywords)\n",
    "df_top_keywords_burberry = pd.DataFrame(keyword_counts.most_common(40), columns=[\"keyword\", \"count\"])\n",
    "\n",
    "df_top_keywords_burberry"
   ]
  },
  {
   "cell_type": "code",
   "execution_count": null,
   "metadata": {
    "colab": {
     "base_uri": "https://localhost:8080/",
     "height": 407
    },
    "id": "f5zw_kP5tTE2",
    "outputId": "42584c25-f553-4aaf-d962-514b4f4fb3d8"
   },
   "outputs": [],
   "source": [
    "# Selected brand\n",
    "import seaborn as sns\n",
    "brand = \"asos\"\n",
    "keywords = dict(top_brand_keywords[brand])\n",
    "\n",
    "plt.figure(figsize=(8,4))\n",
    "sns.barplot(x=list(keywords.values()), y=list(keywords.keys()))\n",
    "plt.title(f\"Top Keywords for {brand}\")\n",
    "plt.xlabel(\"Frequency\")\n",
    "plt.tight_layout()\n",
    "plt.show()"
   ]
  },
  {
   "cell_type": "code",
   "execution_count": null,
   "metadata": {
    "colab": {
     "base_uri": "https://localhost:8080/",
     "height": 1000
    },
    "id": "NsYoLhmHuRE0",
    "outputId": "7c0e1cb5-59ed-4433-be9a-1c14bbbbf034"
   },
   "outputs": [],
   "source": [
    "brand = \"asos\"\n",
    "filtered_keywords = [kw for kw in brand_keywords[brand] if kw not in neutral_words]\n",
    "\n",
    "# Counter to Dataframe\n",
    "keyword_counts = Counter(filtered_keywords)\n",
    "df_top_keywords_asos = pd.DataFrame(keyword_counts.most_common(40), columns=[\"keyword\", \"count\"])\n",
    "\n",
    "df_top_keywords_asos"
   ]
  },
  {
   "cell_type": "code",
   "execution_count": null,
   "metadata": {
    "colab": {
     "base_uri": "https://localhost:8080/",
     "height": 407
    },
    "id": "B78-a0XftmL5",
    "outputId": "255b3b50-58ab-463a-df41-86a392949e5d"
   },
   "outputs": [],
   "source": [
    "# Selected brand\n",
    "import seaborn as sns\n",
    "brand = \"primark\"\n",
    "keywords = dict(top_brand_keywords[brand])\n",
    "\n",
    "plt.figure(figsize=(8,4))\n",
    "sns.barplot(x=list(keywords.values()), y=list(keywords.keys()))\n",
    "plt.title(f\"Top Keywords for {brand}\")\n",
    "plt.xlabel(\"Frequency\")\n",
    "plt.tight_layout()\n",
    "plt.show()"
   ]
  },
  {
   "cell_type": "code",
   "execution_count": null,
   "metadata": {
    "colab": {
     "base_uri": "https://localhost:8080/",
     "height": 1000
    },
    "id": "4CU4w76AuZ9M",
    "outputId": "48139b78-88da-46f2-b5f1-e6a1e6c8dfaa"
   },
   "outputs": [],
   "source": [
    "bbrand = \"primark\"\n",
    "filtered_keywords = [kw for kw in brand_keywords[brand] if kw not in neutral_words]\n",
    "\n",
    "# Counter to Dataframe\n",
    "keyword_counts = Counter(filtered_keywords)\n",
    "df_top_keywords_primark = pd.DataFrame(keyword_counts.most_common(40), columns=[\"keyword\", \"count\"])\n",
    "\n",
    "df_top_keywords_primark"
   ]
  },
  {
   "cell_type": "code",
   "execution_count": null,
   "metadata": {
    "colab": {
     "base_uri": "https://localhost:8080/",
     "height": 407
    },
    "id": "whBCKELgY8gG",
    "outputId": "a29eda02-c906-4bc2-f33a-486531002481"
   },
   "outputs": [],
   "source": [
    "# Selected brand\n",
    "import seaborn as sns\n",
    "brand = \"Vivienne Westwood\"\n",
    "keywords = dict(top_brand_keywords[brand])\n",
    "\n",
    "plt.figure(figsize=(8,4))\n",
    "sns.barplot(x=list(keywords.values()), y=list(keywords.keys()))\n",
    "plt.title(f\"Top Keywords for {brand}\")\n",
    "plt.xlabel(\"Frequency\")\n",
    "plt.tight_layout()\n",
    "plt.show()"
   ]
  },
  {
   "cell_type": "code",
   "execution_count": null,
   "metadata": {
    "colab": {
     "base_uri": "https://localhost:8080/",
     "height": 1000
    },
    "id": "gbENIk6fY9Ms",
    "outputId": "276c5d95-57c1-4056-a228-a2332641c372"
   },
   "outputs": [],
   "source": [
    "bbrand = \"Vivienne Westwood\"\n",
    "filtered_keywords = [kw for kw in brand_keywords[brand] if kw not in neutral_words]\n",
    "\n",
    "# Counter to Dataframe\n",
    "keyword_counts = Counter(filtered_keywords)\n",
    "df_top_keywords_vivienne_westwood = pd.DataFrame(keyword_counts.most_common(40), columns=[\"keyword\", \"count\"])\n",
    "\n",
    "df_top_keywords_vivienne_westwood"
   ]
  },
  {
   "cell_type": "code",
   "execution_count": null,
   "metadata": {
    "id": "2klSuWvi0M1e"
   },
   "outputs": [],
   "source": [
    "# Label each dataframe with its brand\n",
    "df_top_keywords_zara['brand'] = 'zara'\n",
    "df_top_keywords_vivienne_westwood['brand'] = 'Vivienne Westwood'\n",
    "df_top_keywords_john_lewis['brand'] = 'john lewis'\n",
    "df_top_keywords_primark['brand'] = 'primark'\n",
    "df_top_keywords_asos['brand'] = 'asos'\n",
    "df_top_keywords_burberry['brand'] = 'burberry'\n",
    "df_top_keywords_superdry['brand'] = 'superdry'\n",
    "df_top_keywords_ted_baker['brand'] = 'ted baker'\n",
    "df_top_keywords_river_island['brand'] = 'river island'\n",
    "df_top_keywords_reiss['brand'] = 'reiss'\n",
    "\n",
    "# Combine all into one dataframe\n",
    "df_all = pd.concat([\n",
    "    df_top_keywords_zara,\n",
    "    df_top_keywords_vivienne_westwood,\n",
    "    df_top_keywords_john_lewis,\n",
    "    df_top_keywords_primark,\n",
    "    df_top_keywords_asos,\n",
    "    df_top_keywords_burberry,\n",
    "    df_top_keywords_superdry,\n",
    "    df_top_keywords_ted_baker,\n",
    "    df_top_keywords_river_island,\n",
    "    df_top_keywords_reiss\n",
    "], ignore_index=True)\n",
    "\n",
    "#  Create a pivot table with keywords across all brands\n",
    "pivot_df = df_all.pivot_table(\n",
    "    index='keyword',\n",
    "    columns='brand',\n",
    "    values='count',\n",
    "    fill_value=0\n",
    ").reset_index()\n",
    "\n",
    "# Find keywords that appear in **all brands**\n",
    "brands = [\n",
    "    'zara', 'Vivienne Westwood', 'john lewis', 'primark',\n",
    "    'asos', 'burberry', 'superdry', 'ted baker', 'river island', 'reiss'\n",
    "]\n",
    "\n",
    "common_keywords = pivot_df[\n",
    "    pivot_df[brands].gt(0).all(axis=1)  # keyword appears in all brands\n",
    "].sort_values(by=brands, ascending=False)\n",
    "\n",
    "# Find keywords unique to **only one** brand\n",
    "unique_keywords = pivot_df[\n",
    "    pivot_df[brands].gt(0).sum(axis=1) == 1  # keyword appears in only one brand\n",
    "]"
   ]
  },
  {
   "cell_type": "code",
   "execution_count": null,
   "metadata": {
    "colab": {
     "base_uri": "https://localhost:8080/"
    },
    "id": "USzEfDvEc26x",
    "outputId": "1361a82f-c43b-4470-936b-563b3be1d02f"
   },
   "outputs": [],
   "source": [
    "print(common_keywords)"
   ]
  },
  {
   "cell_type": "code",
   "execution_count": null,
   "metadata": {
    "id": "tsPq0KbA2z5j"
   },
   "outputs": [],
   "source": [
    "from IPython.display import display, HTML\n",
    "\n",
    "# Create HTML layout with side-by-side display and section headers\n",
    "html_output = f\"\"\"\n",
    "<h2>Keyword Comparison Across Brands</h2>\n",
    "\n",
    "<div style=\"display: flex; gap: 40px;\">\n",
    "\n",
    "  <div style=\"flex: 1;\">\n",
    "    <h3>Common Keywords (All Brands)</h3>\n",
    "    {common_keywords.to_html(index=False)}\n",
    "  </div>\n",
    "\n",
    "  <div style=\"flex: 1;\">\n",
    "    <h3>Unique Keywords (Only One Brand)</h3>\n",
    "    {unique_keywords.to_html(index=False)}\n",
    "  </div>\n",
    "\n",
    "</div>\n",
    "\"\"\"\n",
    "\n",
    "display(HTML(html_output))"
   ]
  },
  {
   "cell_type": "markdown",
   "metadata": {
    "id": "TGMpwEnt1p45"
   },
   "source": [
    "## Heatmap of Top Keywords"
   ]
  },
  {
   "cell_type": "code",
   "execution_count": null,
   "metadata": {
    "colab": {
     "base_uri": "https://localhost:8080/",
     "height": 807
    },
    "id": "q1dkusOf056J",
    "outputId": "37a95cee-cd9e-4a4e-e939-16a0db98348f"
   },
   "outputs": [],
   "source": [
    "# Create a long-form DataFrame with brand, keyword, and count\n",
    "brand_keyword_df = pd.DataFrame([\n",
    "    (brand, kw, count)\n",
    "    for brand, kws in brand_keywords.items()  # brand_keywords: dict of brand → list of keywords\n",
    "    for kw, count in Counter(kws).items()     # count keywords for each brand\n",
    "    if kw not in neutral_words                # exclude neutral words\n",
    "], columns=['brand', 'kw', 'count'])          # name the columns\n",
    "\n",
    "# Pivot to make a matrix: rows = keywords, columns = brands, values = counts\n",
    "pivot = brand_keyword_df.pivot_table(\n",
    "    index='kw', columns='brand', values='count', fill_value=0\n",
    ")\n",
    "\n",
    "# Select top 20 keywords by total count across all brands\n",
    "top_keywords = pivot.sum(axis=1).sort_values(ascending=False).head(20).index\n",
    "pivot = pivot.loc[top_keywords]  # Filter to keep only top keywords\n",
    "\n",
    "# Plot heatmap\n",
    "plt.figure(figsize=(10, 8))\n",
    "sns.heatmap(pivot, annot=True, fmt=\".0f\", cmap='YlGnBu')\n",
    "plt.title(\"Top Keywords Across Brands (Filtered)\")\n",
    "plt.ylabel(\"Keyword\")\n",
    "plt.xlabel(\"Brand\")\n",
    "plt.tight_layout()\n",
    "plt.show()\n"
   ]
  },
  {
   "cell_type": "markdown",
   "metadata": {
    "id": "q2cIdqTeine2"
   },
   "source": [
    "## Keyword Word Cloud - Overall top keyword"
   ]
  },
  {
   "cell_type": "code",
   "execution_count": null,
   "metadata": {
    "colab": {
     "base_uri": "https://localhost:8080/",
     "height": 444
    },
    "id": "T4hcz8UEtwqk",
    "outputId": "f383fdcb-4e6b-4fd7-f7d6-1e9efdc7e823"
   },
   "outputs": [],
   "source": [
    "wordcloud = WordCloud(width=800, height=400, background_color='white').generate_from_frequencies(keyword_counts)\n",
    "\n",
    "plt.figure(figsize=(10, 5))\n",
    "plt.imshow(wordcloud, interpolation='bilinear')\n",
    "plt.axis('off')\n",
    "plt.title(\"Keyword Word Cloud\")\n",
    "plt.show()"
   ]
  },
  {
   "cell_type": "markdown",
   "metadata": {},
   "source": [
    "## Keyword Word Cloud per Brand "
   ]
  },
  {
   "cell_type": "markdown",
   "metadata": {},
   "source": [
    "Filtering out common word"
   ]
  },
  {
   "cell_type": "code",
   "execution_count": null,
   "metadata": {
    "colab": {
     "base_uri": "https://localhost:8080/",
     "height": 1000
    },
    "id": "J4XDqYv2in_W",
    "outputId": "8f70f722-e46c-4891-df22-561d04bc9a8a"
   },
   "outputs": [],
   "source": [
    "# Add 'brand' column to each dataframe\n",
    "df_top_keywords_zara['brand'] = 'zara'\n",
    "df_top_keywords_vivienne_westwood['brand'] = 'Vivienne Westwood'\n",
    "df_top_keywords_john_lewis['brand'] = 'john lewis'\n",
    "df_top_keywords_primark['brand'] = 'primark'\n",
    "df_top_keywords_asos['brand'] = 'asos'\n",
    "df_top_keywords_burberry['brand'] = 'burberry'\n",
    "df_top_keywords_superdry['brand'] = 'superdry'\n",
    "df_top_keywords_ted_baker['brand'] = 'ted baker'\n",
    "df_top_keywords_river_island['brand'] = 'river island'\n",
    "df_top_keywords_reiss['brand'] = 'reiss'\n",
    "\n",
    "# Combine all dataframes into one\n",
    "df_all = pd.concat([\n",
    "    df_top_keywords_zara,\n",
    "    df_top_keywords_vivienne_westwood,\n",
    "    df_top_keywords_john_lewis,\n",
    "    df_top_keywords_primark,\n",
    "    df_top_keywords_asos,\n",
    "    df_top_keywords_burberry,\n",
    "    df_top_keywords_superdry,\n",
    "    df_top_keywords_ted_baker,\n",
    "    df_top_keywords_river_island,\n",
    "    df_top_keywords_reiss\n",
    "], ignore_index=True)\n",
    "\n",
    "# Create pivot table\n",
    "brands = [\n",
    "    'zara', 'Vivienne Westwood', 'john lewis', 'primark',\n",
    "    'asos', 'burberry', 'superdry', 'ted baker', 'river island', 'reiss'\n",
    "]\n",
    "\n",
    "pivot_df = df_all.pivot_table(\n",
    "    index='keyword',\n",
    "    columns='brand',\n",
    "    values='count',\n",
    "    fill_value=0\n",
    ").reset_index()\n",
    "\n",
    "# Identify common keywords (those that appear in **all brands**)\n",
    "common_keywords = pivot_df[\n",
    "    pivot_df[brands].gt(0).all(axis=1)\n",
    "]['keyword']\n",
    "\n",
    "# Filter out common keywords from df_all\n",
    "df_filtered = df_all[~df_all['keyword'].isin(common_keywords)]\n",
    "\n",
    "# Word cloud function\n",
    "def generate_wordcloud(df, brand_name):\n",
    "    brand_df = df[df['brand'] == brand_name]\n",
    "    word_freq = dict(zip(brand_df['keyword'], brand_df['count']))\n",
    "    if word_freq:  # Only generate if there are words left after filtering\n",
    "        wc = WordCloud(width=800, height=400, background_color='white').generate_from_frequencies(word_freq)\n",
    "        plt.figure(figsize=(10, 5))\n",
    "        plt.imshow(wc, interpolation='bilinear')\n",
    "        plt.title(f'Word Cloud for {brand_name} (Excluding Common Keywords)', fontsize=14)\n",
    "        plt.axis('off')\n",
    "        plt.show()\n",
    "    else:\n",
    "        print(f\"No keywords available for {brand_name} after filtering.\")\n",
    "\n",
    "# Generate word clouds for each brand\n",
    "for brand in brands:\n",
    "    generate_wordcloud(df_filtered, brand)"
   ]
  },
  {
   "cell_type": "markdown",
   "metadata": {
    "id": "FlsvW_1rsncr"
   },
   "source": [
    "# 5 Sentiment Classification and Modelling"
   ]
  },
  {
   "cell_type": "markdown",
   "metadata": {
    "id": "NKqXt-g3tBMq"
   },
   "source": [
    "Due to polarity from VADER is too weak, this time the project will replace with sentiment engine from Hugging face (more Advanced techniques to see the sentiment from each brand)\n",
    "\n",
    "Methods\n",
    "- Uses Hugging Face Transformers\n",
    "- Loads a pretrained model via Hugging Face Hub\n",
    "- Applies pipeline() to abstract away tokenizer/model handling\n",
    "- Returns label and score per input\n",
    "- Is commonly used in production-ready sentiment tasks"
   ]
  },
  {
   "cell_type": "markdown",
   "metadata": {
    "id": "1yfM1EPvoVZ8"
   },
   "source": [
    "## First Sentiment Model"
   ]
  },
  {
   "cell_type": "markdown",
   "metadata": {
    "id": "y_VlJKDGj81r"
   },
   "source": [
    "#### Sentiment Engine; [Twitter-roBERTa-base for Sentiment Analysis - UPDATED (2022)](https://huggingface.co/cardiffnlp/twitter-roberta-base-sentiment-latest)\n",
    "**`cardiffnlp/twitter-roberta-base-sentiment-latest`**\n",
    "\n",
    "This model is a fine-tuned version of the RoBERTa-base architecture specifically adapted for sentiment analysis on social media content, particularly Twitter. It has been trained on approximately 124 million tweets collected between January 2018 and December 2021. The model was fine-tuned using the TweetEval benchmark, which is widely used for evaluating sentiment classification tasks on short-form and informal text for retail sentiment.\n",
    "\n",
    "\n",
    "- Fine-tuned on approximately 124 million tweets, making it well-suited for short, informal, and noisy web content.\n",
    "- Trained using the TweetEval benchmark, widely accepted for sentiment classification.\n",
    "- Adaptable to a variety of content types including editorial, blog posts, and general online discourse.\n",
    "- Seamlessly integrates with the Hugging Face `pipeline()` for efficient implementation.\n",
    "- The RoBERTa-based model is broad generalization capabilities and training on diverse social media content. Possible to apply more to non-review data\n",
    "\n",
    "\n",
    "### Key Characteristics\n",
    "\n",
    "- **Base Architecture**: RoBERTa-base (pretrained transformer model by Facebook AI)\n",
    "- **Training Data**: ~124M tweets (Jan 2018 – Dec 2021)\n",
    "- **Task**: Sentiment analysis (text classification)\n",
    "- **Fine-tuning Benchmark**: TweetEval\n",
    "- **Language**: English\n",
    "\n",
    "### Label Mapping\n",
    "\n",
    "The model produces sentiment scores using the following label mapping:\n",
    "\n",
    "- `0` → Negative  \n",
    "- `1` → Neutral  \n",
    "- `2` → Positive\n",
    "\n",
    "When used via the Hugging Face `transformers` pipeline with `pipeline(\"sentiment-analysis\", model=...)`, it automatically maps these internal numeric labels to descriptive class names (e.g., `label='positive'`).\n",
    "\n",
    "\n",
    "\n",
    "With Confidence features in RoBERTa Sentiment Classification when using Hugging Face sentiment models like `cardiffnlp/twitter-roberta-base-sentiment-latest`,  \n",
    "each prediction includes confidence score: the model’s confidence in its prediction (also called **confidence probability**)\n",
    "\n",
    "### Use Cases\n",
    "\n",
    "- Sentiment classification for brand monitoring\n",
    "- Social media opinion mining\n",
    "- Public sentiment tracking over time\n",
    "- Fine-grained analysis in retail, politics, and events\n",
    "\n",
    "### Integration\n",
    "\n",
    "This model is fully integrated into the Hugging Face `transformers` library and can be loaded with:\n"
   ]
  },
  {
   "cell_type": "markdown",
   "metadata": {
    "id": "zGi9mfW3NPC8"
   },
   "source": [
    "## Limitations of `cardiffnlp/twitter-roberta-base-sentiment-latest`\n",
    "\n",
    "- **English-Only Support**  \n",
    "  The model is trained exclusively on English tweets and does not support other languages.\n",
    "\n",
    "- **Limited Contextual Understanding**  \n",
    "  It may misinterpret sarcasm, irony, idioms, or other nuanced language elements.\n",
    "\n",
    "- **Training Data Constraints**  \n",
    "  Based on tweets from 2018–2021; may not reflect recent slang or language trends.\n",
    "\n",
    "- **Token Limitations**  \n",
    "  Can only process up to 512 tokens per input. Longer texts are truncated, possibly omitting important context.\n",
    "\n",
    "- **Preprocessing Requirements**  \n",
    "  Inputs should replace usernames with `@user` and URLs with `http` for accurate results, matching the format used during training.\n",
    "\n",
    "- **Domain Specificity**  \n",
    "  Optimized for Twitter content—performance may degrade on data outside this domain (e.g., formal text, customer reviews).\n",
    "\n"
   ]
  },
  {
   "cell_type": "code",
   "execution_count": null,
   "metadata": {
    "id": "RuCdgoPGMDuv"
   },
   "outputs": [],
   "source": [
    "# Copy the original DataFrame\n",
    "df_robert = df.copy()"
   ]
  },
  {
   "cell_type": "code",
   "execution_count": null,
   "metadata": {
    "colab": {
     "base_uri": "https://localhost:8080/"
    },
    "id": "yskyKrDNXir0",
    "outputId": "2fe2422f-ad14-49ea-e850-a987e8b05612"
   },
   "outputs": [],
   "source": [
    "# Load model and tokenizer\n",
    "model_name = \"cardiffnlp/twitter-roberta-base-sentiment-latest\"\n",
    "tokenizer = AutoTokenizer.from_pretrained(model_name)\n",
    "model = AutoModelForSequenceClassification.from_pretrained(model_name)\n",
    "\n",
    "# Define sentiment labels\n",
    "sentiment_labels = ['negative', 'neutral', 'positive']\n",
    "\n",
    "# Function to get sentiment and confidence\n",
    "def get_sentiment_with_confidence(text):\n",
    "    text = str(text).strip().replace('\\n', ' ')\n",
    "    encoded_input = tokenizer(text, return_tensors='pt', truncation=True, max_length=512)\n",
    "    with torch.no_grad():\n",
    "        output = model(**encoded_input)\n",
    "    scores = output.logits[0].numpy()\n",
    "    probs = softmax(scores)\n",
    "    pred_index = probs.argmax()\n",
    "    return sentiment_labels[pred_index], float(probs[pred_index])\n",
    "\n",
    "# Apply function with progress bar\n",
    "tqdm.pandas(desc=\"Processing sentiments\")\n",
    "df_robert[['sentiment', 'confidence']] = df_robert['content'].progress_apply(\n",
    "    lambda x: pd.Series(get_sentiment_with_confidence(x))\n",
    ")\n",
    "\n",
    "# View result\n",
    "print(df_robert[['content', 'sentiment', 'confidence']])\n"
   ]
  },
  {
   "cell_type": "code",
   "execution_count": null,
   "metadata": {
    "colab": {
     "base_uri": "https://localhost:8080/",
     "height": 521
    },
    "id": "QP1ju7B6IrEQ",
    "outputId": "c3d21945-029c-4277-b357-d58671366f93"
   },
   "outputs": [],
   "source": [
    "df_robert.head()"
   ]
  },
  {
   "cell_type": "markdown",
   "metadata": {
    "id": "ySw3KZL4fwRU"
   },
   "source": [
    "## Save as a checkpoint"
   ]
  },
  {
   "attachments": {},
   "cell_type": "markdown",
   "metadata": {
    "id": "sR6JvwbnfyIc"
   },
   "source": [
    "**Note:** After downloading the dataset once, the code block below should be intentionally hidden to prevent unintentional multiple downloads. This is considered a best practice to avoid redundant operations that may consume unnecessary resources or result in duplicate file writes."
   ]
  },
  {
   "cell_type": "code",
   "execution_count": null,
   "metadata": {
    "id": "JDSm288Cekoz"
   },
   "outputs": [],
   "source": [
    "# Create Output path/folder name\n",
    "csv_path = current_path.parent / \"data/csv_data/robert-sentiment.csv\"\n",
    "\n",
    "# Save DataFrame\n",
    "df_robert.to_csv(csv_path, index=False)"
   ]
  },
  {
   "cell_type": "code",
   "execution_count": null,
   "metadata": {
    "id": "orbJ3wczosku"
   },
   "outputs": [],
   "source": [
    "# Read CSV\n",
    "df_robert = pd.read_csv(csv_path)"
   ]
  },
  {
   "cell_type": "code",
   "execution_count": null,
   "metadata": {
    "id": "1uXUoQVrBNkr"
   },
   "outputs": [],
   "source": [
    "df_filtered_robert = df_robert[df_robert['confidence'] >= 0.75].copy()"
   ]
  },
  {
   "cell_type": "code",
   "execution_count": null,
   "metadata": {
    "colab": {
     "base_uri": "https://localhost:8080/",
     "height": 1000
    },
    "id": "G-PBTXvOBNbO",
    "outputId": "b5ed6bb6-2536-4e6a-bd06-5b145548a675"
   },
   "outputs": [],
   "source": [
    "df_filtered_robert.head()"
   ]
  },
  {
   "cell_type": "markdown",
   "metadata": {
    "id": "1_-Y4ZNqG6EI"
   },
   "source": [
    "## Sentiment Distribution Per Brand"
   ]
  },
  {
   "cell_type": "code",
   "execution_count": null,
   "metadata": {
    "colab": {
     "base_uri": "https://localhost:8080/",
     "height": 332
    },
    "id": "Q4XhgSpmG7RT",
    "outputId": "5501fac3-bade-4540-c5f6-b566ca319102"
   },
   "outputs": [],
   "source": [
    "# Filter out neutral sentiment\n",
    "df_pos_neg = df_filtered_robert[df_filtered_robert['sentiment'].isin(['positive', 'negative'])]\n",
    "\n",
    "# Count sentiment per brand\n",
    "counts = df_pos_neg.groupby(['brand_name', 'sentiment']).size().reset_index(name='count')\n",
    "\n",
    "# Compute total counts per brand\n",
    "counts['total'] = counts.groupby('brand_name')['count'].transform('sum')\n",
    "\n",
    "# Compute percentage\n",
    "counts['percentage'] = (counts['count'] / counts['total']) * 100\n",
    "\n",
    "# Final summary table\n",
    "summary_df = counts[['brand_name', 'sentiment', 'percentage']]\n",
    "summary_df"
   ]
  },
  {
   "cell_type": "markdown",
   "metadata": {
    "id": "KuUTdsepG7VE"
   },
   "source": [
    "## Average Confidence Per Sentiment Type"
   ]
  },
  {
   "cell_type": "code",
   "execution_count": null,
   "metadata": {
    "colab": {
     "base_uri": "https://localhost:8080/",
     "height": 244
    },
    "id": "Z71JhTeSG7X6",
    "outputId": "f04935b8-3eae-4dcb-b638-a167b9eee143"
   },
   "outputs": [],
   "source": [
    "# Create pivot table for average confidence score\n",
    "avg_confidence_table = df_filtered_robert.pivot_table(\n",
    "    index='sentiment',\n",
    "    columns='brand_name',\n",
    "    values='confidence',\n",
    "    aggfunc='mean'\n",
    ")\n",
    "\n",
    "# Format as percentage with 2 decimal places\n",
    "avg_confidence_table = (avg_confidence_table * 100).applymap(lambda x: f\"{x:.2f}%\")\n",
    "\n",
    "# Display the table\n",
    "print(\"Average Confidence Score per Sentiment and Brand:\\n\")\n",
    "avg_confidence_table"
   ]
  },
  {
   "cell_type": "markdown",
   "metadata": {
    "id": "_G6epx1tG7bA"
   },
   "source": [
    "## NSS score by brand"
   ]
  },
  {
   "cell_type": "code",
   "execution_count": null,
   "metadata": {
    "colab": {
     "base_uri": "https://localhost:8080/"
    },
    "id": "eUmotCyDG7dm",
    "outputId": "093383ae-25ec-4003-cfe9-87e88bfb89c1"
   },
   "outputs": [],
   "source": [
    "# Count sentiment occurrences per brand\n",
    "sentiment_counts = df_filtered_robert.groupby(['brand_name', 'sentiment']).size().unstack(fill_value=0)\n",
    "\n",
    "# Calculate total mentions per brand\n",
    "sentiment_counts['total'] = sentiment_counts.sum(axis=1)\n",
    "\n",
    "# Calculate percentages\n",
    "sentiment_counts['%positive'] = (sentiment_counts.get('positive', 0) / sentiment_counts['total']) * 100\n",
    "sentiment_counts['%negative'] = (sentiment_counts.get('negative', 0) / sentiment_counts['total']) * 100\n",
    "\n",
    "# Calculate NSS\n",
    "sentiment_counts['NSS'] = sentiment_counts['%positive'] - sentiment_counts['%negative']\n",
    "\n",
    "# Format NSS as percentage with 2 decimal places\n",
    "sentiment_counts['NSS'] = sentiment_counts['NSS'].map(lambda x: f\"{x:.2f}%\")\n",
    "\n",
    "# Display only NSS per brand\n",
    "nss_scores = sentiment_counts[['NSS']]\n",
    "\n",
    "print(\"Net Sentiment Score (NSS) per Brand:\\n\")\n",
    "print(nss_scores)"
   ]
  },
  {
   "cell_type": "markdown",
   "metadata": {
    "id": "xTS353lr7aCy"
   },
   "source": [
    "## Second Sentiment Model"
   ]
  },
  {
   "cell_type": "markdown",
   "metadata": {
    "id": "wgW-FznMfAe7"
   },
   "source": [
    "\n",
    "**`DistilBERT Clothing Review Model`**\n",
    "\n",
    "- Specifically trained on customer reviews from a structured dataset. Even it seems suitable but the content features are generic one and unstructured text\n",
    "- Optimized for opinion mining in product feedback rather than unstructured website or article content.\n",
    "- Narrow domain scope may lead to reduced performance on broader fashion-related discussions."
   ]
  },
  {
   "cell_type": "markdown",
   "metadata": {
    "id": "lSdIGDA_fBh8"
   },
   "source": [
    "## Limitations of `ongaunjie/distilbert-cloths-sentiment`\n",
    "\n",
    "- **Domain-specific training**  \n",
    "  The model is fine-tuned on women's clothing reviews, so it may underperform on other domains such as electronics or general social media text.\n",
    "\n",
    "- **Limited label set**  \n",
    "  The sentiment classification is limited to three categories: `positive`, `neutral`, and `negative`. It does not support nuanced sentiment like sarcasm, mixed emotion, or multi-aspect sentiment.\n",
    "\n",
    "- **Short to medium text**  \n",
    "  It performs best on short to medium-length reviews (1-3 sentences). Long product descriptions or multi-topic paragraphs may be truncated or misclassified.\n",
    "\n",
    "- **English-only**  \n",
    "  The model is trained on English text and may not generalize well to other languages or multilingual content.\n",
    "\n",
    "- **No aspect-based sentiment**  \n",
    "  It does not identify sentiment by product features (e.g., \"quality is good but size is small\"), which is often required in fine-grained retail analysis.\n",
    "\n",
    "- **Batch inference may vary**  \n",
    "  On large batches or very noisy input, the model may return inconsistent results or fail unless preprocessed properly.\n"
   ]
  },
  {
   "cell_type": "code",
   "execution_count": null,
   "metadata": {
    "id": "8CDEGCQ3Ndfg"
   },
   "outputs": [],
   "source": [
    "# Copy the original DataFrame\n",
    "df_bert = df.copy()"
   ]
  },
  {
   "cell_type": "code",
   "execution_count": null,
   "metadata": {
    "colab": {
     "base_uri": "https://localhost:8080/",
     "height": 519,
     "referenced_widgets": [
      "f33bb09955164e79af0c3fc262c3c49e",
      "d8d6ced31bdf4f238749260a76c9a16c",
      "1b6af24e9a564e2592439a6f3bb40a91",
      "9aada4e3033d4f9ebf42bca6bf499e8c",
      "8d9c32fe4a534a51a02f1a67cdebaaf0",
      "819269b143554e8d81a830ddd69d0cc0",
      "f55ed38afa6743c08457bd0f07537f32",
      "5b0db0cfca0a4f18bcce0f03427ebf0b",
      "9ba8d72685244815af94121b756135c6",
      "c1dbd71b8505451b81cef5281ec2e7be",
      "99561b12ba1a4f12b20fcf301f53134a",
      "54dc6a9577c942d1961485954cc0eb28",
      "80ea9142a19f477882cdca5533bc8409",
      "05ef9923ee1a4cb9ba8105545e9af8ab",
      "7a05f7ddcae246c09ce5be53a57d87b6",
      "6498b5f3fb404fe68bf8c7b98fd06f18",
      "482650a32f2446b2999fbdbc42b21520",
      "7b73ada143d8408bbf34786764a5dad4",
      "91b84f9c341a4898884782478ab549a0",
      "2ce988641cc645fb8bafe366748c199b",
      "77a3a60671cf4f9285ae562214ca5d92",
      "2d7d47be9c3b4cf89f0b64a29a791e4f",
      "439c6d55203b4dd98714ba91aaf4e640",
      "27310ef250e64def8f365dc54c74285b",
      "d6fd318a96914d2481768e3937d061ea",
      "0b81d363e32f46c4b645d31bbedc0e37",
      "81153a34c198470abefb7a071e227ebd",
      "a0f4d0bd5378446ab1d77838d059fffd",
      "1665c93e791c466497854e96f610a047",
      "d7968d984dca4e3eb50ff469ebbdce12",
      "eb6370e8da7442929104bcb4851801ba",
      "545b36e5fb2d4ceab4c8f0e943a3c628",
      "6a706d40d52f4a789945b7f34e37d628",
      "5ca049ea7e7b4155ab830830281faf7d",
      "459537cf6542492e9d1da8e1521e3a50",
      "4978e6d1f0a6472f8e40d81d038f6229",
      "a1151477bd494ab9bce5928ce4781852",
      "ed0530e1c6634a5aa16fd29c8fadefbc",
      "6ee732e8e1e74c2380497cf36a4e6dc8",
      "1ed378fe5cba4211bded8cfbe025a6e3",
      "ddf45b7b82c341a2813efe7f0882487d",
      "98056891d34c46c6a6445ca8f7724461",
      "0ffc84d31bc0485c82cdfaa750baf660",
      "9abf536ad46347a4a1a85e8e924fa53d",
      "560164c108a04d408aef2d1204dffef5",
      "61717e4979434d36ad301958d10a787d",
      "114b171730e7460f878053c586b09371",
      "9a33ade11f4d479f8b046afc0d31ec60",
      "fe080acec8cc461ba6b04f6d1c9a8fb1",
      "e6b2ca4a24f84274b846618a2c4dbf97",
      "a5283d059733441aa7cc7d5f7667786d",
      "4c469a5dda8341dea13e0da3a6c6eeaa",
      "37856a162e264e12824df67ac825284f",
      "396b8d13c3144a8a8204eeade9b07f4e",
      "7ebefaa4d28d4d4d8739047c9d11bf3a",
      "0465be44f2164941ac06e85431605ff3",
      "eab87655752d4d84ba118e157a827f58",
      "59242c454f194652823dde74834f3f81",
      "e9e7f05f960a461796506d7f0687ad8f",
      "b5b1c01272bb4eb08d8f9cad6b50f26a",
      "7ec9c913c4bf4d889279e35b6ac1ab39",
      "60fd3ac9aa344a72ac355c54451cf4a0",
      "2240dadb1614478fbf1193807602f786",
      "c649212d3cc14e31b67dda16dff44fcd",
      "05f14845e5b64309808fa3384f4cd758",
      "7a6ab19d74d640d496cdc31b8c7dd51e",
      "9745326546404ff0810f04bc17f606f2",
      "abab61a3a19743a3b660809757254777",
      "5cf8bb14ddcb42faaf156500b672a283",
      "1c562be2b749410ea30123d6dd66cd11",
      "8f503e7f755f4aed8bca0b26c193f677",
      "25841e51e894477abec0deee264dd106",
      "14fc338e1fe7497f8bf971587129b786",
      "b436a16a03c940b8ba9c32c1d2758e4c",
      "acdb1466e18940ec907bc040c6d1a695",
      "e3ac03b1e9ad4218b23b4c1d23600e93",
      "f93baa18d0b943ca8ff27c5ee303cf57"
     ]
    },
    "id": "40f3W6g8YVm-",
    "outputId": "a5d40924-acf9-4e51-adef-321424662fde"
   },
   "outputs": [],
   "source": [
    "# Load model and tokenizer\n",
    "model_name = \"ongaunjie/distilbert-cloths-sentiment\"\n",
    "tokenizer = AutoTokenizer.from_pretrained(model_name)\n",
    "model = AutoModelForSequenceClassification.from_pretrained(model_name)\n",
    "\n",
    "# Get sentiment labels from the model config\n",
    "sentiment_labels = model.config.id2label.values()\n",
    "\n",
    "# Function to get sentiment and confidence\n",
    "def get_sentiment_with_confidence(text):\n",
    "    text = str(text).strip().replace('\\n', ' ')\n",
    "    encoded_input = tokenizer(text, return_tensors='pt', truncation=True, max_length=512)\n",
    "    with torch.no_grad():\n",
    "        output = model(**encoded_input)\n",
    "    scores = output.logits[0].numpy()\n",
    "    probs = softmax(scores)\n",
    "    pred_index = probs.argmax()\n",
    "    return list(sentiment_labels)[pred_index], float(probs[pred_index])\n",
    "\n",
    "# Apply with progress bar\n",
    "tqdm.pandas(desc=\"Analyzing sentiment\")\n",
    "df_bert[['sentiment', 'confidence']] = df_bert['content'].progress_apply(\n",
    "    lambda x: pd.Series(get_sentiment_with_confidence(x))\n",
    ")\n",
    "\n",
    "# Display results\n",
    "print(df_bert[['content', 'sentiment', 'confidence']])\n"
   ]
  },
  {
   "cell_type": "markdown",
   "metadata": {
    "id": "7EjX-G1qfah7"
   },
   "source": [
    "## Save as a checkpoint"
   ]
  },
  {
   "cell_type": "markdown",
   "metadata": {
    "id": "3eOlVT2afaZf"
   },
   "source": [
    "**Note**: The code block below might have been intentionally hidden to prevent unintentional multiple downloads during testing of the dataset. This is a best practice to avoid redundant operations that may consume unnecessary resources or lead to duplicate file writes."
   ]
  },
  {
   "cell_type": "code",
   "execution_count": null,
   "metadata": {
    "id": "QgYfY_tto4bh"
   },
   "outputs": [],
   "source": [
    "# Create Output path/folder name\n",
    "csv_path = current_path.parent / \"data/csv_data/bert-sentiment.csv\"\n",
    "\n",
    "# Save DataFrame\n",
    "df_bert.to_csv(csv_path, index=False)"
   ]
  },
  {
   "cell_type": "code",
   "execution_count": null,
   "metadata": {
    "id": "RQjm0Sr2o34h"
   },
   "outputs": [],
   "source": [
    "# Load DataFrame\n",
    "df_bert = pd.read_csv(csv_path)"
   ]
  },
  {
   "cell_type": "code",
   "execution_count": null,
   "metadata": {
    "colab": {
     "base_uri": "https://localhost:8080/",
     "height": 521
    },
    "id": "O2cuGlSs9sw7",
    "outputId": "a7a12fa6-d500-4d76-83c3-f9562b9a9364"
   },
   "outputs": [],
   "source": [
    "df_bert.head()"
   ]
  },
  {
   "cell_type": "markdown",
   "metadata": {
    "id": "n8bfT3jnvgQx"
   },
   "source": [
    "## Drop old web_category to revise the logics"
   ]
  },
  {
   "cell_type": "code",
   "execution_count": null,
   "metadata": {
    "colab": {
     "base_uri": "https://localhost:8080/",
     "height": 1000
    },
    "id": "jUF3rwYkvjQV",
    "outputId": "c16fb8a1-056c-4f2f-92b6-36e4a2bf1305"
   },
   "outputs": [],
   "source": [
    "df.head()"
   ]
  },
  {
   "cell_type": "markdown",
   "metadata": {
    "id": "2P-xlu5ngc8F"
   },
   "source": [
    "## Convert Data to correct category"
   ]
  },
  {
   "cell_type": "code",
   "execution_count": null,
   "metadata": {
    "id": "EvchwwLbwh23"
   },
   "outputs": [],
   "source": [
    "# Extract host from URL using regex (like SQL regexp_extract)\n",
    "df['url_host'] = df['source_domain'].astype(str).str.lower()\n",
    "\n",
    "# Drop the old web_category column if it exists\n",
    "if 'web_category' in df.columns:\n",
    "    df.drop(columns=['web_category'], inplace=True)\n",
    "\n",
    "# Define the revised categorization logic\n",
    "def categorize_website(row):\n",
    "    domain = row['url_host']\n",
    "    url = str(row['url']).lower()\n",
    "\n",
    "    if re.search(r'cnn|bbc|nytimes|reuters|guardian|forbes|bloomberg|ft\\.com|cnbc|npr|washingtonpost|wsj', domain) \\\n",
    "       or re.search(r'/news|/breaking|/politics|/world|/article|/headlines', url):\n",
    "        return 'News'\n",
    "    elif re.search(r'/blog|/post|/mypage|/mystory|/user|/forum|/profile|/comment|/thread', url) \\\n",
    "         or re.search(r'wordpress|medium|blogspot|tumblr|livejournal', domain):\n",
    "        return 'Blogs & Community'\n",
    "    elif re.search(r'/shop|/product|/buy|/cart|/checkout|/store|/item|/deal|/brand|/collection|/sale|/pricing', url) \\\n",
    "         or re.search(r'amazon|ebay|bestbuy|alibaba|etsy|shopify|shein|zara|nike|adidas', domain):\n",
    "        return 'E-commerce & Commercial'\n",
    "    elif re.search(r'\\.edu$', domain) \\\n",
    "         or re.search(r'edu|university|college|khanacademy|coursera|edx|mit|harvard|stanford', domain) \\\n",
    "         or re.search(r'/learn|/curriculum|/syllabus|/classroom', url):\n",
    "        return 'Education'\n",
    "    elif re.search(r'netflix|hulu|spotify|imdb|rottentomatoes|disney|youtube|vimeo|soundcloud', domain) \\\n",
    "         or re.search(r'/music|/tv|/movies|/video|/trailer|/playlist|/watch', url):\n",
    "        return 'Media & Entertainment'\n",
    "    elif re.search(r'\\.gov$', domain) \\\n",
    "         or re.search(r'gov|nasa|cdc|whitehouse|senate|house\\.gov|europa\\.eu', domain) \\\n",
    "         or re.search(r'/regulation|/policy|/bill|/law|/agency', url):\n",
    "        return 'Government'\n",
    "    elif re.search(r'/user|/status|/likes|/shares|/posts', url) \\\n",
    "        or re.search(r'reddit|facebook|twitter|tiktok|linkedin|pinterest|instagram|snapchat', domain):\n",
    "        return 'Social'\n",
    "    elif re.search(r'/investor|/financial|/annual-report|/results|/statement|/earnings|/balance|/report|/10-k|/sec', url) \\\n",
    "         or re.search(r'nasdaq|bloomberg|yahoo\\.finance|marketwatch|investopedia', domain):\n",
    "        return 'Financial'\n",
    "    elif re.search(r'wikipedia\\.org', domain):\n",
    "        return 'Education'\n",
    "    elif re.search(r'mozilla\\.org', domain):\n",
    "        return 'Media & Entertainment'\n",
    "    elif re.search(r'archive\\.org', domain):\n",
    "        return 'Education'\n",
    "    elif re.search(r'who\\.int', domain):\n",
    "        return 'Government'\n",
    "    else:\n",
    "        return 'Others'\n",
    "\n",
    "# Apply new logic to create updated web_category column\n",
    "df['web_category'] = df.apply(categorize_website, axis=1)"
   ]
  },
  {
   "cell_type": "code",
   "execution_count": null,
   "metadata": {
    "colab": {
     "base_uri": "https://localhost:8080/",
     "height": 367
    },
    "id": "vUwsM5NgxOce",
    "outputId": "130fd033-e8fc-4904-9c5d-93d5733c20fe"
   },
   "outputs": [],
   "source": [
    "df['web_category'].value_counts()"
   ]
  },
  {
   "cell_type": "markdown",
   "metadata": {
    "id": "n9zZb7ogyqam"
   },
   "source": [
    "No Web_category as 'Social ' in sample redpajama dataset"
   ]
  },
  {
   "cell_type": "code",
   "execution_count": null,
   "metadata": {
    "colab": {
     "base_uri": "https://localhost:8080/",
     "height": 522
    },
    "id": "Me2cdurWuydr",
    "outputId": "6e29a109-97a5-4bb3-90af-6f8063a636b0"
   },
   "outputs": [],
   "source": [
    "df.head()"
   ]
  },
  {
   "cell_type": "code",
   "execution_count": null,
   "metadata": {
    "colab": {
     "base_uri": "https://localhost:8080/"
    },
    "id": "0uz5ZHgivXLb",
    "outputId": "f8256cd7-3ddb-4143-db0b-34422bf44695"
   },
   "outputs": [],
   "source": [
    "# Lowercase the url column and convert to string just in case\n",
    "url_series = df['url'].astype(str).str.lower()\n",
    "\n",
    "# Check if any row matches the 'Social' pattern\n",
    "has_social_match = url_series.str.contains(\n",
    "    r'reddit|facebook|twitter|tiktok|linkedin|pinterest|instagram|snapchat|/user|/status|/likes|/shares|/posts',\n",
    "    regex=True\n",
    ")\n",
    "\n",
    "print(\"Any match:\", has_social_match.any())\n",
    "print(\"Total matches:\", has_social_match.sum())"
   ]
  },
  {
   "cell_type": "code",
   "execution_count": null,
   "metadata": {
    "colab": {
     "base_uri": "https://localhost:8080/",
     "height": 607
    },
    "id": "ZS8-LhrupHL7",
    "outputId": "4748077f-0b3a-4e59-8c73-e0d5018c444e"
   },
   "outputs": [],
   "source": [
    "# Count web categories and exclude 'Others'\n",
    "category_counts = df['web_category'].value_counts()\n",
    "category_counts = category_counts[category_counts.index != 'Others']\n",
    "\n",
    "# Plot horizontal bar chart\n",
    "plt.figure(figsize=(10, 6))\n",
    "category_counts.plot(kind='barh', color='steelblue', edgecolor='black')\n",
    "plt.title('Document Count by Web Category (Excluding \"Others\")')\n",
    "plt.xlabel('Number of Documents')\n",
    "plt.ylabel('Web Category')\n",
    "plt.gca().invert_yaxis()  # Highest count on top\n",
    "plt.grid(axis='x', linestyle='--', alpha=0.7)\n",
    "plt.tight_layout()\n",
    "plt.show()"
   ]
  },
  {
   "cell_type": "code",
   "execution_count": null,
   "metadata": {
    "colab": {
     "base_uri": "https://localhost:8080/"
    },
    "id": "T06yZE2h9gG1",
    "outputId": "e19b996e-cf3c-4bec-cfd3-5e00a72f0435"
   },
   "outputs": [],
   "source": [
    "df.info()"
   ]
  },
  {
   "cell_type": "code",
   "execution_count": null,
   "metadata": {
    "colab": {
     "base_uri": "https://localhost:8080/"
    },
    "id": "SPYChZsp9gCQ",
    "outputId": "54a5d4c3-afe4-40b6-cc39-d607e8780234"
   },
   "outputs": [],
   "source": [
    "# Convert numeric columns\n",
    "numeric_cols = ['content_length', 'mention_count']\n",
    "df[numeric_cols] = df[numeric_cols].apply(pd.to_numeric, errors='coerce')\n",
    "\n",
    "# Convert boolean columns\n",
    "df['has_ugc_keyword'] = df['has_ugc_keyword'].astype(bool)\n",
    "df['is_relevant'] = df['is_relevant'].astype(bool)\n",
    "\n",
    "# Remaining object columns should generally stay as string (object) unless a specific conversion is needed\n",
    "\n",
    "# Verify the changes\n",
    "print(df.dtypes)"
   ]
  },
  {
   "cell_type": "markdown",
   "metadata": {
    "id": "swqSpG0O9f_8"
   },
   "source": [
    "# Box plot with page_length"
   ]
  },
  {
   "cell_type": "code",
   "execution_count": null,
   "metadata": {
    "colab": {
     "base_uri": "https://localhost:8080/"
    },
    "id": "7g4qmSJz9f8_",
    "outputId": "3a90b708-a84a-412c-f330-6bafc860e1bf"
   },
   "outputs": [],
   "source": [
    "print(\"Min page_length:\", df['page_length'].min())\n",
    "print(\"Max page_length:\", df['page_length'].max())"
   ]
  },
  {
   "cell_type": "code",
   "execution_count": null,
   "metadata": {
    "colab": {
     "base_uri": "https://localhost:8080/",
     "height": 607
    },
    "id": "701kFC7y9f6q",
    "outputId": "86306df8-8b8a-43ba-bea2-2cb65fafb2e0"
   },
   "outputs": [],
   "source": [
    "import seaborn as sns\n",
    "import matplotlib.pyplot as plt\n",
    "\n",
    "plt.figure(figsize=(10, 6))\n",
    "sns.boxplot(data=df, x='brand_name', y='page_length')\n",
    "plt.title('Box Plot of Page Length by Brand')\n",
    "plt.xlabel('Brand')\n",
    "plt.ylabel('Page Length')\n",
    "plt.grid(True, axis='y')\n",
    "plt.tight_layout()\n",
    "plt.show()"
   ]
  },
  {
   "cell_type": "markdown",
   "metadata": {
    "id": "-JQY19dK9f1o"
   },
   "source": [
    "## Change page length to categorical data"
   ]
  },
  {
   "cell_type": "markdown",
   "metadata": {
    "id": "P12jPp159fzL"
   },
   "source": [
    "However, the numerical of page length still be kept"
   ]
  },
  {
   "cell_type": "code",
   "execution_count": null,
   "metadata": {
    "colab": {
     "base_uri": "https://localhost:8080/"
    },
    "id": "qRTlVm1cCQF9",
    "outputId": "f6345cf0-5b25-4518-ce21-0f9e1243c0aa"
   },
   "outputs": [],
   "source": [
    "df.info()"
   ]
  },
  {
   "cell_type": "code",
   "execution_count": null,
   "metadata": {
    "id": "cIZMgpnYCgka"
   },
   "outputs": [],
   "source": [
    "df['page_length'] = pd.to_numeric(df['page_length'].str.replace(',', ''), errors='coerce').fillna(0).astype(int)\n",
    "df['word_count'] = pd.to_numeric(df['word_count'].str.replace(',', ''), errors='coerce').fillna(0).astype(int)"
   ]
  },
  {
   "cell_type": "code",
   "execution_count": null,
   "metadata": {
    "colab": {
     "base_uri": "https://localhost:8080/"
    },
    "id": "dpDH5BfkC0M8",
    "outputId": "4333345a-e617-4f28-bedc-da8a01780b9e"
   },
   "outputs": [],
   "source": [
    "df.info()"
   ]
  },
  {
   "cell_type": "code",
   "execution_count": null,
   "metadata": {
    "id": "JdFMt0tf9fwc"
   },
   "outputs": [],
   "source": [
    "df['page_length_bin'] = pd.qcut(df['page_length'], q=5, labels=['very_short', 'short', 'medium', 'long', 'very_long'])"
   ]
  },
  {
   "cell_type": "code",
   "execution_count": null,
   "metadata": {
    "colab": {
     "base_uri": "https://localhost:8080/",
     "height": 1000
    },
    "id": "ea1GMILp9ft5",
    "outputId": "21241453-8aa0-4bd3-bb6f-419dad21af61"
   },
   "outputs": [],
   "source": [
    "df.head()"
   ]
  },
  {
   "cell_type": "code",
   "execution_count": null,
   "metadata": {
    "colab": {
     "base_uri": "https://localhost:8080/"
    },
    "id": "iRnO2DZD-n6h",
    "outputId": "476c2ec8-42d6-44f3-be81-d9f860a53e96"
   },
   "outputs": [],
   "source": [
    "df.info()"
   ]
  },
  {
   "cell_type": "code",
   "execution_count": null,
   "metadata": {
    "id": "0GF57uQ7B692"
   },
   "outputs": [],
   "source": [
    "# Rename column\n",
    "df.rename(columns={'source_domain': 'url_domain'}, inplace=True)\n",
    "df.rename(columns={'content_length': 'page_length'}, inplace=True)"
   ]
  },
  {
   "cell_type": "code",
   "execution_count": null,
   "metadata": {
    "colab": {
     "base_uri": "https://localhost:8080/"
    },
    "id": "ecbPEfiZBBlu",
    "outputId": "04b79b2d-716d-4743-dfd8-0994f87bc461"
   },
   "outputs": [],
   "source": [
    "null_count = df['page_length'].isnull().sum()\n",
    "print(\"Number of rows with null page_length:\", null_count)"
   ]
  },
  {
   "cell_type": "code",
   "execution_count": null,
   "metadata": {
    "colab": {
     "base_uri": "https://localhost:8080/",
     "height": 680
    },
    "id": "32ovwExEBEjI",
    "outputId": "38debd5f-b5cd-4467-b40d-07d70853b74b"
   },
   "outputs": [],
   "source": [
    "df.count()"
   ]
  },
  {
   "cell_type": "markdown",
   "metadata": {
    "id": "W8FUb12PhLUc"
   },
   "source": [
    "## Check co_mention_brands"
   ]
  },
  {
   "cell_type": "code",
   "execution_count": null,
   "metadata": {
    "colab": {
     "base_uri": "https://localhost:8080/",
     "height": 1000
    },
    "id": "DWhLlXhZ_OT7",
    "outputId": "f36fa1fc-1dbd-4cc6-d207-6cb871c1b258"
   },
   "outputs": [],
   "source": [
    "df_non_null_comention = df[\n",
    "    df['co_mentioned_brands'].notnull() &\n",
    "    (df['co_mentioned_brands'].str.strip() != '[]') &\n",
    "    (df['co_mentioned_brands'].str.strip() != '')\n",
    "]\n",
    "\n",
    "df_non_null_comention"
   ]
  },
  {
   "cell_type": "code",
   "execution_count": null,
   "metadata": {
    "colab": {
     "base_uri": "https://localhost:8080/",
     "height": 680
    },
    "id": "Qy6zou74B_zw",
    "outputId": "10464e32-3760-4a73-b536-6e71c7b5ec99"
   },
   "outputs": [],
   "source": [
    "df_non_null_comention.count()"
   ]
  },
  {
   "cell_type": "code",
   "execution_count": null,
   "metadata": {
    "colab": {
     "base_uri": "https://localhost:8080/"
    },
    "id": "eVy7Os3ACDth",
    "outputId": "4f1855f8-b18e-4cee-ef35-0a86d22a886a"
   },
   "outputs": [],
   "source": [
    "df.info()"
   ]
  },
  {
   "cell_type": "markdown",
   "metadata": {
    "id": "PhktAccv_9xi"
   },
   "source": [
    "The number of rows too less to do further analysis. However, if we could scale up, the data can further to see co_mention across the brands"
   ]
  },
  {
   "cell_type": "markdown",
   "metadata": {
    "id": "mh6RvHdJ9for"
   },
   "source": [
    "# 6 Correlation Analysis"
   ]
  },
  {
   "cell_type": "code",
   "execution_count": null,
   "metadata": {
    "id": "rtpzlHmEhcGs"
   },
   "outputs": [],
   "source": [
    "df_corr = df.copy()"
   ]
  },
  {
   "cell_type": "code",
   "execution_count": null,
   "metadata": {
    "colab": {
     "base_uri": "https://localhost:8080/"
    },
    "id": "iOJKt6XkHKbC",
    "outputId": "d92794c0-1cca-4589-ca41-9d7271981352"
   },
   "outputs": [],
   "source": [
    "df['url_tld'].unique()"
   ]
  },
  {
   "cell_type": "code",
   "execution_count": null,
   "metadata": {
    "id": "PEHeIhyb9fjd"
   },
   "outputs": [],
   "source": [
    "# Drop irrelevant columns to do one-hot encoding\n",
    "drop_cols = ['url', 'content', 'url_domain',\n",
    "            'entities', 'is_relevant', 'keywords', 'co_mentioned_brands', 'url_host']\n",
    "df_corr.drop(columns=drop_cols, inplace=True)"
   ]
  },
  {
   "cell_type": "code",
   "execution_count": null,
   "metadata": {
    "colab": {
     "base_uri": "https://localhost:8080/"
    },
    "id": "lLEAhbwvDvJR",
    "outputId": "a508df71-6c44-4f3d-8189-6b14d2c5d33b"
   },
   "outputs": [],
   "source": [
    "df_corr.info()"
   ]
  },
  {
   "cell_type": "code",
   "execution_count": null,
   "metadata": {
    "colab": {
     "base_uri": "https://localhost:8080/",
     "height": 207
    },
    "id": "HYr-fLa4D40V",
    "outputId": "90aec0cf-4983-4d22-fe8c-4096ffa18144"
   },
   "outputs": [],
   "source": [
    "df_corr.head()"
   ]
  },
  {
   "cell_type": "code",
   "execution_count": null,
   "metadata": {
    "id": "7Uqa9Npx9fgY"
   },
   "outputs": [],
   "source": [
    "# One-hot encode 'brand_name', 'web_category', 'url_tld'\n",
    "df_corr = pd.get_dummies(df_corr, columns=['brand_name', 'has_ugc_keyword', 'web_category', 'url_tld', 'page_length_bin'], drop_first=True)"
   ]
  },
  {
   "cell_type": "code",
   "execution_count": null,
   "metadata": {
    "colab": {
     "base_uri": "https://localhost:8080/"
    },
    "id": "aUGW4r3u9feA",
    "outputId": "9a955bb5-2d34-478e-81a8-e7a0eec2766c"
   },
   "outputs": [],
   "source": [
    "# Check data type\n",
    "print(df_corr.dtypes)"
   ]
  },
  {
   "cell_type": "code",
   "execution_count": null,
   "metadata": {
    "colab": {
     "base_uri": "https://localhost:8080/",
     "height": 479
    },
    "id": "Bri0BWjDDdKx",
    "outputId": "8279fe57-c536-4c60-a624-db03bfbc7ed9"
   },
   "outputs": [],
   "source": [
    "# Compute the correlation matrix\n",
    "df_corr_matrix = df_corr.corr()\n",
    "\n",
    "# Display the correlation matrix\n",
    "df_corr_matrix"
   ]
  },
  {
   "cell_type": "code",
   "execution_count": null,
   "metadata": {
    "colab": {
     "base_uri": "https://localhost:8080/",
     "height": 363
    },
    "id": "2vcZ9Sl3EocR",
    "outputId": "306485e4-960e-49cf-d96a-d6557823302d"
   },
   "outputs": [],
   "source": [
    "# Unstack the matrix, drop self-correlations, and sort\n",
    "top_10_corr = (\n",
    "    df_corr_matrix.unstack()\n",
    "    .reset_index()\n",
    "    .rename(columns={\"level_0\": \"Feature_1\", \"level_1\": \"Feature_2\", 0: \"Correlation\"})\n",
    ")\n",
    "\n",
    "# Remove duplicates (like A,B and B,A)\n",
    "top_10_corr = top_10_corr[top_10_corr[\"Feature_1\"] != top_10_corr[\"Feature_2\"]]\n",
    "top_10_corr[\"Pairs\"] = top_10_corr[[\"Feature_1\", \"Feature_2\"]].apply(lambda row: tuple(sorted(row)), axis=1)\n",
    "top_10_corr = top_10_corr.drop_duplicates(subset=\"Pairs\")\n",
    "\n",
    "# Get top 10 highest absolute correlations\n",
    "top_10_corr = top_10_corr.reindex(top_10_corr[\"Correlation\"].abs().sort_values(ascending=False).index)\n",
    "top_10_corr = top_10_corr.head(10)\n",
    "\n",
    "# Display\n",
    "top_10_corr[[\"Feature_1\", \"Feature_2\", \"Correlation\"]]\n"
   ]
  },
  {
   "cell_type": "code",
   "execution_count": null,
   "metadata": {
    "colab": {
     "base_uri": "https://localhost:8080/",
     "height": 607
    },
    "id": "GgZkgVln9fbp",
    "outputId": "b5ffd012-8a39-4a26-f0b4-4f6c77f9e489"
   },
   "outputs": [],
   "source": [
    "correlation_matrix = df_corr.corr()\n",
    "\n",
    "# Identify brand and web feature columns\n",
    "brand_cols = [col for col in df_corr.columns if col.startswith('brand_name_')]\n",
    "web_feature_cols = [col for col in df_corr.columns if any(prefix in col for prefix in ['web_category_', 'url_tld_', 'mention_count', 'has_ugc_keyword', 'page_length_bin'])]\n",
    "# Extract correlation values between brands and web features\n",
    "filtered_corr = correlation_matrix.loc[brand_cols, web_feature_cols]\n",
    "\n",
    "# Keep only values with abs(correlation) > 0.2\n",
    "threshold = 0.2\n",
    "high_corr_only = filtered_corr.where(filtered_corr.abs() > threshold)\n",
    "\n",
    "# Drop rows and columns where all values are NaN (i.e., below threshold)\n",
    "high_corr_only.dropna(how='all', axis=0, inplace=True)\n",
    "high_corr_only.dropna(how='all', axis=1, inplace=True)\n",
    "\n",
    "# Plot only the high-correlation values\n",
    "import seaborn as sns\n",
    "import matplotlib.pyplot as plt\n",
    "\n",
    "plt.figure(figsize=(12, 6))\n",
    "sns.heatmap(high_corr_only, annot=True, cmap='coolwarm', fmt=\".2f\", cbar=True)\n",
    "plt.title(f'Correlation (|r| > {threshold}): Brand Name vs Web Characteristics')\n",
    "plt.tight_layout()\n",
    "plt.show()\n"
   ]
  },
  {
   "cell_type": "code",
   "execution_count": null,
   "metadata": {
    "colab": {
     "base_uri": "https://localhost:8080/",
     "height": 113
    },
    "id": "xy8IUtP99fZT",
    "outputId": "c539072e-7fca-46f3-c451-8734368f181d"
   },
   "outputs": [],
   "source": [
    "df_corr[['brand_name_primark', 'url_tld_uk']].corr()"
   ]
  },
  {
   "cell_type": "code",
   "execution_count": null,
   "metadata": {
    "id": "hJZLWgidEn6m"
   },
   "outputs": [],
   "source": [
    "# Calculate full correlation matrix\n",
    "correlation_matrix = df_corr.corr()\n",
    "\n",
    "# Filter only brand and url_tld columns\n",
    "brand_cols = [col for col in df_corr.columns if col.startswith('brand_name_')]\n",
    "url_tld_cols = [col for col in df_corr.columns if col.startswith('url_tld_')]\n",
    "\n",
    "# Extract correlation values between brands and url_tld\n",
    "filtered_corr = correlation_matrix.loc[brand_cols, url_tld_cols]\n",
    "\n",
    "# Keep only high correlation values (threshold)\n",
    "threshold = 0.2\n",
    "high_corr_only = filtered_corr.where(filtered_corr.abs() > threshold)\n",
    "\n",
    "# Drop rows and columns where all values are NaN\n",
    "high_corr_only.dropna(how='all', axis=0, inplace=True)\n",
    "high_corr_only.dropna(how='all', axis=1, inplace=True)\n",
    "\n",
    "# Plot heatmap\n",
    "import seaborn as sns\n",
    "import matplotlib.pyplot as plt\n",
    "\n",
    "plt.figure(figsize=(10, 5))\n",
    "sns.heatmap(high_corr_only, annot=True, cmap='coolwarm', fmt=\".2f\", cbar=True)\n",
    "plt.title('Filtered Correlation: Brand Name vs Significant Web Characteristics')\n",
    "plt.tight_layout()\n",
    "plt.show()"
   ]
  },
  {
   "cell_type": "code",
   "execution_count": null,
   "metadata": {
    "id": "1FR09hG4A1Z3"
   },
   "outputs": [],
   "source": [
    "df = pd.read_csv(\"data/csv_data/nlp-added-nlp-features-2.csv\")"
   ]
  },
  {
   "cell_type": "code",
   "execution_count": null,
   "metadata": {
    "colab": {
     "base_uri": "https://localhost:8080/",
     "height": 1000
    },
    "id": "77IeK74aA16z",
    "outputId": "5ca8d151-fdd6-4e43-b784-874835290f50"
   },
   "outputs": [],
   "source": [
    "df.head()"
   ]
  },
  {
   "cell_type": "code",
   "execution_count": null,
   "metadata": {
    "colab": {
     "base_uri": "https://localhost:8080/",
     "height": 618
    },
    "id": "wxOnQu2rcB7a",
    "outputId": "b1bb293d-7802-44f9-d3e3-76203c01f4ae"
   },
   "outputs": [],
   "source": [
    "# Count of missing (null) values per column\n",
    "df.isnull().sum()"
   ]
  },
  {
   "cell_type": "code",
   "execution_count": null,
   "metadata": {
    "colab": {
     "base_uri": "https://localhost:8080/"
    },
    "id": "CLLioP2Tcvx2",
    "outputId": "aa39c535-f5c3-4270-ae75-cfcf053730e4"
   },
   "outputs": [],
   "source": [
    "# Summary of missing values: count and percentage\n",
    "missing_summary = pd.DataFrame({\n",
    "    'Missing Count': df.isnull().sum(),\n",
    "    'Missing %': (df.isnull().sum() / len(df)) * 100\n",
    "})\n",
    "\n",
    "# Sort descending by most missing\n",
    "missing_summary = missing_summary[missing_summary['Missing Count'] > 0].sort_values(by='Missing Count', ascending=False)\n",
    "\n",
    "print(missing_summary)"
   ]
  },
  {
   "cell_type": "code",
   "execution_count": null,
   "metadata": {
    "id": "c7ikuLWFDzIM"
   },
   "outputs": [],
   "source": [
    "df = pd.read_csv(\"data/csv_data/nlp-added-nlp-features-2.csv\")"
   ]
  },
  {
   "cell_type": "code",
   "execution_count": null,
   "metadata": {
    "colab": {
     "base_uri": "https://localhost:8080/",
     "height": 617
    },
    "id": "UKTTew6wDu7w",
    "outputId": "6b1d29ec-1c4e-4a77-f0d9-bea121351e9d"
   },
   "outputs": [],
   "source": [
    "df.dtypes"
   ]
  },
  {
   "cell_type": "code",
   "execution_count": null,
   "metadata": {
    "colab": {
     "base_uri": "https://localhost:8080/"
    },
    "id": "K4vism9PQ3-_",
    "outputId": "b8398bb9-78e1-4f22-c62f-f71fe31d8d76"
   },
   "outputs": [],
   "source": [
    "df.info()"
   ]
  },
  {
   "cell_type": "markdown",
   "metadata": {
    "id": "mmZ6AyGCXNl8"
   },
   "source": [
    "## Convert to correct category"
   ]
  },
  {
   "cell_type": "code",
   "execution_count": null,
   "metadata": {
    "colab": {
     "base_uri": "https://localhost:8080/"
    },
    "id": "jevKxbiZXSid",
    "outputId": "7409c8e9-7c34-4cc7-8a83-0b82e67e232d"
   },
   "outputs": [],
   "source": [
    "# Convert boolean columns\n",
    "bool_cols = ['has_ugc_keyword', 'is_relevant']\n",
    "df[bool_cols] = df[bool_cols].astype(bool)\n",
    "\n",
    "# Convert float columns (already float64, just showing for clarity)\n",
    "float_cols = ['language_score', 'language_perplexity', 'text_entropy']\n",
    "df[float_cols] = df[float_cols].astype(float)\n",
    "\n",
    "# Convert integer column (already int64, just showing for clarity)\n",
    "df['mention_count'] = pd.to_numeric(df['mention_count'], errors='coerce')\n",
    "\n",
    "# Convert numeric columns stored as object\n",
    "object_numeric_cols = ['content_length', 'word_count']\n",
    "df[object_numeric_cols] = df[object_numeric_cols].apply(pd.to_numeric, errors='coerce')\n",
    "\n",
    "# Convert other object columns to string\n",
    "string_cols = [\n",
    "    'url', 'source_domain', 'url_tld', 'web_category', 'content',\n",
    "    'brand_name', 'entities', 'co_mentioned_brands', 'keywords'\n",
    "]\n",
    "df[string_cols] = df[string_cols].astype(str)\n",
    "\n",
    "# Optional: verify the changes\n",
    "print(df.dtypes)"
   ]
  },
  {
   "cell_type": "code",
   "execution_count": null,
   "metadata": {
    "colab": {
     "base_uri": "https://localhost:8080/"
    },
    "id": "dFcU3rmkX16M",
    "outputId": "a4652526-6d28-4f5a-90d5-705569312c36"
   },
   "outputs": [],
   "source": [
    "df.info()"
   ]
  },
  {
   "cell_type": "code",
   "execution_count": null,
   "metadata": {
    "colab": {
     "base_uri": "https://localhost:8080/",
     "height": 301
    },
    "id": "Oocfvck3Q5dO",
    "outputId": "7c431edb-be76-4591-c372-3981d0c231f1"
   },
   "outputs": [],
   "source": [
    "df.describe()"
   ]
  },
  {
   "cell_type": "code",
   "execution_count": null,
   "metadata": {
    "colab": {
     "base_uri": "https://localhost:8080/",
     "height": 522
    },
    "id": "YUT888p9YCNa",
    "outputId": "e2293089-f56b-4ab0-d6f0-a75fdafb361f"
   },
   "outputs": [],
   "source": [
    "df.head()"
   ]
  },
  {
   "cell_type": "code",
   "execution_count": null,
   "metadata": {
    "id": "IVORiJkJZByY"
   },
   "outputs": [],
   "source": [
    "# Normalize brand names to lowercase for consistency\n",
    "df['brand_name'] = df['brand_name'].str.lower()\n",
    "\n",
    "# Count token frequency per brand\n",
    "token_freq_df = df['brand_name'].value_counts().reset_index()\n",
    "token_freq_df.columns = ['brand_name', 'token_freq']\n",
    "\n",
    "# Add token frequency back to main DataFrame\n",
    "df = df.merge(token_freq_df, on='brand_name', how='left')\n",
    "\n",
    "# Define top-ranked brands\n",
    "top_ranked = ['zara', 'burberry', 'asos', 'vivienne westwood', 'reiss']\n",
    "df['is_top_ranked'] = df['brand_name'].isin(top_ranked).astype(int)"
   ]
  },
  {
   "cell_type": "code",
   "execution_count": null,
   "metadata": {
    "colab": {
     "base_uri": "https://localhost:8080/"
    },
    "id": "8pazdKS7ZldR",
    "outputId": "1c6f61b6-558c-441c-e446-0f670aaf1ac8"
   },
   "outputs": [],
   "source": [
    "correlation = df[['token_freq', 'is_top_ranked']].corr().iloc[0, 1]\n",
    "print(f\"Correlation between token frequency and top-rank status: {correlation:.2f}\")"
   ]
  },
  {
   "cell_type": "markdown",
   "metadata": {
    "id": "yVEjJLyCZt7F"
   },
   "source": [
    "## Heatmap"
   ]
  },
  {
   "cell_type": "code",
   "execution_count": null,
   "metadata": {
    "colab": {
     "base_uri": "https://localhost:8080/",
     "height": 607
    },
    "id": "VOdRZ3lBZmxb",
    "outputId": "686ecefe-d473-470d-f0b0-2d3b45564a15"
   },
   "outputs": [],
   "source": [
    "import seaborn as sns\n",
    "import matplotlib.pyplot as plt\n",
    "\n",
    "# Select only content-related numeric columns\n",
    "content_features = ['content_length', 'language_score', 'language_perplexity',\n",
    "                    'text_entropy', 'word_count', 'mention_count']\n",
    "\n",
    "# Filter the DataFrame to keep only these columns\n",
    "content_df = df[content_features]\n",
    "\n",
    "# Drop rows with missing values in any of the selected columns\n",
    "content_df = content_df.dropna()\n",
    "\n",
    "# Compute the correlation matrix between selected features\n",
    "corr_matrix = content_df.corr()\n",
    "\n",
    "# Plot the heatmap\n",
    "plt.figure(figsize=(8, 6))  # Set the size of the heatmap\n",
    "sns.heatmap(corr_matrix, annot=True, cmap='coolwarm', fmt=\".2f\", square=True)\n",
    "plt.title(\"Correlation Heatmap of Content-Related Features\")\n",
    "plt.tight_layout()\n",
    "plt.show()"
   ]
  },
  {
   "cell_type": "markdown",
   "metadata": {
    "id": "jycyHrb7uK7X"
   },
   "source": [
    "# 7 Hypothesis Testing"
   ]
  },
  {
   "cell_type": "markdown",
   "metadata": {
    "id": "xy7AaiaJm2S6"
   },
   "source": [
    "As monitoring DeepSeek response and match the pattern to gain insights. The Framework of Hypothesis has been developed to analyze the pretrained dataset"
   ]
  },
  {
   "cell_type": "markdown",
   "metadata": {
    "id": "3keIeKacuLUX"
   },
   "source": [
    "### Correlation Methods Used For hypothesis testing\n",
    "\n",
    "| Method     | Use Case                                    | Assumptions                            |\n",
    "|------------|---------------------------------------------|-----------------------------------------|\n",
    "| **Pearson**  | Measures linear correlation between numeric values | Requires normal distribution and linearity |\n",
    "| **Spearman** | Measures correlation based on rank order     | **Non-parametric** (no distribution assumptions) |\n",
    "\n",
    "### Why Spearman?\n",
    "\n",
    "Given the **small sample size (n = 3 brands)** and the potential **non-linear** nature of relationships, **Spearman is more appropriate**. It evaluates whether increases in one variable are associated with consistent changes in the ranking of the other — making it **robust and conservative** for this use case.\n"
   ]
  },
  {
   "cell_type": "markdown",
   "metadata": {
    "id": "9scWuYsyuLV5"
   },
   "source": [
    "## Generic Prompt for brand ranking and Specific brand provided"
   ]
  },
  {
   "cell_type": "markdown",
   "metadata": {
    "id": "EzsbHYRAuLXu"
   },
   "source": [
    "<div style=\"\n",
    "    background-color: #e7f3fe;\n",
    "    border-left: 6px solid #2196F3;\n",
    "    padding: 15px;\n",
    "    font-family: Arial, sans-serif;\n",
    "    font-size: 15px;\">\n",
    "    💡 <b>Note:</b> Due to small sample size (n=3), <code>p-value</code> is mostly not statistically significant. statistical significance cannot be established. The observed correlation (r = ...) should be interpreted as exploratory insight rather than conclusive evidence.\n",
    "\n",
    "</div>\n"
   ]
  },
  {
   "cell_type": "markdown",
   "metadata": {
    "id": "bM5jkkVvuLbK"
   },
   "source": [
    "**Disclaimer: This time, the p-value will not be considered due to extreamely small sample size,  Correlation results are exploratory and serve to illustrate directional trends, not confirm causal or predictive relationships.**"
   ]
  },
  {
   "cell_type": "markdown",
   "metadata": {
    "id": "2T5OqEWhuLdS"
   },
   "source": [
    "## Hypothesis testing 1 - Token Frequency (sum of mention_count) Correlates with Rank Stability"
   ]
  },
  {
   "cell_type": "markdown",
   "metadata": {
    "id": "SCwxl_kWuLfL"
   },
   "source": [
    "Goal; Online presence measuring via Token count (mention_count) impact the higher LLM ranking"
   ]
  },
  {
   "cell_type": "markdown",
   "metadata": {
    "id": "ZOho_RFym6Uk"
   },
   "source": [
    "With General asking in LLM for brand ranking (DeepSeek), Below are categorized as the top rank. This will be the fixed rank as testing until the prompt changes"
   ]
  },
  {
   "cell_type": "code",
   "execution_count": null,
   "metadata": {
    "id": "ezAgbiTGuLiN"
   },
   "outputs": [],
   "source": [
    "df_hypo = df.copy()"
   ]
  },
  {
   "cell_type": "markdown",
   "metadata": {
    "id": "4k-1zP-7uLmG"
   },
   "source": [
    "**Assumption**; Brands that appear frequently in pretraining data, measured via total token/mention count, may be ranked higher by LLMs, regardless of the surrounding context or semantic framing.\n",
    "\n",
    "**Metric Used**:\n",
    "- mention_count (sum) = proxy for token frequency\n",
    "- avg_rank = fixed brand ranking (lower is better)"
   ]
  },
  {
   "cell_type": "code",
   "execution_count": null,
   "metadata": {
    "colab": {
     "base_uri": "https://localhost:8080/",
     "height": 363
    },
    "id": "jtqEgbPhuLoA",
    "outputId": "00810b92-1a63-4d3f-a394-43d84c2a5b45"
   },
   "outputs": [],
   "source": [
    "# Group by brand_name to get total mentions and number of rows with each brand\n",
    "mention_counts_df = df_hypo.groupby(\"brand_name\").agg(\n",
    "    mention_count=('mention_count', 'sum'),\n",
    "    brand_occurrence_count=('brand_name', 'count')\n",
    ").reset_index()\n",
    "\n",
    "mention_counts_df"
   ]
  },
  {
   "cell_type": "code",
   "execution_count": null,
   "metadata": {
    "id": "2EwRdpIOyJN8"
   },
   "outputs": [],
   "source": [
    "# Brand ranking categories in the UK 2023\n",
    "top_rk = (\"primark\", \"asos\", \"burberry\")\n",
    "med_rk = (\"river island\", \"reiss\")\n",
    "low_rk = (\"superdry\", \"ted baker\")\n",
    "\n",
    "# Brands appearing once\n",
    "one_app = (\"zara\", \"Vivienne Westwood\", \"john lewis\")"
   ]
  },
  {
   "cell_type": "code",
   "execution_count": null,
   "metadata": {
    "id": "suWGZbGNvprq"
   },
   "outputs": [],
   "source": [
    "# Define static ranking: lower rank = better\n",
    "static_rank_data = [\n",
    "    (\"Vivienne Westwood\", 1),\n",
    "    (\"Reiss\", 2),\n",
    "    (\"ASOS\", 3),\n",
    "    (\"Primark\", 4),\n",
    "]"
   ]
  },
  {
   "cell_type": "code",
   "execution_count": null,
   "metadata": {
    "id": "G9ssGjCMwIsb"
   },
   "outputs": [],
   "source": [
    "# Convert both to lowercase\n",
    "mention_counts_df['brand_name'] = mention_counts_df['brand_name'].str.lower()\n",
    "static_rank_data = [(brand.lower(), rank) for brand, rank in static_rank_data]"
   ]
  },
  {
   "cell_type": "code",
   "execution_count": null,
   "metadata": {
    "colab": {
     "base_uri": "https://localhost:8080/",
     "height": 524
    },
    "id": "1RhrcPERuLrr",
    "outputId": "cf823d01-9549-49e6-ffd6-2b1611ed4528"
   },
   "outputs": [],
   "source": [
    "# Static Rank info\n",
    "rank_df = pd.DataFrame(static_rank_data, columns=[\"brand_name\", \"avg_rank\"])\n",
    "\n",
    "# Merge mention counts with rank info\n",
    "joined_df = pd.merge(mention_counts_df, rank_df, on=\"brand_name\")\n",
    "\n",
    "# Spearman Correlation: Total Mention Count vs LLM Rank\n",
    "corr_s1, pval_s1 = spearmanr(joined_df[\"mention_count\"], joined_df[\"avg_rank\"])\n",
    "print(f\"Spearman Correlation (mention count vs rank): r = {corr_s1:.3f}, p = {pval_s1:.3f}\")\n",
    "\n",
    "# Scatter plot\n",
    "plt.figure(figsize=(8, 5))\n",
    "sns.scatterplot(data=joined_df, x=\"mention_count\", y=\"avg_rank\", s=120, color=\"royalblue\")\n",
    "\n",
    "# Annotate points\n",
    "for _, row in joined_df.iterrows():\n",
    "    plt.text(row[\"mention_count\"], row[\"avg_rank\"] + 0.1, row[\"brand_name\"], ha='center', fontsize=10)\n",
    "\n",
    "plt.title(\"Total Mention Count vs Brand Rank\", fontsize=14)\n",
    "plt.xlabel(\"Total Mention Count\", fontsize=12)\n",
    "plt.ylabel(\"Average Rank (Lower = Better)\", fontsize=12)\n",
    "plt.gca().invert_yaxis()  # Lower rank (1) at the top\n",
    "plt.grid(True)\n",
    "plt.tight_layout()\n",
    "plt.show()"
   ]
  },
  {
   "cell_type": "markdown",
   "metadata": {
    "id": "-yeGbfxhOU9n"
   },
   "source": [
    "# Bias Analysis"
   ]
  },
  {
   "cell_type": "markdown",
   "metadata": {
    "id": "VokuczSJuLtc"
   },
   "source": [
    "## Hypothesis testing 2 - Formal vs Informal Content Bias (Unsolved; high irrelevant page)"
   ]
  },
  {
   "cell_type": "markdown",
   "metadata": {
    "id": "FzGAAm5TnGgZ"
   },
   "source": [
    "Goal; Output leans toward formal tone, likely from news/research. LLM might rank the higher rank for those brands that seems formal tone or on the reliable web page"
   ]
  },
  {
   "cell_type": "markdown",
   "metadata": {
    "id": "YnXyvew91i9o"
   },
   "source": [
    "For this hypothesis, the method is to use web_category to classify formal/informal, Calculate the proportion of content that is formal (e.g., News, Financial) vs informal (e.g., Blogs, Community)."
   ]
  },
  {
   "cell_type": "code",
   "execution_count": null,
   "metadata": {
    "colab": {
     "base_uri": "https://localhost:8080/",
     "height": 429
    },
    "id": "-chiZGcM1jLW",
    "outputId": "a8a2af4f-3851-4910-f571-a421416be393"
   },
   "outputs": [],
   "source": [
    "df_hypo.groupby(['brand_name', 'web_category'])['mention_count'].sum().unstack(fill_value=0)"
   ]
  },
  {
   "cell_type": "code",
   "execution_count": null,
   "metadata": {
    "colab": {
     "base_uri": "https://localhost:8080/",
     "height": 521
    },
    "id": "XptSqpZ41jOK",
    "outputId": "eb807eee-b256-42dc-f1a7-3ccc6799787a"
   },
   "outputs": [],
   "source": [
    "df_hypo.head()"
   ]
  },
  {
   "cell_type": "code",
   "execution_count": null,
   "metadata": {
    "id": "c38MDgHD1jQi"
   },
   "outputs": [],
   "source": [
    "# Catogorize formal and informal cats\n",
    "formal_cats = ['Education', 'Financial', 'Government', 'News']\n",
    "informal_cats = ['Blogs & Community', 'Media & Entertainment', 'Social', 'Others', 'E-commerce & Commercial']"
   ]
  },
  {
   "cell_type": "code",
   "execution_count": null,
   "metadata": {
    "colab": {
     "base_uri": "https://localhost:8080/"
    },
    "id": "zaA-ldi71jSk",
    "outputId": "675c2248-8ec1-4600-ae6b-fb12cec268a8"
   },
   "outputs": [],
   "source": [
    "total_docs = len(df_hypo)\n",
    "formal_docs = df_hypo['web_category'].isin(formal_cats).sum()\n",
    "formal_ratio = formal_docs / total_docs\n",
    "print(f\"Formal category ratio: {formal_ratio:.2%}\")"
   ]
  },
  {
   "cell_type": "code",
   "execution_count": null,
   "metadata": {
    "id": "dtBzvuPO1jUv"
   },
   "outputs": [],
   "source": [
    "# Group the original DataFrame to get formal mentions only\n",
    "df_formal_mentions = df_hypo[df_hypo['web_category'].isin(formal_cats)]\n",
    "\n",
    "# Sum formal mentions per brand\n",
    "df_formal_sum = df_formal_mentions.groupby('brand_name')['mention_count'].sum()\n",
    "\n",
    "# Compute % share for each brand\n",
    "df_formal_pct = df_formal_sum / df_formal_sum.sum() * 100"
   ]
  },
  {
   "cell_type": "code",
   "execution_count": null,
   "metadata": {
    "id": "Ow6JPwma1jWk"
   },
   "outputs": [],
   "source": [
    "pd.set_option('display.max_columns', None)  # Show all columns"
   ]
  },
  {
   "cell_type": "code",
   "execution_count": null,
   "metadata": {
    "colab": {
     "base_uri": "https://localhost:8080/",
     "height": 591
    },
    "id": "auR15m9m1xCy",
    "outputId": "c3516d5d-cf63-4f3d-9d53-69bac942dba1"
   },
   "outputs": [],
   "source": [
    "df_formal_mentions.head()"
   ]
  },
  {
   "cell_type": "markdown",
   "metadata": {
    "id": "kk2hzSFTnOK6"
   },
   "source": [
    "### Human Evaluation Check"
   ]
  },
  {
   "cell_type": "markdown",
   "metadata": {
    "id": "MBXtrn3bnQSh"
   },
   "source": [
    "The most page return are irrelevant to the sentiment analysis. There are few that refer to the brand sentiment context."
   ]
  },
  {
   "cell_type": "code",
   "execution_count": null,
   "metadata": {
    "id": "Lt8bJicZ1jY2"
   },
   "outputs": [],
   "source": [
    "df_formal_mentions[\n",
    "    df_formal_mentions['web_category'].isin([\"Education\", \"Financial\", \"Government\"])\n",
    "][['url', 'url_domain','content']].head(10)"
   ]
  },
  {
   "cell_type": "code",
   "execution_count": null,
   "metadata": {
    "colab": {
     "base_uri": "https://localhost:8080/",
     "height": 1000
    },
    "id": "GBQmSzQM1jds",
    "outputId": "50e8c1de-7624-4f0f-fe09-a674cbf19b98"
   },
   "outputs": [],
   "source": [
    "fashion_keywords = [\n",
    "    \"dress\", \"clothing\", \"style\", \"fashion\", \"outfit\", \"wear\",\n",
    "    \"collection\", \"trend\", \"runway\", \"model\", \"lookbook\", \"wardrobe\",\n",
    "    \"design\", \"brand\", \"shop\", \"retail\"\n",
    "]\n",
    "\n",
    "def contains_zara_and_3_fashion_words(text):\n",
    "    if not isinstance(text, str):\n",
    "        return False\n",
    "    text_lower = text.lower()\n",
    "    zara_match = re.search(r'\\bzara\\b', text_lower)\n",
    "    count = sum(1 for word in fashion_keywords if word in text_lower)\n",
    "    return bool(zara_match) and count >= 3\n",
    "\n",
    "filtered_df = df_formal_mentions[\n",
    "    df_formal_mentions['content'].apply(contains_zara_and_3_fashion_words)\n",
    "][['brand_name', 'content']]\n",
    "\n",
    "# Show all text in 'content'\n",
    "pd.set_option('display.max_colwidth', None)\n",
    "filtered_df.head(12)\n"
   ]
  },
  {
   "cell_type": "code",
   "execution_count": null,
   "metadata": {
    "colab": {
     "base_uri": "https://localhost:8080/",
     "height": 507
    },
    "id": "ZrJ3dbZl1jgM",
    "outputId": "1ab8d8cf-df80-43e8-f824-8d60f0aa8541"
   },
   "outputs": [],
   "source": [
    "# Visualize the Ratios\n",
    "plt.figure(figsize=(6, 5))\n",
    "df_formal_pct.plot(kind='bar', title='Share of Formal Mentions by Brand', ylabel='Percentage (%)')\n",
    "plt.xticks(rotation=0)\n",
    "plt.tight_layout()\n",
    "plt.show()"
   ]
  },
  {
   "cell_type": "code",
   "execution_count": null,
   "metadata": {
    "id": "HskQ7kb6PuBo"
   },
   "outputs": [],
   "source": [
    "df_formal_mentions[\n",
    "    df_formal_mentions['web_category'].isin([\"Education\", \"Financial\", \"Government\"])\n",
    "][['content','url', 'url_domain']].head(10)"
   ]
  },
  {
   "cell_type": "markdown",
   "metadata": {
    "id": "QMERLSDVnex5"
   },
   "source": [
    "# Filtering relevant page"
   ]
  },
  {
   "cell_type": "code",
   "execution_count": null,
   "metadata": {
    "id": "k-rv1xWPPwjN"
   },
   "outputs": [],
   "source": [
    "fashion_keywords = [\n",
    "    \"dress\", \"clothing\", \"style\", \"fashion\", \"outfit\", \"wear\",\n",
    "    \"collection\", \"trend\", \"runway\", \"model\", \"lookbook\", \"wardrobe\",\n",
    "    \"design\", \"brand\", \"shop\", \"retail\"\n",
    "]\n",
    "\n",
    "def contains_zara_and_3_fashion_words(text):\n",
    "    if not isinstance(text, str):\n",
    "        return False\n",
    "    text_lower = text.lower()\n",
    "    zara_match = re.search(r'\\bzara\\b', text_lower)\n",
    "    count = sum(1 for word in fashion_keywords if word in text_lower)\n",
    "    return bool(zara_match) and count >= 3\n",
    "\n",
    "filtered_df = df_formal_mentions[\n",
    "    df_formal_mentions['content'].apply(contains_zara_and_3_fashion_words)\n",
    "][['brand_name', 'content']]\n",
    "\n",
    "# Show all text in 'content'\n",
    "pd.set_option('display.max_colwidth', None)\n",
    "filtered_df.head(3)"
   ]
  },
  {
   "cell_type": "markdown",
   "metadata": {
    "id": "EopcsvQDQuL4"
   },
   "source": [
    "## Hypothesis 3: Location Bias from TLD"
   ]
  },
  {
   "cell_type": "markdown",
   "metadata": {
    "id": "YAWsqakgRN1x"
   },
   "source": [
    "Goal: Are certain brands more common in .uk, .fr, etc.?, is there any Bias in Location in LLM response"
   ]
  },
  {
   "cell_type": "code",
   "execution_count": null,
   "metadata": {
    "id": "fcEGJrtgRN6y"
   },
   "outputs": [],
   "source": [
    "crosstab_df = pd.crosstab(df_hypo['brand_name'], df_hypo['url_tld'], normalize='index')"
   ]
  },
  {
   "cell_type": "markdown",
   "metadata": {
    "id": "5i-cqqhzRN_A"
   },
   "source": [
    "## Heatmap for TLD"
   ]
  },
  {
   "cell_type": "code",
   "execution_count": null,
   "metadata": {
    "colab": {
     "base_uri": "https://localhost:8080/",
     "height": 407
    },
    "id": "WpKr172TTPmo",
    "outputId": "ec9c9888-e561-4328-94f4-d01a2199c19a"
   },
   "outputs": [],
   "source": [
    "# Filter top N TLDs by overall usage (column sum)\n",
    "top_tlds = crosstab_df.sum(axis=0).sort_values(ascending=False).head(10).index\n",
    "filtered = crosstab_df[top_tlds]\n",
    "\n",
    "# Heatmap\n",
    "plt.figure(figsize=(10, 4))\n",
    "sns.heatmap(filtered, annot=True, cmap='Blues', fmt=\".2%\", linewidths=0.5)\n",
    "plt.title(\"Brand Presence Across Top 10 TLDs (Normalized by Brand)\", fontsize=14)\n",
    "plt.xlabel(\"TLD\")\n",
    "plt.ylabel(\"Brand\")\n",
    "plt.tight_layout()\n",
    "plt.show()"
   ]
  },
  {
   "cell_type": "markdown",
   "metadata": {
    "id": "DFH18bUrnutP"
   },
   "source": [
    "## Remove .com"
   ]
  },
  {
   "cell_type": "code",
   "execution_count": null,
   "metadata": {
    "colab": {
     "base_uri": "https://localhost:8080/",
     "height": 407
    },
    "id": "j7ptghEoTQOc",
    "outputId": "e016da59-9cca-4e97-bfea-54dbd99f04d7"
   },
   "outputs": [],
   "source": [
    "# Remove 'com' column first\n",
    "crosstab_excl_com = crosstab_df.drop(columns='com', errors='ignore')\n",
    "\n",
    "# Re-normalize so each row sums to 1 again (without 'com')\n",
    "crosstab_excl_com = crosstab_excl_com.div(crosstab_excl_com.sum(axis=1), axis=0)\n",
    "\n",
    "# Pick top TLDs excluding 'com' by global presence\n",
    "top_tlds = crosstab_excl_com.sum(axis=0).sort_values(ascending=False).head(10).index\n",
    "filtered = crosstab_excl_com[top_tlds]\n",
    "\n",
    "# Plot heatmap\n",
    "plt.figure(figsize=(10, 4))\n",
    "sns.heatmap(filtered, annot=True, cmap='Blues', fmt=\".2%\", linewidths=0.5)\n",
    "plt.title(\"Brand Presence Across Top TLDs (Excluding .com, Normalized by Brand)\", fontsize=14)\n",
    "plt.xlabel(\"TLD\")\n",
    "plt.ylabel(\"Brand\")\n",
    "plt.tight_layout()\n",
    "plt.show()"
   ]
  },
  {
   "cell_type": "markdown",
   "metadata": {
    "id": "YQPoLReTnxZy"
   },
   "source": [
    "## Top-Level Domain (TLD) Descriptions\n",
    "\n",
    "Below are brief descriptions of each TLD extracted from the image:\n",
    "\n",
    "- **.co.uk**: United Kingdom – Used by commercial entities based in the UK.\n",
    "- **.org**: Organization – Commonly used by non-profit and non-governmental organizations.\n",
    "- **.net**: Network – Originally for network providers, now broadly used.\n",
    "- **.co**: Colombia – Country-code TLD often marketed globally for “company”.\n",
    "- **.ca**: Canada – The official country code TLD for Canada.\n",
    "- **.info**: Information – Generic TLD intended for informational websites.\n",
    "- **.com.au**: Australia – Commercial organizations in Australia.\n",
    "- **.ie**: Ireland – Country code TLD for Ireland.\n",
    "- **.ru**: Russia – Country code TLD for the Russian Federation.\n",
    "- **.in**: India – Country code TLD for India.\n"
   ]
  },
  {
   "cell_type": "markdown",
   "metadata": {
    "id": "Jh3aTRJjn0Sa"
   },
   "source": [
    "For all details of top-level domains, including gTLDs worldwide, please see [Link](https://www.iana.org/domains/root/db)."
   ]
  },
  {
   "cell_type": "markdown",
   "metadata": {
    "id": "kH-bDPNqTUix"
   },
   "source": [
    "## Hypothesis 4: Revenue Context Bias"
   ]
  },
  {
   "cell_type": "markdown",
   "metadata": {
    "id": "dZ9Uh2WH1HOC"
   },
   "source": [
    "Goal: Check if top-ranked brands co-occur with financial context or not as Reasoning model prioritize the market value, Revenue, Financial statement. The response related to the numerical figures"
   ]
  },
  {
   "cell_type": "markdown",
   "metadata": {
    "id": "pvO_tlTI6doH"
   },
   "source": [
    "In this hypothesis, the ranking based on **R1 model** will be highlihgted due to the nature of reasoning model and understanding forcus"
   ]
  },
  {
   "cell_type": "code",
   "execution_count": null,
   "metadata": {
    "id": "tHBzBzQM6ZpK"
   },
   "outputs": [],
   "source": [
    "static_rank_data_rev_bias = [\n",
    "    (\"Vivienne Westwood\", 1),\n",
    "    (\"burberry\", 2),\n",
    "    (\"reiss\", 3),\n",
    "    (\"ted baker\", 4),\n",
    "    (\"john lewis\", 5),\n",
    "    (\"zara\", 6),\n",
    "    (\"river island\", 7),\n",
    "    (\"asos\", 8),\n",
    "    (\"superdry\", 9),\n",
    "    (\"primark\", 10)\n",
    "]\n",
    "\n",
    "static_rank_df = pd.DataFrame(static_rank_data_rev_bias, columns=[\"brand_name\", \"rank\"])"
   ]
  },
  {
   "cell_type": "code",
   "execution_count": null,
   "metadata": {
    "colab": {
     "base_uri": "https://localhost:8080/"
    },
    "id": "AMrZ2-0g1H_l",
    "outputId": "bb3d2158-4a90-48f7-da2a-33048d771690"
   },
   "outputs": [],
   "source": [
    "df_hypo.info()"
   ]
  },
  {
   "cell_type": "code",
   "execution_count": null,
   "metadata": {
    "colab": {
     "base_uri": "https://localhost:8080/",
     "height": 394
    },
    "id": "QUsNh9Dm1IFV",
    "outputId": "6df56d11-e17d-4dab-8bc3-c9a5c61214dd"
   },
   "outputs": [],
   "source": [
    "financial_keywords = [\n",
    "    'revenue', 'billion', 'million', 'sales', 'usd', '£',\n",
    "    'profit', 'net income', 'earnings', 'financial statement', 'market value'\n",
    "]\n",
    "\n",
    "df_hypo['contains_financial_context'] = df_hypo['content'].str.lower().apply(\n",
    "    lambda text: any(keyword in text for keyword in financial_keywords)\n",
    ")\n",
    "\n",
    "df_hypo['content_word_count'] = df_hypo['content'].str.split().str.len()\n",
    "\n",
    "brand_context_bias = df_hypo.groupby('brand_name').agg(\n",
    "    total_mentions=('content', 'count'),\n",
    "    financial_context_mentions=('contains_financial_context', 'sum'),\n",
    "    avg_word_count=('content_word_count', 'mean'),\n",
    "    avg_word_count_financial=('content_word_count', lambda x: x[df_hypo.loc[x.index, 'contains_financial_context']].mean())\n",
    ")\n",
    "\n",
    "brand_context_bias['pct_financial_context'] = (\n",
    "    brand_context_bias['financial_context_mentions'] / brand_context_bias['total_mentions']\n",
    ") * 100\n",
    "\n",
    "brand_context_bias_sorted = brand_context_bias.sort_values(by='pct_financial_context', ascending=False)\n",
    "\n",
    "# Round numeric columns to 2 decimals\n",
    "brand_context_bias_sorted = brand_context_bias_sorted.round(2)\n",
    "\n",
    "# Format percentage with % sign\n",
    "brand_context_bias_sorted['pct_financial_context'] = brand_context_bias_sorted['pct_financial_context'].astype(str) + '%'\n",
    "\n",
    "# Display\n",
    "from IPython.display import display\n",
    "display(brand_context_bias_sorted.head(10))\n"
   ]
  },
  {
   "cell_type": "code",
   "execution_count": null,
   "metadata": {
    "colab": {
     "base_uri": "https://localhost:8080/",
     "height": 400
    },
    "id": "h0e0G6NxADtg",
    "outputId": "25a4cd64-6dbc-4ea7-f70b-39c744f57a67"
   },
   "outputs": [],
   "source": [
    "# Merge on brand_name\n",
    "brand_context_bias = pd.merge(brand_context_bias, static_rank_df, on='brand_name', how='left')\n",
    "\n",
    "# Sort by financial context %\n",
    "brand_context_bias_sorted = brand_context_bias.sort_values(by='pct_financial_context', ascending=False)\n",
    "\n",
    "# Round numeric columns to 2 decimals\n",
    "brand_context_bias_sorted = brand_context_bias_sorted.round(2)\n",
    "\n",
    "# Format the percentage column (create a display version)\n",
    "brand_context_bias_sorted['pct_financial_context_display'] = brand_context_bias_sorted['pct_financial_context'].astype(str) + '%'\n",
    "\n",
    "# Display top 10 brands (with rank and formatted %)\n",
    "from IPython.display import display\n",
    "display(brand_context_bias_sorted.head(10))"
   ]
  },
  {
   "cell_type": "code",
   "execution_count": null,
   "metadata": {
    "colab": {
     "base_uri": "https://localhost:8080/",
     "height": 607
    },
    "id": "vAunS2UEAvHl",
    "outputId": "1f62f853-2c67-4470-bf62-1a84108f5452"
   },
   "outputs": [],
   "source": [
    "import matplotlib.pyplot as plt\n",
    "\n",
    "# Sort by rank (ascending = best to worst)\n",
    "rank_sorted_df = brand_context_bias_sorted.sort_values(by='rank')\n",
    "\n",
    "# Plot\n",
    "plt.figure(figsize=(10, 6))\n",
    "bars = plt.barh(\n",
    "    y=[f\"{row['brand_name']} (#{int(row['rank'])})\" for _, row in rank_sorted_df.iterrows()],\n",
    "    width=rank_sorted_df['pct_financial_context']\n",
    ")\n",
    "\n",
    "# Add text labels (percentages) at the end of each bar\n",
    "for bar, pct in zip(bars, rank_sorted_df['pct_financial_context_display']):\n",
    "    width = bar.get_width()\n",
    "    plt.text(width + 1, bar.get_y() + bar.get_height() / 2, pct, va='center', fontsize=9)\n",
    "\n",
    "# Labels and title\n",
    "plt.ylabel(\"Brand (Static Rank)\")\n",
    "plt.xlabel(\"Share of Mentions in Financial Context (%)\")\n",
    "plt.title(\"Financial Context Share by Brand (Rank 1–10)\")\n",
    "plt.gca().invert_yaxis()  # Rank 1 at the top\n",
    "plt.grid(axis='x', linestyle='--', alpha=0.6)\n",
    "plt.tight_layout()\n",
    "\n",
    "# Show the chart\n",
    "plt.show()"
   ]
  },
  {
   "cell_type": "code",
   "execution_count": null,
   "metadata": {
    "colab": {
     "base_uri": "https://localhost:8080/",
     "height": 624
    },
    "id": "12jV-goZBWWo",
    "outputId": "2c7f551d-8dd6-4462-c016-c57f47bfd756"
   },
   "outputs": [],
   "source": [
    "import matplotlib.pyplot as plt\n",
    "import seaborn as sns\n",
    "from scipy.stats import spearmanr\n",
    "\n",
    "# Use clean DataFrame (rank_sorted_df should already be defined and sorted by rank)\n",
    "df_corr = rank_sorted_df.copy()\n",
    "\n",
    "# Spearman correlation\n",
    "r_spear, p_spear = spearmanr(df_corr['pct_financial_context'], df_corr['rank'])\n",
    "print(f\"Spearman Correlation: r = {r_spear:.2f}, p = {p_spear:.3f}\")\n",
    "\n",
    "# Plot\n",
    "plt.figure(figsize=(8, 6))\n",
    "sns.regplot(\n",
    "    x='pct_financial_context',\n",
    "    y='rank',\n",
    "    data=df_corr,\n",
    "    scatter=True,\n",
    "    ci=None,\n",
    "    line_kws={'color': 'red'}\n",
    ")\n",
    "\n",
    "# Annotate brands\n",
    "for _, row in df_corr.iterrows():\n",
    "    plt.text(row['pct_financial_context'] + 0.5, row['rank'], row['brand_name'], fontsize=8)\n",
    "\n",
    "# Axis labels and title\n",
    "plt.xlabel(\"Share of Mentions in Financial Context (%)\")\n",
    "plt.ylabel(\"Static Rank (Lower = Better)\")\n",
    "plt.title(f\"Correlation: Financial Context % vs Rank (r = {r_spear:.2f})\")\n",
    "plt.gca().invert_yaxis()  # Rank 1 at the top\n",
    "plt.grid(True)\n",
    "plt.tight_layout()\n",
    "plt.show()\n"
   ]
  },
  {
   "cell_type": "code",
   "execution_count": null,
   "metadata": {
    "colab": {
     "base_uri": "https://localhost:8080/",
     "height": 178
    },
    "id": "RyoIXArj-Fam",
    "outputId": "32eeb948-0488-49fd-cdf9-58f987561d30"
   },
   "outputs": [],
   "source": [
    "df_hypo['contains_financial_context'].value_counts(normalize=True)"
   ]
  },
  {
   "cell_type": "code",
   "execution_count": null,
   "metadata": {
    "colab": {
     "base_uri": "https://localhost:8080/",
     "height": 1000
    },
    "id": "mg8hgNZV1IRE",
    "outputId": "8c6dc155-1d52-40bf-dccf-0aefd86e0bbc"
   },
   "outputs": [],
   "source": [
    "df_hypo.head()"
   ]
  },
  {
   "cell_type": "code",
   "execution_count": null,
   "metadata": {
    "colab": {
     "base_uri": "https://localhost:8080/"
    },
    "id": "KPfD545R1IWi",
    "outputId": "5517ae31-d51d-430f-8f37-e3ce1a721102"
   },
   "outputs": [],
   "source": [
    "df_hypo.info()"
   ]
  },
  {
   "cell_type": "markdown",
   "metadata": {
    "id": "pIqK80PB1If9"
   },
   "source": [
    "-- End of the notebook --"
   ]
  }
 ],
 "metadata": {
  "colab": {
   "provenance": []
  },
  "kernelspec": {
   "display_name": "Python 3 (ipykernel)",
   "language": "python",
   "name": "python3"
  },
  "language_info": {
   "codemirror_mode": {
    "name": "ipython",
    "version": 3
   },
   "file_extension": ".py",
   "mimetype": "text/x-python",
   "name": "python",
   "nbconvert_exporter": "python",
   "pygments_lexer": "ipython3",
   "version": "3.12.8"
  },
  "widgets": {
   "application/vnd.jupyter.widget-state+json": {
    "0465be44f2164941ac06e85431605ff3": {
     "model_module": "@jupyter-widgets/controls",
     "model_module_version": "1.5.0",
     "model_name": "HBoxModel",
     "state": {
      "_dom_classes": [],
      "_model_module": "@jupyter-widgets/controls",
      "_model_module_version": "1.5.0",
      "_model_name": "HBoxModel",
      "_view_count": null,
      "_view_module": "@jupyter-widgets/controls",
      "_view_module_version": "1.5.0",
      "_view_name": "HBoxView",
      "box_style": "",
      "children": [
       "IPY_MODEL_eab87655752d4d84ba118e157a827f58",
       "IPY_MODEL_59242c454f194652823dde74834f3f81",
       "IPY_MODEL_e9e7f05f960a461796506d7f0687ad8f"
      ],
      "layout": "IPY_MODEL_b5b1c01272bb4eb08d8f9cad6b50f26a"
     }
    },
    "05ef9923ee1a4cb9ba8105545e9af8ab": {
     "model_module": "@jupyter-widgets/controls",
     "model_module_version": "1.5.0",
     "model_name": "FloatProgressModel",
     "state": {
      "_dom_classes": [],
      "_model_module": "@jupyter-widgets/controls",
      "_model_module_version": "1.5.0",
      "_model_name": "FloatProgressModel",
      "_view_count": null,
      "_view_module": "@jupyter-widgets/controls",
      "_view_module_version": "1.5.0",
      "_view_name": "ProgressView",
      "bar_style": "success",
      "description": "",
      "description_tooltip": null,
      "layout": "IPY_MODEL_91b84f9c341a4898884782478ab549a0",
      "max": 231508,
      "min": 0,
      "orientation": "horizontal",
      "style": "IPY_MODEL_2ce988641cc645fb8bafe366748c199b",
      "value": 231508
     }
    },
    "05f14845e5b64309808fa3384f4cd758": {
     "model_module": "@jupyter-widgets/base",
     "model_module_version": "1.2.0",
     "model_name": "LayoutModel",
     "state": {
      "_model_module": "@jupyter-widgets/base",
      "_model_module_version": "1.2.0",
      "_model_name": "LayoutModel",
      "_view_count": null,
      "_view_module": "@jupyter-widgets/base",
      "_view_module_version": "1.2.0",
      "_view_name": "LayoutView",
      "align_content": null,
      "align_items": null,
      "align_self": null,
      "border": null,
      "bottom": null,
      "display": null,
      "flex": null,
      "flex_flow": null,
      "grid_area": null,
      "grid_auto_columns": null,
      "grid_auto_flow": null,
      "grid_auto_rows": null,
      "grid_column": null,
      "grid_gap": null,
      "grid_row": null,
      "grid_template_areas": null,
      "grid_template_columns": null,
      "grid_template_rows": null,
      "height": null,
      "justify_content": null,
      "justify_items": null,
      "left": null,
      "margin": null,
      "max_height": null,
      "max_width": null,
      "min_height": null,
      "min_width": null,
      "object_fit": null,
      "object_position": null,
      "order": null,
      "overflow": null,
      "overflow_x": null,
      "overflow_y": null,
      "padding": null,
      "right": null,
      "top": null,
      "visibility": null,
      "width": null
     }
    },
    "0a94160cd3b34accbcc13509d91f745c": {
     "model_module": "@jupyter-widgets/controls",
     "model_module_version": "1.5.0",
     "model_name": "FloatProgressModel",
     "state": {
      "_dom_classes": [],
      "_model_module": "@jupyter-widgets/controls",
      "_model_module_version": "1.5.0",
      "_model_name": "FloatProgressModel",
      "_view_count": null,
      "_view_module": "@jupyter-widgets/controls",
      "_view_module_version": "1.5.0",
      "_view_name": "ProgressView",
      "bar_style": "success",
      "description": "",
      "description_tooltip": null,
      "layout": "IPY_MODEL_ce626e29850a42b48201c7e8e6ad3ff3",
      "max": 1891,
      "min": 0,
      "orientation": "horizontal",
      "style": "IPY_MODEL_2645f0e8d51541dabfabb0c16ad4400d",
      "value": 1891
     }
    },
    "0b81d363e32f46c4b645d31bbedc0e37": {
     "model_module": "@jupyter-widgets/controls",
     "model_module_version": "1.5.0",
     "model_name": "HTMLModel",
     "state": {
      "_dom_classes": [],
      "_model_module": "@jupyter-widgets/controls",
      "_model_module_version": "1.5.0",
      "_model_name": "HTMLModel",
      "_view_count": null,
      "_view_module": "@jupyter-widgets/controls",
      "_view_module_version": "1.5.0",
      "_view_name": "HTMLView",
      "description": "",
      "description_tooltip": null,
      "layout": "IPY_MODEL_545b36e5fb2d4ceab4c8f0e943a3c628",
      "placeholder": "​",
      "style": "IPY_MODEL_6a706d40d52f4a789945b7f34e37d628",
      "value": " 712k/712k [00:00&lt;00:00, 30.3MB/s]"
     }
    },
    "0ffc84d31bc0485c82cdfaa750baf660": {
     "model_module": "@jupyter-widgets/base",
     "model_module_version": "1.2.0",
     "model_name": "LayoutModel",
     "state": {
      "_model_module": "@jupyter-widgets/base",
      "_model_module_version": "1.2.0",
      "_model_name": "LayoutModel",
      "_view_count": null,
      "_view_module": "@jupyter-widgets/base",
      "_view_module_version": "1.2.0",
      "_view_name": "LayoutView",
      "align_content": null,
      "align_items": null,
      "align_self": null,
      "border": null,
      "bottom": null,
      "display": null,
      "flex": null,
      "flex_flow": null,
      "grid_area": null,
      "grid_auto_columns": null,
      "grid_auto_flow": null,
      "grid_auto_rows": null,
      "grid_column": null,
      "grid_gap": null,
      "grid_row": null,
      "grid_template_areas": null,
      "grid_template_columns": null,
      "grid_template_rows": null,
      "height": null,
      "justify_content": null,
      "justify_items": null,
      "left": null,
      "margin": null,
      "max_height": null,
      "max_width": null,
      "min_height": null,
      "min_width": null,
      "object_fit": null,
      "object_position": null,
      "order": null,
      "overflow": null,
      "overflow_x": null,
      "overflow_y": null,
      "padding": null,
      "right": null,
      "top": null,
      "visibility": null,
      "width": null
     }
    },
    "114b171730e7460f878053c586b09371": {
     "model_module": "@jupyter-widgets/controls",
     "model_module_version": "1.5.0",
     "model_name": "FloatProgressModel",
     "state": {
      "_dom_classes": [],
      "_model_module": "@jupyter-widgets/controls",
      "_model_module_version": "1.5.0",
      "_model_name": "FloatProgressModel",
      "_view_count": null,
      "_view_module": "@jupyter-widgets/controls",
      "_view_module_version": "1.5.0",
      "_view_name": "ProgressView",
      "bar_style": "success",
      "description": "",
      "description_tooltip": null,
      "layout": "IPY_MODEL_4c469a5dda8341dea13e0da3a6c6eeaa",
      "max": 769,
      "min": 0,
      "orientation": "horizontal",
      "style": "IPY_MODEL_37856a162e264e12824df67ac825284f",
      "value": 769
     }
    },
    "14fc338e1fe7497f8bf971587129b786": {
     "model_module": "@jupyter-widgets/controls",
     "model_module_version": "1.5.0",
     "model_name": "DescriptionStyleModel",
     "state": {
      "_model_module": "@jupyter-widgets/controls",
      "_model_module_version": "1.5.0",
      "_model_name": "DescriptionStyleModel",
      "_view_count": null,
      "_view_module": "@jupyter-widgets/base",
      "_view_module_version": "1.2.0",
      "_view_name": "StyleView",
      "description_width": ""
     }
    },
    "1665c93e791c466497854e96f610a047": {
     "model_module": "@jupyter-widgets/controls",
     "model_module_version": "1.5.0",
     "model_name": "DescriptionStyleModel",
     "state": {
      "_model_module": "@jupyter-widgets/controls",
      "_model_module_version": "1.5.0",
      "_model_name": "DescriptionStyleModel",
      "_view_count": null,
      "_view_module": "@jupyter-widgets/base",
      "_view_module_version": "1.2.0",
      "_view_name": "StyleView",
      "description_width": ""
     }
    },
    "1b6af24e9a564e2592439a6f3bb40a91": {
     "model_module": "@jupyter-widgets/controls",
     "model_module_version": "1.5.0",
     "model_name": "FloatProgressModel",
     "state": {
      "_dom_classes": [],
      "_model_module": "@jupyter-widgets/controls",
      "_model_module_version": "1.5.0",
      "_model_name": "FloatProgressModel",
      "_view_count": null,
      "_view_module": "@jupyter-widgets/controls",
      "_view_module_version": "1.5.0",
      "_view_name": "ProgressView",
      "bar_style": "success",
      "description": "",
      "description_tooltip": null,
      "layout": "IPY_MODEL_5b0db0cfca0a4f18bcce0f03427ebf0b",
      "max": 320,
      "min": 0,
      "orientation": "horizontal",
      "style": "IPY_MODEL_9ba8d72685244815af94121b756135c6",
      "value": 320
     }
    },
    "1c562be2b749410ea30123d6dd66cd11": {
     "model_module": "@jupyter-widgets/controls",
     "model_module_version": "1.5.0",
     "model_name": "HTMLModel",
     "state": {
      "_dom_classes": [],
      "_model_module": "@jupyter-widgets/controls",
      "_model_module_version": "1.5.0",
      "_model_name": "HTMLModel",
      "_view_count": null,
      "_view_module": "@jupyter-widgets/controls",
      "_view_module_version": "1.5.0",
      "_view_name": "HTMLView",
      "description": "",
      "description_tooltip": null,
      "layout": "IPY_MODEL_e3ac03b1e9ad4218b23b4c1d23600e93",
      "placeholder": "​",
      "style": "IPY_MODEL_f93baa18d0b943ca8ff27c5ee303cf57",
      "value": " 268M/268M [00:03&lt;00:00, 98.2MB/s]"
     }
    },
    "1ed378fe5cba4211bded8cfbe025a6e3": {
     "model_module": "@jupyter-widgets/controls",
     "model_module_version": "1.5.0",
     "model_name": "DescriptionStyleModel",
     "state": {
      "_model_module": "@jupyter-widgets/controls",
      "_model_module_version": "1.5.0",
      "_model_name": "DescriptionStyleModel",
      "_view_count": null,
      "_view_module": "@jupyter-widgets/base",
      "_view_module_version": "1.2.0",
      "_view_name": "StyleView",
      "description_width": ""
     }
    },
    "2240dadb1614478fbf1193807602f786": {
     "model_module": "@jupyter-widgets/base",
     "model_module_version": "1.2.0",
     "model_name": "LayoutModel",
     "state": {
      "_model_module": "@jupyter-widgets/base",
      "_model_module_version": "1.2.0",
      "_model_name": "LayoutModel",
      "_view_count": null,
      "_view_module": "@jupyter-widgets/base",
      "_view_module_version": "1.2.0",
      "_view_name": "LayoutView",
      "align_content": null,
      "align_items": null,
      "align_self": null,
      "border": null,
      "bottom": null,
      "display": null,
      "flex": null,
      "flex_flow": null,
      "grid_area": null,
      "grid_auto_columns": null,
      "grid_auto_flow": null,
      "grid_auto_rows": null,
      "grid_column": null,
      "grid_gap": null,
      "grid_row": null,
      "grid_template_areas": null,
      "grid_template_columns": null,
      "grid_template_rows": null,
      "height": null,
      "justify_content": null,
      "justify_items": null,
      "left": null,
      "margin": null,
      "max_height": null,
      "max_width": null,
      "min_height": null,
      "min_width": null,
      "object_fit": null,
      "object_position": null,
      "order": null,
      "overflow": null,
      "overflow_x": null,
      "overflow_y": null,
      "padding": null,
      "right": null,
      "top": null,
      "visibility": null,
      "width": null
     }
    },
    "25841e51e894477abec0deee264dd106": {
     "model_module": "@jupyter-widgets/base",
     "model_module_version": "1.2.0",
     "model_name": "LayoutModel",
     "state": {
      "_model_module": "@jupyter-widgets/base",
      "_model_module_version": "1.2.0",
      "_model_name": "LayoutModel",
      "_view_count": null,
      "_view_module": "@jupyter-widgets/base",
      "_view_module_version": "1.2.0",
      "_view_name": "LayoutView",
      "align_content": null,
      "align_items": null,
      "align_self": null,
      "border": null,
      "bottom": null,
      "display": null,
      "flex": null,
      "flex_flow": null,
      "grid_area": null,
      "grid_auto_columns": null,
      "grid_auto_flow": null,
      "grid_auto_rows": null,
      "grid_column": null,
      "grid_gap": null,
      "grid_row": null,
      "grid_template_areas": null,
      "grid_template_columns": null,
      "grid_template_rows": null,
      "height": null,
      "justify_content": null,
      "justify_items": null,
      "left": null,
      "margin": null,
      "max_height": null,
      "max_width": null,
      "min_height": null,
      "min_width": null,
      "object_fit": null,
      "object_position": null,
      "order": null,
      "overflow": null,
      "overflow_x": null,
      "overflow_y": null,
      "padding": null,
      "right": null,
      "top": null,
      "visibility": null,
      "width": null
     }
    },
    "2645f0e8d51541dabfabb0c16ad4400d": {
     "model_module": "@jupyter-widgets/controls",
     "model_module_version": "1.5.0",
     "model_name": "ProgressStyleModel",
     "state": {
      "_model_module": "@jupyter-widgets/controls",
      "_model_module_version": "1.5.0",
      "_model_name": "ProgressStyleModel",
      "_view_count": null,
      "_view_module": "@jupyter-widgets/base",
      "_view_module_version": "1.2.0",
      "_view_name": "StyleView",
      "bar_color": null,
      "description_width": ""
     }
    },
    "27310ef250e64def8f365dc54c74285b": {
     "model_module": "@jupyter-widgets/controls",
     "model_module_version": "1.5.0",
     "model_name": "HTMLModel",
     "state": {
      "_dom_classes": [],
      "_model_module": "@jupyter-widgets/controls",
      "_model_module_version": "1.5.0",
      "_model_name": "HTMLModel",
      "_view_count": null,
      "_view_module": "@jupyter-widgets/controls",
      "_view_module_version": "1.5.0",
      "_view_name": "HTMLView",
      "description": "",
      "description_tooltip": null,
      "layout": "IPY_MODEL_a0f4d0bd5378446ab1d77838d059fffd",
      "placeholder": "​",
      "style": "IPY_MODEL_1665c93e791c466497854e96f610a047",
      "value": "tokenizer.json: 100%"
     }
    },
    "2ce988641cc645fb8bafe366748c199b": {
     "model_module": "@jupyter-widgets/controls",
     "model_module_version": "1.5.0",
     "model_name": "ProgressStyleModel",
     "state": {
      "_model_module": "@jupyter-widgets/controls",
      "_model_module_version": "1.5.0",
      "_model_name": "ProgressStyleModel",
      "_view_count": null,
      "_view_module": "@jupyter-widgets/base",
      "_view_module_version": "1.2.0",
      "_view_name": "StyleView",
      "bar_color": null,
      "description_width": ""
     }
    },
    "2d7d47be9c3b4cf89f0b64a29a791e4f": {
     "model_module": "@jupyter-widgets/controls",
     "model_module_version": "1.5.0",
     "model_name": "DescriptionStyleModel",
     "state": {
      "_model_module": "@jupyter-widgets/controls",
      "_model_module_version": "1.5.0",
      "_model_name": "DescriptionStyleModel",
      "_view_count": null,
      "_view_module": "@jupyter-widgets/base",
      "_view_module_version": "1.2.0",
      "_view_name": "StyleView",
      "description_width": ""
     }
    },
    "37856a162e264e12824df67ac825284f": {
     "model_module": "@jupyter-widgets/controls",
     "model_module_version": "1.5.0",
     "model_name": "ProgressStyleModel",
     "state": {
      "_model_module": "@jupyter-widgets/controls",
      "_model_module_version": "1.5.0",
      "_model_name": "ProgressStyleModel",
      "_view_count": null,
      "_view_module": "@jupyter-widgets/base",
      "_view_module_version": "1.2.0",
      "_view_name": "StyleView",
      "bar_color": null,
      "description_width": ""
     }
    },
    "396b8d13c3144a8a8204eeade9b07f4e": {
     "model_module": "@jupyter-widgets/base",
     "model_module_version": "1.2.0",
     "model_name": "LayoutModel",
     "state": {
      "_model_module": "@jupyter-widgets/base",
      "_model_module_version": "1.2.0",
      "_model_name": "LayoutModel",
      "_view_count": null,
      "_view_module": "@jupyter-widgets/base",
      "_view_module_version": "1.2.0",
      "_view_name": "LayoutView",
      "align_content": null,
      "align_items": null,
      "align_self": null,
      "border": null,
      "bottom": null,
      "display": null,
      "flex": null,
      "flex_flow": null,
      "grid_area": null,
      "grid_auto_columns": null,
      "grid_auto_flow": null,
      "grid_auto_rows": null,
      "grid_column": null,
      "grid_gap": null,
      "grid_row": null,
      "grid_template_areas": null,
      "grid_template_columns": null,
      "grid_template_rows": null,
      "height": null,
      "justify_content": null,
      "justify_items": null,
      "left": null,
      "margin": null,
      "max_height": null,
      "max_width": null,
      "min_height": null,
      "min_width": null,
      "object_fit": null,
      "object_position": null,
      "order": null,
      "overflow": null,
      "overflow_x": null,
      "overflow_y": null,
      "padding": null,
      "right": null,
      "top": null,
      "visibility": null,
      "width": null
     }
    },
    "439c6d55203b4dd98714ba91aaf4e640": {
     "model_module": "@jupyter-widgets/controls",
     "model_module_version": "1.5.0",
     "model_name": "HBoxModel",
     "state": {
      "_dom_classes": [],
      "_model_module": "@jupyter-widgets/controls",
      "_model_module_version": "1.5.0",
      "_model_name": "HBoxModel",
      "_view_count": null,
      "_view_module": "@jupyter-widgets/controls",
      "_view_module_version": "1.5.0",
      "_view_name": "HBoxView",
      "box_style": "",
      "children": [
       "IPY_MODEL_27310ef250e64def8f365dc54c74285b",
       "IPY_MODEL_d6fd318a96914d2481768e3937d061ea",
       "IPY_MODEL_0b81d363e32f46c4b645d31bbedc0e37"
      ],
      "layout": "IPY_MODEL_81153a34c198470abefb7a071e227ebd"
     }
    },
    "459537cf6542492e9d1da8e1521e3a50": {
     "model_module": "@jupyter-widgets/controls",
     "model_module_version": "1.5.0",
     "model_name": "HTMLModel",
     "state": {
      "_dom_classes": [],
      "_model_module": "@jupyter-widgets/controls",
      "_model_module_version": "1.5.0",
      "_model_name": "HTMLModel",
      "_view_count": null,
      "_view_module": "@jupyter-widgets/controls",
      "_view_module_version": "1.5.0",
      "_view_name": "HTMLView",
      "description": "",
      "description_tooltip": null,
      "layout": "IPY_MODEL_6ee732e8e1e74c2380497cf36a4e6dc8",
      "placeholder": "​",
      "style": "IPY_MODEL_1ed378fe5cba4211bded8cfbe025a6e3",
      "value": "special_tokens_map.json: 100%"
     }
    },
    "482650a32f2446b2999fbdbc42b21520": {
     "model_module": "@jupyter-widgets/base",
     "model_module_version": "1.2.0",
     "model_name": "LayoutModel",
     "state": {
      "_model_module": "@jupyter-widgets/base",
      "_model_module_version": "1.2.0",
      "_model_name": "LayoutModel",
      "_view_count": null,
      "_view_module": "@jupyter-widgets/base",
      "_view_module_version": "1.2.0",
      "_view_name": "LayoutView",
      "align_content": null,
      "align_items": null,
      "align_self": null,
      "border": null,
      "bottom": null,
      "display": null,
      "flex": null,
      "flex_flow": null,
      "grid_area": null,
      "grid_auto_columns": null,
      "grid_auto_flow": null,
      "grid_auto_rows": null,
      "grid_column": null,
      "grid_gap": null,
      "grid_row": null,
      "grid_template_areas": null,
      "grid_template_columns": null,
      "grid_template_rows": null,
      "height": null,
      "justify_content": null,
      "justify_items": null,
      "left": null,
      "margin": null,
      "max_height": null,
      "max_width": null,
      "min_height": null,
      "min_width": null,
      "object_fit": null,
      "object_position": null,
      "order": null,
      "overflow": null,
      "overflow_x": null,
      "overflow_y": null,
      "padding": null,
      "right": null,
      "top": null,
      "visibility": null,
      "width": null
     }
    },
    "4978e6d1f0a6472f8e40d81d038f6229": {
     "model_module": "@jupyter-widgets/controls",
     "model_module_version": "1.5.0",
     "model_name": "FloatProgressModel",
     "state": {
      "_dom_classes": [],
      "_model_module": "@jupyter-widgets/controls",
      "_model_module_version": "1.5.0",
      "_model_name": "FloatProgressModel",
      "_view_count": null,
      "_view_module": "@jupyter-widgets/controls",
      "_view_module_version": "1.5.0",
      "_view_name": "ProgressView",
      "bar_style": "success",
      "description": "",
      "description_tooltip": null,
      "layout": "IPY_MODEL_ddf45b7b82c341a2813efe7f0882487d",
      "max": 125,
      "min": 0,
      "orientation": "horizontal",
      "style": "IPY_MODEL_98056891d34c46c6a6445ca8f7724461",
      "value": 125
     }
    },
    "4c469a5dda8341dea13e0da3a6c6eeaa": {
     "model_module": "@jupyter-widgets/base",
     "model_module_version": "1.2.0",
     "model_name": "LayoutModel",
     "state": {
      "_model_module": "@jupyter-widgets/base",
      "_model_module_version": "1.2.0",
      "_model_name": "LayoutModel",
      "_view_count": null,
      "_view_module": "@jupyter-widgets/base",
      "_view_module_version": "1.2.0",
      "_view_name": "LayoutView",
      "align_content": null,
      "align_items": null,
      "align_self": null,
      "border": null,
      "bottom": null,
      "display": null,
      "flex": null,
      "flex_flow": null,
      "grid_area": null,
      "grid_auto_columns": null,
      "grid_auto_flow": null,
      "grid_auto_rows": null,
      "grid_column": null,
      "grid_gap": null,
      "grid_row": null,
      "grid_template_areas": null,
      "grid_template_columns": null,
      "grid_template_rows": null,
      "height": null,
      "justify_content": null,
      "justify_items": null,
      "left": null,
      "margin": null,
      "max_height": null,
      "max_width": null,
      "min_height": null,
      "min_width": null,
      "object_fit": null,
      "object_position": null,
      "order": null,
      "overflow": null,
      "overflow_x": null,
      "overflow_y": null,
      "padding": null,
      "right": null,
      "top": null,
      "visibility": null,
      "width": null
     }
    },
    "545b36e5fb2d4ceab4c8f0e943a3c628": {
     "model_module": "@jupyter-widgets/base",
     "model_module_version": "1.2.0",
     "model_name": "LayoutModel",
     "state": {
      "_model_module": "@jupyter-widgets/base",
      "_model_module_version": "1.2.0",
      "_model_name": "LayoutModel",
      "_view_count": null,
      "_view_module": "@jupyter-widgets/base",
      "_view_module_version": "1.2.0",
      "_view_name": "LayoutView",
      "align_content": null,
      "align_items": null,
      "align_self": null,
      "border": null,
      "bottom": null,
      "display": null,
      "flex": null,
      "flex_flow": null,
      "grid_area": null,
      "grid_auto_columns": null,
      "grid_auto_flow": null,
      "grid_auto_rows": null,
      "grid_column": null,
      "grid_gap": null,
      "grid_row": null,
      "grid_template_areas": null,
      "grid_template_columns": null,
      "grid_template_rows": null,
      "height": null,
      "justify_content": null,
      "justify_items": null,
      "left": null,
      "margin": null,
      "max_height": null,
      "max_width": null,
      "min_height": null,
      "min_width": null,
      "object_fit": null,
      "object_position": null,
      "order": null,
      "overflow": null,
      "overflow_x": null,
      "overflow_y": null,
      "padding": null,
      "right": null,
      "top": null,
      "visibility": null,
      "width": null
     }
    },
    "54dc6a9577c942d1961485954cc0eb28": {
     "model_module": "@jupyter-widgets/controls",
     "model_module_version": "1.5.0",
     "model_name": "HBoxModel",
     "state": {
      "_dom_classes": [],
      "_model_module": "@jupyter-widgets/controls",
      "_model_module_version": "1.5.0",
      "_model_name": "HBoxModel",
      "_view_count": null,
      "_view_module": "@jupyter-widgets/controls",
      "_view_module_version": "1.5.0",
      "_view_name": "HBoxView",
      "box_style": "",
      "children": [
       "IPY_MODEL_80ea9142a19f477882cdca5533bc8409",
       "IPY_MODEL_05ef9923ee1a4cb9ba8105545e9af8ab",
       "IPY_MODEL_7a05f7ddcae246c09ce5be53a57d87b6"
      ],
      "layout": "IPY_MODEL_6498b5f3fb404fe68bf8c7b98fd06f18"
     }
    },
    "560164c108a04d408aef2d1204dffef5": {
     "model_module": "@jupyter-widgets/controls",
     "model_module_version": "1.5.0",
     "model_name": "HBoxModel",
     "state": {
      "_dom_classes": [],
      "_model_module": "@jupyter-widgets/controls",
      "_model_module_version": "1.5.0",
      "_model_name": "HBoxModel",
      "_view_count": null,
      "_view_module": "@jupyter-widgets/controls",
      "_view_module_version": "1.5.0",
      "_view_name": "HBoxView",
      "box_style": "",
      "children": [
       "IPY_MODEL_61717e4979434d36ad301958d10a787d",
       "IPY_MODEL_114b171730e7460f878053c586b09371",
       "IPY_MODEL_9a33ade11f4d479f8b046afc0d31ec60"
      ],
      "layout": "IPY_MODEL_fe080acec8cc461ba6b04f6d1c9a8fb1"
     }
    },
    "59242c454f194652823dde74834f3f81": {
     "model_module": "@jupyter-widgets/controls",
     "model_module_version": "1.5.0",
     "model_name": "FloatProgressModel",
     "state": {
      "_dom_classes": [],
      "_model_module": "@jupyter-widgets/controls",
      "_model_module_version": "1.5.0",
      "_model_name": "FloatProgressModel",
      "_view_count": null,
      "_view_module": "@jupyter-widgets/controls",
      "_view_module_version": "1.5.0",
      "_view_name": "ProgressView",
      "bar_style": "success",
      "description": "",
      "description_tooltip": null,
      "layout": "IPY_MODEL_2240dadb1614478fbf1193807602f786",
      "max": 267858605,
      "min": 0,
      "orientation": "horizontal",
      "style": "IPY_MODEL_c649212d3cc14e31b67dda16dff44fcd",
      "value": 267858605
     }
    },
    "5b0db0cfca0a4f18bcce0f03427ebf0b": {
     "model_module": "@jupyter-widgets/base",
     "model_module_version": "1.2.0",
     "model_name": "LayoutModel",
     "state": {
      "_model_module": "@jupyter-widgets/base",
      "_model_module_version": "1.2.0",
      "_model_name": "LayoutModel",
      "_view_count": null,
      "_view_module": "@jupyter-widgets/base",
      "_view_module_version": "1.2.0",
      "_view_name": "LayoutView",
      "align_content": null,
      "align_items": null,
      "align_self": null,
      "border": null,
      "bottom": null,
      "display": null,
      "flex": null,
      "flex_flow": null,
      "grid_area": null,
      "grid_auto_columns": null,
      "grid_auto_flow": null,
      "grid_auto_rows": null,
      "grid_column": null,
      "grid_gap": null,
      "grid_row": null,
      "grid_template_areas": null,
      "grid_template_columns": null,
      "grid_template_rows": null,
      "height": null,
      "justify_content": null,
      "justify_items": null,
      "left": null,
      "margin": null,
      "max_height": null,
      "max_width": null,
      "min_height": null,
      "min_width": null,
      "object_fit": null,
      "object_position": null,
      "order": null,
      "overflow": null,
      "overflow_x": null,
      "overflow_y": null,
      "padding": null,
      "right": null,
      "top": null,
      "visibility": null,
      "width": null
     }
    },
    "5ca049ea7e7b4155ab830830281faf7d": {
     "model_module": "@jupyter-widgets/controls",
     "model_module_version": "1.5.0",
     "model_name": "HBoxModel",
     "state": {
      "_dom_classes": [],
      "_model_module": "@jupyter-widgets/controls",
      "_model_module_version": "1.5.0",
      "_model_name": "HBoxModel",
      "_view_count": null,
      "_view_module": "@jupyter-widgets/controls",
      "_view_module_version": "1.5.0",
      "_view_name": "HBoxView",
      "box_style": "",
      "children": [
       "IPY_MODEL_459537cf6542492e9d1da8e1521e3a50",
       "IPY_MODEL_4978e6d1f0a6472f8e40d81d038f6229",
       "IPY_MODEL_a1151477bd494ab9bce5928ce4781852"
      ],
      "layout": "IPY_MODEL_ed0530e1c6634a5aa16fd29c8fadefbc"
     }
    },
    "5cf8bb14ddcb42faaf156500b672a283": {
     "model_module": "@jupyter-widgets/controls",
     "model_module_version": "1.5.0",
     "model_name": "FloatProgressModel",
     "state": {
      "_dom_classes": [],
      "_model_module": "@jupyter-widgets/controls",
      "_model_module_version": "1.5.0",
      "_model_name": "FloatProgressModel",
      "_view_count": null,
      "_view_module": "@jupyter-widgets/controls",
      "_view_module_version": "1.5.0",
      "_view_name": "ProgressView",
      "bar_style": "success",
      "description": "",
      "description_tooltip": null,
      "layout": "IPY_MODEL_b436a16a03c940b8ba9c32c1d2758e4c",
      "max": 267835644,
      "min": 0,
      "orientation": "horizontal",
      "style": "IPY_MODEL_acdb1466e18940ec907bc040c6d1a695",
      "value": 267835644
     }
    },
    "60fd3ac9aa344a72ac355c54451cf4a0": {
     "model_module": "@jupyter-widgets/controls",
     "model_module_version": "1.5.0",
     "model_name": "DescriptionStyleModel",
     "state": {
      "_model_module": "@jupyter-widgets/controls",
      "_model_module_version": "1.5.0",
      "_model_name": "DescriptionStyleModel",
      "_view_count": null,
      "_view_module": "@jupyter-widgets/base",
      "_view_module_version": "1.2.0",
      "_view_name": "StyleView",
      "description_width": ""
     }
    },
    "61717e4979434d36ad301958d10a787d": {
     "model_module": "@jupyter-widgets/controls",
     "model_module_version": "1.5.0",
     "model_name": "HTMLModel",
     "state": {
      "_dom_classes": [],
      "_model_module": "@jupyter-widgets/controls",
      "_model_module_version": "1.5.0",
      "_model_name": "HTMLModel",
      "_view_count": null,
      "_view_module": "@jupyter-widgets/controls",
      "_view_module_version": "1.5.0",
      "_view_name": "HTMLView",
      "description": "",
      "description_tooltip": null,
      "layout": "IPY_MODEL_e6b2ca4a24f84274b846618a2c4dbf97",
      "placeholder": "​",
      "style": "IPY_MODEL_a5283d059733441aa7cc7d5f7667786d",
      "value": "config.json: 100%"
     }
    },
    "6498b5f3fb404fe68bf8c7b98fd06f18": {
     "model_module": "@jupyter-widgets/base",
     "model_module_version": "1.2.0",
     "model_name": "LayoutModel",
     "state": {
      "_model_module": "@jupyter-widgets/base",
      "_model_module_version": "1.2.0",
      "_model_name": "LayoutModel",
      "_view_count": null,
      "_view_module": "@jupyter-widgets/base",
      "_view_module_version": "1.2.0",
      "_view_name": "LayoutView",
      "align_content": null,
      "align_items": null,
      "align_self": null,
      "border": null,
      "bottom": null,
      "display": null,
      "flex": null,
      "flex_flow": null,
      "grid_area": null,
      "grid_auto_columns": null,
      "grid_auto_flow": null,
      "grid_auto_rows": null,
      "grid_column": null,
      "grid_gap": null,
      "grid_row": null,
      "grid_template_areas": null,
      "grid_template_columns": null,
      "grid_template_rows": null,
      "height": null,
      "justify_content": null,
      "justify_items": null,
      "left": null,
      "margin": null,
      "max_height": null,
      "max_width": null,
      "min_height": null,
      "min_width": null,
      "object_fit": null,
      "object_position": null,
      "order": null,
      "overflow": null,
      "overflow_x": null,
      "overflow_y": null,
      "padding": null,
      "right": null,
      "top": null,
      "visibility": null,
      "width": null
     }
    },
    "6a706d40d52f4a789945b7f34e37d628": {
     "model_module": "@jupyter-widgets/controls",
     "model_module_version": "1.5.0",
     "model_name": "DescriptionStyleModel",
     "state": {
      "_model_module": "@jupyter-widgets/controls",
      "_model_module_version": "1.5.0",
      "_model_name": "DescriptionStyleModel",
      "_view_count": null,
      "_view_module": "@jupyter-widgets/base",
      "_view_module_version": "1.2.0",
      "_view_name": "StyleView",
      "description_width": ""
     }
    },
    "6ee732e8e1e74c2380497cf36a4e6dc8": {
     "model_module": "@jupyter-widgets/base",
     "model_module_version": "1.2.0",
     "model_name": "LayoutModel",
     "state": {
      "_model_module": "@jupyter-widgets/base",
      "_model_module_version": "1.2.0",
      "_model_name": "LayoutModel",
      "_view_count": null,
      "_view_module": "@jupyter-widgets/base",
      "_view_module_version": "1.2.0",
      "_view_name": "LayoutView",
      "align_content": null,
      "align_items": null,
      "align_self": null,
      "border": null,
      "bottom": null,
      "display": null,
      "flex": null,
      "flex_flow": null,
      "grid_area": null,
      "grid_auto_columns": null,
      "grid_auto_flow": null,
      "grid_auto_rows": null,
      "grid_column": null,
      "grid_gap": null,
      "grid_row": null,
      "grid_template_areas": null,
      "grid_template_columns": null,
      "grid_template_rows": null,
      "height": null,
      "justify_content": null,
      "justify_items": null,
      "left": null,
      "margin": null,
      "max_height": null,
      "max_width": null,
      "min_height": null,
      "min_width": null,
      "object_fit": null,
      "object_position": null,
      "order": null,
      "overflow": null,
      "overflow_x": null,
      "overflow_y": null,
      "padding": null,
      "right": null,
      "top": null,
      "visibility": null,
      "width": null
     }
    },
    "77a3a60671cf4f9285ae562214ca5d92": {
     "model_module": "@jupyter-widgets/base",
     "model_module_version": "1.2.0",
     "model_name": "LayoutModel",
     "state": {
      "_model_module": "@jupyter-widgets/base",
      "_model_module_version": "1.2.0",
      "_model_name": "LayoutModel",
      "_view_count": null,
      "_view_module": "@jupyter-widgets/base",
      "_view_module_version": "1.2.0",
      "_view_name": "LayoutView",
      "align_content": null,
      "align_items": null,
      "align_self": null,
      "border": null,
      "bottom": null,
      "display": null,
      "flex": null,
      "flex_flow": null,
      "grid_area": null,
      "grid_auto_columns": null,
      "grid_auto_flow": null,
      "grid_auto_rows": null,
      "grid_column": null,
      "grid_gap": null,
      "grid_row": null,
      "grid_template_areas": null,
      "grid_template_columns": null,
      "grid_template_rows": null,
      "height": null,
      "justify_content": null,
      "justify_items": null,
      "left": null,
      "margin": null,
      "max_height": null,
      "max_width": null,
      "min_height": null,
      "min_width": null,
      "object_fit": null,
      "object_position": null,
      "order": null,
      "overflow": null,
      "overflow_x": null,
      "overflow_y": null,
      "padding": null,
      "right": null,
      "top": null,
      "visibility": null,
      "width": null
     }
    },
    "7a05f7ddcae246c09ce5be53a57d87b6": {
     "model_module": "@jupyter-widgets/controls",
     "model_module_version": "1.5.0",
     "model_name": "HTMLModel",
     "state": {
      "_dom_classes": [],
      "_model_module": "@jupyter-widgets/controls",
      "_model_module_version": "1.5.0",
      "_model_name": "HTMLModel",
      "_view_count": null,
      "_view_module": "@jupyter-widgets/controls",
      "_view_module_version": "1.5.0",
      "_view_name": "HTMLView",
      "description": "",
      "description_tooltip": null,
      "layout": "IPY_MODEL_77a3a60671cf4f9285ae562214ca5d92",
      "placeholder": "​",
      "style": "IPY_MODEL_2d7d47be9c3b4cf89f0b64a29a791e4f",
      "value": " 232k/232k [00:00&lt;00:00, 5.30MB/s]"
     }
    },
    "7a6ab19d74d640d496cdc31b8c7dd51e": {
     "model_module": "@jupyter-widgets/controls",
     "model_module_version": "1.5.0",
     "model_name": "DescriptionStyleModel",
     "state": {
      "_model_module": "@jupyter-widgets/controls",
      "_model_module_version": "1.5.0",
      "_model_name": "DescriptionStyleModel",
      "_view_count": null,
      "_view_module": "@jupyter-widgets/base",
      "_view_module_version": "1.2.0",
      "_view_name": "StyleView",
      "description_width": ""
     }
    },
    "7b73ada143d8408bbf34786764a5dad4": {
     "model_module": "@jupyter-widgets/controls",
     "model_module_version": "1.5.0",
     "model_name": "DescriptionStyleModel",
     "state": {
      "_model_module": "@jupyter-widgets/controls",
      "_model_module_version": "1.5.0",
      "_model_name": "DescriptionStyleModel",
      "_view_count": null,
      "_view_module": "@jupyter-widgets/base",
      "_view_module_version": "1.2.0",
      "_view_name": "StyleView",
      "description_width": ""
     }
    },
    "7d0bee48d7fe42d5bb1b5bf1b310b9f6": {
     "model_module": "@jupyter-widgets/controls",
     "model_module_version": "1.5.0",
     "model_name": "HTMLModel",
     "state": {
      "_dom_classes": [],
      "_model_module": "@jupyter-widgets/controls",
      "_model_module_version": "1.5.0",
      "_model_name": "HTMLModel",
      "_view_count": null,
      "_view_module": "@jupyter-widgets/controls",
      "_view_module_version": "1.5.0",
      "_view_name": "HTMLView",
      "description": "",
      "description_tooltip": null,
      "layout": "IPY_MODEL_c055fc2238464215a9ff75cdbe299220",
      "placeholder": "​",
      "style": "IPY_MODEL_7d814cf590fe4c62a678e607e84f0418",
      "value": "100%"
     }
    },
    "7d814cf590fe4c62a678e607e84f0418": {
     "model_module": "@jupyter-widgets/controls",
     "model_module_version": "1.5.0",
     "model_name": "DescriptionStyleModel",
     "state": {
      "_model_module": "@jupyter-widgets/controls",
      "_model_module_version": "1.5.0",
      "_model_name": "DescriptionStyleModel",
      "_view_count": null,
      "_view_module": "@jupyter-widgets/base",
      "_view_module_version": "1.2.0",
      "_view_name": "StyleView",
      "description_width": ""
     }
    },
    "7ebefaa4d28d4d4d8739047c9d11bf3a": {
     "model_module": "@jupyter-widgets/controls",
     "model_module_version": "1.5.0",
     "model_name": "DescriptionStyleModel",
     "state": {
      "_model_module": "@jupyter-widgets/controls",
      "_model_module_version": "1.5.0",
      "_model_name": "DescriptionStyleModel",
      "_view_count": null,
      "_view_module": "@jupyter-widgets/base",
      "_view_module_version": "1.2.0",
      "_view_name": "StyleView",
      "description_width": ""
     }
    },
    "7ec9c913c4bf4d889279e35b6ac1ab39": {
     "model_module": "@jupyter-widgets/base",
     "model_module_version": "1.2.0",
     "model_name": "LayoutModel",
     "state": {
      "_model_module": "@jupyter-widgets/base",
      "_model_module_version": "1.2.0",
      "_model_name": "LayoutModel",
      "_view_count": null,
      "_view_module": "@jupyter-widgets/base",
      "_view_module_version": "1.2.0",
      "_view_name": "LayoutView",
      "align_content": null,
      "align_items": null,
      "align_self": null,
      "border": null,
      "bottom": null,
      "display": null,
      "flex": null,
      "flex_flow": null,
      "grid_area": null,
      "grid_auto_columns": null,
      "grid_auto_flow": null,
      "grid_auto_rows": null,
      "grid_column": null,
      "grid_gap": null,
      "grid_row": null,
      "grid_template_areas": null,
      "grid_template_columns": null,
      "grid_template_rows": null,
      "height": null,
      "justify_content": null,
      "justify_items": null,
      "left": null,
      "margin": null,
      "max_height": null,
      "max_width": null,
      "min_height": null,
      "min_width": null,
      "object_fit": null,
      "object_position": null,
      "order": null,
      "overflow": null,
      "overflow_x": null,
      "overflow_y": null,
      "padding": null,
      "right": null,
      "top": null,
      "visibility": null,
      "width": null
     }
    },
    "80ea9142a19f477882cdca5533bc8409": {
     "model_module": "@jupyter-widgets/controls",
     "model_module_version": "1.5.0",
     "model_name": "HTMLModel",
     "state": {
      "_dom_classes": [],
      "_model_module": "@jupyter-widgets/controls",
      "_model_module_version": "1.5.0",
      "_model_name": "HTMLModel",
      "_view_count": null,
      "_view_module": "@jupyter-widgets/controls",
      "_view_module_version": "1.5.0",
      "_view_name": "HTMLView",
      "description": "",
      "description_tooltip": null,
      "layout": "IPY_MODEL_482650a32f2446b2999fbdbc42b21520",
      "placeholder": "​",
      "style": "IPY_MODEL_7b73ada143d8408bbf34786764a5dad4",
      "value": "vocab.txt: 100%"
     }
    },
    "81153a34c198470abefb7a071e227ebd": {
     "model_module": "@jupyter-widgets/base",
     "model_module_version": "1.2.0",
     "model_name": "LayoutModel",
     "state": {
      "_model_module": "@jupyter-widgets/base",
      "_model_module_version": "1.2.0",
      "_model_name": "LayoutModel",
      "_view_count": null,
      "_view_module": "@jupyter-widgets/base",
      "_view_module_version": "1.2.0",
      "_view_name": "LayoutView",
      "align_content": null,
      "align_items": null,
      "align_self": null,
      "border": null,
      "bottom": null,
      "display": null,
      "flex": null,
      "flex_flow": null,
      "grid_area": null,
      "grid_auto_columns": null,
      "grid_auto_flow": null,
      "grid_auto_rows": null,
      "grid_column": null,
      "grid_gap": null,
      "grid_row": null,
      "grid_template_areas": null,
      "grid_template_columns": null,
      "grid_template_rows": null,
      "height": null,
      "justify_content": null,
      "justify_items": null,
      "left": null,
      "margin": null,
      "max_height": null,
      "max_width": null,
      "min_height": null,
      "min_width": null,
      "object_fit": null,
      "object_position": null,
      "order": null,
      "overflow": null,
      "overflow_x": null,
      "overflow_y": null,
      "padding": null,
      "right": null,
      "top": null,
      "visibility": null,
      "width": null
     }
    },
    "819269b143554e8d81a830ddd69d0cc0": {
     "model_module": "@jupyter-widgets/base",
     "model_module_version": "1.2.0",
     "model_name": "LayoutModel",
     "state": {
      "_model_module": "@jupyter-widgets/base",
      "_model_module_version": "1.2.0",
      "_model_name": "LayoutModel",
      "_view_count": null,
      "_view_module": "@jupyter-widgets/base",
      "_view_module_version": "1.2.0",
      "_view_name": "LayoutView",
      "align_content": null,
      "align_items": null,
      "align_self": null,
      "border": null,
      "bottom": null,
      "display": null,
      "flex": null,
      "flex_flow": null,
      "grid_area": null,
      "grid_auto_columns": null,
      "grid_auto_flow": null,
      "grid_auto_rows": null,
      "grid_column": null,
      "grid_gap": null,
      "grid_row": null,
      "grid_template_areas": null,
      "grid_template_columns": null,
      "grid_template_rows": null,
      "height": null,
      "justify_content": null,
      "justify_items": null,
      "left": null,
      "margin": null,
      "max_height": null,
      "max_width": null,
      "min_height": null,
      "min_width": null,
      "object_fit": null,
      "object_position": null,
      "order": null,
      "overflow": null,
      "overflow_x": null,
      "overflow_y": null,
      "padding": null,
      "right": null,
      "top": null,
      "visibility": null,
      "width": null
     }
    },
    "8d9c32fe4a534a51a02f1a67cdebaaf0": {
     "model_module": "@jupyter-widgets/base",
     "model_module_version": "1.2.0",
     "model_name": "LayoutModel",
     "state": {
      "_model_module": "@jupyter-widgets/base",
      "_model_module_version": "1.2.0",
      "_model_name": "LayoutModel",
      "_view_count": null,
      "_view_module": "@jupyter-widgets/base",
      "_view_module_version": "1.2.0",
      "_view_name": "LayoutView",
      "align_content": null,
      "align_items": null,
      "align_self": null,
      "border": null,
      "bottom": null,
      "display": null,
      "flex": null,
      "flex_flow": null,
      "grid_area": null,
      "grid_auto_columns": null,
      "grid_auto_flow": null,
      "grid_auto_rows": null,
      "grid_column": null,
      "grid_gap": null,
      "grid_row": null,
      "grid_template_areas": null,
      "grid_template_columns": null,
      "grid_template_rows": null,
      "height": null,
      "justify_content": null,
      "justify_items": null,
      "left": null,
      "margin": null,
      "max_height": null,
      "max_width": null,
      "min_height": null,
      "min_width": null,
      "object_fit": null,
      "object_position": null,
      "order": null,
      "overflow": null,
      "overflow_x": null,
      "overflow_y": null,
      "padding": null,
      "right": null,
      "top": null,
      "visibility": null,
      "width": null
     }
    },
    "8f503e7f755f4aed8bca0b26c193f677": {
     "model_module": "@jupyter-widgets/base",
     "model_module_version": "1.2.0",
     "model_name": "LayoutModel",
     "state": {
      "_model_module": "@jupyter-widgets/base",
      "_model_module_version": "1.2.0",
      "_model_name": "LayoutModel",
      "_view_count": null,
      "_view_module": "@jupyter-widgets/base",
      "_view_module_version": "1.2.0",
      "_view_name": "LayoutView",
      "align_content": null,
      "align_items": null,
      "align_self": null,
      "border": null,
      "bottom": null,
      "display": null,
      "flex": null,
      "flex_flow": null,
      "grid_area": null,
      "grid_auto_columns": null,
      "grid_auto_flow": null,
      "grid_auto_rows": null,
      "grid_column": null,
      "grid_gap": null,
      "grid_row": null,
      "grid_template_areas": null,
      "grid_template_columns": null,
      "grid_template_rows": null,
      "height": null,
      "justify_content": null,
      "justify_items": null,
      "left": null,
      "margin": null,
      "max_height": null,
      "max_width": null,
      "min_height": null,
      "min_width": null,
      "object_fit": null,
      "object_position": null,
      "order": null,
      "overflow": null,
      "overflow_x": null,
      "overflow_y": null,
      "padding": null,
      "right": null,
      "top": null,
      "visibility": null,
      "width": null
     }
    },
    "913da2d509434177ba3307af75914266": {
     "model_module": "@jupyter-widgets/controls",
     "model_module_version": "1.5.0",
     "model_name": "HBoxModel",
     "state": {
      "_dom_classes": [],
      "_model_module": "@jupyter-widgets/controls",
      "_model_module_version": "1.5.0",
      "_model_name": "HBoxModel",
      "_view_count": null,
      "_view_module": "@jupyter-widgets/controls",
      "_view_module_version": "1.5.0",
      "_view_name": "HBoxView",
      "box_style": "",
      "children": [
       "IPY_MODEL_7d0bee48d7fe42d5bb1b5bf1b310b9f6",
       "IPY_MODEL_0a94160cd3b34accbcc13509d91f745c",
       "IPY_MODEL_f3fce49a51ee44eaa90538ee45c57b8a"
      ],
      "layout": "IPY_MODEL_d96459c025194f4d9999aab53ef38e78"
     }
    },
    "91b84f9c341a4898884782478ab549a0": {
     "model_module": "@jupyter-widgets/base",
     "model_module_version": "1.2.0",
     "model_name": "LayoutModel",
     "state": {
      "_model_module": "@jupyter-widgets/base",
      "_model_module_version": "1.2.0",
      "_model_name": "LayoutModel",
      "_view_count": null,
      "_view_module": "@jupyter-widgets/base",
      "_view_module_version": "1.2.0",
      "_view_name": "LayoutView",
      "align_content": null,
      "align_items": null,
      "align_self": null,
      "border": null,
      "bottom": null,
      "display": null,
      "flex": null,
      "flex_flow": null,
      "grid_area": null,
      "grid_auto_columns": null,
      "grid_auto_flow": null,
      "grid_auto_rows": null,
      "grid_column": null,
      "grid_gap": null,
      "grid_row": null,
      "grid_template_areas": null,
      "grid_template_columns": null,
      "grid_template_rows": null,
      "height": null,
      "justify_content": null,
      "justify_items": null,
      "left": null,
      "margin": null,
      "max_height": null,
      "max_width": null,
      "min_height": null,
      "min_width": null,
      "object_fit": null,
      "object_position": null,
      "order": null,
      "overflow": null,
      "overflow_x": null,
      "overflow_y": null,
      "padding": null,
      "right": null,
      "top": null,
      "visibility": null,
      "width": null
     }
    },
    "9745326546404ff0810f04bc17f606f2": {
     "model_module": "@jupyter-widgets/controls",
     "model_module_version": "1.5.0",
     "model_name": "HBoxModel",
     "state": {
      "_dom_classes": [],
      "_model_module": "@jupyter-widgets/controls",
      "_model_module_version": "1.5.0",
      "_model_name": "HBoxModel",
      "_view_count": null,
      "_view_module": "@jupyter-widgets/controls",
      "_view_module_version": "1.5.0",
      "_view_name": "HBoxView",
      "box_style": "",
      "children": [
       "IPY_MODEL_abab61a3a19743a3b660809757254777",
       "IPY_MODEL_5cf8bb14ddcb42faaf156500b672a283",
       "IPY_MODEL_1c562be2b749410ea30123d6dd66cd11"
      ],
      "layout": "IPY_MODEL_8f503e7f755f4aed8bca0b26c193f677"
     }
    },
    "98056891d34c46c6a6445ca8f7724461": {
     "model_module": "@jupyter-widgets/controls",
     "model_module_version": "1.5.0",
     "model_name": "ProgressStyleModel",
     "state": {
      "_model_module": "@jupyter-widgets/controls",
      "_model_module_version": "1.5.0",
      "_model_name": "ProgressStyleModel",
      "_view_count": null,
      "_view_module": "@jupyter-widgets/base",
      "_view_module_version": "1.2.0",
      "_view_name": "StyleView",
      "bar_color": null,
      "description_width": ""
     }
    },
    "99561b12ba1a4f12b20fcf301f53134a": {
     "model_module": "@jupyter-widgets/controls",
     "model_module_version": "1.5.0",
     "model_name": "DescriptionStyleModel",
     "state": {
      "_model_module": "@jupyter-widgets/controls",
      "_model_module_version": "1.5.0",
      "_model_name": "DescriptionStyleModel",
      "_view_count": null,
      "_view_module": "@jupyter-widgets/base",
      "_view_module_version": "1.2.0",
      "_view_name": "StyleView",
      "description_width": ""
     }
    },
    "9a33ade11f4d479f8b046afc0d31ec60": {
     "model_module": "@jupyter-widgets/controls",
     "model_module_version": "1.5.0",
     "model_name": "HTMLModel",
     "state": {
      "_dom_classes": [],
      "_model_module": "@jupyter-widgets/controls",
      "_model_module_version": "1.5.0",
      "_model_name": "HTMLModel",
      "_view_count": null,
      "_view_module": "@jupyter-widgets/controls",
      "_view_module_version": "1.5.0",
      "_view_name": "HTMLView",
      "description": "",
      "description_tooltip": null,
      "layout": "IPY_MODEL_396b8d13c3144a8a8204eeade9b07f4e",
      "placeholder": "​",
      "style": "IPY_MODEL_7ebefaa4d28d4d4d8739047c9d11bf3a",
      "value": " 769/769 [00:00&lt;00:00, 47.3kB/s]"
     }
    },
    "9aada4e3033d4f9ebf42bca6bf499e8c": {
     "model_module": "@jupyter-widgets/controls",
     "model_module_version": "1.5.0",
     "model_name": "HTMLModel",
     "state": {
      "_dom_classes": [],
      "_model_module": "@jupyter-widgets/controls",
      "_model_module_version": "1.5.0",
      "_model_name": "HTMLModel",
      "_view_count": null,
      "_view_module": "@jupyter-widgets/controls",
      "_view_module_version": "1.5.0",
      "_view_name": "HTMLView",
      "description": "",
      "description_tooltip": null,
      "layout": "IPY_MODEL_c1dbd71b8505451b81cef5281ec2e7be",
      "placeholder": "​",
      "style": "IPY_MODEL_99561b12ba1a4f12b20fcf301f53134a",
      "value": " 320/320 [00:00&lt;00:00, 14.6kB/s]"
     }
    },
    "9abf536ad46347a4a1a85e8e924fa53d": {
     "model_module": "@jupyter-widgets/controls",
     "model_module_version": "1.5.0",
     "model_name": "DescriptionStyleModel",
     "state": {
      "_model_module": "@jupyter-widgets/controls",
      "_model_module_version": "1.5.0",
      "_model_name": "DescriptionStyleModel",
      "_view_count": null,
      "_view_module": "@jupyter-widgets/base",
      "_view_module_version": "1.2.0",
      "_view_name": "StyleView",
      "description_width": ""
     }
    },
    "9ba8d72685244815af94121b756135c6": {
     "model_module": "@jupyter-widgets/controls",
     "model_module_version": "1.5.0",
     "model_name": "ProgressStyleModel",
     "state": {
      "_model_module": "@jupyter-widgets/controls",
      "_model_module_version": "1.5.0",
      "_model_name": "ProgressStyleModel",
      "_view_count": null,
      "_view_module": "@jupyter-widgets/base",
      "_view_module_version": "1.2.0",
      "_view_name": "StyleView",
      "bar_color": null,
      "description_width": ""
     }
    },
    "a0f4d0bd5378446ab1d77838d059fffd": {
     "model_module": "@jupyter-widgets/base",
     "model_module_version": "1.2.0",
     "model_name": "LayoutModel",
     "state": {
      "_model_module": "@jupyter-widgets/base",
      "_model_module_version": "1.2.0",
      "_model_name": "LayoutModel",
      "_view_count": null,
      "_view_module": "@jupyter-widgets/base",
      "_view_module_version": "1.2.0",
      "_view_name": "LayoutView",
      "align_content": null,
      "align_items": null,
      "align_self": null,
      "border": null,
      "bottom": null,
      "display": null,
      "flex": null,
      "flex_flow": null,
      "grid_area": null,
      "grid_auto_columns": null,
      "grid_auto_flow": null,
      "grid_auto_rows": null,
      "grid_column": null,
      "grid_gap": null,
      "grid_row": null,
      "grid_template_areas": null,
      "grid_template_columns": null,
      "grid_template_rows": null,
      "height": null,
      "justify_content": null,
      "justify_items": null,
      "left": null,
      "margin": null,
      "max_height": null,
      "max_width": null,
      "min_height": null,
      "min_width": null,
      "object_fit": null,
      "object_position": null,
      "order": null,
      "overflow": null,
      "overflow_x": null,
      "overflow_y": null,
      "padding": null,
      "right": null,
      "top": null,
      "visibility": null,
      "width": null
     }
    },
    "a1151477bd494ab9bce5928ce4781852": {
     "model_module": "@jupyter-widgets/controls",
     "model_module_version": "1.5.0",
     "model_name": "HTMLModel",
     "state": {
      "_dom_classes": [],
      "_model_module": "@jupyter-widgets/controls",
      "_model_module_version": "1.5.0",
      "_model_name": "HTMLModel",
      "_view_count": null,
      "_view_module": "@jupyter-widgets/controls",
      "_view_module_version": "1.5.0",
      "_view_name": "HTMLView",
      "description": "",
      "description_tooltip": null,
      "layout": "IPY_MODEL_0ffc84d31bc0485c82cdfaa750baf660",
      "placeholder": "​",
      "style": "IPY_MODEL_9abf536ad46347a4a1a85e8e924fa53d",
      "value": " 125/125 [00:00&lt;00:00, 10.2kB/s]"
     }
    },
    "a5283d059733441aa7cc7d5f7667786d": {
     "model_module": "@jupyter-widgets/controls",
     "model_module_version": "1.5.0",
     "model_name": "DescriptionStyleModel",
     "state": {
      "_model_module": "@jupyter-widgets/controls",
      "_model_module_version": "1.5.0",
      "_model_name": "DescriptionStyleModel",
      "_view_count": null,
      "_view_module": "@jupyter-widgets/base",
      "_view_module_version": "1.2.0",
      "_view_name": "StyleView",
      "description_width": ""
     }
    },
    "abab61a3a19743a3b660809757254777": {
     "model_module": "@jupyter-widgets/controls",
     "model_module_version": "1.5.0",
     "model_name": "HTMLModel",
     "state": {
      "_dom_classes": [],
      "_model_module": "@jupyter-widgets/controls",
      "_model_module_version": "1.5.0",
      "_model_name": "HTMLModel",
      "_view_count": null,
      "_view_module": "@jupyter-widgets/controls",
      "_view_module_version": "1.5.0",
      "_view_name": "HTMLView",
      "description": "",
      "description_tooltip": null,
      "layout": "IPY_MODEL_25841e51e894477abec0deee264dd106",
      "placeholder": "​",
      "style": "IPY_MODEL_14fc338e1fe7497f8bf971587129b786",
      "value": "model.safetensors: 100%"
     }
    },
    "acdb1466e18940ec907bc040c6d1a695": {
     "model_module": "@jupyter-widgets/controls",
     "model_module_version": "1.5.0",
     "model_name": "ProgressStyleModel",
     "state": {
      "_model_module": "@jupyter-widgets/controls",
      "_model_module_version": "1.5.0",
      "_model_name": "ProgressStyleModel",
      "_view_count": null,
      "_view_module": "@jupyter-widgets/base",
      "_view_module_version": "1.2.0",
      "_view_name": "StyleView",
      "bar_color": null,
      "description_width": ""
     }
    },
    "b436a16a03c940b8ba9c32c1d2758e4c": {
     "model_module": "@jupyter-widgets/base",
     "model_module_version": "1.2.0",
     "model_name": "LayoutModel",
     "state": {
      "_model_module": "@jupyter-widgets/base",
      "_model_module_version": "1.2.0",
      "_model_name": "LayoutModel",
      "_view_count": null,
      "_view_module": "@jupyter-widgets/base",
      "_view_module_version": "1.2.0",
      "_view_name": "LayoutView",
      "align_content": null,
      "align_items": null,
      "align_self": null,
      "border": null,
      "bottom": null,
      "display": null,
      "flex": null,
      "flex_flow": null,
      "grid_area": null,
      "grid_auto_columns": null,
      "grid_auto_flow": null,
      "grid_auto_rows": null,
      "grid_column": null,
      "grid_gap": null,
      "grid_row": null,
      "grid_template_areas": null,
      "grid_template_columns": null,
      "grid_template_rows": null,
      "height": null,
      "justify_content": null,
      "justify_items": null,
      "left": null,
      "margin": null,
      "max_height": null,
      "max_width": null,
      "min_height": null,
      "min_width": null,
      "object_fit": null,
      "object_position": null,
      "order": null,
      "overflow": null,
      "overflow_x": null,
      "overflow_y": null,
      "padding": null,
      "right": null,
      "top": null,
      "visibility": null,
      "width": null
     }
    },
    "b5b1c01272bb4eb08d8f9cad6b50f26a": {
     "model_module": "@jupyter-widgets/base",
     "model_module_version": "1.2.0",
     "model_name": "LayoutModel",
     "state": {
      "_model_module": "@jupyter-widgets/base",
      "_model_module_version": "1.2.0",
      "_model_name": "LayoutModel",
      "_view_count": null,
      "_view_module": "@jupyter-widgets/base",
      "_view_module_version": "1.2.0",
      "_view_name": "LayoutView",
      "align_content": null,
      "align_items": null,
      "align_self": null,
      "border": null,
      "bottom": null,
      "display": null,
      "flex": null,
      "flex_flow": null,
      "grid_area": null,
      "grid_auto_columns": null,
      "grid_auto_flow": null,
      "grid_auto_rows": null,
      "grid_column": null,
      "grid_gap": null,
      "grid_row": null,
      "grid_template_areas": null,
      "grid_template_columns": null,
      "grid_template_rows": null,
      "height": null,
      "justify_content": null,
      "justify_items": null,
      "left": null,
      "margin": null,
      "max_height": null,
      "max_width": null,
      "min_height": null,
      "min_width": null,
      "object_fit": null,
      "object_position": null,
      "order": null,
      "overflow": null,
      "overflow_x": null,
      "overflow_y": null,
      "padding": null,
      "right": null,
      "top": null,
      "visibility": null,
      "width": null
     }
    },
    "c055fc2238464215a9ff75cdbe299220": {
     "model_module": "@jupyter-widgets/base",
     "model_module_version": "1.2.0",
     "model_name": "LayoutModel",
     "state": {
      "_model_module": "@jupyter-widgets/base",
      "_model_module_version": "1.2.0",
      "_model_name": "LayoutModel",
      "_view_count": null,
      "_view_module": "@jupyter-widgets/base",
      "_view_module_version": "1.2.0",
      "_view_name": "LayoutView",
      "align_content": null,
      "align_items": null,
      "align_self": null,
      "border": null,
      "bottom": null,
      "display": null,
      "flex": null,
      "flex_flow": null,
      "grid_area": null,
      "grid_auto_columns": null,
      "grid_auto_flow": null,
      "grid_auto_rows": null,
      "grid_column": null,
      "grid_gap": null,
      "grid_row": null,
      "grid_template_areas": null,
      "grid_template_columns": null,
      "grid_template_rows": null,
      "height": null,
      "justify_content": null,
      "justify_items": null,
      "left": null,
      "margin": null,
      "max_height": null,
      "max_width": null,
      "min_height": null,
      "min_width": null,
      "object_fit": null,
      "object_position": null,
      "order": null,
      "overflow": null,
      "overflow_x": null,
      "overflow_y": null,
      "padding": null,
      "right": null,
      "top": null,
      "visibility": null,
      "width": null
     }
    },
    "c1dbd71b8505451b81cef5281ec2e7be": {
     "model_module": "@jupyter-widgets/base",
     "model_module_version": "1.2.0",
     "model_name": "LayoutModel",
     "state": {
      "_model_module": "@jupyter-widgets/base",
      "_model_module_version": "1.2.0",
      "_model_name": "LayoutModel",
      "_view_count": null,
      "_view_module": "@jupyter-widgets/base",
      "_view_module_version": "1.2.0",
      "_view_name": "LayoutView",
      "align_content": null,
      "align_items": null,
      "align_self": null,
      "border": null,
      "bottom": null,
      "display": null,
      "flex": null,
      "flex_flow": null,
      "grid_area": null,
      "grid_auto_columns": null,
      "grid_auto_flow": null,
      "grid_auto_rows": null,
      "grid_column": null,
      "grid_gap": null,
      "grid_row": null,
      "grid_template_areas": null,
      "grid_template_columns": null,
      "grid_template_rows": null,
      "height": null,
      "justify_content": null,
      "justify_items": null,
      "left": null,
      "margin": null,
      "max_height": null,
      "max_width": null,
      "min_height": null,
      "min_width": null,
      "object_fit": null,
      "object_position": null,
      "order": null,
      "overflow": null,
      "overflow_x": null,
      "overflow_y": null,
      "padding": null,
      "right": null,
      "top": null,
      "visibility": null,
      "width": null
     }
    },
    "c649212d3cc14e31b67dda16dff44fcd": {
     "model_module": "@jupyter-widgets/controls",
     "model_module_version": "1.5.0",
     "model_name": "ProgressStyleModel",
     "state": {
      "_model_module": "@jupyter-widgets/controls",
      "_model_module_version": "1.5.0",
      "_model_name": "ProgressStyleModel",
      "_view_count": null,
      "_view_module": "@jupyter-widgets/base",
      "_view_module_version": "1.2.0",
      "_view_name": "StyleView",
      "bar_color": null,
      "description_width": ""
     }
    },
    "ce626e29850a42b48201c7e8e6ad3ff3": {
     "model_module": "@jupyter-widgets/base",
     "model_module_version": "1.2.0",
     "model_name": "LayoutModel",
     "state": {
      "_model_module": "@jupyter-widgets/base",
      "_model_module_version": "1.2.0",
      "_model_name": "LayoutModel",
      "_view_count": null,
      "_view_module": "@jupyter-widgets/base",
      "_view_module_version": "1.2.0",
      "_view_name": "LayoutView",
      "align_content": null,
      "align_items": null,
      "align_self": null,
      "border": null,
      "bottom": null,
      "display": null,
      "flex": null,
      "flex_flow": null,
      "grid_area": null,
      "grid_auto_columns": null,
      "grid_auto_flow": null,
      "grid_auto_rows": null,
      "grid_column": null,
      "grid_gap": null,
      "grid_row": null,
      "grid_template_areas": null,
      "grid_template_columns": null,
      "grid_template_rows": null,
      "height": null,
      "justify_content": null,
      "justify_items": null,
      "left": null,
      "margin": null,
      "max_height": null,
      "max_width": null,
      "min_height": null,
      "min_width": null,
      "object_fit": null,
      "object_position": null,
      "order": null,
      "overflow": null,
      "overflow_x": null,
      "overflow_y": null,
      "padding": null,
      "right": null,
      "top": null,
      "visibility": null,
      "width": null
     }
    },
    "d4f6c83f18a04215bf92774863362354": {
     "model_module": "@jupyter-widgets/base",
     "model_module_version": "1.2.0",
     "model_name": "LayoutModel",
     "state": {
      "_model_module": "@jupyter-widgets/base",
      "_model_module_version": "1.2.0",
      "_model_name": "LayoutModel",
      "_view_count": null,
      "_view_module": "@jupyter-widgets/base",
      "_view_module_version": "1.2.0",
      "_view_name": "LayoutView",
      "align_content": null,
      "align_items": null,
      "align_self": null,
      "border": null,
      "bottom": null,
      "display": null,
      "flex": null,
      "flex_flow": null,
      "grid_area": null,
      "grid_auto_columns": null,
      "grid_auto_flow": null,
      "grid_auto_rows": null,
      "grid_column": null,
      "grid_gap": null,
      "grid_row": null,
      "grid_template_areas": null,
      "grid_template_columns": null,
      "grid_template_rows": null,
      "height": null,
      "justify_content": null,
      "justify_items": null,
      "left": null,
      "margin": null,
      "max_height": null,
      "max_width": null,
      "min_height": null,
      "min_width": null,
      "object_fit": null,
      "object_position": null,
      "order": null,
      "overflow": null,
      "overflow_x": null,
      "overflow_y": null,
      "padding": null,
      "right": null,
      "top": null,
      "visibility": null,
      "width": null
     }
    },
    "d6fd318a96914d2481768e3937d061ea": {
     "model_module": "@jupyter-widgets/controls",
     "model_module_version": "1.5.0",
     "model_name": "FloatProgressModel",
     "state": {
      "_dom_classes": [],
      "_model_module": "@jupyter-widgets/controls",
      "_model_module_version": "1.5.0",
      "_model_name": "FloatProgressModel",
      "_view_count": null,
      "_view_module": "@jupyter-widgets/controls",
      "_view_module_version": "1.5.0",
      "_view_name": "ProgressView",
      "bar_style": "success",
      "description": "",
      "description_tooltip": null,
      "layout": "IPY_MODEL_d7968d984dca4e3eb50ff469ebbdce12",
      "max": 711661,
      "min": 0,
      "orientation": "horizontal",
      "style": "IPY_MODEL_eb6370e8da7442929104bcb4851801ba",
      "value": 711661
     }
    },
    "d7968d984dca4e3eb50ff469ebbdce12": {
     "model_module": "@jupyter-widgets/base",
     "model_module_version": "1.2.0",
     "model_name": "LayoutModel",
     "state": {
      "_model_module": "@jupyter-widgets/base",
      "_model_module_version": "1.2.0",
      "_model_name": "LayoutModel",
      "_view_count": null,
      "_view_module": "@jupyter-widgets/base",
      "_view_module_version": "1.2.0",
      "_view_name": "LayoutView",
      "align_content": null,
      "align_items": null,
      "align_self": null,
      "border": null,
      "bottom": null,
      "display": null,
      "flex": null,
      "flex_flow": null,
      "grid_area": null,
      "grid_auto_columns": null,
      "grid_auto_flow": null,
      "grid_auto_rows": null,
      "grid_column": null,
      "grid_gap": null,
      "grid_row": null,
      "grid_template_areas": null,
      "grid_template_columns": null,
      "grid_template_rows": null,
      "height": null,
      "justify_content": null,
      "justify_items": null,
      "left": null,
      "margin": null,
      "max_height": null,
      "max_width": null,
      "min_height": null,
      "min_width": null,
      "object_fit": null,
      "object_position": null,
      "order": null,
      "overflow": null,
      "overflow_x": null,
      "overflow_y": null,
      "padding": null,
      "right": null,
      "top": null,
      "visibility": null,
      "width": null
     }
    },
    "d8d6ced31bdf4f238749260a76c9a16c": {
     "model_module": "@jupyter-widgets/controls",
     "model_module_version": "1.5.0",
     "model_name": "HTMLModel",
     "state": {
      "_dom_classes": [],
      "_model_module": "@jupyter-widgets/controls",
      "_model_module_version": "1.5.0",
      "_model_name": "HTMLModel",
      "_view_count": null,
      "_view_module": "@jupyter-widgets/controls",
      "_view_module_version": "1.5.0",
      "_view_name": "HTMLView",
      "description": "",
      "description_tooltip": null,
      "layout": "IPY_MODEL_819269b143554e8d81a830ddd69d0cc0",
      "placeholder": "​",
      "style": "IPY_MODEL_f55ed38afa6743c08457bd0f07537f32",
      "value": "tokenizer_config.json: 100%"
     }
    },
    "d96459c025194f4d9999aab53ef38e78": {
     "model_module": "@jupyter-widgets/base",
     "model_module_version": "1.2.0",
     "model_name": "LayoutModel",
     "state": {
      "_model_module": "@jupyter-widgets/base",
      "_model_module_version": "1.2.0",
      "_model_name": "LayoutModel",
      "_view_count": null,
      "_view_module": "@jupyter-widgets/base",
      "_view_module_version": "1.2.0",
      "_view_name": "LayoutView",
      "align_content": null,
      "align_items": null,
      "align_self": null,
      "border": null,
      "bottom": null,
      "display": null,
      "flex": null,
      "flex_flow": null,
      "grid_area": null,
      "grid_auto_columns": null,
      "grid_auto_flow": null,
      "grid_auto_rows": null,
      "grid_column": null,
      "grid_gap": null,
      "grid_row": null,
      "grid_template_areas": null,
      "grid_template_columns": null,
      "grid_template_rows": null,
      "height": null,
      "justify_content": null,
      "justify_items": null,
      "left": null,
      "margin": null,
      "max_height": null,
      "max_width": null,
      "min_height": null,
      "min_width": null,
      "object_fit": null,
      "object_position": null,
      "order": null,
      "overflow": null,
      "overflow_x": null,
      "overflow_y": null,
      "padding": null,
      "right": null,
      "top": null,
      "visibility": null,
      "width": null
     }
    },
    "ddf45b7b82c341a2813efe7f0882487d": {
     "model_module": "@jupyter-widgets/base",
     "model_module_version": "1.2.0",
     "model_name": "LayoutModel",
     "state": {
      "_model_module": "@jupyter-widgets/base",
      "_model_module_version": "1.2.0",
      "_model_name": "LayoutModel",
      "_view_count": null,
      "_view_module": "@jupyter-widgets/base",
      "_view_module_version": "1.2.0",
      "_view_name": "LayoutView",
      "align_content": null,
      "align_items": null,
      "align_self": null,
      "border": null,
      "bottom": null,
      "display": null,
      "flex": null,
      "flex_flow": null,
      "grid_area": null,
      "grid_auto_columns": null,
      "grid_auto_flow": null,
      "grid_auto_rows": null,
      "grid_column": null,
      "grid_gap": null,
      "grid_row": null,
      "grid_template_areas": null,
      "grid_template_columns": null,
      "grid_template_rows": null,
      "height": null,
      "justify_content": null,
      "justify_items": null,
      "left": null,
      "margin": null,
      "max_height": null,
      "max_width": null,
      "min_height": null,
      "min_width": null,
      "object_fit": null,
      "object_position": null,
      "order": null,
      "overflow": null,
      "overflow_x": null,
      "overflow_y": null,
      "padding": null,
      "right": null,
      "top": null,
      "visibility": null,
      "width": null
     }
    },
    "e3ac03b1e9ad4218b23b4c1d23600e93": {
     "model_module": "@jupyter-widgets/base",
     "model_module_version": "1.2.0",
     "model_name": "LayoutModel",
     "state": {
      "_model_module": "@jupyter-widgets/base",
      "_model_module_version": "1.2.0",
      "_model_name": "LayoutModel",
      "_view_count": null,
      "_view_module": "@jupyter-widgets/base",
      "_view_module_version": "1.2.0",
      "_view_name": "LayoutView",
      "align_content": null,
      "align_items": null,
      "align_self": null,
      "border": null,
      "bottom": null,
      "display": null,
      "flex": null,
      "flex_flow": null,
      "grid_area": null,
      "grid_auto_columns": null,
      "grid_auto_flow": null,
      "grid_auto_rows": null,
      "grid_column": null,
      "grid_gap": null,
      "grid_row": null,
      "grid_template_areas": null,
      "grid_template_columns": null,
      "grid_template_rows": null,
      "height": null,
      "justify_content": null,
      "justify_items": null,
      "left": null,
      "margin": null,
      "max_height": null,
      "max_width": null,
      "min_height": null,
      "min_width": null,
      "object_fit": null,
      "object_position": null,
      "order": null,
      "overflow": null,
      "overflow_x": null,
      "overflow_y": null,
      "padding": null,
      "right": null,
      "top": null,
      "visibility": null,
      "width": null
     }
    },
    "e6b2ca4a24f84274b846618a2c4dbf97": {
     "model_module": "@jupyter-widgets/base",
     "model_module_version": "1.2.0",
     "model_name": "LayoutModel",
     "state": {
      "_model_module": "@jupyter-widgets/base",
      "_model_module_version": "1.2.0",
      "_model_name": "LayoutModel",
      "_view_count": null,
      "_view_module": "@jupyter-widgets/base",
      "_view_module_version": "1.2.0",
      "_view_name": "LayoutView",
      "align_content": null,
      "align_items": null,
      "align_self": null,
      "border": null,
      "bottom": null,
      "display": null,
      "flex": null,
      "flex_flow": null,
      "grid_area": null,
      "grid_auto_columns": null,
      "grid_auto_flow": null,
      "grid_auto_rows": null,
      "grid_column": null,
      "grid_gap": null,
      "grid_row": null,
      "grid_template_areas": null,
      "grid_template_columns": null,
      "grid_template_rows": null,
      "height": null,
      "justify_content": null,
      "justify_items": null,
      "left": null,
      "margin": null,
      "max_height": null,
      "max_width": null,
      "min_height": null,
      "min_width": null,
      "object_fit": null,
      "object_position": null,
      "order": null,
      "overflow": null,
      "overflow_x": null,
      "overflow_y": null,
      "padding": null,
      "right": null,
      "top": null,
      "visibility": null,
      "width": null
     }
    },
    "e9e7f05f960a461796506d7f0687ad8f": {
     "model_module": "@jupyter-widgets/controls",
     "model_module_version": "1.5.0",
     "model_name": "HTMLModel",
     "state": {
      "_dom_classes": [],
      "_model_module": "@jupyter-widgets/controls",
      "_model_module_version": "1.5.0",
      "_model_name": "HTMLModel",
      "_view_count": null,
      "_view_module": "@jupyter-widgets/controls",
      "_view_module_version": "1.5.0",
      "_view_name": "HTMLView",
      "description": "",
      "description_tooltip": null,
      "layout": "IPY_MODEL_05f14845e5b64309808fa3384f4cd758",
      "placeholder": "​",
      "style": "IPY_MODEL_7a6ab19d74d640d496cdc31b8c7dd51e",
      "value": " 268M/268M [00:02&lt;00:00, 128MB/s]"
     }
    },
    "eab87655752d4d84ba118e157a827f58": {
     "model_module": "@jupyter-widgets/controls",
     "model_module_version": "1.5.0",
     "model_name": "HTMLModel",
     "state": {
      "_dom_classes": [],
      "_model_module": "@jupyter-widgets/controls",
      "_model_module_version": "1.5.0",
      "_model_name": "HTMLModel",
      "_view_count": null,
      "_view_module": "@jupyter-widgets/controls",
      "_view_module_version": "1.5.0",
      "_view_name": "HTMLView",
      "description": "",
      "description_tooltip": null,
      "layout": "IPY_MODEL_7ec9c913c4bf4d889279e35b6ac1ab39",
      "placeholder": "​",
      "style": "IPY_MODEL_60fd3ac9aa344a72ac355c54451cf4a0",
      "value": "pytorch_model.bin: 100%"
     }
    },
    "eb6370e8da7442929104bcb4851801ba": {
     "model_module": "@jupyter-widgets/controls",
     "model_module_version": "1.5.0",
     "model_name": "ProgressStyleModel",
     "state": {
      "_model_module": "@jupyter-widgets/controls",
      "_model_module_version": "1.5.0",
      "_model_name": "ProgressStyleModel",
      "_view_count": null,
      "_view_module": "@jupyter-widgets/base",
      "_view_module_version": "1.2.0",
      "_view_name": "StyleView",
      "bar_color": null,
      "description_width": ""
     }
    },
    "ed0530e1c6634a5aa16fd29c8fadefbc": {
     "model_module": "@jupyter-widgets/base",
     "model_module_version": "1.2.0",
     "model_name": "LayoutModel",
     "state": {
      "_model_module": "@jupyter-widgets/base",
      "_model_module_version": "1.2.0",
      "_model_name": "LayoutModel",
      "_view_count": null,
      "_view_module": "@jupyter-widgets/base",
      "_view_module_version": "1.2.0",
      "_view_name": "LayoutView",
      "align_content": null,
      "align_items": null,
      "align_self": null,
      "border": null,
      "bottom": null,
      "display": null,
      "flex": null,
      "flex_flow": null,
      "grid_area": null,
      "grid_auto_columns": null,
      "grid_auto_flow": null,
      "grid_auto_rows": null,
      "grid_column": null,
      "grid_gap": null,
      "grid_row": null,
      "grid_template_areas": null,
      "grid_template_columns": null,
      "grid_template_rows": null,
      "height": null,
      "justify_content": null,
      "justify_items": null,
      "left": null,
      "margin": null,
      "max_height": null,
      "max_width": null,
      "min_height": null,
      "min_width": null,
      "object_fit": null,
      "object_position": null,
      "order": null,
      "overflow": null,
      "overflow_x": null,
      "overflow_y": null,
      "padding": null,
      "right": null,
      "top": null,
      "visibility": null,
      "width": null
     }
    },
    "f33bb09955164e79af0c3fc262c3c49e": {
     "model_module": "@jupyter-widgets/controls",
     "model_module_version": "1.5.0",
     "model_name": "HBoxModel",
     "state": {
      "_dom_classes": [],
      "_model_module": "@jupyter-widgets/controls",
      "_model_module_version": "1.5.0",
      "_model_name": "HBoxModel",
      "_view_count": null,
      "_view_module": "@jupyter-widgets/controls",
      "_view_module_version": "1.5.0",
      "_view_name": "HBoxView",
      "box_style": "",
      "children": [
       "IPY_MODEL_d8d6ced31bdf4f238749260a76c9a16c",
       "IPY_MODEL_1b6af24e9a564e2592439a6f3bb40a91",
       "IPY_MODEL_9aada4e3033d4f9ebf42bca6bf499e8c"
      ],
      "layout": "IPY_MODEL_8d9c32fe4a534a51a02f1a67cdebaaf0"
     }
    },
    "f3e1c08350bb4065bd23ab1c66a59365": {
     "model_module": "@jupyter-widgets/controls",
     "model_module_version": "1.5.0",
     "model_name": "DescriptionStyleModel",
     "state": {
      "_model_module": "@jupyter-widgets/controls",
      "_model_module_version": "1.5.0",
      "_model_name": "DescriptionStyleModel",
      "_view_count": null,
      "_view_module": "@jupyter-widgets/base",
      "_view_module_version": "1.2.0",
      "_view_name": "StyleView",
      "description_width": ""
     }
    },
    "f3fce49a51ee44eaa90538ee45c57b8a": {
     "model_module": "@jupyter-widgets/controls",
     "model_module_version": "1.5.0",
     "model_name": "HTMLModel",
     "state": {
      "_dom_classes": [],
      "_model_module": "@jupyter-widgets/controls",
      "_model_module_version": "1.5.0",
      "_model_name": "HTMLModel",
      "_view_count": null,
      "_view_module": "@jupyter-widgets/controls",
      "_view_module_version": "1.5.0",
      "_view_name": "HTMLView",
      "description": "",
      "description_tooltip": null,
      "layout": "IPY_MODEL_d4f6c83f18a04215bf92774863362354",
      "placeholder": "​",
      "style": "IPY_MODEL_f3e1c08350bb4065bd23ab1c66a59365",
      "value": " 1891/1891 [1:02:56&lt;00:00,  1.63s/it]"
     }
    },
    "f55ed38afa6743c08457bd0f07537f32": {
     "model_module": "@jupyter-widgets/controls",
     "model_module_version": "1.5.0",
     "model_name": "DescriptionStyleModel",
     "state": {
      "_model_module": "@jupyter-widgets/controls",
      "_model_module_version": "1.5.0",
      "_model_name": "DescriptionStyleModel",
      "_view_count": null,
      "_view_module": "@jupyter-widgets/base",
      "_view_module_version": "1.2.0",
      "_view_name": "StyleView",
      "description_width": ""
     }
    },
    "f93baa18d0b943ca8ff27c5ee303cf57": {
     "model_module": "@jupyter-widgets/controls",
     "model_module_version": "1.5.0",
     "model_name": "DescriptionStyleModel",
     "state": {
      "_model_module": "@jupyter-widgets/controls",
      "_model_module_version": "1.5.0",
      "_model_name": "DescriptionStyleModel",
      "_view_count": null,
      "_view_module": "@jupyter-widgets/base",
      "_view_module_version": "1.2.0",
      "_view_name": "StyleView",
      "description_width": ""
     }
    },
    "fe080acec8cc461ba6b04f6d1c9a8fb1": {
     "model_module": "@jupyter-widgets/base",
     "model_module_version": "1.2.0",
     "model_name": "LayoutModel",
     "state": {
      "_model_module": "@jupyter-widgets/base",
      "_model_module_version": "1.2.0",
      "_model_name": "LayoutModel",
      "_view_count": null,
      "_view_module": "@jupyter-widgets/base",
      "_view_module_version": "1.2.0",
      "_view_name": "LayoutView",
      "align_content": null,
      "align_items": null,
      "align_self": null,
      "border": null,
      "bottom": null,
      "display": null,
      "flex": null,
      "flex_flow": null,
      "grid_area": null,
      "grid_auto_columns": null,
      "grid_auto_flow": null,
      "grid_auto_rows": null,
      "grid_column": null,
      "grid_gap": null,
      "grid_row": null,
      "grid_template_areas": null,
      "grid_template_columns": null,
      "grid_template_rows": null,
      "height": null,
      "justify_content": null,
      "justify_items": null,
      "left": null,
      "margin": null,
      "max_height": null,
      "max_width": null,
      "min_height": null,
      "min_width": null,
      "object_fit": null,
      "object_position": null,
      "order": null,
      "overflow": null,
      "overflow_x": null,
      "overflow_y": null,
      "padding": null,
      "right": null,
      "top": null,
      "visibility": null,
      "width": null
     }
    }
   }
  }
 },
 "nbformat": 4,
 "nbformat_minor": 4
}
